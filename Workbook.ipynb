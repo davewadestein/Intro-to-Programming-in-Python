{
 "cells": [
  {
   "cell_type": "markdown",
   "id": "a26147b6-2e36-4264-a82d-c971c1d1fbf9",
   "metadata": {},
   "source": [
    "# Important Things to Know About Python\n",
    "* everything in Python is an object (not true in Java)\n",
    "* Python employs \"truthiness\"\n",
    "  * any non-zero value (including negatives) is True\n",
    "    * 0 and 0.0 are False\n",
    "  * empty containers are False; non-empty containers are True\n",
    "* mutable vs. immutable\n",
    "  * immutable: string\n",
    "  * mutable: list\n",
    "* Python is 30+ years old (1990)\n",
    "  * What was Python's raison d'être?\n",
    "  * Dominant scripting language back then was Perl\n",
    "  * A reaction to Perl...creating a language that processes text and data well\n",
    "* containers vs. simple types (scalars)\n",
    "  * containers\n",
    "    * objects that contain 0 or more other objects\n",
    "    * strings, lists, dicts\n",
    "  * scalars (simple types):\n",
    "    * a single object\n",
    "    * int, float, bool"
   ]
  },
  {
   "cell_type": "markdown",
   "id": "59fc2c7d",
   "metadata": {},
   "source": [
    "# Important Stuff to Know...\n",
    "* \"Code is written for others to read and incidentally for computers to execute.\" –Hal Abelson\n",
    "* Eagleson's Law: \"Any code written more than six months ago might as well have been written by somebody else\"\n",
    "* DRY = Don't Repeat Yourself"
   ]
  },
  {
   "cell_type": "code",
   "execution_count": 1,
   "id": "91d1919f-1362-4068-ae5f-8aedd43c200c",
   "metadata": {},
   "outputs": [
    {
     "data": {
      "text/plain": [
       "['In',\n",
       " 'Out',\n",
       " '_',\n",
       " '__',\n",
       " '___',\n",
       " '__builtin__',\n",
       " '__builtins__',\n",
       " '__doc__',\n",
       " '__loader__',\n",
       " '__name__',\n",
       " '__package__',\n",
       " '__spec__',\n",
       " '_dh',\n",
       " '_i',\n",
       " '_i1',\n",
       " '_ih',\n",
       " '_ii',\n",
       " '_iii',\n",
       " '_oh',\n",
       " 'exit',\n",
       " 'get_ipython',\n",
       " 'quit']"
      ]
     },
     "execution_count": 1,
     "metadata": {},
     "output_type": "execute_result"
    }
   ],
   "source": [
    "dir()"
   ]
  },
  {
   "cell_type": "code",
   "execution_count": 2,
   "id": "e43b2fa2-51cd-4cdd-924c-aaf752197105",
   "metadata": {},
   "outputs": [],
   "source": [
    "new_var = 'new'"
   ]
  },
  {
   "cell_type": "code",
   "execution_count": 3,
   "id": "10c6cd19-9a8e-4f3a-aee9-bcc14023b980",
   "metadata": {},
   "outputs": [
    {
     "data": {
      "text/plain": [
       "['In',\n",
       " 'Out',\n",
       " '_',\n",
       " '_1',\n",
       " '__',\n",
       " '___',\n",
       " '__builtin__',\n",
       " '__builtins__',\n",
       " '__doc__',\n",
       " '__loader__',\n",
       " '__name__',\n",
       " '__package__',\n",
       " '__spec__',\n",
       " '_dh',\n",
       " '_i',\n",
       " '_i1',\n",
       " '_i2',\n",
       " '_i3',\n",
       " '_ih',\n",
       " '_ii',\n",
       " '_iii',\n",
       " '_oh',\n",
       " 'exit',\n",
       " 'get_ipython',\n",
       " 'new_var',\n",
       " 'quit']"
      ]
     },
     "execution_count": 3,
     "metadata": {},
     "output_type": "execute_result"
    }
   ],
   "source": [
    "dir()"
   ]
  },
  {
   "cell_type": "code",
   "execution_count": 4,
   "id": "40eec654-084c-45b3-b4c8-5a528aee2121",
   "metadata": {},
   "outputs": [],
   "source": [
    "x = 1 # put 1 into x"
   ]
  },
  {
   "cell_type": "code",
   "execution_count": 5,
   "id": "a39c2948-36e6-4ece-b29e-e3f80a0848f3",
   "metadata": {},
   "outputs": [
    {
     "data": {
      "text/plain": [
       "['In',\n",
       " 'Out',\n",
       " '_',\n",
       " '_1',\n",
       " '_3',\n",
       " '__',\n",
       " '___',\n",
       " '__builtin__',\n",
       " '__builtins__',\n",
       " '__doc__',\n",
       " '__loader__',\n",
       " '__name__',\n",
       " '__package__',\n",
       " '__spec__',\n",
       " '_dh',\n",
       " '_i',\n",
       " '_i1',\n",
       " '_i2',\n",
       " '_i3',\n",
       " '_i4',\n",
       " '_i5',\n",
       " '_ih',\n",
       " '_ii',\n",
       " '_iii',\n",
       " '_oh',\n",
       " 'exit',\n",
       " 'get_ipython',\n",
       " 'new_var',\n",
       " 'quit',\n",
       " 'x']"
      ]
     },
     "execution_count": 5,
     "metadata": {},
     "output_type": "execute_result"
    }
   ],
   "source": [
    "dir()"
   ]
  },
  {
   "cell_type": "code",
   "execution_count": 6,
   "id": "5b0d771f-e0e3-4a10-95f8-cd0913f77ef4",
   "metadata": {},
   "outputs": [
    {
     "name": "stdout",
     "output_type": "stream",
     "text": [
      "\n"
     ]
    }
   ],
   "source": [
    "print()"
   ]
  },
  {
   "cell_type": "code",
   "execution_count": 7,
   "id": "9afefb84-71c7-43bb-98cd-76167ba6a30a",
   "metadata": {},
   "outputs": [
    {
     "name": "stdout",
     "output_type": "stream",
     "text": [
      "1\n"
     ]
    }
   ],
   "source": [
    "print(1)"
   ]
  },
  {
   "cell_type": "code",
   "execution_count": 8,
   "id": "23967f3d-77cd-4b1f-8d3b-a254cea297fd",
   "metadata": {},
   "outputs": [
    {
     "name": "stdout",
     "output_type": "stream",
     "text": [
      "1 one\n"
     ]
    }
   ],
   "source": [
    "print(1, 'one')"
   ]
  },
  {
   "cell_type": "code",
   "execution_count": 9,
   "id": "076f379d-0ac1-4dc9-bec0-3bee4c49b449",
   "metadata": {},
   "outputs": [
    {
     "name": "stdout",
     "output_type": "stream",
     "text": [
      "1 2 3\n"
     ]
    }
   ],
   "source": [
    "print(1, 2, 3)"
   ]
  },
  {
   "cell_type": "code",
   "execution_count": 10,
   "id": "d9281082-bde0-4cc4-bbd8-ae0da938e8ad",
   "metadata": {},
   "outputs": [
    {
     "name": "stdout",
     "output_type": "stream",
     "text": [
      "1***2***3\n"
     ]
    }
   ],
   "source": [
    "print(1, 2, 3, sep='***') # sep= means set the \"separator\""
   ]
  },
  {
   "cell_type": "code",
   "execution_count": 11,
   "id": "3a6722d6-6ae8-42a6-a4f6-d7e176e1933e",
   "metadata": {},
   "outputs": [
    {
     "name": "stdout",
     "output_type": "stream",
     "text": [
      "1 2 3\n",
      "4 5\n"
     ]
    }
   ],
   "source": [
    "print(1, 2, 3)\n",
    "print(4, 5)"
   ]
  },
  {
   "cell_type": "code",
   "execution_count": 12,
   "id": "755d94c0-a188-4384-95e1-98655d6dc4dd",
   "metadata": {},
   "outputs": [
    {
     "name": "stdout",
     "output_type": "stream",
     "text": [
      "1 2 3 4 5\n"
     ]
    }
   ],
   "source": [
    "print(1, 2, 3, end=' ')\n",
    "print(4, 5)"
   ]
  },
  {
   "cell_type": "code",
   "execution_count": 13,
   "id": "68bd754b-85b9-4eba-9698-ab14530636e5",
   "metadata": {},
   "outputs": [
    {
     "name": "stdout",
     "output_type": "stream",
     "text": [
      "this is on the same line as this\n"
     ]
    }
   ],
   "source": [
    "print('this is on the same line ', end='') # print NOTHING at the end of the line\n",
    "print('as this')"
   ]
  },
  {
   "cell_type": "code",
   "execution_count": 1,
   "id": "60e80370-0f3f-4772-8f23-da1a5d835ae2",
   "metadata": {},
   "outputs": [],
   "source": [
    "# Python 3.6 added the ability to do \"static type checking\"\n",
    "x: int = 1 # \"type hinting\""
   ]
  },
  {
   "cell_type": "code",
   "execution_count": 2,
   "id": "3e80c097-e893-4b6c-b1f1-a583bfeb33bd",
   "metadata": {},
   "outputs": [
    {
     "data": {
      "text/plain": [
       "1"
      ]
     },
     "execution_count": 2,
     "metadata": {},
     "output_type": "execute_result"
    }
   ],
   "source": [
    "x"
   ]
  },
  {
   "cell_type": "code",
   "execution_count": 3,
   "id": "f46f8ab7-f705-4237-bbc7-f53601314a46",
   "metadata": {},
   "outputs": [],
   "source": [
    "x = 1.1"
   ]
  },
  {
   "cell_type": "code",
   "execution_count": 7,
   "id": "4d532310-f83d-4b56-80d2-4afb700721fe",
   "metadata": {},
   "outputs": [
    {
     "name": "stdin",
     "output_type": "stream",
     "text": [
      "Enter a year:  upside down\n"
     ]
    },
    {
     "name": "stdout",
     "output_type": "stream",
     "text": [
      "You entered upside down\n"
     ]
    }
   ],
   "source": [
    "year = input('Enter a year: ')\n",
    "print('You entered', year)"
   ]
  },
  {
   "cell_type": "code",
   "execution_count": 8,
   "id": "61dba869-921e-466e-bda1-3b85ac98c911",
   "metadata": {},
   "outputs": [
    {
     "data": {
      "text/plain": [
       "'upside down'"
      ]
     },
     "execution_count": 8,
     "metadata": {},
     "output_type": "execute_result"
    }
   ],
   "source": [
    "year"
   ]
  },
  {
   "cell_type": "code",
   "execution_count": 1,
   "id": "40aaae06-94d3-474a-a45a-3a1fe2d92c82",
   "metadata": {},
   "outputs": [],
   "source": [
    "UpperCase = 1"
   ]
  },
  {
   "cell_type": "code",
   "execution_count": 2,
   "id": "49ccdf4e-3df3-47cd-b030-7022ec6fbb58",
   "metadata": {},
   "outputs": [
    {
     "ename": "NameError",
     "evalue": "name 'uppercase' is not defined",
     "output_type": "error",
     "traceback": [
      "\u001b[0;31m---------------------------------------------------------------------------\u001b[0m",
      "\u001b[0;31mNameError\u001b[0m                                 Traceback (most recent call last)",
      "\u001b[0;32m/tmp/ipykernel_96/3369414908.py\u001b[0m in \u001b[0;36m<module>\u001b[0;34m\u001b[0m\n\u001b[0;32m----> 1\u001b[0;31m \u001b[0muppercase\u001b[0m\u001b[0;34m\u001b[0m\u001b[0;34m\u001b[0m\u001b[0m\n\u001b[0m",
      "\u001b[0;31mNameError\u001b[0m: name 'uppercase' is not defined"
     ]
    }
   ],
   "source": [
    "uppercase"
   ]
  },
  {
   "cell_type": "code",
   "execution_count": 3,
   "id": "9ae518b2-6d10-412f-8373-7576ba26033c",
   "metadata": {},
   "outputs": [
    {
     "data": {
      "text/plain": [
       "1"
      ]
     },
     "execution_count": 3,
     "metadata": {},
     "output_type": "execute_result"
    }
   ],
   "source": [
    "UpperCase"
   ]
  },
  {
   "cell_type": "code",
   "execution_count": 4,
   "id": "9a880320-1861-4ea9-938f-48f9d3790c80",
   "metadata": {},
   "outputs": [],
   "source": [
    "this_thing = 'blah'"
   ]
  },
  {
   "cell_type": "code",
   "execution_count": 5,
   "id": "f437f57d-c02b-493e-a0e2-6e4403fb37f6",
   "metadata": {},
   "outputs": [],
   "source": [
    "CONSTANT = 'something that does not change'"
   ]
  },
  {
   "cell_type": "code",
   "execution_count": 6,
   "id": "daa4b313-ebfa-4b77-8529-2f2e5be808a8",
   "metadata": {},
   "outputs": [
    {
     "data": {
      "text/plain": [
       "'something that does not change'"
      ]
     },
     "execution_count": 6,
     "metadata": {},
     "output_type": "execute_result"
    }
   ],
   "source": [
    "CONSTANT"
   ]
  },
  {
   "cell_type": "code",
   "execution_count": 9,
   "id": "213c47e1-9673-4a2e-88f7-1cf5a46adf87",
   "metadata": {},
   "outputs": [],
   "source": [
    "_do_not_do_this = 1 # see this next week"
   ]
  },
  {
   "cell_type": "code",
   "execution_count": 8,
   "id": "b0f2e5f4-aafb-46ff-8cd9-5ca98b00799b",
   "metadata": {},
   "outputs": [
    {
     "data": {
      "text/plain": [
       "1"
      ]
     },
     "execution_count": 8,
     "metadata": {},
     "output_type": "execute_result"
    }
   ],
   "source": [
    "_do_not_do_this"
   ]
  },
  {
   "cell_type": "code",
   "execution_count": 11,
   "id": "665d0eac-5f55-46f6-a586-a325f548e9e9",
   "metadata": {},
   "outputs": [],
   "source": [
    "a = 1"
   ]
  },
  {
   "cell_type": "code",
   "execution_count": 12,
   "id": "e4d0bb6e-fa26-4b8f-a820-ba3a4d96ab1a",
   "metadata": {},
   "outputs": [
    {
     "data": {
      "text/plain": [
       "1"
      ]
     },
     "execution_count": 12,
     "metadata": {},
     "output_type": "execute_result"
    }
   ],
   "source": [
    "a # a is an expression"
   ]
  },
  {
   "cell_type": "code",
   "execution_count": 13,
   "id": "e74e93d2-7169-488c-8700-d3b09e0e0273",
   "metadata": {},
   "outputs": [
    {
     "data": {
      "text/plain": [
       "3"
      ]
     },
     "execution_count": 13,
     "metadata": {},
     "output_type": "execute_result"
    }
   ],
   "source": [
    "2 + a"
   ]
  },
  {
   "cell_type": "code",
   "execution_count": 14,
   "id": "391f3943-533d-47b8-a138-ea0b09f8decf",
   "metadata": {},
   "outputs": [],
   "source": [
    "name = 'Bruce Lee'"
   ]
  },
  {
   "cell_type": "code",
   "execution_count": 15,
   "id": "cee16dc5-b6a9-48d8-967d-faa22579c87a",
   "metadata": {},
   "outputs": [
    {
     "data": {
      "text/plain": [
       "'Bruce Lee'"
      ]
     },
     "execution_count": 15,
     "metadata": {},
     "output_type": "execute_result"
    }
   ],
   "source": [
    "name"
   ]
  },
  {
   "cell_type": "code",
   "execution_count": 16,
   "id": "75d782f2-0df1-47d0-93f3-271d66ed3299",
   "metadata": {},
   "outputs": [
    {
     "name": "stdout",
     "output_type": "stream",
     "text": [
      "Bruce Lee\n"
     ]
    }
   ],
   "source": [
    "print(name)"
   ]
  },
  {
   "cell_type": "code",
   "execution_count": 18,
   "id": "25225a78-23d0-45dc-911d-067e6d7b881a",
   "metadata": {},
   "outputs": [],
   "source": [
    "name = 'Grace Hopper'"
   ]
  },
  {
   "cell_type": "code",
   "execution_count": 20,
   "id": "ba60b47d-bfcd-42f1-b8f3-2c195bd2d2fa",
   "metadata": {},
   "outputs": [
    {
     "name": "stdout",
     "output_type": "stream",
     "text": [
      "Grace Hopper\n"
     ]
    }
   ],
   "source": [
    "print(name)"
   ]
  },
  {
   "cell_type": "code",
   "execution_count": 21,
   "id": "5154ad97-ec17-4e9f-81d2-4caddd828ae5",
   "metadata": {},
   "outputs": [
    {
     "data": {
      "text/plain": [
       "'Grace Hopper'"
      ]
     },
     "execution_count": 21,
     "metadata": {},
     "output_type": "execute_result"
    }
   ],
   "source": [
    "name # evaluate, i.e, tell me, the value of this expression"
   ]
  },
  {
   "cell_type": "code",
   "execution_count": 22,
   "id": "408ff05f-61e4-4982-b743-303032ec7772",
   "metadata": {},
   "outputs": [],
   "source": [
    "value = 1.234"
   ]
  },
  {
   "cell_type": "code",
   "execution_count": 23,
   "id": "18651adc-62a4-49d2-a468-d02174e41269",
   "metadata": {},
   "outputs": [
    {
     "data": {
      "text/plain": [
       "1.234"
      ]
     },
     "execution_count": 23,
     "metadata": {},
     "output_type": "execute_result"
    }
   ],
   "source": [
    "value"
   ]
  },
  {
   "cell_type": "code",
   "execution_count": 24,
   "id": "7227a8e1-397a-4ec3-8e0b-46178075e353",
   "metadata": {},
   "outputs": [
    {
     "data": {
      "text/plain": [
       "4"
      ]
     },
     "execution_count": 24,
     "metadata": {},
     "output_type": "execute_result"
    }
   ],
   "source": [
    "2 + 2"
   ]
  },
  {
   "cell_type": "code",
   "execution_count": 27,
   "id": "2da38640-91f4-4ebe-81a9-a36b66c73750",
   "metadata": {},
   "outputs": [
    {
     "data": {
      "text/plain": [
       "'Grace Hopper'"
      ]
     },
     "execution_count": 27,
     "metadata": {},
     "output_type": "execute_result"
    }
   ],
   "source": [
    "name"
   ]
  },
  {
   "cell_type": "code",
   "execution_count": 26,
   "id": "35238541-8997-4864-a711-272bdeb5b699",
   "metadata": {},
   "outputs": [
    {
     "name": "stdout",
     "output_type": "stream",
     "text": [
      "Grace Hopper\n"
     ]
    }
   ],
   "source": [
    "print(name)"
   ]
  },
  {
   "cell_type": "code",
   "execution_count": 28,
   "id": "522cac4b-4096-4004-9e1a-e03a47836641",
   "metadata": {},
   "outputs": [
    {
     "data": {
      "text/plain": [
       "5"
      ]
     },
     "execution_count": 28,
     "metadata": {},
     "output_type": "execute_result"
    }
   ],
   "source": [
    "2 + 3"
   ]
  },
  {
   "cell_type": "code",
   "execution_count": 29,
   "id": "05bc6d32-2518-4c6c-9d4b-97e407382bea",
   "metadata": {},
   "outputs": [],
   "source": [
    "2 + 3 # what happened to this?\n",
    "x = 1"
   ]
  },
  {
   "cell_type": "code",
   "execution_count": 30,
   "id": "a756a59b-9935-452f-8782-d8807c8f5df4",
   "metadata": {},
   "outputs": [
    {
     "data": {
      "text/plain": [
       "1"
      ]
     },
     "execution_count": 30,
     "metadata": {},
     "output_type": "execute_result"
    }
   ],
   "source": [
    "x"
   ]
  },
  {
   "cell_type": "code",
   "execution_count": 31,
   "id": "9faa4cc5-3e59-4d7c-8c99-95723e441e81",
   "metadata": {},
   "outputs": [],
   "source": [
    "# what happens in a Jupyter cell\n",
    "# is that all lines of the cell are run in \"program mode\"\n",
    "# EXCEPT for the final line, which is run in \"interactive mode\""
   ]
  },
  {
   "cell_type": "code",
   "execution_count": 32,
   "id": "54f0a33b-af01-4218-8314-f3e68178d9d8",
   "metadata": {},
   "outputs": [
    {
     "data": {
      "text/plain": [
       "6"
      ]
     },
     "execution_count": 32,
     "metadata": {},
     "output_type": "execute_result"
    }
   ],
   "source": [
    "2 + 4"
   ]
  },
  {
   "cell_type": "code",
   "execution_count": 33,
   "id": "0686be20-64b3-4d3e-beb5-640aeaba73b3",
   "metadata": {},
   "outputs": [
    {
     "data": {
      "text/plain": [
       "5"
      ]
     },
     "execution_count": 33,
     "metadata": {},
     "output_type": "execute_result"
    }
   ],
   "source": [
    "2 + 4 # this is evaluated BUT NOT PRINTED\n",
    "2 + 3 # this is evaluated AND PRINTED"
   ]
  },
  {
   "cell_type": "code",
   "execution_count": 34,
   "id": "90bb89da-b6ca-4fad-b649-527d17e689bd",
   "metadata": {},
   "outputs": [
    {
     "name": "stdout",
     "output_type": "stream",
     "text": [
      "6\n",
      "5\n"
     ]
    }
   ],
   "source": [
    "print(2 + 4)\n",
    "print(2 + 3)"
   ]
  },
  {
   "cell_type": "code",
   "execution_count": 35,
   "id": "99585d36-ce05-447b-b70b-74da1ddb2864",
   "metadata": {},
   "outputs": [
    {
     "name": "stdout",
     "output_type": "stream",
     "text": [
      "this\n"
     ]
    },
    {
     "data": {
      "text/plain": [
       "5"
      ]
     },
     "execution_count": 35,
     "metadata": {},
     "output_type": "execute_result"
    }
   ],
   "source": [
    "print('this')\n",
    "5"
   ]
  },
  {
   "cell_type": "code",
   "execution_count": 36,
   "id": "154f3b38-0e82-4b26-9b1a-77c1b071660b",
   "metadata": {},
   "outputs": [
    {
     "data": {
      "text/plain": [
       "4"
      ]
     },
     "execution_count": 36,
     "metadata": {},
     "output_type": "execute_result"
    }
   ],
   "source": [
    "31 // 7"
   ]
  },
  {
   "cell_type": "code",
   "execution_count": 37,
   "id": "e864951a-9bd5-41b2-8a52-5a5b2002ca64",
   "metadata": {},
   "outputs": [
    {
     "data": {
      "text/plain": [
       "3"
      ]
     },
     "execution_count": 37,
     "metadata": {},
     "output_type": "execute_result"
    }
   ],
   "source": [
    "31 % 7 # the remainder when dividing 7 into 31"
   ]
  },
  {
   "cell_type": "code",
   "execution_count": 38,
   "id": "d6fca169-feea-460f-9ffe-ad1497141b40",
   "metadata": {},
   "outputs": [
    {
     "data": {
      "text/plain": [
       "0"
      ]
     },
     "execution_count": 38,
     "metadata": {},
     "output_type": "execute_result"
    }
   ],
   "source": [
    "96 % 8"
   ]
  },
  {
   "cell_type": "code",
   "execution_count": 39,
   "id": "b79879ec-2565-4471-9ffd-6c1e20e35808",
   "metadata": {},
   "outputs": [
    {
     "data": {
      "text/plain": [
       "18446744073709551616"
      ]
     },
     "execution_count": 39,
     "metadata": {},
     "output_type": "execute_result"
    }
   ],
   "source": [
    "2 ** 64"
   ]
  },
  {
   "cell_type": "code",
   "execution_count": 40,
   "id": "5ff8b7e8-ce4c-403e-8b86-5d25564444df",
   "metadata": {},
   "outputs": [
    {
     "data": {
      "text/plain": [
       "1.8446744073709552e+17"
      ]
     },
     "execution_count": 40,
     "metadata": {},
     "output_type": "execute_result"
    }
   ],
   "source": [
    "(2 ** 64) / 100"
   ]
  },
  {
   "cell_type": "code",
   "execution_count": 41,
   "id": "1499f40c-5d77-41e0-bbf8-b5708584ca31",
   "metadata": {},
   "outputs": [
    {
     "data": {
      "text/plain": [
       "4.428571428571429"
      ]
     },
     "execution_count": 41,
     "metadata": {},
     "output_type": "execute_result"
    }
   ],
   "source": [
    "31 / 7 "
   ]
  },
  {
   "cell_type": "code",
   "execution_count": 42,
   "id": "fa8c12ed-cf2b-4c92-a3df-0dae69b1c75f",
   "metadata": {},
   "outputs": [
    {
     "data": {
      "text/plain": [
       "4"
      ]
     },
     "execution_count": 42,
     "metadata": {},
     "output_type": "execute_result"
    }
   ],
   "source": [
    "31 // 7"
   ]
  },
  {
   "cell_type": "code",
   "execution_count": 43,
   "id": "631cce43-8e01-4d84-a4f0-fb24169b987a",
   "metadata": {},
   "outputs": [
    {
     "data": {
      "text/plain": [
       "1.5"
      ]
     },
     "execution_count": 43,
     "metadata": {},
     "output_type": "execute_result"
    }
   ],
   "source": [
    "3.5 % 2"
   ]
  },
  {
   "cell_type": "code",
   "execution_count": 45,
   "id": "b01e4d6b-f7cd-45c9-94dd-a4f3805601d1",
   "metadata": {},
   "outputs": [
    {
     "data": {
      "text/plain": [
       "1.5"
      ]
     },
     "execution_count": 45,
     "metadata": {},
     "output_type": "execute_result"
    }
   ],
   "source": [
    "9.5 % 2 # 2 goes into 9.5 4 times, so the remainder is 1.5"
   ]
  },
  {
   "cell_type": "code",
   "execution_count": 46,
   "id": "09346b09-960a-4667-a9cf-5a56fffe9b2f",
   "metadata": {},
   "outputs": [
    {
     "data": {
      "text/plain": [
       "0.6449999999999996"
      ]
     },
     "execution_count": 46,
     "metadata": {},
     "output_type": "execute_result"
    }
   ],
   "source": [
    "9.645 % 3"
   ]
  },
  {
   "cell_type": "code",
   "execution_count": 47,
   "id": "eebcac18-cba2-41c0-bc87-01f7b3857ca3",
   "metadata": {},
   "outputs": [
    {
     "data": {
      "text/plain": [
       "0.30000000000000004"
      ]
     },
     "execution_count": 47,
     "metadata": {},
     "output_type": "execute_result"
    }
   ],
   "source": [
    "0.1 + 0.1 + 0.1"
   ]
  },
  {
   "cell_type": "code",
   "execution_count": 50,
   "id": "5174d45d-3ca7-4c85-91bd-235f40fc562b",
   "metadata": {},
   "outputs": [
    {
     "name": "stdout",
     "output_type": "stream",
     "text": [
      "0.300000\n"
     ]
    }
   ],
   "source": [
    "print('%.6f' % (0.1 + 0.1 + 0.1))"
   ]
  },
  {
   "cell_type": "code",
   "execution_count": 1,
   "id": "c7328eb4-b6d0-47b7-ad11-5e4d1fda936f",
   "metadata": {},
   "outputs": [],
   "source": [
    "# Python has unlimited precision integers"
   ]
  },
  {
   "cell_type": "code",
   "execution_count": 4,
   "id": "16fce321-83c8-4a31-ba5d-f89f499163f9",
   "metadata": {},
   "outputs": [
    {
     "data": {
      "text/plain": [
       "9223372036854775807"
      ]
     },
     "execution_count": 4,
     "metadata": {},
     "output_type": "execute_result"
    }
   ],
   "source": [
    "2 ** 63 - 1 # largest integer most computers / programming languages represent"
   ]
  },
  {
   "cell_type": "code",
   "execution_count": 5,
   "id": "efd6d15f-fcc1-4d46-bf0b-e1c3f8f37d33",
   "metadata": {},
   "outputs": [
    {
     "data": {
      "text/plain": [
       "141246703213942603683520966701614733366889617518454111681368808585711816984270751255808912631671152637335603208431366082764203838069979338335971185726639923431051777851865399011877999645131707069373498212631323752553111215372844035950900535954860733418453405575566736801565587405464699640499050849699472357900905617571376618228216434213181520991556677126498651782204174061830939239176861341383294018240225838692725596147005144243281075275629495339093813198966735633606329691023842454125835888656873133981287240980008838073668221804264432910894030789020219440578198488267339768238872279902157420307247570510423845868872596735891805818727796435753018518086641356012851302546726823009250218328018251907340245449863183265637987862198511046362985461949587281119139907228004385942880953958816554567625296086916885774828934449941362416588675326940332561103664556982622206834474219811081872404929503481991376740379825998791411879802717583885498575115299471743469241117070230398103378615232793710290992656444842895511830355733152020804157920090041811951880456705515468349446182731742327685989277607620709525878318766488368348965015474997864119765441433356928012344111765735336393557879214937004347568208665958717764059293592887514292843557047089164876483116615691886203812997555690171892169733755224469032475078797830901321579940127337210694377283439922280274060798234786740434893458120198341101033812506720046609891160700284002100980452964039788704335302619337597862052192280371481132164147186514169090917191909376"
      ]
     },
     "execution_count": 5,
     "metadata": {},
     "output_type": "execute_result"
    }
   ],
   "source": [
    " 2 ** 5000"
   ]
  },
  {
   "cell_type": "code",
   "execution_count": 7,
   "id": "e8a8cb19-01ac-49d4-a441-201d39a72fb0",
   "metadata": {},
   "outputs": [
    {
     "data": {
      "text/plain": [
       "19950631168807583848837421626835850838234968318861924548520089498529438830221946631919961684036194597899331129423209124271556491349413781117593785932096323957855730046793794526765246551266059895520550086918193311542508608460618104685509074866089624888090489894838009253941633257850621568309473902556912388065225096643874441046759871626985453222868538161694315775629640762836880760732228535091641476183956381458969463899410840960536267821064621427333394036525565649530603142680234969400335934316651459297773279665775606172582031407994198179607378245683762280037302885487251900834464581454650557929601414833921615734588139257095379769119277800826957735674444123062018757836325502728323789270710373802866393031428133241401624195671690574061419654342324638801248856147305207431992259611796250130992860241708340807605932320161268492288496255841312844061536738951487114256315111089745514203313820202931640957596464756010405845841566072044962867016515061920631004186422275908670900574606417856951911456055068251250406007519842261898059237118054444788072906395242548339221982707404473162376760846613033778706039803413197133493654622700563169937455508241780972810983291314403571877524768509857276937926433221599399876886660808368837838027643282775172273657572744784112294389733810861607423253291974813120197604178281965697475898164531258434135959862784130128185406283476649088690521047580882615823961985770122407044330583075869039319604603404973156583208672105913300903752823415539745394397715257455290510212310947321610753474825740775273986348298498340756937955646638621874569499279016572103701364433135817214311791398222983845847334440270964182851005072927748364550578634501100852987812389473928699540834346158807043959118985815145779177143619698728131459483783202081474982171858011389071228250905826817436220577475921417653715687725614904582904992461028630081535583308130101987675856234343538955409175623400844887526162643568648833519463720377293240094456246923254350400678027273837755376406726898636241037491410966718557050759098100246789880178271925953381282421954028302759408448955014676668389697996886241636313376393903373455801407636741877711055384225739499110186468219696581651485130494222369947714763069155468217682876200362777257723781365331611196811280792669481887201298643660768551639860534602297871557517947385246369446923087894265948217008051120322365496288169035739121368338393591756418733850510970271613915439590991598154654417336311656936031122249937969999226781732358023111862644575299135758175008199839236284615249881088960232244362173771618086357015468484058622329792853875623486556440536962622018963571028812361567512543338303270029097668650568557157505516727518899194129711337690149916181315171544007728650573189557450920330185304847113818315407324053319038462084036421763703911550639789000742853672196280903477974533320468368795868580237952218629120080742819551317948157624448298518461509704888027274721574688131594750409732115080498190455803416826949787141316063210686391511681774304792596709376"
      ]
     },
     "execution_count": 7,
     "metadata": {},
     "output_type": "execute_result"
    }
   ],
   "source": [
    "2 ** 10000"
   ]
  },
  {
   "cell_type": "code",
   "execution_count": 8,
   "id": "fef8088f-4078-4edd-a7d7-da3d8a351dc3",
   "metadata": {},
   "outputs": [
    {
     "data": {
      "text/plain": [
       "9"
      ]
     },
     "execution_count": 8,
     "metadata": {},
     "output_type": "execute_result"
    }
   ],
   "source": [
    "2 + 3 * 4 - 5"
   ]
  },
  {
   "cell_type": "code",
   "execution_count": 9,
   "id": "1e823093-a22d-4d90-9a11-dfce918b9fd3",
   "metadata": {},
   "outputs": [
    {
     "data": {
      "text/plain": [
       "-5"
      ]
     },
     "execution_count": 9,
     "metadata": {},
     "output_type": "execute_result"
    }
   ],
   "source": [
    "(2 + 3) * (4 - 5) # PEMDAS "
   ]
  },
  {
   "cell_type": "code",
   "execution_count": 3,
   "id": "4238ab52-41c4-4182-8bf9-200a690c10cc",
   "metadata": {},
   "outputs": [
    {
     "data": {
      "text/plain": [
       "True"
      ]
     },
     "execution_count": 3,
     "metadata": {},
     "output_type": "execute_result"
    }
   ],
   "source": [
    "1 + 2 == 3"
   ]
  },
  {
   "cell_type": "code",
   "execution_count": 4,
   "id": "56904e59-5657-4e5d-a38f-4f67f2f62dd0",
   "metadata": {},
   "outputs": [
    {
     "data": {
      "text/plain": [
       "8"
      ]
     },
     "execution_count": 4,
     "metadata": {},
     "output_type": "execute_result"
    }
   ],
   "source": [
    "2 ** 3"
   ]
  },
  {
   "cell_type": "code",
   "execution_count": 6,
   "id": "b2499fff-44fa-47c5-943c-b66550c0c9ce",
   "metadata": {},
   "outputs": [
    {
     "data": {
      "text/plain": [
       "True"
      ]
     },
     "execution_count": 6,
     "metadata": {},
     "output_type": "execute_result"
    }
   ],
   "source": [
    "2 ** 3 == 8"
   ]
  },
  {
   "cell_type": "code",
   "execution_count": 7,
   "id": "7fb7599a-7311-4a87-aac2-e1265e65dfc0",
   "metadata": {},
   "outputs": [
    {
     "data": {
      "text/plain": [
       "['False',\n",
       " 'None',\n",
       " 'True',\n",
       " 'and',\n",
       " 'as',\n",
       " 'assert',\n",
       " 'async',\n",
       " 'await',\n",
       " 'break',\n",
       " 'class',\n",
       " 'continue',\n",
       " 'def',\n",
       " 'del',\n",
       " 'elif',\n",
       " 'else',\n",
       " 'except',\n",
       " 'finally',\n",
       " 'for',\n",
       " 'from',\n",
       " 'global',\n",
       " 'if',\n",
       " 'import',\n",
       " 'in',\n",
       " 'is',\n",
       " 'lambda',\n",
       " 'nonlocal',\n",
       " 'not',\n",
       " 'or',\n",
       " 'pass',\n",
       " 'raise',\n",
       " 'return',\n",
       " 'try',\n",
       " 'while',\n",
       " 'with',\n",
       " 'yield']"
      ]
     },
     "execution_count": 7,
     "metadata": {},
     "output_type": "execute_result"
    }
   ],
   "source": [
    "import keyword\n",
    "keyword.kwlist"
   ]
  },
  {
   "cell_type": "code",
   "execution_count": 1,
   "id": "9c4de3d0-2c9d-4c4e-8da8-6ad79f620104",
   "metadata": {},
   "outputs": [
    {
     "data": {
      "text/plain": [
       "True"
      ]
     },
     "execution_count": 1,
     "metadata": {},
     "output_type": "execute_result"
    }
   ],
   "source": [
    "5 > 4 and 3 < 4"
   ]
  },
  {
   "cell_type": "code",
   "execution_count": 2,
   "id": "8d3c1561-fdc5-4faa-91dc-bfcd719dbb97",
   "metadata": {},
   "outputs": [
    {
     "data": {
      "text/plain": [
       "0"
      ]
     },
     "execution_count": 2,
     "metadata": {},
     "output_type": "execute_result"
    }
   ],
   "source": [
    "0 and 5 > 4"
   ]
  },
  {
   "cell_type": "code",
   "execution_count": 3,
   "id": "7a595272-195e-41cc-b4c5-b5f0582f2aca",
   "metadata": {},
   "outputs": [
    {
     "data": {
      "text/plain": [
       "False"
      ]
     },
     "execution_count": 3,
     "metadata": {},
     "output_type": "execute_result"
    }
   ],
   "source": [
    "False and 5 > 4"
   ]
  },
  {
   "cell_type": "code",
   "execution_count": 5,
   "id": "a683f1cb-1436-4630-b367-947d3f44f1a7",
   "metadata": {},
   "outputs": [],
   "source": [
    "string = '€150'"
   ]
  },
  {
   "cell_type": "code",
   "execution_count": 6,
   "id": "21fe58b5-6906-47ec-baf7-f992c4b0bd2d",
   "metadata": {},
   "outputs": [
    {
     "data": {
      "text/plain": [
       "'€150'"
      ]
     },
     "execution_count": 6,
     "metadata": {},
     "output_type": "execute_result"
    }
   ],
   "source": [
    "string"
   ]
  },
  {
   "cell_type": "code",
   "execution_count": 12,
   "id": "67f45b01-58d9-4eeb-9c29-39acd0f746dc",
   "metadata": {},
   "outputs": [],
   "source": [
    "year = 2021\n",
    "xyz = 51"
   ]
  },
  {
   "cell_type": "code",
   "execution_count": 13,
   "id": "f86947f1-77b4-4cd5-873a-ecc072dff2e3",
   "metadata": {},
   "outputs": [
    {
     "data": {
      "text/plain": [
       "False"
      ]
     },
     "execution_count": 13,
     "metadata": {},
     "output_type": "execute_result"
    }
   ],
   "source": [
    "(year == 2022) and (xyz < 10)"
   ]
  },
  {
   "cell_type": "code",
   "execution_count": 1,
   "id": "d25fb421-5bff-48b3-bab9-e5738110c9ca",
   "metadata": {},
   "outputs": [
    {
     "data": {
      "text/plain": [
       "0"
      ]
     },
     "execution_count": 1,
     "metadata": {},
     "output_type": "execute_result"
    }
   ],
   "source": [
    "int()"
   ]
  },
  {
   "cell_type": "code",
   "execution_count": 2,
   "id": "4eaae337-f6a1-4a60-a7fc-c4446500eef2",
   "metadata": {},
   "outputs": [
    {
     "data": {
      "text/plain": [
       "35"
      ]
     },
     "execution_count": 2,
     "metadata": {},
     "output_type": "execute_result"
    }
   ],
   "source": [
    "int('35')"
   ]
  },
  {
   "cell_type": "code",
   "execution_count": 4,
   "id": "c3de0b8c-f53b-4472-9f95-ef0db42623e1",
   "metadata": {},
   "outputs": [
    {
     "name": "stdin",
     "output_type": "stream",
     "text": [
      "Enter a year:  2022\n"
     ]
    },
    {
     "data": {
      "text/plain": [
       "2022"
      ]
     },
     "execution_count": 4,
     "metadata": {},
     "output_type": "execute_result"
    }
   ],
   "source": [
    "year = input('Enter a year: ')\n",
    "int(year)"
   ]
  },
  {
   "cell_type": "code",
   "execution_count": 5,
   "id": "78db599c-fec1-4824-aef9-7158ddd275ae",
   "metadata": {},
   "outputs": [
    {
     "name": "stdin",
     "output_type": "stream",
     "text": [
      "Enter price of thing:  19.95\n"
     ]
    }
   ],
   "source": [
    "price = input('Enter price of thing: ')"
   ]
  },
  {
   "cell_type": "code",
   "execution_count": 8,
   "id": "f06b5582-98dd-4558-805a-d058f76eee68",
   "metadata": {},
   "outputs": [],
   "source": [
    "price = float(price)"
   ]
  },
  {
   "cell_type": "code",
   "execution_count": 10,
   "id": "6c95a7b8-9c4a-4227-81ab-94758dc130c5",
   "metadata": {},
   "outputs": [
    {
     "data": {
      "text/plain": [
       "float"
      ]
     },
     "execution_count": 10,
     "metadata": {},
     "output_type": "execute_result"
    }
   ],
   "source": [
    "type(price)"
   ]
  },
  {
   "cell_type": "code",
   "execution_count": 12,
   "id": "4b15e4ca-4e89-4114-85cd-b50651d4addc",
   "metadata": {},
   "outputs": [
    {
     "name": "stdin",
     "output_type": "stream",
     "text": [
      "Enter price of thing:  19.95\n"
     ]
    }
   ],
   "source": [
    "price = float(input('Enter price of thing: '))"
   ]
  },
  {
   "cell_type": "code",
   "execution_count": 13,
   "id": "13f72fb4-8c63-4f98-a083-2a5549a860b0",
   "metadata": {},
   "outputs": [
    {
     "data": {
      "text/plain": [
       "'1'"
      ]
     },
     "execution_count": 13,
     "metadata": {},
     "output_type": "execute_result"
    }
   ],
   "source": [
    "str(1)"
   ]
  },
  {
   "cell_type": "code",
   "execution_count": 15,
   "id": "94378c6b-3cdc-4d06-8459-0d9dabae94b5",
   "metadata": {},
   "outputs": [
    {
     "name": "stdout",
     "output_type": "stream",
     "text": [
      "string\n"
     ]
    }
   ],
   "source": [
    "print(str('string'))"
   ]
  },
  {
   "cell_type": "code",
   "execution_count": 16,
   "id": "0b59e345-9d89-4a6e-bcdb-14703ed78220",
   "metadata": {},
   "outputs": [
    {
     "data": {
      "text/plain": [
       "'x'"
      ]
     },
     "execution_count": 16,
     "metadata": {},
     "output_type": "execute_result"
    }
   ],
   "source": [
    "str('x')"
   ]
  },
  {
   "cell_type": "code",
   "execution_count": 18,
   "id": "f0e3aa3b-6994-4eff-99e2-ad735e4c0ae8",
   "metadata": {},
   "outputs": [],
   "source": [
    "num = 12345"
   ]
  },
  {
   "cell_type": "code",
   "execution_count": 19,
   "id": "a64c9bbf-cd88-425b-88e8-e94b0889c9f6",
   "metadata": {},
   "outputs": [
    {
     "data": {
      "text/plain": [
       "12345"
      ]
     },
     "execution_count": 19,
     "metadata": {},
     "output_type": "execute_result"
    }
   ],
   "source": [
    "num"
   ]
  },
  {
   "cell_type": "code",
   "execution_count": 20,
   "id": "cf0094fc-d3d8-4589-87c7-dbfa99e07480",
   "metadata": {},
   "outputs": [
    {
     "data": {
      "text/plain": [
       "int"
      ]
     },
     "execution_count": 20,
     "metadata": {},
     "output_type": "execute_result"
    }
   ],
   "source": [
    "type(num)"
   ]
  },
  {
   "cell_type": "code",
   "execution_count": 21,
   "id": "3cddae41-a020-42df-a6ed-5b5889a9d3c8",
   "metadata": {},
   "outputs": [],
   "source": [
    "string = str(num)"
   ]
  },
  {
   "cell_type": "code",
   "execution_count": 22,
   "id": "9f02b03b-048d-4bf4-b00f-e127b06f286f",
   "metadata": {},
   "outputs": [
    {
     "data": {
      "text/plain": [
       "str"
      ]
     },
     "execution_count": 22,
     "metadata": {},
     "output_type": "execute_result"
    }
   ],
   "source": [
    "type(string)"
   ]
  },
  {
   "cell_type": "code",
   "execution_count": 23,
   "id": "5fd8b194-3894-4746-825e-444fb67e1d32",
   "metadata": {},
   "outputs": [
    {
     "name": "stdout",
     "output_type": "stream",
     "text": [
      "12345\n"
     ]
    }
   ],
   "source": [
    "print(string)"
   ]
  },
  {
   "cell_type": "code",
   "execution_count": 24,
   "id": "ecd5c955-edd2-4bba-9df4-c4b760017728",
   "metadata": {},
   "outputs": [
    {
     "data": {
      "text/plain": [
       "'12345'"
      ]
     },
     "execution_count": 24,
     "metadata": {},
     "output_type": "execute_result"
    }
   ],
   "source": [
    "string"
   ]
  },
  {
   "cell_type": "code",
   "execution_count": 25,
   "id": "2ce248b8-55a9-406b-aabf-d264cd3b841c",
   "metadata": {},
   "outputs": [
    {
     "data": {
      "text/plain": [
       "1"
      ]
     },
     "execution_count": 25,
     "metadata": {},
     "output_type": "execute_result"
    }
   ],
   "source": [
    "int(1.5)"
   ]
  },
  {
   "cell_type": "code",
   "execution_count": 26,
   "id": "1f119b2d-103e-4fdd-b846-6be828be452e",
   "metadata": {},
   "outputs": [
    {
     "data": {
      "text/plain": [
       "345"
      ]
     },
     "execution_count": 26,
     "metadata": {},
     "output_type": "execute_result"
    }
   ],
   "source": [
    "int('345')"
   ]
  },
  {
   "cell_type": "code",
   "execution_count": 27,
   "id": "2a0d4eb6-55cc-48a8-a0bb-8f14263eef99",
   "metadata": {},
   "outputs": [
    {
     "ename": "ValueError",
     "evalue": "invalid literal for int() with base 10: 'hello'",
     "output_type": "error",
     "traceback": [
      "\u001b[0;31m---------------------------------------------------------------------------\u001b[0m",
      "\u001b[0;31mValueError\u001b[0m                                Traceback (most recent call last)",
      "\u001b[0;32m/tmp/ipykernel_61/1136785238.py\u001b[0m in \u001b[0;36m<module>\u001b[0;34m\u001b[0m\n\u001b[0;32m----> 1\u001b[0;31m \u001b[0mint\u001b[0m\u001b[0;34m(\u001b[0m\u001b[0;34m'hello'\u001b[0m\u001b[0;34m)\u001b[0m\u001b[0;34m\u001b[0m\u001b[0;34m\u001b[0m\u001b[0m\n\u001b[0m",
      "\u001b[0;31mValueError\u001b[0m: invalid literal for int() with base 10: 'hello'"
     ]
    }
   ],
   "source": [
    "int('hello')"
   ]
  },
  {
   "cell_type": "code",
   "execution_count": 28,
   "id": "99b2e15a-30ec-412a-94ce-86894e5e449c",
   "metadata": {},
   "outputs": [
    {
     "ename": "ValueError",
     "evalue": "could not convert string to float: '2.5 dollars'",
     "output_type": "error",
     "traceback": [
      "\u001b[0;31m---------------------------------------------------------------------------\u001b[0m",
      "\u001b[0;31mValueError\u001b[0m                                Traceback (most recent call last)",
      "\u001b[0;32m/tmp/ipykernel_61/1623785565.py\u001b[0m in \u001b[0;36m<module>\u001b[0;34m\u001b[0m\n\u001b[0;32m----> 1\u001b[0;31m \u001b[0mfloat\u001b[0m\u001b[0;34m(\u001b[0m\u001b[0;34m'2.5 dollars'\u001b[0m\u001b[0;34m)\u001b[0m\u001b[0;34m\u001b[0m\u001b[0;34m\u001b[0m\u001b[0m\n\u001b[0m",
      "\u001b[0;31mValueError\u001b[0m: could not convert string to float: '2.5 dollars'"
     ]
    }
   ],
   "source": [
    "float('2.5 dollars')"
   ]
  },
  {
   "cell_type": "code",
   "execution_count": 29,
   "id": "d2f0c4fc-bd78-4ef8-bc7c-5b198bb2c231",
   "metadata": {},
   "outputs": [
    {
     "ename": "ValueError",
     "evalue": "could not convert string to float: '$25.00'",
     "output_type": "error",
     "traceback": [
      "\u001b[0;31m---------------------------------------------------------------------------\u001b[0m",
      "\u001b[0;31mValueError\u001b[0m                                Traceback (most recent call last)",
      "\u001b[0;32m/tmp/ipykernel_61/4226426541.py\u001b[0m in \u001b[0;36m<module>\u001b[0;34m\u001b[0m\n\u001b[0;32m----> 1\u001b[0;31m \u001b[0mfloat\u001b[0m\u001b[0;34m(\u001b[0m\u001b[0;34m'$25.00'\u001b[0m\u001b[0;34m)\u001b[0m\u001b[0;34m\u001b[0m\u001b[0;34m\u001b[0m\u001b[0m\n\u001b[0m",
      "\u001b[0;31mValueError\u001b[0m: could not convert string to float: '$25.00'"
     ]
    }
   ],
   "source": [
    "float('$25.00')"
   ]
  },
  {
   "cell_type": "code",
   "execution_count": 30,
   "id": "eb01cdc8-414f-4923-9643-7b5c179fbd64",
   "metadata": {},
   "outputs": [],
   "source": [
    "x = 123"
   ]
  },
  {
   "cell_type": "code",
   "execution_count": 31,
   "id": "b17a85ca-e3cc-496a-a007-9c9aaed1cfa9",
   "metadata": {},
   "outputs": [
    {
     "data": {
      "text/plain": [
       "True"
      ]
     },
     "execution_count": 31,
     "metadata": {},
     "output_type": "execute_result"
    }
   ],
   "source": [
    "bool(x)"
   ]
  },
  {
   "cell_type": "code",
   "execution_count": 32,
   "id": "52399333-007c-41c1-9e1a-4f1e26df0475",
   "metadata": {},
   "outputs": [
    {
     "data": {
      "text/plain": [
       "False"
      ]
     },
     "execution_count": 32,
     "metadata": {},
     "output_type": "execute_result"
    }
   ],
   "source": [
    "bool(0.0)"
   ]
  },
  {
   "cell_type": "code",
   "execution_count": 34,
   "id": "53be5be4-d286-4dee-9511-df2f9d03863a",
   "metadata": {},
   "outputs": [
    {
     "data": {
      "text/plain": [
       "True"
      ]
     },
     "execution_count": 34,
     "metadata": {},
     "output_type": "execute_result"
    }
   ],
   "source": [
    "bool(' ')"
   ]
  },
  {
   "cell_type": "code",
   "execution_count": 35,
   "id": "f2c2d6ca-d5af-4575-9e09-f9ebb535fb0f",
   "metadata": {},
   "outputs": [
    {
     "data": {
      "text/plain": [
       "True"
      ]
     },
     "execution_count": 35,
     "metadata": {},
     "output_type": "execute_result"
    }
   ],
   "source": [
    "bool(-3)"
   ]
  },
  {
   "cell_type": "code",
   "execution_count": 37,
   "id": "904304fb-d3e1-401b-b224-13584682868c",
   "metadata": {},
   "outputs": [
    {
     "name": "stdin",
     "output_type": "stream",
     "text": [
      "Enter a year:  Nope!\n"
     ]
    },
    {
     "ename": "ValueError",
     "evalue": "invalid literal for int() with base 10: 'Nope!'",
     "output_type": "error",
     "traceback": [
      "\u001b[0;31m---------------------------------------------------------------------------\u001b[0m",
      "\u001b[0;31mValueError\u001b[0m                                Traceback (most recent call last)",
      "\u001b[0;32m/tmp/ipykernel_61/58641256.py\u001b[0m in \u001b[0;36m<module>\u001b[0;34m\u001b[0m\n\u001b[0;32m----> 1\u001b[0;31m \u001b[0myear\u001b[0m \u001b[0;34m=\u001b[0m \u001b[0mint\u001b[0m\u001b[0;34m(\u001b[0m\u001b[0minput\u001b[0m\u001b[0;34m(\u001b[0m\u001b[0;34m'Enter a year: '\u001b[0m\u001b[0;34m)\u001b[0m\u001b[0;34m)\u001b[0m\u001b[0;34m\u001b[0m\u001b[0;34m\u001b[0m\u001b[0m\n\u001b[0m",
      "\u001b[0;31mValueError\u001b[0m: invalid literal for int() with base 10: 'Nope!'"
     ]
    }
   ],
   "source": [
    "year = int(input('Enter a year: '))"
   ]
  },
  {
   "cell_type": "code",
   "execution_count": 38,
   "id": "d63ca581-2d14-4a28-82c8-18665d6ef738",
   "metadata": {},
   "outputs": [
    {
     "name": "stdout",
     "output_type": "stream",
     "text": [
      "1 words 2\n"
     ]
    }
   ],
   "source": [
    "print(1, 'words', 2)"
   ]
  },
  {
   "cell_type": "code",
   "execution_count": 41,
   "id": "22cde34b-1d7e-45f4-9e82-9451a847b624",
   "metadata": {},
   "outputs": [
    {
     "name": "stdout",
     "output_type": "stream",
     "text": [
      "3 7 8 9 hi\n"
     ]
    }
   ],
   "source": [
    "print(3, 7, 8, 9, 'hi')"
   ]
  },
  {
   "cell_type": "code",
   "execution_count": 42,
   "id": "a5f722ba-3eab-4ef8-a051-9ff273540c47",
   "metadata": {},
   "outputs": [
    {
     "name": "stdout",
     "output_type": "stream",
     "text": [
      "1/2/3\n"
     ]
    }
   ],
   "source": [
    "print(1, 2, 3, sep='/')"
   ]
  },
  {
   "cell_type": "code",
   "execution_count": 43,
   "id": "d7c349c2-ba93-4a88-bcda-34664b2fe09b",
   "metadata": {},
   "outputs": [
    {
     "name": "stdin",
     "output_type": "stream",
     "text": [
      "Enter first name:  Dave\n"
     ]
    }
   ],
   "source": [
    "first = input('Enter first name: ')"
   ]
  },
  {
   "cell_type": "code",
   "execution_count": 44,
   "id": "528cc766-0e64-4100-91dc-dbd5bf07e200",
   "metadata": {},
   "outputs": [
    {
     "name": "stdin",
     "output_type": "stream",
     "text": [
      "Enter last name:  W-S\n"
     ]
    }
   ],
   "source": [
    "last = input('Enter last name: ')"
   ]
  },
  {
   "cell_type": "code",
   "execution_count": 45,
   "id": "fb4073d3-7722-425b-8e0d-fd9496412c1d",
   "metadata": {},
   "outputs": [
    {
     "data": {
      "text/plain": [
       "'Dave'"
      ]
     },
     "execution_count": 45,
     "metadata": {},
     "output_type": "execute_result"
    }
   ],
   "source": [
    "first"
   ]
  },
  {
   "cell_type": "code",
   "execution_count": 46,
   "id": "329d3b33-0f32-4de4-856f-ae19083ec3d2",
   "metadata": {},
   "outputs": [
    {
     "data": {
      "text/plain": [
       "'W-S'"
      ]
     },
     "execution_count": 46,
     "metadata": {},
     "output_type": "execute_result"
    }
   ],
   "source": [
    "last"
   ]
  },
  {
   "cell_type": "code",
   "execution_count": 47,
   "id": "8e0a50f7-0f9b-4b11-9e5d-e4c965fefedf",
   "metadata": {},
   "outputs": [],
   "source": [
    "full_name = first + ' ' + last"
   ]
  },
  {
   "cell_type": "code",
   "execution_count": 48,
   "id": "ed34ccf9-a4b5-4dfe-9528-aab72b2e6ace",
   "metadata": {},
   "outputs": [
    {
     "data": {
      "text/plain": [
       "'Dave W-S'"
      ]
     },
     "execution_count": 48,
     "metadata": {},
     "output_type": "execute_result"
    }
   ],
   "source": [
    "full_name"
   ]
  },
  {
   "cell_type": "markdown",
   "id": "a72cb552-3cd1-4519-b46c-4c86b3573842",
   "metadata": {},
   "source": [
    "## Lab: Indexing Strings\n",
    "* prompt the user and read a string\n",
    "* prompt the user for an index\n",
    "*  use the index to print out the character at that offset (e.g., if user enters '3', you would print out the [3] character of the string\n",
    "* what happens if you hit return (i.e., enter an \"empty string\")?\n",
    "* what happens if you set the zeroth character of the string you read to 'x'"
   ]
  },
  {
   "cell_type": "code",
   "execution_count": 1,
   "id": "ea180130-5c8f-42f4-ac77-27f49d3ebd8f",
   "metadata": {},
   "outputs": [
    {
     "name": "stdout",
     "output_type": "stream",
     "text": [
      "Enter a string: Python\n",
      "Enter an index: 4\n",
      "o\n"
     ]
    }
   ],
   "source": [
    "string = input('Enter a string: ') # read a string from the user\n",
    "index = int(input('Enter an index: ')) # don't forget to convert to int\n",
    "print(string[index]) # print the index'th character of the string"
   ]
  },
  {
   "cell_type": "code",
   "execution_count": 2,
   "id": "1b3fb35f-574b-4bfb-bb4a-49f7a25412f4",
   "metadata": {},
   "outputs": [
    {
     "ename": "TypeError",
     "evalue": "'str' object does not support item assignment",
     "output_type": "error",
     "traceback": [
      "\u001b[0;31m---------------------------------------------------------------------------\u001b[0m",
      "\u001b[0;31mTypeError\u001b[0m                                 Traceback (most recent call last)",
      "Input \u001b[0;32mIn [2]\u001b[0m, in \u001b[0;36m<cell line: 1>\u001b[0;34m()\u001b[0m\n\u001b[0;32m----> 1\u001b[0m string[\u001b[38;5;241m0\u001b[39m] \u001b[38;5;241m=\u001b[39m \u001b[38;5;124m'\u001b[39m\u001b[38;5;124mp\u001b[39m\u001b[38;5;124m'\u001b[39m\n",
      "\u001b[0;31mTypeError\u001b[0m: 'str' object does not support item assignment"
     ]
    }
   ],
   "source": [
    "string[0] = 'p'"
   ]
  },
  {
   "cell_type": "code",
   "execution_count": 3,
   "id": "9278fb51-b9a3-4b74-9b0b-37b01cd7f9f3",
   "metadata": {},
   "outputs": [
    {
     "data": {
      "text/plain": [
       "'Python'"
      ]
     },
     "execution_count": 3,
     "metadata": {},
     "output_type": "execute_result"
    }
   ],
   "source": [
    "string"
   ]
  },
  {
   "cell_type": "code",
   "execution_count": 4,
   "id": "841b0e83",
   "metadata": {},
   "outputs": [],
   "source": [
    "string = 'python'"
   ]
  },
  {
   "cell_type": "code",
   "execution_count": 5,
   "id": "95487538",
   "metadata": {},
   "outputs": [
    {
     "data": {
      "text/plain": [
       "'python'"
      ]
     },
     "execution_count": 5,
     "metadata": {},
     "output_type": "execute_result"
    }
   ],
   "source": [
    "string"
   ]
  },
  {
   "cell_type": "code",
   "execution_count": null,
   "id": "f314e8ca",
   "metadata": {},
   "outputs": [],
   "source": [
    "if (year > 2020) {\n",
    "    print('do this')\n",
    "    print('do that')\n",
    "}"
   ]
  },
  {
   "cell_type": "code",
   "execution_count": 5,
   "id": "8a0b164a",
   "metadata": {},
   "outputs": [
    {
     "name": "stdout",
     "output_type": "stream",
     "text": [
      "hey, 5 is greater than 4\n",
      "ok?\n",
      "after\n"
     ]
    }
   ],
   "source": [
    "if 5 > 4:\n",
    "    print('hey, 5 is greater than 4')\n",
    "    print('ok?')\n",
    "\n",
    "print('after')"
   ]
  },
  {
   "cell_type": "code",
   "execution_count": 7,
   "id": "5f880645",
   "metadata": {},
   "outputs": [],
   "source": [
    "string = \"Don't say that!\""
   ]
  },
  {
   "cell_type": "code",
   "execution_count": 8,
   "id": "7bed4272",
   "metadata": {},
   "outputs": [
    {
     "data": {
      "text/plain": [
       "\"Don't say that!\""
      ]
     },
     "execution_count": 8,
     "metadata": {},
     "output_type": "execute_result"
    }
   ],
   "source": [
    "string"
   ]
  },
  {
   "cell_type": "code",
   "execution_count": 9,
   "id": "6cc11e44",
   "metadata": {},
   "outputs": [],
   "source": [
    "string = 'He said \"Go away!\"'"
   ]
  },
  {
   "cell_type": "code",
   "execution_count": 21,
   "id": "c466c720",
   "metadata": {},
   "outputs": [
    {
     "name": "stdout",
     "output_type": "stream",
     "text": [
      "Enter a number: 9\n",
      "9 is odd\n"
     ]
    }
   ],
   "source": [
    "# prompt the user to enter a number\n",
    "# read input from the user\n",
    "num = int(input('Enter a number: ')) # at this point we have a number (as a string) in num\n",
    "# convert the input to an integer\n",
    "# tell the user whether the number entered was odd or even\n",
    "if num % 2 == 0: # \"if remainder when dividing by 2 is 0\"\n",
    "    print(num, 'is even')\n",
    "else:\n",
    "    print(num, 'is odd')"
   ]
  },
  {
   "cell_type": "code",
   "execution_count": 15,
   "id": "34fcb53d",
   "metadata": {},
   "outputs": [
    {
     "data": {
      "text/plain": [
       "1"
      ]
     },
     "execution_count": 15,
     "metadata": {},
     "output_type": "execute_result"
    }
   ],
   "source": [
    "23 % 2"
   ]
  },
  {
   "cell_type": "code",
   "execution_count": 16,
   "id": "b8d3f220",
   "metadata": {},
   "outputs": [
    {
     "data": {
      "text/plain": [
       "'23'"
      ]
     },
     "execution_count": 16,
     "metadata": {},
     "output_type": "execute_result"
    }
   ],
   "source": [
    "num"
   ]
  },
  {
   "cell_type": "code",
   "execution_count": 17,
   "id": "9c3e790a",
   "metadata": {},
   "outputs": [
    {
     "ename": "TypeError",
     "evalue": "not all arguments converted during string formatting",
     "output_type": "error",
     "traceback": [
      "\u001b[0;31m---------------------------------------------------------------------------\u001b[0m",
      "\u001b[0;31mTypeError\u001b[0m                                 Traceback (most recent call last)",
      "Input \u001b[0;32mIn [17]\u001b[0m, in \u001b[0;36m<cell line: 1>\u001b[0;34m()\u001b[0m\n\u001b[0;32m----> 1\u001b[0m \u001b[38;5;124;43m'\u001b[39;49m\u001b[38;5;124;43m23\u001b[39;49m\u001b[38;5;124;43m'\u001b[39;49m\u001b[43m \u001b[49m\u001b[38;5;241;43m%\u001b[39;49m\u001b[43m \u001b[49m\u001b[38;5;241;43m2\u001b[39;49m\n",
      "\u001b[0;31mTypeError\u001b[0m: not all arguments converted during string formatting"
     ]
    }
   ],
   "source": [
    "'23' % 2"
   ]
  },
  {
   "cell_type": "code",
   "execution_count": 2,
   "id": "58ca5bc3",
   "metadata": {},
   "outputs": [
    {
     "name": "stdin",
     "output_type": "stream",
     "text": [
      "Enter a number:  2468\n"
     ]
    },
    {
     "name": "stdout",
     "output_type": "stream",
     "text": [
      "2468 is even\n"
     ]
    }
   ],
   "source": [
    "num = input('Enter a number: ') # at this point we have a number (as a string) in num\n",
    "if num[-1] in '02468': # is the last digit ONE OF 0, 2, 4, 6, or 8\n",
    "    print(num, 'is even')\n",
    "else:\n",
    "    print(num, 'is odd')"
   ]
  },
  {
   "cell_type": "code",
   "execution_count": 4,
   "id": "e5291af6",
   "metadata": {},
   "outputs": [
    {
     "data": {
      "text/plain": [
       "25297920000"
      ]
     },
     "execution_count": 4,
     "metadata": {},
     "output_type": "execute_result"
    }
   ],
   "source": [
    "# let's say cards created in 1222 (800 years)\n",
    "# 8B people\n",
    "# they've been doing nothing but shuffling cards once a second since 1222\n",
    "8_000_000 * 800 * 366 * 24 * 60 * 60\n",
    "# the above is an overestimation of the number of shuffles in all of time"
   ]
  },
  {
   "cell_type": "code",
   "execution_count": 5,
   "id": "3b741a0b-cce9-45fc-a1b9-521a39b68a39",
   "metadata": {},
   "outputs": [
    {
     "data": {
      "text/plain": [
       "80658175170943878571660636856403766975289505440883277824000000000000"
      ]
     },
     "execution_count": 5,
     "metadata": {},
     "output_type": "execute_result"
    }
   ],
   "source": [
    "import math\n",
    "math.factorial(52) # 52!"
   ]
  },
  {
   "cell_type": "code",
   "execution_count": null,
   "id": "6af567c3-3347-4490-87ef-cc83fa8be7e2",
   "metadata": {},
   "outputs": [],
   "source": [
    "# n! = n x (n-1) x (n-2) x ... x 1\n",
    "# the first card has 52 choices\n",
    "# the second card has 51 choices"
   ]
  },
  {
   "cell_type": "code",
   "execution_count": 12,
   "id": "121c6831-f619-4a0e-affc-663a6f781363",
   "metadata": {},
   "outputs": [
    {
     "data": {
      "text/plain": [
       "3.1364359466829676e-58"
      ]
     },
     "execution_count": 12,
     "metadata": {},
     "output_type": "execute_result"
    }
   ],
   "source": [
    "25297920000 / 80658175170943878571660636856403766975289505440883277824000000000000\n",
    "# overestimation of number of all time shuffles / number of all possible shuffles"
   ]
  },
  {
   "cell_type": "code",
   "execution_count": null,
   "id": "fd769536-4ef7-44d4-9ec8-3bbe7d3baec8",
   "metadata": {},
   "outputs": [],
   "source": [
    ".00000000000000000000000000000000000000000000000000000000031364359466829676"
   ]
  },
  {
   "cell_type": "code",
   "execution_count": 11,
   "id": "faae2d13-9f68-4dab-b775-34ea5f44770d",
   "metadata": {},
   "outputs": [
    {
     "data": {
      "text/plain": [
       "0.82"
      ]
     },
     "execution_count": 11,
     "metadata": {},
     "output_type": "execute_result"
    }
   ],
   "source": [
    "# 50 states in USA\n",
    "# suppose Annabelle has visited 32 of them\n",
    "41 / 50"
   ]
  },
  {
   "cell_type": "code",
   "execution_count": 13,
   "id": "bd676efe-d8f0-4ead-92d0-d4723a500153",
   "metadata": {},
   "outputs": [
    {
     "data": {
      "text/plain": [
       "2000"
      ]
     },
     "execution_count": 13,
     "metadata": {},
     "output_type": "execute_result"
    }
   ],
   "source": [
    "2 * 1_000"
   ]
  },
  {
   "cell_type": "code",
   "execution_count": 2,
   "id": "20a50ef9-3bea-4be0-9f7a-278a9410d0ca",
   "metadata": {},
   "outputs": [
    {
     "data": {
      "text/plain": [
       "False"
      ]
     },
     "execution_count": 2,
     "metadata": {},
     "output_type": "execute_result"
    }
   ],
   "source": [
    "5 != 5"
   ]
  },
  {
   "cell_type": "markdown",
   "id": "db2cfdf3-10e4-415c-94d8-ff9bd48ec353",
   "metadata": {},
   "source": [
    "## Lab: Leap Year Program\n",
    "1. prompt the user to enter a year\n",
    "2. read input from the user\n",
    "3. convert the input to an integer\n",
    "4. tell the user whether the year entered is a leap year or not\n",
    "  * a year is a leap year if\n",
    "  1. it's divisible by 4 AND\n",
    "  2. it's not divisible by 100 (i.e., 1900 was not a leap year) UNLESS\n",
    "  3. it's also divisible by 400 (i.e., 2000 was a leap year)"
   ]
  },
  {
   "cell_type": "code",
   "execution_count": null,
   "id": "4175c0e3-ff7e-4338-a620-a1a23a4fd270",
   "metadata": {},
   "outputs": [],
   "source": [
    "# Leap Year Program (simplified version)\n",
    "# 1. get a year from the user\n",
    "# 2. convert that year to a number (feel free to combine 1 and 2)\n",
    "# 3. if number divisible by 4:\n",
    "#          print it's a leap year\n",
    "#    else:\n",
    "#.         print NOT a leap year\n",
    "\n",
    "# Leap Year Program \n",
    "# 1. get a year from the user\n",
    "# 2. convert that year to a number (feel free to combine 1 and 2)\n",
    "# 3. if number divisible by 4:\n",
    "#      if divisible by 400:\n",
    "#.        then print 1 LEAP YEAR\n",
    "#.     elif divisible by 100:\n",
    "#.        then print 1 NOT a LEAP YEAR\n",
    "#      else:\n",
    "#         then print 2 LEAP YEAR\n",
    "#.   else:\n",
    "#.        print 2 NOT a LEAP YEAR"
   ]
  },
  {
   "cell_type": "code",
   "execution_count": 5,
   "id": "117cb245-2f10-4d96-974d-6de3eb7007cf",
   "metadata": {},
   "outputs": [
    {
     "name": "stdin",
     "output_type": "stream",
     "text": [
      "Enter a year:  1900\n"
     ]
    },
    {
     "name": "stdout",
     "output_type": "stream",
     "text": [
      "1900 is a LEAP year\n"
     ]
    }
   ],
   "source": [
    "# first attempt, not completely correct but mostly correct\n",
    "# if a problem is too difficult, solve a SIMPLER version of it\n",
    "year = int(input('Enter a year: '))\n",
    "if year % 4 == 0:\n",
    "    print(year, 'is a LEAP year')\n",
    "else:\n",
    "    print(year, 'is NOT a leap year')"
   ]
  },
  {
   "cell_type": "code",
   "execution_count": 5,
   "id": "91bc4de5-a9a4-422d-96e7-4650f855d971",
   "metadata": {},
   "outputs": [
    {
     "name": "stdin",
     "output_type": "stream",
     "text": [
      "Enter a year:  2020\n"
     ]
    },
    {
     "name": "stdout",
     "output_type": "stream",
     "text": [
      "2020 is a leap year (because divisible by 4 and NOT divisible by 100)\n"
     ]
    }
   ],
   "source": [
    "# second attempt\n",
    "year = int(input('Enter a year: '))\n",
    "if year % 4 == 0:\n",
    "    # at this point we know year is divisible by 4\n",
    "    if year % 400 == 0:\n",
    "        # divisible by 4 and divisible by 400\n",
    "        print(year, 'is a leap year (because divisible by 400)')\n",
    "    elif year % 100 == 0:\n",
    "        # divisible by 4 and NOT divisible by 400 and divisible by 100\n",
    "        print(year, 'is NOT a leap year (because divisible by 100 and NOT divisible by 400)')\n",
    "    else:\n",
    "        # divisible by 4 and NOT divisible by 400 and NOT divisible by 100\n",
    "        print(year, 'is a leap year (because divisible by 4 and NOT divisible by 100)')\n",
    "else: \n",
    "    # not divisible by 4\n",
    "    print(year, 'is NOT a leap year (because not divisible by 4)')"
   ]
  },
  {
   "cell_type": "code",
   "execution_count": 9,
   "id": "29803319-26a7-4436-b7e6-04e7f83b051a",
   "metadata": {},
   "outputs": [
    {
     "name": "stdin",
     "output_type": "stream",
     "text": [
      "Enter a year:  2004\n"
     ]
    },
    {
     "name": "stdout",
     "output_type": "stream",
     "text": [
      "leap year\n"
     ]
    }
   ],
   "source": [
    "# third attempt, using Boolean logic\n",
    "year = int(input('Enter a year: '))\n",
    "if (year % 4 == 0) and ((year % 100 != 0) or (year % 400 == 0)):\n",
    "    print('leap year')\n",
    "else:\n",
    "    print('NOT a leap year')"
   ]
  },
  {
   "cell_type": "code",
   "execution_count": 14,
   "id": "40bce5e3-0214-4d2d-8f66-0befb0cb8530",
   "metadata": {},
   "outputs": [
    {
     "name": "stdin",
     "output_type": "stream",
     "text": [
      "Enter a year:  2001\n"
     ]
    },
    {
     "name": "stdout",
     "output_type": "stream",
     "text": [
      "NOT a leap year\n"
     ]
    }
   ],
   "source": [
    "# fourth attempt, inverting the sense of the Boolean test\n",
    "year = int(input('Enter a year: '))\n",
    "if (year % 4 != 0) or ((year % 100 == 0) and (year % 400 != 0)):\n",
    "    print('NOT a leap year')\n",
    "else:\n",
    "    print('leap year')"
   ]
  },
  {
   "cell_type": "code",
   "execution_count": null,
   "id": "212a00b7-69a4-41cc-a9b7-1edf8211d263",
   "metadata": {},
   "outputs": [],
   "source": [
    "# How do you know what to do next?\n",
    "#   - how do you know what constructs to use? (if, while, for, switch)\n",
    "# the answer lies in our pseudocode / algorithm"
   ]
  },
  {
   "cell_type": "code",
   "execution_count": 1,
   "id": "7d366500-6678-48a5-a9b3-13fe5ad8a19c",
   "metadata": {},
   "outputs": [
    {
     "data": {
      "text/plain": [
       "'CONTAINER'"
      ]
     },
     "execution_count": 1,
     "metadata": {},
     "output_type": "execute_result"
    }
   ],
   "source": [
    "'CONTAINER'"
   ]
  },
  {
   "cell_type": "code",
   "execution_count": 2,
   "id": "dc8bd873-6f4a-4c25-ba48-7c3325a164a7",
   "metadata": {},
   "outputs": [],
   "source": [
    "my_int = 5"
   ]
  },
  {
   "cell_type": "code",
   "execution_count": 3,
   "id": "5a7388a5-ce2d-4166-9266-d3b4a8209995",
   "metadata": {},
   "outputs": [
    {
     "data": {
      "text/plain": [
       "5"
      ]
     },
     "execution_count": 3,
     "metadata": {},
     "output_type": "execute_result"
    }
   ],
   "source": [
    "my_int"
   ]
  },
  {
   "cell_type": "code",
   "execution_count": 4,
   "id": "79d8c3a0-abca-482f-ba31-0dc926ac078b",
   "metadata": {},
   "outputs": [],
   "source": [
    "my_int = 4"
   ]
  },
  {
   "cell_type": "code",
   "execution_count": 5,
   "id": "98a23d98-ae9d-41c2-a1d1-1b4d46f56011",
   "metadata": {},
   "outputs": [
    {
     "data": {
      "text/plain": [
       "4"
      ]
     },
     "execution_count": 5,
     "metadata": {},
     "output_type": "execute_result"
    }
   ],
   "source": [
    "my_int"
   ]
  },
  {
   "cell_type": "code",
   "execution_count": 6,
   "id": "dfbbd578-1aa9-4864-88a1-bbeb00250862",
   "metadata": {},
   "outputs": [],
   "source": [
    "my_string = 'Adeola'"
   ]
  },
  {
   "cell_type": "code",
   "execution_count": 7,
   "id": "d5d7ce05-39cd-45b8-9ee1-c0a84bd988e7",
   "metadata": {},
   "outputs": [
    {
     "data": {
      "text/plain": [
       "6"
      ]
     },
     "execution_count": 7,
     "metadata": {},
     "output_type": "execute_result"
    }
   ],
   "source": [
    "len(my_string)"
   ]
  },
  {
   "cell_type": "code",
   "execution_count": 13,
   "id": "c325843f-f9c5-4a09-b59a-ef48e9d6b5ff",
   "metadata": {},
   "outputs": [],
   "source": [
    "my_string = ''"
   ]
  },
  {
   "cell_type": "code",
   "execution_count": 14,
   "id": "c20477ca-65c4-4044-b77d-dc0c5c93e25f",
   "metadata": {},
   "outputs": [
    {
     "data": {
      "text/plain": [
       "0"
      ]
     },
     "execution_count": 14,
     "metadata": {},
     "output_type": "execute_result"
    }
   ],
   "source": [
    "len(my_string)"
   ]
  },
  {
   "cell_type": "code",
   "execution_count": 15,
   "id": "3c3639f8-1a2c-4eeb-90d0-c9d352f1b166",
   "metadata": {},
   "outputs": [],
   "source": [
    "my_fave_prog_lang = 'Python'"
   ]
  },
  {
   "cell_type": "code",
   "execution_count": 16,
   "id": "581987cc-5565-4a8b-a64a-e79b9742e832",
   "metadata": {},
   "outputs": [],
   "source": [
    "my_2nd_fave_prog_lang = 'Go'"
   ]
  },
  {
   "cell_type": "code",
   "execution_count": 17,
   "id": "03447757-dfb2-40ad-879a-27f3ba85ef85",
   "metadata": {},
   "outputs": [
    {
     "data": {
      "text/plain": [
       "'Go'"
      ]
     },
     "execution_count": 17,
     "metadata": {},
     "output_type": "execute_result"
    }
   ],
   "source": [
    "my_2nd_fave_prog_lang"
   ]
  },
  {
   "cell_type": "code",
   "execution_count": 27,
   "id": "cb6e2d45-8f81-4588-8804-eabbd37c8f03",
   "metadata": {},
   "outputs": [
    {
     "name": "stdout",
     "output_type": "stream",
     "text": [
      "P-\n",
      "y-\n",
      "t-\n",
      "h-\n",
      "o-\n",
      "n-\n"
     ]
    }
   ],
   "source": [
    "for letter in my_fave_prog_lang:\n",
    "    print(letter, end='-\\n')"
   ]
  },
  {
   "cell_type": "code",
   "execution_count": 20,
   "id": "9b4a0fd7-4fa9-4e6a-ab7a-3596e56f1eab",
   "metadata": {},
   "outputs": [
    {
     "name": "stdout",
     "output_type": "stream",
     "text": [
      "Esgardo\n",
      "Year Up\n"
     ]
    }
   ],
   "source": [
    "print('Esgardo') # by default, print() will emit/print a newline/CR when it's done\n",
    "print('Year Up')"
   ]
  },
  {
   "cell_type": "code",
   "execution_count": 21,
   "id": "2e0d0479-cfc2-4372-aa9b-3f52449a172a",
   "metadata": {},
   "outputs": [
    {
     "name": "stdout",
     "output_type": "stream",
     "text": [
      "Esgardo is part of Year Up\n"
     ]
    }
   ],
   "source": [
    "print('Esgardo', end=' is part of ') # I can change what happens at the end of the print() using end=\n",
    "print('Year Up')"
   ]
  },
  {
   "cell_type": "code",
   "execution_count": 24,
   "id": "511abef4-e91a-4312-ad87-381a583d97f2",
   "metadata": {},
   "outputs": [
    {
     "name": "stdout",
     "output_type": "stream",
     "text": [
      "Esgardo\n",
      "-\n",
      "Year Up\n"
     ]
    }
   ],
   "source": [
    "print('Esgardo', end='\\n-\\n')\n",
    "print('Year Up')"
   ]
  },
  {
   "cell_type": "code",
   "execution_count": 30,
   "id": "68a14bcc-529d-483e-8042-61f5bd1b35da",
   "metadata": {},
   "outputs": [
    {
     "name": "stdout",
     "output_type": "stream",
     "text": [
      "1 2 3 4 5\n"
     ]
    }
   ],
   "source": [
    "print(1, 2, 3, end=' ')\n",
    "print(4, 5)"
   ]
  },
  {
   "cell_type": "markdown",
   "id": "5a3fedf1",
   "metadata": {},
   "source": [
    "## Lab: for loops\n",
    "* write a Python program which asks the user for a string and then outputs the same string with each character duplicated\n",
    "  * e.g., if the user enters __Tesla__, your program will output __TTeessllaa__\n",
    "* write a Python program to compute __`n! (= n * n - 1 * n - 2 ... * 1)`__\n",
    "  * so if the user enters a 5, your program should compute __`5 * 4 * 3 * 2 * 1 (120)`__"
   ]
  },
  {
   "cell_type": "code",
   "execution_count": null,
   "id": "bbe25c0a",
   "metadata": {},
   "outputs": [],
   "source": [
    "# first program\n",
    "# 1. ask user for a string/word/phrase\n",
    "# 2. for each letter in the string:\n",
    "#.       print the letter twice\n",
    "\n",
    "# second program\n",
    "# 1. ask the user for n (integer)\n",
    "# 2. convert answer into integer\n",
    "# 3. print the number followed by '! = ' with no newline at the end\n",
    "# 3a. factorial = n\n",
    "# 4. for each number from n-1 down to 1:\n",
    "# 4a.    factorial = factorial * number"
   ]
  },
  {
   "cell_type": "code",
   "execution_count": 34,
   "id": "f8387fe6",
   "metadata": {},
   "outputs": [
    {
     "name": "stdout",
     "output_type": "stream",
     "text": [
      "Enter an integer n and I will compute n! 5\n",
      "5! = 5 * 4 * 3 * 2 * 1 * = 120\n"
     ]
    }
   ],
   "source": [
    "# step 1 and 2\n",
    "n = int(input('Enter an integer n and I will compute n! '))\n",
    "# some (debug/pretty) printing\n",
    "print(n, '! = ', sep='', end='')\n",
    "# step 3a (we don't do this in our heads)\n",
    "factorial = n # start with our running product being n\n",
    "# more pretty printing\n",
    "print(n, '* ', end='')\n",
    "\n",
    "# step 4\n",
    "for num in range(n-1, 0, -1):\n",
    "    print(num, '* ', end='')\n",
    "    # step 4a\n",
    "    factorial = factorial * num\n",
    "\n",
    "# print final result\n",
    "print('=', factorial)"
   ]
  },
  {
   "cell_type": "code",
   "execution_count": 45,
   "id": "af317df9",
   "metadata": {},
   "outputs": [
    {
     "name": "stdout",
     "output_type": "stream",
     "text": [
      "Enter an integer n and I will compute n! 52\n",
      "52! = 1 * 2 * 3 * 4 * 5 * 6 * 7 * 8 * 9 * 10 * 11 * 12 * 13 * 14 * 15 * 16 * 17 * 18 * 19 * 20 * 21 * 22 * 23 * 24 * 25 * 26 * 27 * 28 * 29 * 30 * 31 * 32 * 33 * 34 * 35 * 36 * 37 * 38 * 39 * 40 * 41 * 42 * 43 * 44 * 45 * 46 * 47 * 48 * 49 * 50 * 51 * 52 * = 80658175170943878571660636856403766975289505440883277824000000000000\n"
     ]
    }
   ],
   "source": [
    "# this time we will count UP instead of down\n",
    "# step 1 and 2\n",
    "n = int(input('Enter an integer n and I will compute n! '))\n",
    "# some (debug/pretty) printing\n",
    "print(n, '! = ', sep='', end='')\n",
    "# step 3a (we don't do this in our heads)\n",
    "factorial = 1 # start with our running product being 1\n",
    "# more pretty printing\n",
    "print(factorial, '* ', end='')\n",
    "\n",
    "# step 4\n",
    "for num in range(2, n + 1): # 2..n\n",
    "    print(num, '* ', end='')\n",
    "    # step 4a\n",
    "    factorial = factorial * num\n",
    "\n",
    "# print final result\n",
    "print('=', factorial)"
   ]
  },
  {
   "cell_type": "code",
   "execution_count": 1,
   "id": "233bafb0",
   "metadata": {},
   "outputs": [
    {
     "name": "stdout",
     "output_type": "stream",
     "text": [
      "Enter an integer n and I will tell you n! 5\n"
     ]
    }
   ],
   "source": [
    "n = input('Enter an integer n and I will tell you n! ')"
   ]
  },
  {
   "cell_type": "code",
   "execution_count": 2,
   "id": "e90dd241",
   "metadata": {},
   "outputs": [
    {
     "data": {
      "text/plain": [
       "'5'"
      ]
     },
     "execution_count": 2,
     "metadata": {},
     "output_type": "execute_result"
    }
   ],
   "source": [
    "n"
   ]
  },
  {
   "cell_type": "code",
   "execution_count": 4,
   "id": "6fd7c86e",
   "metadata": {},
   "outputs": [
    {
     "name": "stdout",
     "output_type": "stream",
     "text": [
      "Enter a word: haberdashery\n"
     ]
    }
   ],
   "source": [
    "word = input('Enter a word: ')"
   ]
  },
  {
   "cell_type": "code",
   "execution_count": 5,
   "id": "7ba2759d",
   "metadata": {},
   "outputs": [
    {
     "data": {
      "text/plain": [
       "'haberdashery'"
      ]
     },
     "execution_count": 5,
     "metadata": {},
     "output_type": "execute_result"
    }
   ],
   "source": [
    "word"
   ]
  },
  {
   "cell_type": "code",
   "execution_count": 15,
   "id": "417a8860",
   "metadata": {},
   "outputs": [
    {
     "name": "stdout",
     "output_type": "stream",
     "text": [
      "Enter a number: haha\n"
     ]
    },
    {
     "ename": "ValueError",
     "evalue": "invalid literal for int() with base 10: 'haha'",
     "output_type": "error",
     "traceback": [
      "\u001b[0;31m---------------------------------------------------------------------------\u001b[0m",
      "\u001b[0;31mValueError\u001b[0m                                Traceback (most recent call last)",
      "Input \u001b[0;32mIn [15]\u001b[0m, in \u001b[0;36m<cell line: 1>\u001b[0;34m()\u001b[0m\n\u001b[0;32m----> 1\u001b[0m num \u001b[38;5;241m=\u001b[39m \u001b[38;5;28;43mint\u001b[39;49m\u001b[43m(\u001b[49m\u001b[38;5;28;43minput\u001b[39;49m\u001b[43m(\u001b[49m\u001b[38;5;124;43m'\u001b[39;49m\u001b[38;5;124;43mEnter a number: \u001b[39;49m\u001b[38;5;124;43m'\u001b[39;49m\u001b[43m)\u001b[49m\u001b[43m)\u001b[49m\n",
      "\u001b[0;31mValueError\u001b[0m: invalid literal for int() with base 10: 'haha'"
     ]
    }
   ],
   "source": [
    "num = int(input('Enter a number: '))"
   ]
  },
  {
   "cell_type": "code",
   "execution_count": 13,
   "id": "bfa99129",
   "metadata": {},
   "outputs": [
    {
     "data": {
      "text/plain": [
       "5"
      ]
     },
     "execution_count": 13,
     "metadata": {},
     "output_type": "execute_result"
    }
   ],
   "source": [
    "num"
   ]
  },
  {
   "cell_type": "code",
   "execution_count": 9,
   "id": "0b75676c",
   "metadata": {},
   "outputs": [],
   "source": [
    "num = int(num)"
   ]
  },
  {
   "cell_type": "code",
   "execution_count": 10,
   "id": "abd32c86",
   "metadata": {},
   "outputs": [
    {
     "data": {
      "text/plain": [
       "-4"
      ]
     },
     "execution_count": 10,
     "metadata": {},
     "output_type": "execute_result"
    }
   ],
   "source": [
    "num"
   ]
  },
  {
   "cell_type": "code",
   "execution_count": 11,
   "id": "4ec24b3b",
   "metadata": {},
   "outputs": [
    {
     "data": {
      "text/plain": [
       "45"
      ]
     },
     "execution_count": 11,
     "metadata": {},
     "output_type": "execute_result"
    }
   ],
   "source": [
    "int('45')"
   ]
  },
  {
   "cell_type": "code",
   "execution_count": 20,
   "id": "af62816f",
   "metadata": {},
   "outputs": [
    {
     "data": {
      "text/plain": [
       "120"
      ]
     },
     "execution_count": 20,
     "metadata": {},
     "output_type": "execute_result"
    }
   ],
   "source": [
    "5 * 4 * 3 * 2 * 1"
   ]
  },
  {
   "cell_type": "code",
   "execution_count": 18,
   "id": "0194351f",
   "metadata": {},
   "outputs": [],
   "source": [
    "# The 3 banes of existence for programmers are:\n",
    "# 1. uninitialized variables\n",
    "# 2. off by one errors"
   ]
  },
  {
   "cell_type": "code",
   "execution_count": 38,
   "id": "6d2f84aa",
   "metadata": {},
   "outputs": [
    {
     "name": "stdout",
     "output_type": "stream",
     "text": [
      "hello\n",
      "hello\n",
      "hello\n",
      "hello\n",
      "hello\n"
     ]
    }
   ],
   "source": [
    "for count in range(5): # 0..4\n",
    "    print('hello')"
   ]
  },
  {
   "cell_type": "code",
   "execution_count": 41,
   "id": "099ba7fa",
   "metadata": {},
   "outputs": [
    {
     "name": "stdout",
     "output_type": "stream",
     "text": [
      "2\n",
      "4\n",
      "6\n",
      "8\n",
      "10\n"
     ]
    }
   ],
   "source": [
    "for count in range(2, 11, 2):\n",
    "    print(count)"
   ]
  },
  {
   "cell_type": "code",
   "execution_count": 49,
   "id": "9934d9be",
   "metadata": {},
   "outputs": [
    {
     "name": "stdout",
     "output_type": "stream",
     "text": [
      "Enter first number: 34.56\n",
      "Enter operator: +\n",
      "Enter second number: 12.1\n"
     ]
    }
   ],
   "source": [
    "# simple calculator\n",
    "# add or subtract two numbers\n",
    "# 1. get a number from user\n",
    "# 2. get an operator user (+ or -)\n",
    "# 3. get a second number from user\n",
    "# 4. if operator is '+':\n",
    "#        print sum of both numbers\n",
    "#.   elif '-':\n",
    "#        print difference of both numbers\n",
    "\n",
    "# step 1\n",
    "num1 = float(input('Enter first number: '))\n",
    "# step 2\n",
    "operator = input('Enter operator: ')\n",
    "# step 3\n",
    "num2 = float(input('Enter second number: '))\n",
    "# step 4\n",
    "if "
   ]
  },
  {
   "cell_type": "code",
   "execution_count": 50,
   "id": "6156cbb2",
   "metadata": {},
   "outputs": [
    {
     "data": {
      "text/plain": [
       "(34.56, '+', 12.1)"
      ]
     },
     "execution_count": 50,
     "metadata": {},
     "output_type": "execute_result"
    }
   ],
   "source": [
    "num1, operator, num2"
   ]
  },
  {
   "cell_type": "code",
   "execution_count": null,
   "id": "b48be390",
   "metadata": {},
   "outputs": [],
   "source": [
    "# simple calculator, round 2\n",
    "# add or subtract two numbers\n",
    "# 1. get a number from user\n",
    "# 2. get an operator user (+ or -)\n",
    "# 3. get a second number from user\n",
    "# 4. if operator is '+':\n",
    "#        compute sum of both numbers\n",
    "#.   elif '-':\n",
    "#        compute difference of both numbers\n",
    "\n",
    "# step 1\n",
    "num1 = float(input('Enter first number: '))\n",
    "# step 2\n",
    "operator = input('Enter operator: ')\n",
    "# step 3\n",
    "num2 = float(input('Enter second number: '))\n",
    "\n",
    "# step 4\n",
    "if operator == \"+\": # if the user entered a +\n",
    "    answer = num1 + num2\n",
    "elif operator == \"-\":\n",
    "    answer = num1 - num2\n",
    "elif operator == '*':\n",
    "    answer = num1 * num2\n",
    "elif operator == '/':\n",
    "    answer = num1 / num2\n",
    "else: # they did not enter + or -\n",
    "    print('Bad operator!')\n",
    "\n",
    "print(answer)"
   ]
  },
  {
   "cell_type": "code",
   "execution_count": 52,
   "id": "b18de5b9",
   "metadata": {},
   "outputs": [
    {
     "name": "stdout",
     "output_type": "stream",
     "text": [
      "Enter a string/word/phrase: Haberdashery\n",
      "HHaabbeerrddaasshheerryy"
     ]
    }
   ],
   "source": [
    "# first program\n",
    "# 1. ask user for a string/word/phrase\n",
    "# 2. inspect each letter of the string:\n",
    "#.       print the letter twice\n",
    "\n",
    "# step 1\n",
    "string = input('Enter a string/word/phrase: ')\n",
    "# step 2\n",
    "for letter in string: # for each letter in the string\n",
    "    print(letter * 2, end='') # print the letter twice with NO NEWLINE"
   ]
  },
  {
   "cell_type": "code",
   "execution_count": 83,
   "id": "63137719",
   "metadata": {},
   "outputs": [
    {
     "name": "stdout",
     "output_type": "stream",
     "text": [
      "Enter a string/word/phrase: bbbb\n",
      "found a b\n",
      "found a b\n",
      "found a b\n",
      "found a b\n",
      "4\n"
     ]
    }
   ],
   "source": [
    "# 3rd program\n",
    "# 1. ask user for a string/word/phrase\n",
    "# 1a. create a variable to hold the count and set it to 0\n",
    "# 2. for each letter in the string:\n",
    "#.     if the letter is 'e':\n",
    "#.        add 1 to the count\n",
    "# 3. print the count\n",
    "\n",
    "# step 1\n",
    "string = input('Enter a string/word/phrase: ')\n",
    "# step 1a\n",
    "count = 0\n",
    "# step 2\n",
    "for letter in string:\n",
    "    if letter == 'b' or letter == 'B':\n",
    "        count = count + 1 # count += 1\n",
    "\n",
    "print(count)"
   ]
  },
  {
   "cell_type": "code",
   "execution_count": 85,
   "id": "521c3ffa",
   "metadata": {},
   "outputs": [
    {
     "name": "stdout",
     "output_type": "stream",
     "text": [
      "Enter a string/word/phrase: something\n"
     ]
    }
   ],
   "source": [
    "string = input('Enter a string/word/phrase: ')"
   ]
  },
  {
   "cell_type": "code",
   "execution_count": 70,
   "id": "93918a51",
   "metadata": {},
   "outputs": [
    {
     "name": "stdout",
     "output_type": "stream",
     "text": [
      "You entered: something\n"
     ]
    }
   ],
   "source": [
    "print('You entered:', string)"
   ]
  },
  {
   "cell_type": "code",
   "execution_count": 80,
   "id": "446c66a6",
   "metadata": {},
   "outputs": [
    {
     "name": "stdout",
     "output_type": "stream",
     "text": [
      "ssoommeetthhiinngg"
     ]
    }
   ],
   "source": [
    "for letter in string:\n",
    "    print(letter * 2, end='')"
   ]
  },
  {
   "cell_type": "code",
   "execution_count": 81,
   "id": "f1f433dd",
   "metadata": {},
   "outputs": [
    {
     "name": "stdout",
     "output_type": "stream",
     "text": [
      "ssoommeetthhiinngg"
     ]
    }
   ],
   "source": [
    "for letter in string:\n",
    "    print(letter, end=letter)"
   ]
  },
  {
   "cell_type": "code",
   "execution_count": 76,
   "id": "2009ac77",
   "metadata": {},
   "outputs": [
    {
     "name": "stdout",
     "output_type": "stream",
     "text": [
      "ssoommeetthhiinngg"
     ]
    }
   ],
   "source": [
    "for letter in string:\n",
    "    print(letter + letter, end='')"
   ]
  },
  {
   "cell_type": "code",
   "execution_count": 86,
   "id": "886f5e73",
   "metadata": {},
   "outputs": [
    {
     "data": {
      "text/plain": [
       "'something'"
      ]
     },
     "execution_count": 86,
     "metadata": {},
     "output_type": "execute_result"
    }
   ],
   "source": [
    "string"
   ]
  },
  {
   "cell_type": "code",
   "execution_count": 88,
   "id": "59104f3b",
   "metadata": {},
   "outputs": [
    {
     "name": "stdout",
     "output_type": "stream",
     "text": [
      "ssoommeetthhiinngg"
     ]
    }
   ],
   "source": [
    "for letter in string:\n",
    "    print(letter * 2, end='')"
   ]
  },
  {
   "cell_type": "code",
   "execution_count": 92,
   "id": "9515daf9",
   "metadata": {},
   "outputs": [
    {
     "name": "stdout",
     "output_type": "stream",
     "text": [
      "1\n",
      "5\n",
      "9\n"
     ]
    }
   ],
   "source": [
    "for num in range(1, 11, 4):\n",
    "    print(num)"
   ]
  },
  {
   "cell_type": "code",
   "execution_count": 93,
   "id": "b291c0e3",
   "metadata": {},
   "outputs": [
    {
     "name": "stdout",
     "output_type": "stream",
     "text": [
      "Enter a positive number: -4\n"
     ]
    }
   ],
   "source": [
    "num = int(input(\"Enter a positive number: \"))"
   ]
  },
  {
   "cell_type": "code",
   "execution_count": 94,
   "id": "0b92b765",
   "metadata": {},
   "outputs": [
    {
     "data": {
      "text/plain": [
       "-4"
      ]
     },
     "execution_count": 94,
     "metadata": {},
     "output_type": "execute_result"
    }
   ],
   "source": [
    "num"
   ]
  },
  {
   "cell_type": "code",
   "execution_count": 95,
   "id": "72bcc0b9",
   "metadata": {},
   "outputs": [],
   "source": [
    "# while the user has not entered a positive number\n",
    "#.    ask for a positive number"
   ]
  },
  {
   "cell_type": "code",
   "execution_count": 96,
   "id": "fc864612",
   "metadata": {},
   "outputs": [
    {
     "ename": "NameError",
     "evalue": "name 'number' is not defined",
     "output_type": "error",
     "traceback": [
      "\u001b[0;31m---------------------------------------------------------------------------\u001b[0m",
      "\u001b[0;31mNameError\u001b[0m                                 Traceback (most recent call last)",
      "Input \u001b[0;32mIn [96]\u001b[0m, in \u001b[0;36m<cell line: 1>\u001b[0;34m()\u001b[0m\n\u001b[0;32m----> 1\u001b[0m \u001b[38;5;28;01mwhile\u001b[39;00m \u001b[43mnumber\u001b[49m \u001b[38;5;241m<\u001b[39m \u001b[38;5;241m0\u001b[39m:\n\u001b[1;32m      2\u001b[0m     number \u001b[38;5;241m=\u001b[39m \u001b[38;5;28mint\u001b[39m(\u001b[38;5;28minput\u001b[39m(\u001b[38;5;124m'\u001b[39m\u001b[38;5;124mEnter a positive number: \u001b[39m\u001b[38;5;124m'\u001b[39m))\n",
      "\u001b[0;31mNameError\u001b[0m: name 'number' is not defined"
     ]
    }
   ],
   "source": [
    "while number < 0:\n",
    "    number = int(input('Enter a positive number: '))"
   ]
  },
  {
   "cell_type": "code",
   "execution_count": 98,
   "id": "d6670f1d",
   "metadata": {},
   "outputs": [
    {
     "name": "stdout",
     "output_type": "stream",
     "text": [
      "Enter a positive number: -99\n",
      "Enter a positive number: -6\n",
      "Enter a positive number: -3\n",
      "Enter a positive number: 5\n"
     ]
    }
   ],
   "source": [
    "number = -1 # priming the pump\n",
    "\n",
    "while number < 0:\n",
    "    number = int(input('Enter a positive number: '))"
   ]
  },
  {
   "cell_type": "code",
   "execution_count": 99,
   "id": "0ead56de",
   "metadata": {},
   "outputs": [
    {
     "data": {
      "text/plain": [
       "5"
      ]
     },
     "execution_count": 99,
     "metadata": {},
     "output_type": "execute_result"
    }
   ],
   "source": [
    "number"
   ]
  },
  {
   "cell_type": "code",
   "execution_count": 101,
   "id": "4b6bcf27",
   "metadata": {},
   "outputs": [
    {
     "name": "stdout",
     "output_type": "stream",
     "text": [
      "Enter a positive number: -5\n",
      "Do what I asked!\n",
      "Enter a positive number: -3\n",
      "Do what I asked!\n",
      "Enter a positive number: -6\n",
      "Do what I asked!\n",
      "Enter a positive number: 1\n"
     ]
    }
   ],
   "source": [
    "# Python 3.8 walrus operator\n",
    "# (you don't have to use this, so don't worry if it's confusing)\n",
    "while (number := int(input('Enter a positive number: '))) < 0:\n",
    "    print('Do what I asked!')"
   ]
  },
  {
   "cell_type": "code",
   "execution_count": 127,
   "id": "eec0e711",
   "metadata": {},
   "outputs": [
    {
     "name": "stdout",
     "output_type": "stream",
     "text": [
      "Enter a positive number: -5\n",
      "You failed 1 times!\n",
      "Enter a positive number: -3\n",
      "You failed 2 times!\n",
      "Enter a positive number: 5\n"
     ]
    }
   ],
   "source": [
    "for times in range(5): # \"do the following code 5 times\"\n",
    "    number = int(input('Enter a positive number: '))\n",
    "    if number > 0: # if number is positive, then we are done\n",
    "        break\n",
    "    print('You failed', times+1, 'times!')"
   ]
  },
  {
   "cell_type": "code",
   "execution_count": 102,
   "id": "c2db3be3",
   "metadata": {},
   "outputs": [
    {
     "data": {
      "text/plain": [
       "6"
      ]
     },
     "execution_count": 102,
     "metadata": {},
     "output_type": "execute_result"
    }
   ],
   "source": [
    "len('Python')"
   ]
  },
  {
   "cell_type": "code",
   "execution_count": 103,
   "id": "8cc50e52",
   "metadata": {},
   "outputs": [
    {
     "data": {
      "text/plain": [
       "6"
      ]
     },
     "execution_count": 103,
     "metadata": {},
     "output_type": "execute_result"
    }
   ],
   "source": [
    "len('Golang')"
   ]
  },
  {
   "cell_type": "code",
   "execution_count": 104,
   "id": "97710454",
   "metadata": {},
   "outputs": [
    {
     "data": {
      "text/plain": [
       "5"
      ]
     },
     "execution_count": 104,
     "metadata": {},
     "output_type": "execute_result"
    }
   ],
   "source": [
    "len('hello')"
   ]
  },
  {
   "cell_type": "code",
   "execution_count": 109,
   "id": "cd527ae7",
   "metadata": {},
   "outputs": [
    {
     "name": "stdout",
     "output_type": "stream",
     "text": [
      "65\n"
     ]
    }
   ],
   "source": [
    "import random # import the \"random\" module\n",
    "number = random.randint(1, 100) # generate a random number between 1 and 100\n",
    "print(number)"
   ]
  },
  {
   "cell_type": "code",
   "execution_count": 110,
   "id": "e05ad20a",
   "metadata": {},
   "outputs": [
    {
     "data": {
      "text/plain": [
       "53"
      ]
     },
     "execution_count": 110,
     "metadata": {},
     "output_type": "execute_result"
    }
   ],
   "source": [
    "random.randint(1, 100) # generate a random number between 1 and 100\n"
   ]
  },
  {
   "cell_type": "code",
   "execution_count": 112,
   "id": "a1efa4b8",
   "metadata": {},
   "outputs": [
    {
     "data": {
      "text/plain": [
       "73"
      ]
     },
     "execution_count": 112,
     "metadata": {},
     "output_type": "execute_result"
    }
   ],
   "source": [
    "random.randint(1, 100) # generate a random number between 1 and 100\n"
   ]
  },
  {
   "cell_type": "markdown",
   "id": "cddcae9d",
   "metadata": {},
   "source": [
    "## Lab: while loops\n",
    "1. write Python code which prompts the user to enter a 5-letter string\n",
    "  * it then reads input from the user and stops if the user did in fact enter a 5-letter string\n",
    "  * otherwise, it prints an error message, and once again asks the user to enter a 5-letter string\n",
    "2. write a Python program which picks a random number between 1 and 100 and asks the user to guess it\n",
    "  * if the user's guess is too high, say it's too high\n",
    "  * if the user's guess is too low, say it's too low\n",
    "  * if the user's guess is correct, say it's correct and stop looping\n",
    "  * you can use the code below to get a random number\n",
    "  \n",
    "  <pre><b>\n",
    "  import random\n",
    "  number = random.randint(1, 100)\n",
    "  </b></pre>"
   ]
  },
  {
   "cell_type": "code",
   "execution_count": null,
   "id": "3091fda7",
   "metadata": {},
   "outputs": [],
   "source": [
    "# program 1\n",
    "# 1. ask the user to enter a 5-letter string\n",
    "# 2. if the length of the word is not 5:\n",
    "#.        tell them to try again (go to step 1)\n",
    "\n",
    "# 0. create a word and put anything in it that's not 5 letters long (empty string)\n",
    "# 1. while the word is not 5 letters long:\n",
    "# 1a.     ask the user for a 5-letter word\n",
    "\n",
    "# program 2\n",
    "# 1. pick a random number 1..100\n",
    "# 2. prompt the user for a guess\n",
    "# 3. if guess is right...yay\n",
    "#.   elif guess too low...:\"too low\"\n",
    "#.   else \"too high\"\n",
    "\n",
    "# program 2\n",
    "# 1. pick a number 1..100\n",
    "# 1a. create variable guess\n",
    "# 2. while the user's guess is not the number we picked:\n",
    "#       3. prompt the user for a guess\n",
    "#.      3a. convert guess to int\n",
    "#       4. if too high say \"too high\"\n",
    "#.         elif too low say \"too low\"\n",
    "#.         else \"yay\""
   ]
  },
  {
   "cell_type": "code",
   "execution_count": 118,
   "id": "811064d7",
   "metadata": {},
   "outputs": [
    {
     "name": "stdout",
     "output_type": "stream",
     "text": [
      "Enter a 5-letter word: no\n",
      "Enter a 5-letter word: hello threre\n",
      "Enter a 5-letter word: oops\n",
      "Enter a 5-letter word: house\n"
     ]
    }
   ],
   "source": [
    "# program 1\n",
    "# step 0\n",
    "word = '' # prime the pump–we have to put *something* in this variable\n",
    "\n",
    "# step 1\n",
    "while len(word) != 5: # keep going as long as length of word is not 5\n",
    "    # step 1a \n",
    "    word = input('Enter a 5-letter word: ')"
   ]
  },
  {
   "cell_type": "code",
   "execution_count": 1,
   "id": "aa1aa370",
   "metadata": {},
   "outputs": [
    {
     "name": "stdout",
     "output_type": "stream",
     "text": [
      "What is your guess (1-100)? 50\n",
      "Too low!\n",
      "What is your guess (1-100)? 75\n",
      "Too high!\n",
      "What is your guess (1-100)? 62\n",
      "Too low!\n",
      "What is your guess (1-100)? 68\n",
      "Too low!\n",
      "What is your guess (1-100)? 72\n"
     ]
    }
   ],
   "source": [
    "# program 2\n",
    "# step 1\n",
    "import random\n",
    "number = random.randint(1, 100)\n",
    "#print('the secret number is', number)\n",
    "\n",
    "# step 1a\n",
    "guess = 0 # outside the range of the random numbers\n",
    "\n",
    "# step 2\n",
    "while guess != number: # once again, we have to create the guess variable before this...\n",
    "    # step 3, 3a\n",
    "    guess = int(input('What is your guess (1-100)? '))\n",
    "    # step 4\n",
    "    if guess > number:\n",
    "        print('Too high!')\n",
    "    elif guess < number:\n",
    "        print('Too low!')\n",
    "    else:\n",
    "        print('You got it!')"
   ]
  },
  {
   "cell_type": "markdown",
   "id": "e9bd7b30",
   "metadata": {},
   "source": [
    "## Lab: break/continue/else\n",
    "* modify your guessing game to add the option for the user to give up by typing a 0 as his or her guess:\n",
    "    * if the user enters a 0, exit the loop\n",
    "    * after the loop, we need to determine   \n",
    "    whether the user gave up or guessed the   \n",
    "    number correctly\n",
    "    * if gave up, print 'sorry you\n",
    "     gave up'\n",
    "    * if correct, print 'got it!'\n",
    "</pre>\n"
   ]
  },
  {
   "cell_type": "code",
   "execution_count": 8,
   "id": "5a3bd395",
   "metadata": {},
   "outputs": [
    {
     "name": "stdout",
     "output_type": "stream",
     "text": [
      "What is your guess (1-100, 0 to quit)? 0\n",
      "Sorry you are giving up!\n",
      "You guessed it!\n"
     ]
    }
   ],
   "source": [
    "# program 2\n",
    "# step 1\n",
    "import random\n",
    "number = random.randint(1, 100)\n",
    "#print('the secret number is', number)\n",
    "\n",
    "# step 1a\n",
    "guess = 0 # outside the range of the random numbers\n",
    "\n",
    "# step 2\n",
    "while guess != number: # once again, we have to create the guess variable before this...\n",
    "    # step 3, 3a\n",
    "    guess = int(input('What is your guess (1-100, 0 to quit)? '))\n",
    "    if guess == 0:\n",
    "        print('Sorry you are giving up!')\n",
    "        break\n",
    "    # step 4\n",
    "    if guess > number:\n",
    "        print('Too high!')\n",
    "    elif guess < number:\n",
    "        print('Too low!')\n",
    "else: # guess == number\n",
    "    print('You guessed it!')\n",
    "# break puts us here, i.e., we skip the (optional) else clause"
   ]
  },
  {
   "cell_type": "code",
   "execution_count": 24,
   "id": "d5a060ea",
   "metadata": {},
   "outputs": [
    {
     "name": "stdout",
     "output_type": "stream",
     "text": [
      "the secret number is 66\n",
      "What is your guess (1-100, 0 to quit)? 75\n",
      "Too high!\n",
      "...but you're close\n",
      "What is your guess (1-100, 0 to quit)? 56\n",
      "Too low!\n",
      "...but you're close\n",
      "What is your guess (1-100, 0 to quit)? 55\n",
      "Too low!\n",
      "What is your guess (1-100, 0 to quit)? 0\n",
      "Sorry you are giving up!\n"
     ]
    }
   ],
   "source": [
    "# program 2\n",
    "# step 1\n",
    "import random\n",
    "number = random.randint(1, 100)\n",
    "print('the secret number is', number)\n",
    "\n",
    "# step 1a\n",
    "guess = 0 # outside the range of the random numbers\n",
    "\n",
    "# step 2\n",
    "while guess != number: # once again, we have to create the guess variable before this...\n",
    "    # step 3, 3a\n",
    "    guess = int(input('What is your guess (1-100, 0 to quit)? '))\n",
    "    if guess == 0:\n",
    "        print('Sorry you are giving up!')\n",
    "        break\n",
    "    # step 4\n",
    "    if guess > number:\n",
    "        print('Too high!')\n",
    "    elif guess < number:\n",
    "        print('Too low!')\n",
    "    # tell user if guess is \"close\"\n",
    "    #difference = guess - number\n",
    "    #if difference in range(-10, 0) or difference in range(1, 11):\n",
    "    if abs(guess - number) <= 10:\n",
    "        print(\"...but you're close\")\n",
    "else: # guess == number\n",
    "    print('You guessed it!')\n",
    "# break puts us here, i.e., we skip the (optional) else clause"
   ]
  },
  {
   "cell_type": "code",
   "execution_count": 12,
   "id": "bc341227",
   "metadata": {},
   "outputs": [
    {
     "data": {
      "text/plain": [
       "True"
      ]
     },
     "execution_count": 12,
     "metadata": {},
     "output_type": "execute_result"
    }
   ],
   "source": [
    "-10 in range(-10, 11)"
   ]
  },
  {
   "cell_type": "code",
   "execution_count": 15,
   "id": "75f10332",
   "metadata": {},
   "outputs": [
    {
     "data": {
      "text/plain": [
       "False"
      ]
     },
     "execution_count": 15,
     "metadata": {},
     "output_type": "execute_result"
    }
   ],
   "source": [
    "0 in range(-10, -1) or 0 in range(1, 11)"
   ]
  },
  {
   "cell_type": "code",
   "execution_count": 22,
   "id": "4cf78374",
   "metadata": {},
   "outputs": [
    {
     "data": {
      "text/plain": [
       "5"
      ]
     },
     "execution_count": 22,
     "metadata": {},
     "output_type": "execute_result"
    }
   ],
   "source": [
    "abs(5)"
   ]
  },
  {
   "cell_type": "code",
   "execution_count": 23,
   "id": "cb8afc74",
   "metadata": {},
   "outputs": [
    {
     "data": {
      "text/plain": [
       "5"
      ]
     },
     "execution_count": 23,
     "metadata": {},
     "output_type": "execute_result"
    }
   ],
   "source": [
    "abs(-5)"
   ]
  },
  {
   "cell_type": "code",
   "execution_count": 6,
   "id": "2a861d32",
   "metadata": {},
   "outputs": [
    {
     "name": "stdout",
     "output_type": "stream",
     "text": [
      "the secret number is 99\n",
      "This is guess number 1\n",
      "What is your guess (1-100, 0 to quit)? 22\n",
      "Too low!\n",
      "This is guess number 2\n",
      "What is your guess (1-100, 0 to quit)? 0\n",
      "Sorry you are giving up!\n"
     ]
    }
   ],
   "source": [
    "# Let's modify it so the user is limited to 7 guesses\n",
    "\n",
    "import random\n",
    "number = random.randint(1, 100)\n",
    "print('the secret number is', number)\n",
    "\n",
    "# step 1a\n",
    "guess = 0 # outside the range of the random numbers\n",
    "\n",
    "# step 2\n",
    "for attempt in range(1, 8): # do this 7 times and then stop\n",
    "# once again, we have to create the guess variable before this...\n",
    "    # step 3, 3a\n",
    "    print('This is guess number', attempt)\n",
    "    guess = int(input('What is your guess (1-100, 0 to quit)? '))\n",
    "    if guess == 0:\n",
    "        print('Sorry you are giving up!')\n",
    "        break # leave the loop because they gave up\n",
    "    # step 4\n",
    "    if guess > number:\n",
    "        print('Too high!')\n",
    "    elif guess < number:\n",
    "        print('Too low!')\n",
    "    else:\n",
    "        print('You got it!')\n",
    "        break # leave the loop because they got it right\n",
    "    # tell user if guess is \"close\"\n",
    "    #difference = guess - number\n",
    "    #if difference in range(-10, 0) or difference in range(1, 11):\n",
    "    if abs(guess - number) <= 10:\n",
    "        print(\"...but you're close\")   \n",
    "else: # means we did not break\n",
    "    # if we got here, what does it mean?\n",
    "    # it means...they used all of their guesses and didn't get it right\n",
    "    print('Sorry, you used up all of your guesses!')\n",
    "        \n",
    "#else: # guess == number\n",
    "    #print('You guessed it!')\n",
    "# break puts us here, i.e., we skip the (optional) else clause"
   ]
  },
  {
   "cell_type": "code",
   "execution_count": 10,
   "id": "aee5c8e1",
   "metadata": {},
   "outputs": [
    {
     "name": "stdout",
     "output_type": "stream",
     "text": [
      "Should I (b)reak or (k)eep going?k\n",
      "Should I (b)reak or (k)eep going?k\n",
      "Should I (b)reak or (k)eep going?k\n",
      "Should I (b)reak or (k)eep going?k\n",
      "Should I (b)reak or (k)eep going?k\n",
      "we are in the else clause\n"
     ]
    }
   ],
   "source": [
    "for times in range(5):\n",
    "    answer = input('Should I (b)reak or (k)eep going?')\n",
    "    if answer == 'b':\n",
    "        print('break')\n",
    "        break\n",
    "else:\n",
    "    print('we are in the else clause')"
   ]
  },
  {
   "cell_type": "code",
   "execution_count": 24,
   "id": "945d9729",
   "metadata": {},
   "outputs": [
    {
     "name": "stdout",
     "output_type": "stream",
     "text": [
      "the secret number is 85\n",
      "This is guess number 1\n",
      "What is your guess (1-100, 0 to quit)? 1\n",
      "Too low!\n",
      "This is guess number 2\n",
      "What is your guess (1-100, 0 to quit)? 1\n",
      "Too low!\n",
      "This is guess number 3\n",
      "What is your guess (1-100, 0 to quit)? 1\n",
      "Too low!\n",
      "This is guess number 4\n",
      "What is your guess (1-100, 0 to quit)? 1\n",
      "Too low!\n",
      "This is guess number 5\n",
      "What is your guess (1-100, 0 to quit)? 1\n",
      "Too low!\n",
      "This is guess number 6\n",
      "What is your guess (1-100, 0 to quit)? 1\n",
      "Too low!\n",
      "This is guess number 7\n",
      "What is your guess (1-100, 0 to quit)? 1\n",
      "Too low!\n"
     ]
    }
   ],
   "source": [
    "# Let's modify it so the user is limited to 7 guesses\n",
    "\n",
    "import random\n",
    "number = random.randint(1, 100)\n",
    "print('the secret number is', number)\n",
    "\n",
    "# step 1a\n",
    "guess = 0 # outside the range of the random numbers\n",
    "\n",
    "# step 2\n",
    "for attempt in range(1, 8): # do this 7 times and then stop\n",
    "# once again, we have to create the guess variable before this...\n",
    "    # step 3, 3a\n",
    "    print('This is guess number', attempt)\n",
    "    guess = int(input('What is your guess (1-100, 0 to quit)? '))\n",
    "    if guess == 0:\n",
    "        print('Sorry you are giving up!')\n",
    "        break # leave the loop because they gave up\n",
    "    # step 4\n",
    "    if guess > number:\n",
    "        print('Too high!')\n",
    "    elif guess < number:\n",
    "        print('Too low!')\n",
    "    else:\n",
    "        print('You got it!')\n",
    "        break # leave the loop because they got it right\n",
    "    # tell user if guess is \"close\"\n",
    "    #difference = guess - number\n",
    "    #if difference in range(-10, 0) or difference in range(1, 11):\n",
    "    if abs(guess - number) <= 10:\n",
    "        print(\"...but you're close\")   \n",
    "\n",
    "print('attempt =', attempt)\n",
    "print('guess =', guess)\n",
    "print('number =', number)\n",
    "\n",
    "if (attempt == 7) and (guess != number): # Sha-Ron's way\n",
    "if (guess != 0) and (guess != number): # DWS's way\n",
    "    print('Sorry, you used up all of you guesses!')"
   ]
  },
  {
   "cell_type": "code",
   "execution_count": 27,
   "id": "e4f8d4a6",
   "metadata": {},
   "outputs": [
    {
     "name": "stdout",
     "output_type": "stream",
     "text": [
      "something else\n"
     ]
    }
   ],
   "source": [
    "x = 51\n",
    "y = 51\n",
    "\n",
    "# if statements\n",
    "if x > y: # this part is required\n",
    "    print(x, '>', y)\n",
    "# zero or more elif statements following it\n",
    "elif y > x:\n",
    "    print(y, '>', x)\n",
    "# optional else clause\n",
    "else:\n",
    "    print('something else')"
   ]
  },
  {
   "cell_type": "code",
   "execution_count": 28,
   "id": "db77add5",
   "metadata": {},
   "outputs": [
    {
     "name": "stdout",
     "output_type": "stream",
     "text": [
      "5\n",
      "10\n",
      "15\n",
      "20\n",
      "25\n",
      "30\n",
      "35\n",
      "40\n",
      "45\n",
      "50\n",
      "55\n",
      "60\n",
      "65\n",
      "70\n",
      "75\n",
      "80\n",
      "85\n",
      "90\n",
      "95\n",
      "100\n"
     ]
    }
   ],
   "source": [
    "# for loops are used for counting, e.g., 5 to 100 by 5s\n",
    "for count in range(5, 101, 5):\n",
    "    print(count)"
   ]
  },
  {
   "cell_type": "code",
   "execution_count": 29,
   "id": "1f2457f3",
   "metadata": {},
   "outputs": [
    {
     "name": "stdout",
     "output_type": "stream",
     "text": [
      "s\n",
      "t\n",
      "r\n",
      "i\n",
      "n\n",
      "g\n"
     ]
    }
   ],
   "source": [
    "# for loops are used to iterare through (or visit each item in) a container\n",
    "for letter in 'string':\n",
    "    print(letter)"
   ]
  },
  {
   "cell_type": "code",
   "execution_count": 30,
   "id": "4b635926",
   "metadata": {},
   "outputs": [
    {
     "name": "stdout",
     "output_type": "stream",
     "text": [
      "5 * 7 = 35\n"
     ]
    }
   ],
   "source": [
    "x = 5\n",
    "y = 7\n",
    "print(x, '*', y, '=', x * y)"
   ]
  },
  {
   "cell_type": "code",
   "execution_count": 31,
   "id": "9f2bf011",
   "metadata": {},
   "outputs": [
    {
     "name": "stdout",
     "output_type": "stream",
     "text": [
      "5 * 7 = 35\n"
     ]
    }
   ],
   "source": [
    "print(f'{x} * {y} = {x * y}')"
   ]
  },
  {
   "cell_type": "code",
   "execution_count": 33,
   "id": "41490531",
   "metadata": {},
   "outputs": [
    {
     "name": "stdout",
     "output_type": "stream",
     "text": [
      "5! = 120\n"
     ]
    }
   ],
   "source": [
    "import math\n",
    "n = 5\n",
    "print(f'{n}! = {math.factorial(n)}')"
   ]
  },
  {
   "cell_type": "code",
   "execution_count": 35,
   "id": "bcf6627c",
   "metadata": {},
   "outputs": [
    {
     "name": "stdout",
     "output_type": "stream",
     "text": [
      "{n}! = {math.factorial(n)}\n"
     ]
    }
   ],
   "source": [
    "print('{n}! = {math.factorial(n)}')"
   ]
  },
  {
   "cell_type": "code",
   "execution_count": 37,
   "id": "4a57e1fb",
   "metadata": {},
   "outputs": [
    {
     "name": "stdout",
     "output_type": "stream",
     "text": [
      "The inventor of COBOL was Grace Hopper\n"
     ]
    }
   ],
   "source": [
    "first = 'Grace'\n",
    "last = 'Hopper'\n",
    "print(f'The inventor of COBOL was {first} {last}')"
   ]
  },
  {
   "cell_type": "markdown",
   "id": "76e3c6e0",
   "metadata": {},
   "source": [
    "## Lab: Finding Prime Numbers\n",
    "* write a program to print out the prime numbers between 10 and 30\n",
    "* a number is prime if it's only divisible by 1 and itself\n",
    "* algorithm\n",
    "  * for each number 10 to 30\n",
    "    * try to divide in all of the numbers up to (but not including) the current number\n",
    "    * if any lower number divides in evenly, the number is not prime\n",
    "    * if NONE of the lower numbers divide in evenly, the number IS prime\n",
    "* later, if there's time, we'll look at another way to find prime numbers that was discovered by Eratosthenes"
   ]
  },
  {
   "cell_type": "code",
   "execution_count": 41,
   "id": "d07ee985",
   "metadata": {},
   "outputs": [
    {
     "name": "stdout",
     "output_type": "stream",
     "text": [
      "10\n",
      "11\n",
      "12\n",
      "13\n",
      "14\n",
      "15\n",
      "16\n",
      "17\n",
      "18\n",
      "19\n",
      "20\n",
      "21\n",
      "22\n",
      "23\n",
      "24\n",
      "25\n",
      "26\n",
      "27\n",
      "28\n",
      "29\n",
      "30\n"
     ]
    }
   ],
   "source": [
    "for number in range(10, 31):\n",
    "    print(number)"
   ]
  },
  {
   "cell_type": "code",
   "execution_count": 49,
   "id": "d1dcb4ac",
   "metadata": {},
   "outputs": [
    {
     "name": "stdout",
     "output_type": "stream",
     "text": [
      "10 is divisible by 2\n",
      "11 is PRIME\n",
      "12 is divisible by 2\n",
      "13 is PRIME\n",
      "14 is divisible by 2\n",
      "15 is divisible by 3\n",
      "16 is divisible by 2\n",
      "17 is PRIME\n",
      "18 is divisible by 2\n",
      "19 is PRIME\n",
      "20 is divisible by 2\n",
      "21 is divisible by 3\n",
      "22 is divisible by 2\n",
      "23 is PRIME\n",
      "24 is divisible by 2\n",
      "25 is divisible by 5\n",
      "26 is divisible by 2\n",
      "27 is divisible by 3\n",
      "28 is divisible by 2\n",
      "29 is PRIME\n",
      "30 is divisible by 2\n",
      "31 is PRIME\n",
      "32 is divisible by 2\n",
      "33 is divisible by 3\n",
      "34 is divisible by 2\n",
      "35 is divisible by 5\n",
      "36 is divisible by 2\n",
      "37 is PRIME\n",
      "38 is divisible by 2\n",
      "39 is divisible by 3\n",
      "40 is divisible by 2\n",
      "41 is PRIME\n",
      "42 is divisible by 2\n",
      "43 is PRIME\n",
      "44 is divisible by 2\n",
      "45 is divisible by 3\n",
      "46 is divisible by 2\n",
      "47 is PRIME\n",
      "48 is divisible by 2\n",
      "49 is divisible by 7\n",
      "50 is divisible by 2\n",
      "51 is divisible by 3\n",
      "52 is divisible by 2\n",
      "53 is PRIME\n",
      "54 is divisible by 2\n",
      "55 is divisible by 5\n",
      "56 is divisible by 2\n",
      "57 is divisible by 3\n",
      "58 is divisible by 2\n",
      "59 is PRIME\n",
      "60 is divisible by 2\n",
      "61 is PRIME\n",
      "62 is divisible by 2\n",
      "63 is divisible by 3\n",
      "64 is divisible by 2\n",
      "65 is divisible by 5\n",
      "66 is divisible by 2\n",
      "67 is PRIME\n",
      "68 is divisible by 2\n",
      "69 is divisible by 3\n",
      "70 is divisible by 2\n",
      "71 is PRIME\n",
      "72 is divisible by 2\n",
      "73 is PRIME\n",
      "74 is divisible by 2\n",
      "75 is divisible by 3\n",
      "76 is divisible by 2\n",
      "77 is divisible by 7\n",
      "78 is divisible by 2\n",
      "79 is PRIME\n",
      "80 is divisible by 2\n",
      "81 is divisible by 3\n",
      "82 is divisible by 2\n",
      "83 is PRIME\n",
      "84 is divisible by 2\n",
      "85 is divisible by 5\n",
      "86 is divisible by 2\n",
      "87 is divisible by 3\n",
      "88 is divisible by 2\n",
      "89 is PRIME\n",
      "90 is divisible by 2\n",
      "91 is divisible by 7\n",
      "92 is divisible by 2\n",
      "93 is divisible by 3\n",
      "94 is divisible by 2\n",
      "95 is divisible by 5\n",
      "96 is divisible by 2\n",
      "97 is PRIME\n",
      "98 is divisible by 2\n",
      "99 is divisible by 3\n",
      "100 is divisible by 2\n",
      "101 is PRIME\n",
      "102 is divisible by 2\n",
      "103 is PRIME\n",
      "104 is divisible by 2\n",
      "105 is divisible by 3\n",
      "106 is divisible by 2\n",
      "107 is PRIME\n",
      "108 is divisible by 2\n",
      "109 is PRIME\n",
      "110 is divisible by 2\n",
      "111 is divisible by 3\n",
      "112 is divisible by 2\n",
      "113 is PRIME\n",
      "114 is divisible by 2\n",
      "115 is divisible by 5\n",
      "116 is divisible by 2\n",
      "117 is divisible by 3\n",
      "118 is divisible by 2\n",
      "119 is divisible by 7\n",
      "120 is divisible by 2\n",
      "121 is divisible by 11\n",
      "122 is divisible by 2\n",
      "123 is divisible by 3\n",
      "124 is divisible by 2\n",
      "125 is divisible by 5\n",
      "126 is divisible by 2\n",
      "127 is PRIME\n",
      "128 is divisible by 2\n",
      "129 is divisible by 3\n",
      "130 is divisible by 2\n",
      "131 is PRIME\n",
      "132 is divisible by 2\n",
      "133 is divisible by 7\n",
      "134 is divisible by 2\n",
      "135 is divisible by 3\n",
      "136 is divisible by 2\n",
      "137 is PRIME\n",
      "138 is divisible by 2\n",
      "139 is PRIME\n",
      "140 is divisible by 2\n",
      "141 is divisible by 3\n",
      "142 is divisible by 2\n",
      "143 is divisible by 11\n",
      "144 is divisible by 2\n",
      "145 is divisible by 5\n",
      "146 is divisible by 2\n",
      "147 is divisible by 3\n",
      "148 is divisible by 2\n",
      "149 is PRIME\n",
      "150 is divisible by 2\n",
      "151 is PRIME\n",
      "152 is divisible by 2\n",
      "153 is divisible by 3\n",
      "154 is divisible by 2\n",
      "155 is divisible by 5\n",
      "156 is divisible by 2\n",
      "157 is PRIME\n",
      "158 is divisible by 2\n",
      "159 is divisible by 3\n",
      "160 is divisible by 2\n",
      "161 is divisible by 7\n",
      "162 is divisible by 2\n",
      "163 is PRIME\n",
      "164 is divisible by 2\n",
      "165 is divisible by 3\n",
      "166 is divisible by 2\n",
      "167 is PRIME\n",
      "168 is divisible by 2\n",
      "169 is divisible by 13\n",
      "170 is divisible by 2\n",
      "171 is divisible by 3\n",
      "172 is divisible by 2\n",
      "173 is PRIME\n",
      "174 is divisible by 2\n",
      "175 is divisible by 5\n",
      "176 is divisible by 2\n",
      "177 is divisible by 3\n",
      "178 is divisible by 2\n",
      "179 is PRIME\n",
      "180 is divisible by 2\n",
      "181 is PRIME\n",
      "182 is divisible by 2\n",
      "183 is divisible by 3\n",
      "184 is divisible by 2\n",
      "185 is divisible by 5\n",
      "186 is divisible by 2\n",
      "187 is divisible by 11\n",
      "188 is divisible by 2\n",
      "189 is divisible by 3\n",
      "190 is divisible by 2\n",
      "191 is PRIME\n",
      "192 is divisible by 2\n",
      "193 is PRIME\n",
      "194 is divisible by 2\n",
      "195 is divisible by 3\n",
      "196 is divisible by 2\n",
      "197 is PRIME\n",
      "198 is divisible by 2\n",
      "199 is PRIME\n",
      "200 is divisible by 2\n",
      "201 is divisible by 3\n",
      "202 is divisible by 2\n",
      "203 is divisible by 7\n",
      "204 is divisible by 2\n",
      "205 is divisible by 5\n",
      "206 is divisible by 2\n",
      "207 is divisible by 3\n",
      "208 is divisible by 2\n",
      "209 is divisible by 11\n",
      "210 is divisible by 2\n",
      "211 is PRIME\n",
      "212 is divisible by 2\n",
      "213 is divisible by 3\n",
      "214 is divisible by 2\n",
      "215 is divisible by 5\n",
      "216 is divisible by 2\n",
      "217 is divisible by 7\n",
      "218 is divisible by 2\n",
      "219 is divisible by 3\n",
      "220 is divisible by 2\n",
      "221 is divisible by 13\n",
      "222 is divisible by 2\n",
      "223 is PRIME\n",
      "224 is divisible by 2\n",
      "225 is divisible by 3\n",
      "226 is divisible by 2\n",
      "227 is PRIME\n",
      "228 is divisible by 2\n",
      "229 is PRIME\n",
      "230 is divisible by 2\n",
      "231 is divisible by 3\n",
      "232 is divisible by 2\n",
      "233 is PRIME\n",
      "234 is divisible by 2\n",
      "235 is divisible by 5\n",
      "236 is divisible by 2\n",
      "237 is divisible by 3\n",
      "238 is divisible by 2\n",
      "239 is PRIME\n",
      "240 is divisible by 2\n",
      "241 is PRIME\n",
      "242 is divisible by 2\n",
      "243 is divisible by 3\n",
      "244 is divisible by 2\n",
      "245 is divisible by 5\n",
      "246 is divisible by 2\n",
      "247 is divisible by 13\n",
      "248 is divisible by 2\n",
      "249 is divisible by 3\n",
      "250 is divisible by 2\n",
      "251 is PRIME\n",
      "252 is divisible by 2\n",
      "253 is divisible by 11\n",
      "254 is divisible by 2\n",
      "255 is divisible by 3\n",
      "256 is divisible by 2\n",
      "257 is PRIME\n",
      "258 is divisible by 2\n",
      "259 is divisible by 7\n",
      "260 is divisible by 2\n",
      "261 is divisible by 3\n",
      "262 is divisible by 2\n",
      "263 is PRIME\n",
      "264 is divisible by 2\n",
      "265 is divisible by 5\n",
      "266 is divisible by 2\n",
      "267 is divisible by 3\n",
      "268 is divisible by 2\n",
      "269 is PRIME\n",
      "270 is divisible by 2\n",
      "271 is PRIME\n",
      "272 is divisible by 2\n",
      "273 is divisible by 3\n",
      "274 is divisible by 2\n",
      "275 is divisible by 5\n",
      "276 is divisible by 2\n",
      "277 is PRIME\n",
      "278 is divisible by 2\n",
      "279 is divisible by 3\n",
      "280 is divisible by 2\n",
      "281 is PRIME\n",
      "282 is divisible by 2\n",
      "283 is PRIME\n",
      "284 is divisible by 2\n",
      "285 is divisible by 3\n",
      "286 is divisible by 2\n",
      "287 is divisible by 7\n",
      "288 is divisible by 2\n",
      "289 is divisible by 17\n",
      "290 is divisible by 2\n",
      "291 is divisible by 3\n",
      "292 is divisible by 2\n",
      "293 is PRIME\n",
      "294 is divisible by 2\n",
      "295 is divisible by 5\n",
      "296 is divisible by 2\n",
      "297 is divisible by 3\n",
      "298 is divisible by 2\n",
      "299 is divisible by 13\n",
      "300 is divisible by 2\n",
      "301 is divisible by 7\n",
      "302 is divisible by 2\n",
      "303 is divisible by 3\n",
      "304 is divisible by 2\n",
      "305 is divisible by 5\n",
      "306 is divisible by 2\n",
      "307 is PRIME\n",
      "308 is divisible by 2\n",
      "309 is divisible by 3\n",
      "310 is divisible by 2\n",
      "311 is PRIME\n",
      "312 is divisible by 2\n",
      "313 is PRIME\n",
      "314 is divisible by 2\n",
      "315 is divisible by 3\n",
      "316 is divisible by 2\n",
      "317 is PRIME\n",
      "318 is divisible by 2\n",
      "319 is divisible by 11\n",
      "320 is divisible by 2\n",
      "321 is divisible by 3\n",
      "322 is divisible by 2\n",
      "323 is divisible by 17\n",
      "324 is divisible by 2\n",
      "325 is divisible by 5\n",
      "326 is divisible by 2\n",
      "327 is divisible by 3\n",
      "328 is divisible by 2\n",
      "329 is divisible by 7\n",
      "330 is divisible by 2\n",
      "331 is PRIME\n",
      "332 is divisible by 2\n",
      "333 is divisible by 3\n",
      "334 is divisible by 2\n",
      "335 is divisible by 5\n",
      "336 is divisible by 2\n",
      "337 is PRIME\n",
      "338 is divisible by 2\n",
      "339 is divisible by 3\n",
      "340 is divisible by 2\n",
      "341 is divisible by 11\n",
      "342 is divisible by 2\n",
      "343 is divisible by 7\n",
      "344 is divisible by 2\n",
      "345 is divisible by 3\n",
      "346 is divisible by 2\n",
      "347 is PRIME\n",
      "348 is divisible by 2\n",
      "349 is PRIME\n",
      "350 is divisible by 2\n",
      "351 is divisible by 3\n",
      "352 is divisible by 2\n",
      "353 is PRIME\n",
      "354 is divisible by 2\n",
      "355 is divisible by 5\n",
      "356 is divisible by 2\n",
      "357 is divisible by 3\n",
      "358 is divisible by 2\n",
      "359 is PRIME\n",
      "360 is divisible by 2\n",
      "361 is divisible by 19\n",
      "362 is divisible by 2\n",
      "363 is divisible by 3\n",
      "364 is divisible by 2\n",
      "365 is divisible by 5\n",
      "366 is divisible by 2\n",
      "367 is PRIME\n",
      "368 is divisible by 2\n",
      "369 is divisible by 3\n",
      "370 is divisible by 2\n",
      "371 is divisible by 7\n",
      "372 is divisible by 2\n",
      "373 is PRIME\n",
      "374 is divisible by 2\n",
      "375 is divisible by 3\n",
      "376 is divisible by 2\n",
      "377 is divisible by 13\n",
      "378 is divisible by 2\n",
      "379 is PRIME\n",
      "380 is divisible by 2\n",
      "381 is divisible by 3\n",
      "382 is divisible by 2\n",
      "383 is PRIME\n",
      "384 is divisible by 2\n",
      "385 is divisible by 5\n",
      "386 is divisible by 2\n",
      "387 is divisible by 3\n",
      "388 is divisible by 2\n",
      "389 is PRIME\n",
      "390 is divisible by 2\n",
      "391 is divisible by 17\n",
      "392 is divisible by 2\n",
      "393 is divisible by 3\n",
      "394 is divisible by 2\n",
      "395 is divisible by 5\n",
      "396 is divisible by 2\n",
      "397 is PRIME\n",
      "398 is divisible by 2\n",
      "399 is divisible by 3\n",
      "400 is divisible by 2\n",
      "401 is PRIME\n",
      "402 is divisible by 2\n",
      "403 is divisible by 13\n",
      "404 is divisible by 2\n",
      "405 is divisible by 3\n",
      "406 is divisible by 2\n",
      "407 is divisible by 11\n",
      "408 is divisible by 2\n",
      "409 is PRIME\n",
      "410 is divisible by 2\n",
      "411 is divisible by 3\n",
      "412 is divisible by 2\n",
      "413 is divisible by 7\n",
      "414 is divisible by 2\n",
      "415 is divisible by 5\n",
      "416 is divisible by 2\n",
      "417 is divisible by 3\n",
      "418 is divisible by 2\n",
      "419 is PRIME\n",
      "420 is divisible by 2\n",
      "421 is PRIME\n",
      "422 is divisible by 2\n",
      "423 is divisible by 3\n",
      "424 is divisible by 2\n",
      "425 is divisible by 5\n",
      "426 is divisible by 2\n",
      "427 is divisible by 7\n",
      "428 is divisible by 2\n",
      "429 is divisible by 3\n",
      "430 is divisible by 2\n",
      "431 is PRIME\n",
      "432 is divisible by 2\n",
      "433 is PRIME\n",
      "434 is divisible by 2\n",
      "435 is divisible by 3\n",
      "436 is divisible by 2\n",
      "437 is divisible by 19\n",
      "438 is divisible by 2\n",
      "439 is PRIME\n",
      "440 is divisible by 2\n",
      "441 is divisible by 3\n",
      "442 is divisible by 2\n",
      "443 is PRIME\n",
      "444 is divisible by 2\n",
      "445 is divisible by 5\n",
      "446 is divisible by 2\n",
      "447 is divisible by 3\n",
      "448 is divisible by 2\n",
      "449 is PRIME\n",
      "450 is divisible by 2\n",
      "451 is divisible by 11\n",
      "452 is divisible by 2\n",
      "453 is divisible by 3\n",
      "454 is divisible by 2\n",
      "455 is divisible by 5\n",
      "456 is divisible by 2\n",
      "457 is PRIME\n",
      "458 is divisible by 2\n",
      "459 is divisible by 3\n",
      "460 is divisible by 2\n",
      "461 is PRIME\n",
      "462 is divisible by 2\n",
      "463 is PRIME\n",
      "464 is divisible by 2\n",
      "465 is divisible by 3\n",
      "466 is divisible by 2\n",
      "467 is PRIME\n",
      "468 is divisible by 2\n",
      "469 is divisible by 7\n",
      "470 is divisible by 2\n",
      "471 is divisible by 3\n",
      "472 is divisible by 2\n",
      "473 is divisible by 11\n",
      "474 is divisible by 2\n",
      "475 is divisible by 5\n",
      "476 is divisible by 2\n",
      "477 is divisible by 3\n",
      "478 is divisible by 2\n",
      "479 is PRIME\n",
      "480 is divisible by 2\n",
      "481 is divisible by 13\n",
      "482 is divisible by 2\n",
      "483 is divisible by 3\n",
      "484 is divisible by 2\n",
      "485 is divisible by 5\n",
      "486 is divisible by 2\n",
      "487 is PRIME\n",
      "488 is divisible by 2\n",
      "489 is divisible by 3\n",
      "490 is divisible by 2\n",
      "491 is PRIME\n",
      "492 is divisible by 2\n",
      "493 is divisible by 17\n",
      "494 is divisible by 2\n",
      "495 is divisible by 3\n",
      "496 is divisible by 2\n",
      "497 is divisible by 7\n",
      "498 is divisible by 2\n",
      "499 is PRIME\n",
      "500 is divisible by 2\n",
      "501 is divisible by 3\n",
      "502 is divisible by 2\n",
      "503 is PRIME\n",
      "504 is divisible by 2\n",
      "505 is divisible by 5\n",
      "506 is divisible by 2\n",
      "507 is divisible by 3\n",
      "508 is divisible by 2\n",
      "509 is PRIME\n",
      "510 is divisible by 2\n",
      "511 is divisible by 7\n",
      "512 is divisible by 2\n",
      "513 is divisible by 3\n",
      "514 is divisible by 2\n",
      "515 is divisible by 5\n",
      "516 is divisible by 2\n",
      "517 is divisible by 11\n",
      "518 is divisible by 2\n",
      "519 is divisible by 3\n",
      "520 is divisible by 2\n",
      "521 is PRIME\n",
      "522 is divisible by 2\n",
      "523 is PRIME\n",
      "524 is divisible by 2\n",
      "525 is divisible by 3\n",
      "526 is divisible by 2\n",
      "527 is divisible by 17\n",
      "528 is divisible by 2\n",
      "529 is divisible by 23\n",
      "530 is divisible by 2\n",
      "531 is divisible by 3\n",
      "532 is divisible by 2\n",
      "533 is divisible by 13\n",
      "534 is divisible by 2\n",
      "535 is divisible by 5\n",
      "536 is divisible by 2\n",
      "537 is divisible by 3\n",
      "538 is divisible by 2\n",
      "539 is divisible by 7\n",
      "540 is divisible by 2\n",
      "541 is PRIME\n",
      "542 is divisible by 2\n",
      "543 is divisible by 3\n",
      "544 is divisible by 2\n",
      "545 is divisible by 5\n",
      "546 is divisible by 2\n",
      "547 is PRIME\n",
      "548 is divisible by 2\n",
      "549 is divisible by 3\n",
      "550 is divisible by 2\n",
      "551 is divisible by 19\n",
      "552 is divisible by 2\n",
      "553 is divisible by 7\n",
      "554 is divisible by 2\n",
      "555 is divisible by 3\n",
      "556 is divisible by 2\n",
      "557 is PRIME\n",
      "558 is divisible by 2\n",
      "559 is divisible by 13\n",
      "560 is divisible by 2\n",
      "561 is divisible by 3\n",
      "562 is divisible by 2\n",
      "563 is PRIME\n",
      "564 is divisible by 2\n",
      "565 is divisible by 5\n",
      "566 is divisible by 2\n",
      "567 is divisible by 3\n",
      "568 is divisible by 2\n",
      "569 is PRIME\n",
      "570 is divisible by 2\n",
      "571 is PRIME\n",
      "572 is divisible by 2\n",
      "573 is divisible by 3\n",
      "574 is divisible by 2\n",
      "575 is divisible by 5\n",
      "576 is divisible by 2\n",
      "577 is PRIME\n",
      "578 is divisible by 2\n",
      "579 is divisible by 3\n",
      "580 is divisible by 2\n",
      "581 is divisible by 7\n",
      "582 is divisible by 2\n",
      "583 is divisible by 11\n",
      "584 is divisible by 2\n",
      "585 is divisible by 3\n",
      "586 is divisible by 2\n",
      "587 is PRIME\n",
      "588 is divisible by 2\n",
      "589 is divisible by 19\n",
      "590 is divisible by 2\n",
      "591 is divisible by 3\n",
      "592 is divisible by 2\n",
      "593 is PRIME\n",
      "594 is divisible by 2\n",
      "595 is divisible by 5\n",
      "596 is divisible by 2\n",
      "597 is divisible by 3\n",
      "598 is divisible by 2\n",
      "599 is PRIME\n",
      "600 is divisible by 2\n",
      "601 is PRIME\n",
      "602 is divisible by 2\n",
      "603 is divisible by 3\n",
      "604 is divisible by 2\n",
      "605 is divisible by 5\n",
      "606 is divisible by 2\n",
      "607 is PRIME\n",
      "608 is divisible by 2\n",
      "609 is divisible by 3\n",
      "610 is divisible by 2\n",
      "611 is divisible by 13\n",
      "612 is divisible by 2\n",
      "613 is PRIME\n",
      "614 is divisible by 2\n",
      "615 is divisible by 3\n",
      "616 is divisible by 2\n",
      "617 is PRIME\n",
      "618 is divisible by 2\n",
      "619 is PRIME\n",
      "620 is divisible by 2\n",
      "621 is divisible by 3\n",
      "622 is divisible by 2\n",
      "623 is divisible by 7\n",
      "624 is divisible by 2\n",
      "625 is divisible by 5\n",
      "626 is divisible by 2\n",
      "627 is divisible by 3\n",
      "628 is divisible by 2\n",
      "629 is divisible by 17\n",
      "630 is divisible by 2\n",
      "631 is PRIME\n",
      "632 is divisible by 2\n",
      "633 is divisible by 3\n",
      "634 is divisible by 2\n",
      "635 is divisible by 5\n",
      "636 is divisible by 2\n",
      "637 is divisible by 7\n",
      "638 is divisible by 2\n",
      "639 is divisible by 3\n",
      "640 is divisible by 2\n",
      "641 is PRIME\n",
      "642 is divisible by 2\n",
      "643 is PRIME\n",
      "644 is divisible by 2\n",
      "645 is divisible by 3\n",
      "646 is divisible by 2\n",
      "647 is PRIME\n",
      "648 is divisible by 2\n",
      "649 is divisible by 11\n",
      "650 is divisible by 2\n",
      "651 is divisible by 3\n",
      "652 is divisible by 2\n",
      "653 is PRIME\n",
      "654 is divisible by 2\n",
      "655 is divisible by 5\n",
      "656 is divisible by 2\n",
      "657 is divisible by 3\n",
      "658 is divisible by 2\n",
      "659 is PRIME\n",
      "660 is divisible by 2\n",
      "661 is PRIME\n",
      "662 is divisible by 2\n",
      "663 is divisible by 3\n",
      "664 is divisible by 2\n",
      "665 is divisible by 5\n",
      "666 is divisible by 2\n",
      "667 is divisible by 23\n",
      "668 is divisible by 2\n",
      "669 is divisible by 3\n",
      "670 is divisible by 2\n",
      "671 is divisible by 11\n",
      "672 is divisible by 2\n",
      "673 is PRIME\n",
      "674 is divisible by 2\n",
      "675 is divisible by 3\n",
      "676 is divisible by 2\n",
      "677 is PRIME\n",
      "678 is divisible by 2\n",
      "679 is divisible by 7\n",
      "680 is divisible by 2\n",
      "681 is divisible by 3\n",
      "682 is divisible by 2\n",
      "683 is PRIME\n",
      "684 is divisible by 2\n",
      "685 is divisible by 5\n",
      "686 is divisible by 2\n",
      "687 is divisible by 3\n",
      "688 is divisible by 2\n",
      "689 is divisible by 13\n",
      "690 is divisible by 2\n",
      "691 is PRIME\n",
      "692 is divisible by 2\n",
      "693 is divisible by 3\n",
      "694 is divisible by 2\n",
      "695 is divisible by 5\n",
      "696 is divisible by 2\n",
      "697 is divisible by 17\n",
      "698 is divisible by 2\n",
      "699 is divisible by 3\n",
      "700 is divisible by 2\n",
      "701 is PRIME\n",
      "702 is divisible by 2\n",
      "703 is divisible by 19\n",
      "704 is divisible by 2\n",
      "705 is divisible by 3\n",
      "706 is divisible by 2\n",
      "707 is divisible by 7\n",
      "708 is divisible by 2\n",
      "709 is PRIME\n",
      "710 is divisible by 2\n",
      "711 is divisible by 3\n",
      "712 is divisible by 2\n",
      "713 is divisible by 23\n",
      "714 is divisible by 2\n",
      "715 is divisible by 5\n",
      "716 is divisible by 2\n",
      "717 is divisible by 3\n",
      "718 is divisible by 2\n",
      "719 is PRIME\n",
      "720 is divisible by 2\n",
      "721 is divisible by 7\n",
      "722 is divisible by 2\n",
      "723 is divisible by 3\n",
      "724 is divisible by 2\n",
      "725 is divisible by 5\n",
      "726 is divisible by 2\n",
      "727 is PRIME\n",
      "728 is divisible by 2\n",
      "729 is divisible by 3\n",
      "730 is divisible by 2\n",
      "731 is divisible by 17\n",
      "732 is divisible by 2\n",
      "733 is PRIME\n",
      "734 is divisible by 2\n",
      "735 is divisible by 3\n",
      "736 is divisible by 2\n",
      "737 is divisible by 11\n",
      "738 is divisible by 2\n",
      "739 is PRIME\n",
      "740 is divisible by 2\n",
      "741 is divisible by 3\n",
      "742 is divisible by 2\n",
      "743 is PRIME\n",
      "744 is divisible by 2\n",
      "745 is divisible by 5\n",
      "746 is divisible by 2\n",
      "747 is divisible by 3\n",
      "748 is divisible by 2\n",
      "749 is divisible by 7\n",
      "750 is divisible by 2\n",
      "751 is PRIME\n",
      "752 is divisible by 2\n",
      "753 is divisible by 3\n",
      "754 is divisible by 2\n",
      "755 is divisible by 5\n",
      "756 is divisible by 2\n",
      "757 is PRIME\n",
      "758 is divisible by 2\n",
      "759 is divisible by 3\n",
      "760 is divisible by 2\n",
      "761 is PRIME\n",
      "762 is divisible by 2\n",
      "763 is divisible by 7\n",
      "764 is divisible by 2\n",
      "765 is divisible by 3\n",
      "766 is divisible by 2\n",
      "767 is divisible by 13\n",
      "768 is divisible by 2\n",
      "769 is PRIME\n",
      "770 is divisible by 2\n",
      "771 is divisible by 3\n",
      "772 is divisible by 2\n",
      "773 is PRIME\n",
      "774 is divisible by 2\n",
      "775 is divisible by 5\n",
      "776 is divisible by 2\n",
      "777 is divisible by 3\n",
      "778 is divisible by 2\n",
      "779 is divisible by 19\n",
      "780 is divisible by 2\n",
      "781 is divisible by 11\n",
      "782 is divisible by 2\n",
      "783 is divisible by 3\n",
      "784 is divisible by 2\n",
      "785 is divisible by 5\n",
      "786 is divisible by 2\n",
      "787 is PRIME\n",
      "788 is divisible by 2\n",
      "789 is divisible by 3\n",
      "790 is divisible by 2\n",
      "791 is divisible by 7\n",
      "792 is divisible by 2\n",
      "793 is divisible by 13\n",
      "794 is divisible by 2\n",
      "795 is divisible by 3\n",
      "796 is divisible by 2\n",
      "797 is PRIME\n",
      "798 is divisible by 2\n",
      "799 is divisible by 17\n",
      "800 is divisible by 2\n",
      "801 is divisible by 3\n",
      "802 is divisible by 2\n",
      "803 is divisible by 11\n",
      "804 is divisible by 2\n",
      "805 is divisible by 5\n",
      "806 is divisible by 2\n",
      "807 is divisible by 3\n",
      "808 is divisible by 2\n",
      "809 is PRIME\n",
      "810 is divisible by 2\n",
      "811 is PRIME\n",
      "812 is divisible by 2\n",
      "813 is divisible by 3\n",
      "814 is divisible by 2\n",
      "815 is divisible by 5\n",
      "816 is divisible by 2\n",
      "817 is divisible by 19\n",
      "818 is divisible by 2\n",
      "819 is divisible by 3\n",
      "820 is divisible by 2\n",
      "821 is PRIME\n",
      "822 is divisible by 2\n",
      "823 is PRIME\n",
      "824 is divisible by 2\n",
      "825 is divisible by 3\n",
      "826 is divisible by 2\n",
      "827 is PRIME\n",
      "828 is divisible by 2\n",
      "829 is PRIME\n",
      "830 is divisible by 2\n",
      "831 is divisible by 3\n",
      "832 is divisible by 2\n",
      "833 is divisible by 7\n",
      "834 is divisible by 2\n",
      "835 is divisible by 5\n",
      "836 is divisible by 2\n",
      "837 is divisible by 3\n",
      "838 is divisible by 2\n",
      "839 is PRIME\n",
      "840 is divisible by 2\n",
      "841 is divisible by 29\n",
      "842 is divisible by 2\n",
      "843 is divisible by 3\n",
      "844 is divisible by 2\n",
      "845 is divisible by 5\n",
      "846 is divisible by 2\n",
      "847 is divisible by 7\n",
      "848 is divisible by 2\n",
      "849 is divisible by 3\n",
      "850 is divisible by 2\n",
      "851 is divisible by 23\n",
      "852 is divisible by 2\n",
      "853 is PRIME\n",
      "854 is divisible by 2\n",
      "855 is divisible by 3\n",
      "856 is divisible by 2\n",
      "857 is PRIME\n",
      "858 is divisible by 2\n",
      "859 is PRIME\n",
      "860 is divisible by 2\n",
      "861 is divisible by 3\n",
      "862 is divisible by 2\n",
      "863 is PRIME\n",
      "864 is divisible by 2\n",
      "865 is divisible by 5\n",
      "866 is divisible by 2\n",
      "867 is divisible by 3\n",
      "868 is divisible by 2\n",
      "869 is divisible by 11\n",
      "870 is divisible by 2\n",
      "871 is divisible by 13\n",
      "872 is divisible by 2\n",
      "873 is divisible by 3\n",
      "874 is divisible by 2\n",
      "875 is divisible by 5\n",
      "876 is divisible by 2\n",
      "877 is PRIME\n",
      "878 is divisible by 2\n",
      "879 is divisible by 3\n",
      "880 is divisible by 2\n",
      "881 is PRIME\n",
      "882 is divisible by 2\n",
      "883 is PRIME\n",
      "884 is divisible by 2\n",
      "885 is divisible by 3\n",
      "886 is divisible by 2\n",
      "887 is PRIME\n",
      "888 is divisible by 2\n",
      "889 is divisible by 7\n",
      "890 is divisible by 2\n",
      "891 is divisible by 3\n",
      "892 is divisible by 2\n",
      "893 is divisible by 19\n",
      "894 is divisible by 2\n",
      "895 is divisible by 5\n",
      "896 is divisible by 2\n",
      "897 is divisible by 3\n",
      "898 is divisible by 2\n",
      "899 is divisible by 29\n",
      "900 is divisible by 2\n",
      "901 is divisible by 17\n",
      "902 is divisible by 2\n",
      "903 is divisible by 3\n",
      "904 is divisible by 2\n",
      "905 is divisible by 5\n",
      "906 is divisible by 2\n",
      "907 is PRIME\n",
      "908 is divisible by 2\n",
      "909 is divisible by 3\n",
      "910 is divisible by 2\n",
      "911 is PRIME\n",
      "912 is divisible by 2\n",
      "913 is divisible by 11\n",
      "914 is divisible by 2\n",
      "915 is divisible by 3\n",
      "916 is divisible by 2\n",
      "917 is divisible by 7\n",
      "918 is divisible by 2\n",
      "919 is PRIME\n",
      "920 is divisible by 2\n",
      "921 is divisible by 3\n",
      "922 is divisible by 2\n",
      "923 is divisible by 13\n",
      "924 is divisible by 2\n",
      "925 is divisible by 5\n",
      "926 is divisible by 2\n",
      "927 is divisible by 3\n",
      "928 is divisible by 2\n",
      "929 is PRIME\n",
      "930 is divisible by 2\n",
      "931 is divisible by 7\n",
      "932 is divisible by 2\n",
      "933 is divisible by 3\n",
      "934 is divisible by 2\n",
      "935 is divisible by 5\n",
      "936 is divisible by 2\n",
      "937 is PRIME\n",
      "938 is divisible by 2\n",
      "939 is divisible by 3\n",
      "940 is divisible by 2\n",
      "941 is PRIME\n",
      "942 is divisible by 2\n",
      "943 is divisible by 23\n",
      "944 is divisible by 2\n",
      "945 is divisible by 3\n",
      "946 is divisible by 2\n",
      "947 is PRIME\n",
      "948 is divisible by 2\n",
      "949 is divisible by 13\n",
      "950 is divisible by 2\n",
      "951 is divisible by 3\n",
      "952 is divisible by 2\n",
      "953 is PRIME\n",
      "954 is divisible by 2\n",
      "955 is divisible by 5\n",
      "956 is divisible by 2\n",
      "957 is divisible by 3\n",
      "958 is divisible by 2\n",
      "959 is divisible by 7\n",
      "960 is divisible by 2\n",
      "961 is divisible by 31\n",
      "962 is divisible by 2\n",
      "963 is divisible by 3\n",
      "964 is divisible by 2\n",
      "965 is divisible by 5\n",
      "966 is divisible by 2\n",
      "967 is PRIME\n",
      "968 is divisible by 2\n",
      "969 is divisible by 3\n",
      "970 is divisible by 2\n",
      "971 is PRIME\n",
      "972 is divisible by 2\n",
      "973 is divisible by 7\n",
      "974 is divisible by 2\n",
      "975 is divisible by 3\n",
      "976 is divisible by 2\n",
      "977 is PRIME\n",
      "978 is divisible by 2\n",
      "979 is divisible by 11\n",
      "980 is divisible by 2\n",
      "981 is divisible by 3\n",
      "982 is divisible by 2\n",
      "983 is PRIME\n",
      "984 is divisible by 2\n",
      "985 is divisible by 5\n",
      "986 is divisible by 2\n",
      "987 is divisible by 3\n",
      "988 is divisible by 2\n",
      "989 is divisible by 23\n",
      "990 is divisible by 2\n",
      "991 is PRIME\n",
      "992 is divisible by 2\n",
      "993 is divisible by 3\n",
      "994 is divisible by 2\n",
      "995 is divisible by 5\n",
      "996 is divisible by 2\n",
      "997 is PRIME\n",
      "998 is divisible by 2\n",
      "999 is divisible by 3\n",
      "1000 is divisible by 2\n",
      "1001 is divisible by 7\n",
      "1002 is divisible by 2\n",
      "1003 is divisible by 17\n",
      "1004 is divisible by 2\n",
      "1005 is divisible by 3\n",
      "1006 is divisible by 2\n",
      "1007 is divisible by 19\n",
      "1008 is divisible by 2\n",
      "1009 is PRIME\n",
      "1010 is divisible by 2\n",
      "1011 is divisible by 3\n",
      "1012 is divisible by 2\n",
      "1013 is PRIME\n",
      "1014 is divisible by 2\n",
      "1015 is divisible by 5\n",
      "1016 is divisible by 2\n",
      "1017 is divisible by 3\n",
      "1018 is divisible by 2\n",
      "1019 is PRIME\n",
      "1020 is divisible by 2\n",
      "1021 is PRIME\n",
      "1022 is divisible by 2\n",
      "1023 is divisible by 3\n",
      "1024 is divisible by 2\n",
      "1025 is divisible by 5\n",
      "1026 is divisible by 2\n",
      "1027 is divisible by 13\n",
      "1028 is divisible by 2\n",
      "1029 is divisible by 3\n",
      "1030 is divisible by 2\n",
      "1031 is PRIME\n",
      "1032 is divisible by 2\n",
      "1033 is PRIME\n",
      "1034 is divisible by 2\n",
      "1035 is divisible by 3\n",
      "1036 is divisible by 2\n",
      "1037 is divisible by 17\n",
      "1038 is divisible by 2\n",
      "1039 is PRIME\n",
      "1040 is divisible by 2\n",
      "1041 is divisible by 3\n",
      "1042 is divisible by 2\n",
      "1043 is divisible by 7\n",
      "1044 is divisible by 2\n",
      "1045 is divisible by 5\n",
      "1046 is divisible by 2\n",
      "1047 is divisible by 3\n",
      "1048 is divisible by 2\n",
      "1049 is PRIME\n",
      "1050 is divisible by 2\n",
      "1051 is PRIME\n",
      "1052 is divisible by 2\n",
      "1053 is divisible by 3\n",
      "1054 is divisible by 2\n",
      "1055 is divisible by 5\n",
      "1056 is divisible by 2\n",
      "1057 is divisible by 7\n",
      "1058 is divisible by 2\n",
      "1059 is divisible by 3\n",
      "1060 is divisible by 2\n",
      "1061 is PRIME\n",
      "1062 is divisible by 2\n",
      "1063 is PRIME\n",
      "1064 is divisible by 2\n",
      "1065 is divisible by 3\n",
      "1066 is divisible by 2\n",
      "1067 is divisible by 11\n",
      "1068 is divisible by 2\n",
      "1069 is PRIME\n",
      "1070 is divisible by 2\n",
      "1071 is divisible by 3\n",
      "1072 is divisible by 2\n",
      "1073 is divisible by 29\n",
      "1074 is divisible by 2\n",
      "1075 is divisible by 5\n",
      "1076 is divisible by 2\n",
      "1077 is divisible by 3\n",
      "1078 is divisible by 2\n",
      "1079 is divisible by 13\n",
      "1080 is divisible by 2\n",
      "1081 is divisible by 23\n",
      "1082 is divisible by 2\n",
      "1083 is divisible by 3\n",
      "1084 is divisible by 2\n",
      "1085 is divisible by 5\n",
      "1086 is divisible by 2\n",
      "1087 is PRIME\n",
      "1088 is divisible by 2\n",
      "1089 is divisible by 3\n",
      "1090 is divisible by 2\n",
      "1091 is PRIME\n",
      "1092 is divisible by 2\n",
      "1093 is PRIME\n",
      "1094 is divisible by 2\n",
      "1095 is divisible by 3\n",
      "1096 is divisible by 2\n",
      "1097 is PRIME\n",
      "1098 is divisible by 2\n",
      "1099 is divisible by 7\n",
      "1100 is divisible by 2\n",
      "1101 is divisible by 3\n",
      "1102 is divisible by 2\n",
      "1103 is PRIME\n",
      "1104 is divisible by 2\n",
      "1105 is divisible by 5\n",
      "1106 is divisible by 2\n",
      "1107 is divisible by 3\n",
      "1108 is divisible by 2\n",
      "1109 is PRIME\n",
      "1110 is divisible by 2\n",
      "1111 is divisible by 11\n",
      "1112 is divisible by 2\n",
      "1113 is divisible by 3\n",
      "1114 is divisible by 2\n",
      "1115 is divisible by 5\n",
      "1116 is divisible by 2\n",
      "1117 is PRIME\n",
      "1118 is divisible by 2\n",
      "1119 is divisible by 3\n",
      "1120 is divisible by 2\n",
      "1121 is divisible by 19\n",
      "1122 is divisible by 2\n",
      "1123 is PRIME\n",
      "1124 is divisible by 2\n",
      "1125 is divisible by 3\n",
      "1126 is divisible by 2\n",
      "1127 is divisible by 7\n",
      "1128 is divisible by 2\n",
      "1129 is PRIME\n",
      "1130 is divisible by 2\n",
      "1131 is divisible by 3\n",
      "1132 is divisible by 2\n",
      "1133 is divisible by 11\n",
      "1134 is divisible by 2\n",
      "1135 is divisible by 5\n",
      "1136 is divisible by 2\n",
      "1137 is divisible by 3\n",
      "1138 is divisible by 2\n",
      "1139 is divisible by 17\n",
      "1140 is divisible by 2\n",
      "1141 is divisible by 7\n",
      "1142 is divisible by 2\n",
      "1143 is divisible by 3\n",
      "1144 is divisible by 2\n",
      "1145 is divisible by 5\n",
      "1146 is divisible by 2\n",
      "1147 is divisible by 31\n",
      "1148 is divisible by 2\n",
      "1149 is divisible by 3\n",
      "1150 is divisible by 2\n",
      "1151 is PRIME\n",
      "1152 is divisible by 2\n",
      "1153 is PRIME\n",
      "1154 is divisible by 2\n",
      "1155 is divisible by 3\n",
      "1156 is divisible by 2\n",
      "1157 is divisible by 13\n",
      "1158 is divisible by 2\n",
      "1159 is divisible by 19\n",
      "1160 is divisible by 2\n",
      "1161 is divisible by 3\n",
      "1162 is divisible by 2\n",
      "1163 is PRIME\n",
      "1164 is divisible by 2\n",
      "1165 is divisible by 5\n",
      "1166 is divisible by 2\n",
      "1167 is divisible by 3\n",
      "1168 is divisible by 2\n",
      "1169 is divisible by 7\n",
      "1170 is divisible by 2\n",
      "1171 is PRIME\n",
      "1172 is divisible by 2\n",
      "1173 is divisible by 3\n",
      "1174 is divisible by 2\n",
      "1175 is divisible by 5\n",
      "1176 is divisible by 2\n",
      "1177 is divisible by 11\n",
      "1178 is divisible by 2\n",
      "1179 is divisible by 3\n",
      "1180 is divisible by 2\n",
      "1181 is PRIME\n",
      "1182 is divisible by 2\n",
      "1183 is divisible by 7\n",
      "1184 is divisible by 2\n",
      "1185 is divisible by 3\n",
      "1186 is divisible by 2\n",
      "1187 is PRIME\n",
      "1188 is divisible by 2\n",
      "1189 is divisible by 29\n",
      "1190 is divisible by 2\n",
      "1191 is divisible by 3\n",
      "1192 is divisible by 2\n",
      "1193 is PRIME\n",
      "1194 is divisible by 2\n",
      "1195 is divisible by 5\n",
      "1196 is divisible by 2\n",
      "1197 is divisible by 3\n",
      "1198 is divisible by 2\n",
      "1199 is divisible by 11\n",
      "1200 is divisible by 2\n",
      "1201 is PRIME\n",
      "1202 is divisible by 2\n",
      "1203 is divisible by 3\n",
      "1204 is divisible by 2\n",
      "1205 is divisible by 5\n",
      "1206 is divisible by 2\n",
      "1207 is divisible by 17\n",
      "1208 is divisible by 2\n",
      "1209 is divisible by 3\n",
      "1210 is divisible by 2\n",
      "1211 is divisible by 7\n",
      "1212 is divisible by 2\n",
      "1213 is PRIME\n",
      "1214 is divisible by 2\n",
      "1215 is divisible by 3\n",
      "1216 is divisible by 2\n",
      "1217 is PRIME\n",
      "1218 is divisible by 2\n",
      "1219 is divisible by 23\n",
      "1220 is divisible by 2\n",
      "1221 is divisible by 3\n",
      "1222 is divisible by 2\n",
      "1223 is PRIME\n",
      "1224 is divisible by 2\n",
      "1225 is divisible by 5\n",
      "1226 is divisible by 2\n",
      "1227 is divisible by 3\n",
      "1228 is divisible by 2\n",
      "1229 is PRIME\n",
      "1230 is divisible by 2\n",
      "1231 is PRIME\n",
      "1232 is divisible by 2\n",
      "1233 is divisible by 3\n",
      "1234 is divisible by 2\n",
      "1235 is divisible by 5\n",
      "1236 is divisible by 2\n",
      "1237 is PRIME\n",
      "1238 is divisible by 2\n",
      "1239 is divisible by 3\n",
      "1240 is divisible by 2\n",
      "1241 is divisible by 17\n",
      "1242 is divisible by 2\n",
      "1243 is divisible by 11\n",
      "1244 is divisible by 2\n",
      "1245 is divisible by 3\n",
      "1246 is divisible by 2\n",
      "1247 is divisible by 29\n",
      "1248 is divisible by 2\n",
      "1249 is PRIME\n",
      "1250 is divisible by 2\n",
      "1251 is divisible by 3\n",
      "1252 is divisible by 2\n",
      "1253 is divisible by 7\n",
      "1254 is divisible by 2\n",
      "1255 is divisible by 5\n",
      "1256 is divisible by 2\n",
      "1257 is divisible by 3\n",
      "1258 is divisible by 2\n",
      "1259 is PRIME\n",
      "1260 is divisible by 2\n",
      "1261 is divisible by 13\n",
      "1262 is divisible by 2\n",
      "1263 is divisible by 3\n",
      "1264 is divisible by 2\n",
      "1265 is divisible by 5\n",
      "1266 is divisible by 2\n",
      "1267 is divisible by 7\n",
      "1268 is divisible by 2\n",
      "1269 is divisible by 3\n",
      "1270 is divisible by 2\n",
      "1271 is divisible by 31\n",
      "1272 is divisible by 2\n",
      "1273 is divisible by 19\n",
      "1274 is divisible by 2\n",
      "1275 is divisible by 3\n",
      "1276 is divisible by 2\n",
      "1277 is PRIME\n",
      "1278 is divisible by 2\n",
      "1279 is PRIME\n",
      "1280 is divisible by 2\n",
      "1281 is divisible by 3\n",
      "1282 is divisible by 2\n",
      "1283 is PRIME\n",
      "1284 is divisible by 2\n",
      "1285 is divisible by 5\n",
      "1286 is divisible by 2\n",
      "1287 is divisible by 3\n",
      "1288 is divisible by 2\n",
      "1289 is PRIME\n",
      "1290 is divisible by 2\n",
      "1291 is PRIME\n",
      "1292 is divisible by 2\n",
      "1293 is divisible by 3\n",
      "1294 is divisible by 2\n",
      "1295 is divisible by 5\n",
      "1296 is divisible by 2\n",
      "1297 is PRIME\n",
      "1298 is divisible by 2\n",
      "1299 is divisible by 3\n",
      "1300 is divisible by 2\n",
      "1301 is PRIME\n",
      "1302 is divisible by 2\n",
      "1303 is PRIME\n",
      "1304 is divisible by 2\n",
      "1305 is divisible by 3\n",
      "1306 is divisible by 2\n",
      "1307 is PRIME\n",
      "1308 is divisible by 2\n",
      "1309 is divisible by 7\n",
      "1310 is divisible by 2\n",
      "1311 is divisible by 3\n",
      "1312 is divisible by 2\n",
      "1313 is divisible by 13\n",
      "1314 is divisible by 2\n",
      "1315 is divisible by 5\n",
      "1316 is divisible by 2\n",
      "1317 is divisible by 3\n",
      "1318 is divisible by 2\n",
      "1319 is PRIME\n",
      "1320 is divisible by 2\n",
      "1321 is PRIME\n",
      "1322 is divisible by 2\n",
      "1323 is divisible by 3\n",
      "1324 is divisible by 2\n",
      "1325 is divisible by 5\n",
      "1326 is divisible by 2\n",
      "1327 is PRIME\n",
      "1328 is divisible by 2\n",
      "1329 is divisible by 3\n",
      "1330 is divisible by 2\n",
      "1331 is divisible by 11\n",
      "1332 is divisible by 2\n",
      "1333 is divisible by 31\n",
      "1334 is divisible by 2\n",
      "1335 is divisible by 3\n",
      "1336 is divisible by 2\n",
      "1337 is divisible by 7\n",
      "1338 is divisible by 2\n",
      "1339 is divisible by 13\n",
      "1340 is divisible by 2\n",
      "1341 is divisible by 3\n",
      "1342 is divisible by 2\n",
      "1343 is divisible by 17\n",
      "1344 is divisible by 2\n",
      "1345 is divisible by 5\n",
      "1346 is divisible by 2\n",
      "1347 is divisible by 3\n",
      "1348 is divisible by 2\n",
      "1349 is divisible by 19\n",
      "1350 is divisible by 2\n",
      "1351 is divisible by 7\n",
      "1352 is divisible by 2\n",
      "1353 is divisible by 3\n",
      "1354 is divisible by 2\n",
      "1355 is divisible by 5\n",
      "1356 is divisible by 2\n",
      "1357 is divisible by 23\n",
      "1358 is divisible by 2\n",
      "1359 is divisible by 3\n",
      "1360 is divisible by 2\n",
      "1361 is PRIME\n",
      "1362 is divisible by 2\n",
      "1363 is divisible by 29\n",
      "1364 is divisible by 2\n",
      "1365 is divisible by 3\n",
      "1366 is divisible by 2\n",
      "1367 is PRIME\n",
      "1368 is divisible by 2\n",
      "1369 is divisible by 37\n",
      "1370 is divisible by 2\n",
      "1371 is divisible by 3\n",
      "1372 is divisible by 2\n",
      "1373 is PRIME\n",
      "1374 is divisible by 2\n",
      "1375 is divisible by 5\n",
      "1376 is divisible by 2\n",
      "1377 is divisible by 3\n",
      "1378 is divisible by 2\n",
      "1379 is divisible by 7\n",
      "1380 is divisible by 2\n",
      "1381 is PRIME\n",
      "1382 is divisible by 2\n",
      "1383 is divisible by 3\n",
      "1384 is divisible by 2\n",
      "1385 is divisible by 5\n",
      "1386 is divisible by 2\n",
      "1387 is divisible by 19\n",
      "1388 is divisible by 2\n",
      "1389 is divisible by 3\n",
      "1390 is divisible by 2\n",
      "1391 is divisible by 13\n",
      "1392 is divisible by 2\n",
      "1393 is divisible by 7\n",
      "1394 is divisible by 2\n",
      "1395 is divisible by 3\n",
      "1396 is divisible by 2\n",
      "1397 is divisible by 11\n",
      "1398 is divisible by 2\n",
      "1399 is PRIME\n",
      "1400 is divisible by 2\n",
      "1401 is divisible by 3\n",
      "1402 is divisible by 2\n",
      "1403 is divisible by 23\n",
      "1404 is divisible by 2\n",
      "1405 is divisible by 5\n",
      "1406 is divisible by 2\n",
      "1407 is divisible by 3\n",
      "1408 is divisible by 2\n",
      "1409 is PRIME\n",
      "1410 is divisible by 2\n",
      "1411 is divisible by 17\n",
      "1412 is divisible by 2\n",
      "1413 is divisible by 3\n",
      "1414 is divisible by 2\n",
      "1415 is divisible by 5\n",
      "1416 is divisible by 2\n",
      "1417 is divisible by 13\n",
      "1418 is divisible by 2\n",
      "1419 is divisible by 3\n",
      "1420 is divisible by 2\n",
      "1421 is divisible by 7\n",
      "1422 is divisible by 2\n",
      "1423 is PRIME\n",
      "1424 is divisible by 2\n",
      "1425 is divisible by 3\n",
      "1426 is divisible by 2\n",
      "1427 is PRIME\n",
      "1428 is divisible by 2\n",
      "1429 is PRIME\n",
      "1430 is divisible by 2\n",
      "1431 is divisible by 3\n",
      "1432 is divisible by 2\n",
      "1433 is PRIME\n",
      "1434 is divisible by 2\n",
      "1435 is divisible by 5\n",
      "1436 is divisible by 2\n",
      "1437 is divisible by 3\n",
      "1438 is divisible by 2\n",
      "1439 is PRIME\n",
      "1440 is divisible by 2\n",
      "1441 is divisible by 11\n",
      "1442 is divisible by 2\n",
      "1443 is divisible by 3\n",
      "1444 is divisible by 2\n",
      "1445 is divisible by 5\n",
      "1446 is divisible by 2\n",
      "1447 is PRIME\n",
      "1448 is divisible by 2\n",
      "1449 is divisible by 3\n",
      "1450 is divisible by 2\n",
      "1451 is PRIME\n",
      "1452 is divisible by 2\n",
      "1453 is PRIME\n",
      "1454 is divisible by 2\n",
      "1455 is divisible by 3\n",
      "1456 is divisible by 2\n",
      "1457 is divisible by 31\n",
      "1458 is divisible by 2\n",
      "1459 is PRIME\n",
      "1460 is divisible by 2\n",
      "1461 is divisible by 3\n",
      "1462 is divisible by 2\n",
      "1463 is divisible by 7\n",
      "1464 is divisible by 2\n",
      "1465 is divisible by 5\n",
      "1466 is divisible by 2\n",
      "1467 is divisible by 3\n",
      "1468 is divisible by 2\n",
      "1469 is divisible by 13\n",
      "1470 is divisible by 2\n",
      "1471 is PRIME\n",
      "1472 is divisible by 2\n",
      "1473 is divisible by 3\n",
      "1474 is divisible by 2\n",
      "1475 is divisible by 5\n",
      "1476 is divisible by 2\n",
      "1477 is divisible by 7\n",
      "1478 is divisible by 2\n",
      "1479 is divisible by 3\n",
      "1480 is divisible by 2\n",
      "1481 is PRIME\n",
      "1482 is divisible by 2\n",
      "1483 is PRIME\n",
      "1484 is divisible by 2\n",
      "1485 is divisible by 3\n",
      "1486 is divisible by 2\n",
      "1487 is PRIME\n",
      "1488 is divisible by 2\n",
      "1489 is PRIME\n",
      "1490 is divisible by 2\n",
      "1491 is divisible by 3\n",
      "1492 is divisible by 2\n",
      "1493 is PRIME\n",
      "1494 is divisible by 2\n",
      "1495 is divisible by 5\n",
      "1496 is divisible by 2\n",
      "1497 is divisible by 3\n",
      "1498 is divisible by 2\n",
      "1499 is PRIME\n",
      "1500 is divisible by 2\n",
      "1501 is divisible by 19\n",
      "1502 is divisible by 2\n",
      "1503 is divisible by 3\n",
      "1504 is divisible by 2\n",
      "1505 is divisible by 5\n",
      "1506 is divisible by 2\n",
      "1507 is divisible by 11\n",
      "1508 is divisible by 2\n",
      "1509 is divisible by 3\n",
      "1510 is divisible by 2\n",
      "1511 is PRIME\n",
      "1512 is divisible by 2\n",
      "1513 is divisible by 17\n",
      "1514 is divisible by 2\n",
      "1515 is divisible by 3\n",
      "1516 is divisible by 2\n",
      "1517 is divisible by 37\n",
      "1518 is divisible by 2\n",
      "1519 is divisible by 7\n",
      "1520 is divisible by 2\n",
      "1521 is divisible by 3\n",
      "1522 is divisible by 2\n",
      "1523 is PRIME\n",
      "1524 is divisible by 2\n",
      "1525 is divisible by 5\n",
      "1526 is divisible by 2\n",
      "1527 is divisible by 3\n",
      "1528 is divisible by 2\n",
      "1529 is divisible by 11\n",
      "1530 is divisible by 2\n",
      "1531 is PRIME\n",
      "1532 is divisible by 2\n",
      "1533 is divisible by 3\n",
      "1534 is divisible by 2\n",
      "1535 is divisible by 5\n",
      "1536 is divisible by 2\n",
      "1537 is divisible by 29\n",
      "1538 is divisible by 2\n",
      "1539 is divisible by 3\n",
      "1540 is divisible by 2\n",
      "1541 is divisible by 23\n",
      "1542 is divisible by 2\n",
      "1543 is PRIME\n",
      "1544 is divisible by 2\n",
      "1545 is divisible by 3\n",
      "1546 is divisible by 2\n",
      "1547 is divisible by 7\n",
      "1548 is divisible by 2\n",
      "1549 is PRIME\n",
      "1550 is divisible by 2\n",
      "1551 is divisible by 3\n",
      "1552 is divisible by 2\n",
      "1553 is PRIME\n",
      "1554 is divisible by 2\n",
      "1555 is divisible by 5\n",
      "1556 is divisible by 2\n",
      "1557 is divisible by 3\n",
      "1558 is divisible by 2\n",
      "1559 is PRIME\n",
      "1560 is divisible by 2\n",
      "1561 is divisible by 7\n",
      "1562 is divisible by 2\n",
      "1563 is divisible by 3\n",
      "1564 is divisible by 2\n",
      "1565 is divisible by 5\n",
      "1566 is divisible by 2\n",
      "1567 is PRIME\n",
      "1568 is divisible by 2\n",
      "1569 is divisible by 3\n",
      "1570 is divisible by 2\n",
      "1571 is PRIME\n",
      "1572 is divisible by 2\n",
      "1573 is divisible by 11\n",
      "1574 is divisible by 2\n",
      "1575 is divisible by 3\n",
      "1576 is divisible by 2\n",
      "1577 is divisible by 19\n",
      "1578 is divisible by 2\n",
      "1579 is PRIME\n",
      "1580 is divisible by 2\n",
      "1581 is divisible by 3\n",
      "1582 is divisible by 2\n",
      "1583 is PRIME\n",
      "1584 is divisible by 2\n",
      "1585 is divisible by 5\n",
      "1586 is divisible by 2\n",
      "1587 is divisible by 3\n",
      "1588 is divisible by 2\n",
      "1589 is divisible by 7\n",
      "1590 is divisible by 2\n",
      "1591 is divisible by 37\n",
      "1592 is divisible by 2\n",
      "1593 is divisible by 3\n",
      "1594 is divisible by 2\n",
      "1595 is divisible by 5\n",
      "1596 is divisible by 2\n",
      "1597 is PRIME\n",
      "1598 is divisible by 2\n",
      "1599 is divisible by 3\n",
      "1600 is divisible by 2\n",
      "1601 is PRIME\n",
      "1602 is divisible by 2\n",
      "1603 is divisible by 7\n",
      "1604 is divisible by 2\n",
      "1605 is divisible by 3\n",
      "1606 is divisible by 2\n",
      "1607 is PRIME\n",
      "1608 is divisible by 2\n",
      "1609 is PRIME\n",
      "1610 is divisible by 2\n",
      "1611 is divisible by 3\n",
      "1612 is divisible by 2\n",
      "1613 is PRIME\n",
      "1614 is divisible by 2\n",
      "1615 is divisible by 5\n",
      "1616 is divisible by 2\n",
      "1617 is divisible by 3\n",
      "1618 is divisible by 2\n",
      "1619 is PRIME\n",
      "1620 is divisible by 2\n",
      "1621 is PRIME\n",
      "1622 is divisible by 2\n",
      "1623 is divisible by 3\n",
      "1624 is divisible by 2\n",
      "1625 is divisible by 5\n",
      "1626 is divisible by 2\n",
      "1627 is PRIME\n",
      "1628 is divisible by 2\n",
      "1629 is divisible by 3\n",
      "1630 is divisible by 2\n",
      "1631 is divisible by 7\n",
      "1632 is divisible by 2\n",
      "1633 is divisible by 23\n",
      "1634 is divisible by 2\n",
      "1635 is divisible by 3\n",
      "1636 is divisible by 2\n",
      "1637 is PRIME\n",
      "1638 is divisible by 2\n",
      "1639 is divisible by 11\n",
      "1640 is divisible by 2\n",
      "1641 is divisible by 3\n",
      "1642 is divisible by 2\n",
      "1643 is divisible by 31\n",
      "1644 is divisible by 2\n",
      "1645 is divisible by 5\n",
      "1646 is divisible by 2\n",
      "1647 is divisible by 3\n",
      "1648 is divisible by 2\n",
      "1649 is divisible by 17\n",
      "1650 is divisible by 2\n",
      "1651 is divisible by 13\n",
      "1652 is divisible by 2\n",
      "1653 is divisible by 3\n",
      "1654 is divisible by 2\n",
      "1655 is divisible by 5\n",
      "1656 is divisible by 2\n",
      "1657 is PRIME\n",
      "1658 is divisible by 2\n",
      "1659 is divisible by 3\n",
      "1660 is divisible by 2\n",
      "1661 is divisible by 11\n",
      "1662 is divisible by 2\n",
      "1663 is PRIME\n",
      "1664 is divisible by 2\n",
      "1665 is divisible by 3\n",
      "1666 is divisible by 2\n",
      "1667 is PRIME\n",
      "1668 is divisible by 2\n",
      "1669 is PRIME\n",
      "1670 is divisible by 2\n",
      "1671 is divisible by 3\n",
      "1672 is divisible by 2\n",
      "1673 is divisible by 7\n",
      "1674 is divisible by 2\n",
      "1675 is divisible by 5\n",
      "1676 is divisible by 2\n",
      "1677 is divisible by 3\n",
      "1678 is divisible by 2\n",
      "1679 is divisible by 23\n",
      "1680 is divisible by 2\n",
      "1681 is divisible by 41\n",
      "1682 is divisible by 2\n",
      "1683 is divisible by 3\n",
      "1684 is divisible by 2\n",
      "1685 is divisible by 5\n",
      "1686 is divisible by 2\n",
      "1687 is divisible by 7\n",
      "1688 is divisible by 2\n",
      "1689 is divisible by 3\n",
      "1690 is divisible by 2\n",
      "1691 is divisible by 19\n",
      "1692 is divisible by 2\n",
      "1693 is PRIME\n",
      "1694 is divisible by 2\n",
      "1695 is divisible by 3\n",
      "1696 is divisible by 2\n",
      "1697 is PRIME\n",
      "1698 is divisible by 2\n",
      "1699 is PRIME\n",
      "1700 is divisible by 2\n",
      "1701 is divisible by 3\n",
      "1702 is divisible by 2\n",
      "1703 is divisible by 13\n",
      "1704 is divisible by 2\n",
      "1705 is divisible by 5\n",
      "1706 is divisible by 2\n",
      "1707 is divisible by 3\n",
      "1708 is divisible by 2\n",
      "1709 is PRIME\n",
      "1710 is divisible by 2\n",
      "1711 is divisible by 29\n",
      "1712 is divisible by 2\n",
      "1713 is divisible by 3\n",
      "1714 is divisible by 2\n",
      "1715 is divisible by 5\n",
      "1716 is divisible by 2\n",
      "1717 is divisible by 17\n",
      "1718 is divisible by 2\n",
      "1719 is divisible by 3\n",
      "1720 is divisible by 2\n",
      "1721 is PRIME\n",
      "1722 is divisible by 2\n",
      "1723 is PRIME\n",
      "1724 is divisible by 2\n",
      "1725 is divisible by 3\n",
      "1726 is divisible by 2\n",
      "1727 is divisible by 11\n",
      "1728 is divisible by 2\n",
      "1729 is divisible by 7\n",
      "1730 is divisible by 2\n",
      "1731 is divisible by 3\n",
      "1732 is divisible by 2\n",
      "1733 is PRIME\n",
      "1734 is divisible by 2\n",
      "1735 is divisible by 5\n",
      "1736 is divisible by 2\n",
      "1737 is divisible by 3\n",
      "1738 is divisible by 2\n",
      "1739 is divisible by 37\n",
      "1740 is divisible by 2\n",
      "1741 is PRIME\n",
      "1742 is divisible by 2\n",
      "1743 is divisible by 3\n",
      "1744 is divisible by 2\n",
      "1745 is divisible by 5\n",
      "1746 is divisible by 2\n",
      "1747 is PRIME\n",
      "1748 is divisible by 2\n",
      "1749 is divisible by 3\n",
      "1750 is divisible by 2\n",
      "1751 is divisible by 17\n",
      "1752 is divisible by 2\n",
      "1753 is PRIME\n",
      "1754 is divisible by 2\n",
      "1755 is divisible by 3\n",
      "1756 is divisible by 2\n",
      "1757 is divisible by 7\n",
      "1758 is divisible by 2\n",
      "1759 is PRIME\n",
      "1760 is divisible by 2\n",
      "1761 is divisible by 3\n",
      "1762 is divisible by 2\n",
      "1763 is divisible by 41\n",
      "1764 is divisible by 2\n",
      "1765 is divisible by 5\n",
      "1766 is divisible by 2\n",
      "1767 is divisible by 3\n",
      "1768 is divisible by 2\n",
      "1769 is divisible by 29\n",
      "1770 is divisible by 2\n",
      "1771 is divisible by 7\n",
      "1772 is divisible by 2\n",
      "1773 is divisible by 3\n",
      "1774 is divisible by 2\n",
      "1775 is divisible by 5\n",
      "1776 is divisible by 2\n",
      "1777 is PRIME\n",
      "1778 is divisible by 2\n",
      "1779 is divisible by 3\n",
      "1780 is divisible by 2\n",
      "1781 is divisible by 13\n",
      "1782 is divisible by 2\n",
      "1783 is PRIME\n",
      "1784 is divisible by 2\n",
      "1785 is divisible by 3\n",
      "1786 is divisible by 2\n",
      "1787 is PRIME\n",
      "1788 is divisible by 2\n",
      "1789 is PRIME\n",
      "1790 is divisible by 2\n",
      "1791 is divisible by 3\n",
      "1792 is divisible by 2\n",
      "1793 is divisible by 11\n",
      "1794 is divisible by 2\n",
      "1795 is divisible by 5\n",
      "1796 is divisible by 2\n",
      "1797 is divisible by 3\n",
      "1798 is divisible by 2\n",
      "1799 is divisible by 7\n",
      "1800 is divisible by 2\n",
      "1801 is PRIME\n",
      "1802 is divisible by 2\n",
      "1803 is divisible by 3\n",
      "1804 is divisible by 2\n",
      "1805 is divisible by 5\n",
      "1806 is divisible by 2\n",
      "1807 is divisible by 13\n",
      "1808 is divisible by 2\n",
      "1809 is divisible by 3\n",
      "1810 is divisible by 2\n",
      "1811 is PRIME\n",
      "1812 is divisible by 2\n",
      "1813 is divisible by 7\n",
      "1814 is divisible by 2\n",
      "1815 is divisible by 3\n",
      "1816 is divisible by 2\n",
      "1817 is divisible by 23\n",
      "1818 is divisible by 2\n",
      "1819 is divisible by 17\n",
      "1820 is divisible by 2\n",
      "1821 is divisible by 3\n",
      "1822 is divisible by 2\n",
      "1823 is PRIME\n",
      "1824 is divisible by 2\n",
      "1825 is divisible by 5\n",
      "1826 is divisible by 2\n",
      "1827 is divisible by 3\n",
      "1828 is divisible by 2\n",
      "1829 is divisible by 31\n",
      "1830 is divisible by 2\n",
      "1831 is PRIME\n",
      "1832 is divisible by 2\n",
      "1833 is divisible by 3\n",
      "1834 is divisible by 2\n",
      "1835 is divisible by 5\n",
      "1836 is divisible by 2\n",
      "1837 is divisible by 11\n",
      "1838 is divisible by 2\n",
      "1839 is divisible by 3\n",
      "1840 is divisible by 2\n",
      "1841 is divisible by 7\n",
      "1842 is divisible by 2\n",
      "1843 is divisible by 19\n",
      "1844 is divisible by 2\n",
      "1845 is divisible by 3\n",
      "1846 is divisible by 2\n",
      "1847 is PRIME\n",
      "1848 is divisible by 2\n",
      "1849 is divisible by 43\n",
      "1850 is divisible by 2\n",
      "1851 is divisible by 3\n",
      "1852 is divisible by 2\n",
      "1853 is divisible by 17\n",
      "1854 is divisible by 2\n",
      "1855 is divisible by 5\n",
      "1856 is divisible by 2\n",
      "1857 is divisible by 3\n",
      "1858 is divisible by 2\n",
      "1859 is divisible by 11\n",
      "1860 is divisible by 2\n",
      "1861 is PRIME\n",
      "1862 is divisible by 2\n",
      "1863 is divisible by 3\n",
      "1864 is divisible by 2\n",
      "1865 is divisible by 5\n",
      "1866 is divisible by 2\n",
      "1867 is PRIME\n",
      "1868 is divisible by 2\n",
      "1869 is divisible by 3\n",
      "1870 is divisible by 2\n",
      "1871 is PRIME\n",
      "1872 is divisible by 2\n",
      "1873 is PRIME\n",
      "1874 is divisible by 2\n",
      "1875 is divisible by 3\n",
      "1876 is divisible by 2\n",
      "1877 is PRIME\n",
      "1878 is divisible by 2\n",
      "1879 is PRIME\n",
      "1880 is divisible by 2\n",
      "1881 is divisible by 3\n",
      "1882 is divisible by 2\n",
      "1883 is divisible by 7\n",
      "1884 is divisible by 2\n",
      "1885 is divisible by 5\n",
      "1886 is divisible by 2\n"
     ]
    },
    {
     "name": "stdout",
     "output_type": "stream",
     "text": [
      "1887 is divisible by 3\n",
      "1888 is divisible by 2\n",
      "1889 is PRIME\n",
      "1890 is divisible by 2\n",
      "1891 is divisible by 31\n",
      "1892 is divisible by 2\n",
      "1893 is divisible by 3\n",
      "1894 is divisible by 2\n",
      "1895 is divisible by 5\n",
      "1896 is divisible by 2\n",
      "1897 is divisible by 7\n",
      "1898 is divisible by 2\n",
      "1899 is divisible by 3\n",
      "1900 is divisible by 2\n",
      "1901 is PRIME\n",
      "1902 is divisible by 2\n",
      "1903 is divisible by 11\n",
      "1904 is divisible by 2\n",
      "1905 is divisible by 3\n",
      "1906 is divisible by 2\n",
      "1907 is PRIME\n",
      "1908 is divisible by 2\n",
      "1909 is divisible by 23\n",
      "1910 is divisible by 2\n",
      "1911 is divisible by 3\n",
      "1912 is divisible by 2\n",
      "1913 is PRIME\n",
      "1914 is divisible by 2\n",
      "1915 is divisible by 5\n",
      "1916 is divisible by 2\n",
      "1917 is divisible by 3\n",
      "1918 is divisible by 2\n",
      "1919 is divisible by 19\n",
      "1920 is divisible by 2\n",
      "1921 is divisible by 17\n",
      "1922 is divisible by 2\n",
      "1923 is divisible by 3\n",
      "1924 is divisible by 2\n",
      "1925 is divisible by 5\n",
      "1926 is divisible by 2\n",
      "1927 is divisible by 41\n",
      "1928 is divisible by 2\n",
      "1929 is divisible by 3\n",
      "1930 is divisible by 2\n",
      "1931 is PRIME\n",
      "1932 is divisible by 2\n",
      "1933 is PRIME\n",
      "1934 is divisible by 2\n",
      "1935 is divisible by 3\n",
      "1936 is divisible by 2\n",
      "1937 is divisible by 13\n",
      "1938 is divisible by 2\n",
      "1939 is divisible by 7\n",
      "1940 is divisible by 2\n",
      "1941 is divisible by 3\n",
      "1942 is divisible by 2\n",
      "1943 is divisible by 29\n",
      "1944 is divisible by 2\n",
      "1945 is divisible by 5\n",
      "1946 is divisible by 2\n",
      "1947 is divisible by 3\n",
      "1948 is divisible by 2\n",
      "1949 is PRIME\n",
      "1950 is divisible by 2\n",
      "1951 is PRIME\n",
      "1952 is divisible by 2\n",
      "1953 is divisible by 3\n",
      "1954 is divisible by 2\n",
      "1955 is divisible by 5\n",
      "1956 is divisible by 2\n",
      "1957 is divisible by 19\n",
      "1958 is divisible by 2\n",
      "1959 is divisible by 3\n",
      "1960 is divisible by 2\n",
      "1961 is divisible by 37\n",
      "1962 is divisible by 2\n",
      "1963 is divisible by 13\n",
      "1964 is divisible by 2\n",
      "1965 is divisible by 3\n",
      "1966 is divisible by 2\n",
      "1967 is divisible by 7\n",
      "1968 is divisible by 2\n",
      "1969 is divisible by 11\n",
      "1970 is divisible by 2\n",
      "1971 is divisible by 3\n",
      "1972 is divisible by 2\n",
      "1973 is PRIME\n",
      "1974 is divisible by 2\n",
      "1975 is divisible by 5\n",
      "1976 is divisible by 2\n",
      "1977 is divisible by 3\n",
      "1978 is divisible by 2\n",
      "1979 is PRIME\n",
      "1980 is divisible by 2\n",
      "1981 is divisible by 7\n",
      "1982 is divisible by 2\n",
      "1983 is divisible by 3\n",
      "1984 is divisible by 2\n",
      "1985 is divisible by 5\n",
      "1986 is divisible by 2\n",
      "1987 is PRIME\n",
      "1988 is divisible by 2\n",
      "1989 is divisible by 3\n",
      "1990 is divisible by 2\n",
      "1991 is divisible by 11\n",
      "1992 is divisible by 2\n",
      "1993 is PRIME\n",
      "1994 is divisible by 2\n",
      "1995 is divisible by 3\n",
      "1996 is divisible by 2\n",
      "1997 is PRIME\n",
      "1998 is divisible by 2\n",
      "1999 is PRIME\n",
      "2000 is divisible by 2\n",
      "2001 is divisible by 3\n",
      "2002 is divisible by 2\n",
      "2003 is PRIME\n",
      "2004 is divisible by 2\n",
      "2005 is divisible by 5\n",
      "2006 is divisible by 2\n",
      "2007 is divisible by 3\n",
      "2008 is divisible by 2\n",
      "2009 is divisible by 7\n",
      "2010 is divisible by 2\n",
      "2011 is PRIME\n",
      "2012 is divisible by 2\n",
      "2013 is divisible by 3\n",
      "2014 is divisible by 2\n",
      "2015 is divisible by 5\n",
      "2016 is divisible by 2\n",
      "2017 is PRIME\n",
      "2018 is divisible by 2\n",
      "2019 is divisible by 3\n",
      "2020 is divisible by 2\n",
      "2021 is divisible by 43\n",
      "2022 is divisible by 2\n",
      "2023 is divisible by 7\n",
      "2024 is divisible by 2\n",
      "2025 is divisible by 3\n",
      "2026 is divisible by 2\n",
      "2027 is PRIME\n",
      "2028 is divisible by 2\n",
      "2029 is PRIME\n",
      "2030 is divisible by 2\n",
      "2031 is divisible by 3\n",
      "2032 is divisible by 2\n",
      "2033 is divisible by 19\n",
      "2034 is divisible by 2\n",
      "2035 is divisible by 5\n",
      "2036 is divisible by 2\n",
      "2037 is divisible by 3\n",
      "2038 is divisible by 2\n",
      "2039 is PRIME\n",
      "2040 is divisible by 2\n",
      "2041 is divisible by 13\n",
      "2042 is divisible by 2\n",
      "2043 is divisible by 3\n",
      "2044 is divisible by 2\n",
      "2045 is divisible by 5\n",
      "2046 is divisible by 2\n",
      "2047 is divisible by 23\n",
      "2048 is divisible by 2\n",
      "2049 is divisible by 3\n",
      "2050 is divisible by 2\n",
      "2051 is divisible by 7\n",
      "2052 is divisible by 2\n",
      "2053 is PRIME\n",
      "2054 is divisible by 2\n",
      "2055 is divisible by 3\n",
      "2056 is divisible by 2\n",
      "2057 is divisible by 11\n",
      "2058 is divisible by 2\n",
      "2059 is divisible by 29\n",
      "2060 is divisible by 2\n",
      "2061 is divisible by 3\n",
      "2062 is divisible by 2\n",
      "2063 is PRIME\n",
      "2064 is divisible by 2\n",
      "2065 is divisible by 5\n",
      "2066 is divisible by 2\n",
      "2067 is divisible by 3\n",
      "2068 is divisible by 2\n",
      "2069 is PRIME\n",
      "2070 is divisible by 2\n",
      "2071 is divisible by 19\n",
      "2072 is divisible by 2\n",
      "2073 is divisible by 3\n",
      "2074 is divisible by 2\n",
      "2075 is divisible by 5\n",
      "2076 is divisible by 2\n",
      "2077 is divisible by 31\n",
      "2078 is divisible by 2\n",
      "2079 is divisible by 3\n",
      "2080 is divisible by 2\n",
      "2081 is PRIME\n",
      "2082 is divisible by 2\n",
      "2083 is PRIME\n",
      "2084 is divisible by 2\n",
      "2085 is divisible by 3\n",
      "2086 is divisible by 2\n",
      "2087 is PRIME\n",
      "2088 is divisible by 2\n",
      "2089 is PRIME\n",
      "2090 is divisible by 2\n",
      "2091 is divisible by 3\n",
      "2092 is divisible by 2\n",
      "2093 is divisible by 7\n",
      "2094 is divisible by 2\n",
      "2095 is divisible by 5\n",
      "2096 is divisible by 2\n",
      "2097 is divisible by 3\n",
      "2098 is divisible by 2\n",
      "2099 is PRIME\n",
      "2100 is divisible by 2\n",
      "2101 is divisible by 11\n",
      "2102 is divisible by 2\n",
      "2103 is divisible by 3\n",
      "2104 is divisible by 2\n",
      "2105 is divisible by 5\n",
      "2106 is divisible by 2\n",
      "2107 is divisible by 7\n",
      "2108 is divisible by 2\n",
      "2109 is divisible by 3\n",
      "2110 is divisible by 2\n",
      "2111 is PRIME\n",
      "2112 is divisible by 2\n",
      "2113 is PRIME\n",
      "2114 is divisible by 2\n",
      "2115 is divisible by 3\n",
      "2116 is divisible by 2\n",
      "2117 is divisible by 29\n",
      "2118 is divisible by 2\n",
      "2119 is divisible by 13\n",
      "2120 is divisible by 2\n",
      "2121 is divisible by 3\n",
      "2122 is divisible by 2\n",
      "2123 is divisible by 11\n",
      "2124 is divisible by 2\n",
      "2125 is divisible by 5\n",
      "2126 is divisible by 2\n",
      "2127 is divisible by 3\n",
      "2128 is divisible by 2\n",
      "2129 is PRIME\n",
      "2130 is divisible by 2\n",
      "2131 is PRIME\n",
      "2132 is divisible by 2\n",
      "2133 is divisible by 3\n",
      "2134 is divisible by 2\n",
      "2135 is divisible by 5\n",
      "2136 is divisible by 2\n",
      "2137 is PRIME\n",
      "2138 is divisible by 2\n",
      "2139 is divisible by 3\n",
      "2140 is divisible by 2\n",
      "2141 is PRIME\n",
      "2142 is divisible by 2\n",
      "2143 is PRIME\n",
      "2144 is divisible by 2\n",
      "2145 is divisible by 3\n",
      "2146 is divisible by 2\n",
      "2147 is divisible by 19\n",
      "2148 is divisible by 2\n",
      "2149 is divisible by 7\n",
      "2150 is divisible by 2\n",
      "2151 is divisible by 3\n",
      "2152 is divisible by 2\n",
      "2153 is PRIME\n",
      "2154 is divisible by 2\n",
      "2155 is divisible by 5\n",
      "2156 is divisible by 2\n",
      "2157 is divisible by 3\n",
      "2158 is divisible by 2\n",
      "2159 is divisible by 17\n",
      "2160 is divisible by 2\n",
      "2161 is PRIME\n",
      "2162 is divisible by 2\n",
      "2163 is divisible by 3\n",
      "2164 is divisible by 2\n",
      "2165 is divisible by 5\n",
      "2166 is divisible by 2\n",
      "2167 is divisible by 11\n",
      "2168 is divisible by 2\n",
      "2169 is divisible by 3\n",
      "2170 is divisible by 2\n",
      "2171 is divisible by 13\n",
      "2172 is divisible by 2\n",
      "2173 is divisible by 41\n",
      "2174 is divisible by 2\n",
      "2175 is divisible by 3\n",
      "2176 is divisible by 2\n",
      "2177 is divisible by 7\n",
      "2178 is divisible by 2\n",
      "2179 is PRIME\n",
      "2180 is divisible by 2\n",
      "2181 is divisible by 3\n",
      "2182 is divisible by 2\n",
      "2183 is divisible by 37\n",
      "2184 is divisible by 2\n",
      "2185 is divisible by 5\n",
      "2186 is divisible by 2\n",
      "2187 is divisible by 3\n",
      "2188 is divisible by 2\n",
      "2189 is divisible by 11\n",
      "2190 is divisible by 2\n",
      "2191 is divisible by 7\n",
      "2192 is divisible by 2\n",
      "2193 is divisible by 3\n",
      "2194 is divisible by 2\n",
      "2195 is divisible by 5\n",
      "2196 is divisible by 2\n",
      "2197 is divisible by 13\n",
      "2198 is divisible by 2\n",
      "2199 is divisible by 3\n",
      "2200 is divisible by 2\n",
      "2201 is divisible by 31\n",
      "2202 is divisible by 2\n",
      "2203 is PRIME\n",
      "2204 is divisible by 2\n",
      "2205 is divisible by 3\n",
      "2206 is divisible by 2\n",
      "2207 is PRIME\n",
      "2208 is divisible by 2\n",
      "2209 is divisible by 47\n",
      "2210 is divisible by 2\n",
      "2211 is divisible by 3\n",
      "2212 is divisible by 2\n",
      "2213 is PRIME\n",
      "2214 is divisible by 2\n",
      "2215 is divisible by 5\n",
      "2216 is divisible by 2\n",
      "2217 is divisible by 3\n",
      "2218 is divisible by 2\n",
      "2219 is divisible by 7\n",
      "2220 is divisible by 2\n",
      "2221 is PRIME\n",
      "2222 is divisible by 2\n",
      "2223 is divisible by 3\n",
      "2224 is divisible by 2\n",
      "2225 is divisible by 5\n",
      "2226 is divisible by 2\n",
      "2227 is divisible by 17\n",
      "2228 is divisible by 2\n",
      "2229 is divisible by 3\n",
      "2230 is divisible by 2\n",
      "2231 is divisible by 23\n",
      "2232 is divisible by 2\n",
      "2233 is divisible by 7\n",
      "2234 is divisible by 2\n",
      "2235 is divisible by 3\n",
      "2236 is divisible by 2\n",
      "2237 is PRIME\n",
      "2238 is divisible by 2\n",
      "2239 is PRIME\n",
      "2240 is divisible by 2\n",
      "2241 is divisible by 3\n",
      "2242 is divisible by 2\n",
      "2243 is PRIME\n",
      "2244 is divisible by 2\n",
      "2245 is divisible by 5\n",
      "2246 is divisible by 2\n",
      "2247 is divisible by 3\n",
      "2248 is divisible by 2\n",
      "2249 is divisible by 13\n",
      "2250 is divisible by 2\n",
      "2251 is PRIME\n",
      "2252 is divisible by 2\n",
      "2253 is divisible by 3\n",
      "2254 is divisible by 2\n",
      "2255 is divisible by 5\n",
      "2256 is divisible by 2\n",
      "2257 is divisible by 37\n",
      "2258 is divisible by 2\n",
      "2259 is divisible by 3\n",
      "2260 is divisible by 2\n",
      "2261 is divisible by 7\n",
      "2262 is divisible by 2\n",
      "2263 is divisible by 31\n",
      "2264 is divisible by 2\n",
      "2265 is divisible by 3\n",
      "2266 is divisible by 2\n",
      "2267 is PRIME\n",
      "2268 is divisible by 2\n",
      "2269 is PRIME\n",
      "2270 is divisible by 2\n",
      "2271 is divisible by 3\n",
      "2272 is divisible by 2\n",
      "2273 is PRIME\n",
      "2274 is divisible by 2\n",
      "2275 is divisible by 5\n",
      "2276 is divisible by 2\n",
      "2277 is divisible by 3\n",
      "2278 is divisible by 2\n",
      "2279 is divisible by 43\n",
      "2280 is divisible by 2\n",
      "2281 is PRIME\n",
      "2282 is divisible by 2\n",
      "2283 is divisible by 3\n",
      "2284 is divisible by 2\n",
      "2285 is divisible by 5\n",
      "2286 is divisible by 2\n",
      "2287 is PRIME\n",
      "2288 is divisible by 2\n",
      "2289 is divisible by 3\n",
      "2290 is divisible by 2\n",
      "2291 is divisible by 29\n",
      "2292 is divisible by 2\n",
      "2293 is PRIME\n",
      "2294 is divisible by 2\n",
      "2295 is divisible by 3\n",
      "2296 is divisible by 2\n",
      "2297 is PRIME\n",
      "2298 is divisible by 2\n",
      "2299 is divisible by 11\n",
      "2300 is divisible by 2\n",
      "2301 is divisible by 3\n",
      "2302 is divisible by 2\n",
      "2303 is divisible by 7\n",
      "2304 is divisible by 2\n",
      "2305 is divisible by 5\n",
      "2306 is divisible by 2\n",
      "2307 is divisible by 3\n",
      "2308 is divisible by 2\n",
      "2309 is PRIME\n",
      "2310 is divisible by 2\n",
      "2311 is PRIME\n",
      "2312 is divisible by 2\n",
      "2313 is divisible by 3\n",
      "2314 is divisible by 2\n",
      "2315 is divisible by 5\n",
      "2316 is divisible by 2\n",
      "2317 is divisible by 7\n",
      "2318 is divisible by 2\n",
      "2319 is divisible by 3\n",
      "2320 is divisible by 2\n",
      "2321 is divisible by 11\n",
      "2322 is divisible by 2\n",
      "2323 is divisible by 23\n",
      "2324 is divisible by 2\n",
      "2325 is divisible by 3\n",
      "2326 is divisible by 2\n",
      "2327 is divisible by 13\n",
      "2328 is divisible by 2\n",
      "2329 is divisible by 17\n",
      "2330 is divisible by 2\n",
      "2331 is divisible by 3\n",
      "2332 is divisible by 2\n",
      "2333 is PRIME\n",
      "2334 is divisible by 2\n",
      "2335 is divisible by 5\n",
      "2336 is divisible by 2\n",
      "2337 is divisible by 3\n",
      "2338 is divisible by 2\n",
      "2339 is PRIME\n",
      "2340 is divisible by 2\n",
      "2341 is PRIME\n",
      "2342 is divisible by 2\n",
      "2343 is divisible by 3\n",
      "2344 is divisible by 2\n",
      "2345 is divisible by 5\n",
      "2346 is divisible by 2\n",
      "2347 is PRIME\n",
      "2348 is divisible by 2\n",
      "2349 is divisible by 3\n",
      "2350 is divisible by 2\n",
      "2351 is PRIME\n",
      "2352 is divisible by 2\n",
      "2353 is divisible by 13\n",
      "2354 is divisible by 2\n",
      "2355 is divisible by 3\n",
      "2356 is divisible by 2\n",
      "2357 is PRIME\n",
      "2358 is divisible by 2\n",
      "2359 is divisible by 7\n",
      "2360 is divisible by 2\n",
      "2361 is divisible by 3\n",
      "2362 is divisible by 2\n",
      "2363 is divisible by 17\n",
      "2364 is divisible by 2\n",
      "2365 is divisible by 5\n",
      "2366 is divisible by 2\n",
      "2367 is divisible by 3\n",
      "2368 is divisible by 2\n",
      "2369 is divisible by 23\n",
      "2370 is divisible by 2\n",
      "2371 is PRIME\n",
      "2372 is divisible by 2\n",
      "2373 is divisible by 3\n",
      "2374 is divisible by 2\n",
      "2375 is divisible by 5\n",
      "2376 is divisible by 2\n",
      "2377 is PRIME\n",
      "2378 is divisible by 2\n",
      "2379 is divisible by 3\n",
      "2380 is divisible by 2\n",
      "2381 is PRIME\n",
      "2382 is divisible by 2\n",
      "2383 is PRIME\n",
      "2384 is divisible by 2\n",
      "2385 is divisible by 3\n",
      "2386 is divisible by 2\n",
      "2387 is divisible by 7\n",
      "2388 is divisible by 2\n",
      "2389 is PRIME\n",
      "2390 is divisible by 2\n",
      "2391 is divisible by 3\n",
      "2392 is divisible by 2\n",
      "2393 is PRIME\n",
      "2394 is divisible by 2\n",
      "2395 is divisible by 5\n",
      "2396 is divisible by 2\n",
      "2397 is divisible by 3\n",
      "2398 is divisible by 2\n",
      "2399 is PRIME\n",
      "2400 is divisible by 2\n",
      "2401 is divisible by 7\n",
      "2402 is divisible by 2\n",
      "2403 is divisible by 3\n",
      "2404 is divisible by 2\n",
      "2405 is divisible by 5\n",
      "2406 is divisible by 2\n",
      "2407 is divisible by 29\n",
      "2408 is divisible by 2\n",
      "2409 is divisible by 3\n",
      "2410 is divisible by 2\n",
      "2411 is PRIME\n",
      "2412 is divisible by 2\n",
      "2413 is divisible by 19\n",
      "2414 is divisible by 2\n",
      "2415 is divisible by 3\n",
      "2416 is divisible by 2\n",
      "2417 is PRIME\n",
      "2418 is divisible by 2\n",
      "2419 is divisible by 41\n",
      "2420 is divisible by 2\n",
      "2421 is divisible by 3\n",
      "2422 is divisible by 2\n",
      "2423 is PRIME\n",
      "2424 is divisible by 2\n",
      "2425 is divisible by 5\n",
      "2426 is divisible by 2\n",
      "2427 is divisible by 3\n",
      "2428 is divisible by 2\n",
      "2429 is divisible by 7\n",
      "2430 is divisible by 2\n",
      "2431 is divisible by 11\n",
      "2432 is divisible by 2\n",
      "2433 is divisible by 3\n",
      "2434 is divisible by 2\n",
      "2435 is divisible by 5\n",
      "2436 is divisible by 2\n",
      "2437 is PRIME\n",
      "2438 is divisible by 2\n",
      "2439 is divisible by 3\n",
      "2440 is divisible by 2\n",
      "2441 is PRIME\n",
      "2442 is divisible by 2\n",
      "2443 is divisible by 7\n",
      "2444 is divisible by 2\n",
      "2445 is divisible by 3\n",
      "2446 is divisible by 2\n",
      "2447 is PRIME\n",
      "2448 is divisible by 2\n",
      "2449 is divisible by 31\n",
      "2450 is divisible by 2\n",
      "2451 is divisible by 3\n",
      "2452 is divisible by 2\n",
      "2453 is divisible by 11\n",
      "2454 is divisible by 2\n",
      "2455 is divisible by 5\n",
      "2456 is divisible by 2\n",
      "2457 is divisible by 3\n",
      "2458 is divisible by 2\n",
      "2459 is PRIME\n",
      "2460 is divisible by 2\n",
      "2461 is divisible by 23\n",
      "2462 is divisible by 2\n",
      "2463 is divisible by 3\n",
      "2464 is divisible by 2\n",
      "2465 is divisible by 5\n",
      "2466 is divisible by 2\n",
      "2467 is PRIME\n",
      "2468 is divisible by 2\n",
      "2469 is divisible by 3\n",
      "2470 is divisible by 2\n",
      "2471 is divisible by 7\n",
      "2472 is divisible by 2\n",
      "2473 is PRIME\n",
      "2474 is divisible by 2\n",
      "2475 is divisible by 3\n",
      "2476 is divisible by 2\n",
      "2477 is PRIME\n",
      "2478 is divisible by 2\n",
      "2479 is divisible by 37\n",
      "2480 is divisible by 2\n",
      "2481 is divisible by 3\n",
      "2482 is divisible by 2\n",
      "2483 is divisible by 13\n",
      "2484 is divisible by 2\n",
      "2485 is divisible by 5\n",
      "2486 is divisible by 2\n",
      "2487 is divisible by 3\n",
      "2488 is divisible by 2\n",
      "2489 is divisible by 19\n",
      "2490 is divisible by 2\n",
      "2491 is divisible by 47\n",
      "2492 is divisible by 2\n",
      "2493 is divisible by 3\n",
      "2494 is divisible by 2\n",
      "2495 is divisible by 5\n",
      "2496 is divisible by 2\n",
      "2497 is divisible by 11\n",
      "2498 is divisible by 2\n",
      "2499 is divisible by 3\n",
      "2500 is divisible by 2\n",
      "2501 is divisible by 41\n",
      "2502 is divisible by 2\n",
      "2503 is PRIME\n",
      "2504 is divisible by 2\n",
      "2505 is divisible by 3\n",
      "2506 is divisible by 2\n",
      "2507 is divisible by 23\n",
      "2508 is divisible by 2\n",
      "2509 is divisible by 13\n",
      "2510 is divisible by 2\n",
      "2511 is divisible by 3\n",
      "2512 is divisible by 2\n",
      "2513 is divisible by 7\n",
      "2514 is divisible by 2\n",
      "2515 is divisible by 5\n",
      "2516 is divisible by 2\n",
      "2517 is divisible by 3\n",
      "2518 is divisible by 2\n",
      "2519 is divisible by 11\n",
      "2520 is divisible by 2\n",
      "2521 is PRIME\n",
      "2522 is divisible by 2\n",
      "2523 is divisible by 3\n",
      "2524 is divisible by 2\n",
      "2525 is divisible by 5\n",
      "2526 is divisible by 2\n",
      "2527 is divisible by 7\n",
      "2528 is divisible by 2\n",
      "2529 is divisible by 3\n",
      "2530 is divisible by 2\n",
      "2531 is PRIME\n",
      "2532 is divisible by 2\n",
      "2533 is divisible by 17\n",
      "2534 is divisible by 2\n",
      "2535 is divisible by 3\n",
      "2536 is divisible by 2\n",
      "2537 is divisible by 43\n",
      "2538 is divisible by 2\n",
      "2539 is PRIME\n",
      "2540 is divisible by 2\n",
      "2541 is divisible by 3\n",
      "2542 is divisible by 2\n",
      "2543 is PRIME\n",
      "2544 is divisible by 2\n",
      "2545 is divisible by 5\n",
      "2546 is divisible by 2\n",
      "2547 is divisible by 3\n",
      "2548 is divisible by 2\n",
      "2549 is PRIME\n",
      "2550 is divisible by 2\n",
      "2551 is PRIME\n",
      "2552 is divisible by 2\n",
      "2553 is divisible by 3\n",
      "2554 is divisible by 2\n",
      "2555 is divisible by 5\n",
      "2556 is divisible by 2\n",
      "2557 is PRIME\n",
      "2558 is divisible by 2\n",
      "2559 is divisible by 3\n",
      "2560 is divisible by 2\n",
      "2561 is divisible by 13\n",
      "2562 is divisible by 2\n",
      "2563 is divisible by 11\n",
      "2564 is divisible by 2\n",
      "2565 is divisible by 3\n",
      "2566 is divisible by 2\n",
      "2567 is divisible by 17\n",
      "2568 is divisible by 2\n",
      "2569 is divisible by 7\n",
      "2570 is divisible by 2\n",
      "2571 is divisible by 3\n",
      "2572 is divisible by 2\n",
      "2573 is divisible by 31\n",
      "2574 is divisible by 2\n",
      "2575 is divisible by 5\n",
      "2576 is divisible by 2\n",
      "2577 is divisible by 3\n",
      "2578 is divisible by 2\n",
      "2579 is PRIME\n",
      "2580 is divisible by 2\n",
      "2581 is divisible by 29\n",
      "2582 is divisible by 2\n",
      "2583 is divisible by 3\n",
      "2584 is divisible by 2\n",
      "2585 is divisible by 5\n",
      "2586 is divisible by 2\n",
      "2587 is divisible by 13\n",
      "2588 is divisible by 2\n",
      "2589 is divisible by 3\n",
      "2590 is divisible by 2\n",
      "2591 is PRIME\n",
      "2592 is divisible by 2\n",
      "2593 is PRIME\n",
      "2594 is divisible by 2\n",
      "2595 is divisible by 3\n",
      "2596 is divisible by 2\n",
      "2597 is divisible by 7\n",
      "2598 is divisible by 2\n",
      "2599 is divisible by 23\n",
      "2600 is divisible by 2\n",
      "2601 is divisible by 3\n",
      "2602 is divisible by 2\n",
      "2603 is divisible by 19\n",
      "2604 is divisible by 2\n",
      "2605 is divisible by 5\n",
      "2606 is divisible by 2\n",
      "2607 is divisible by 3\n",
      "2608 is divisible by 2\n",
      "2609 is PRIME\n",
      "2610 is divisible by 2\n",
      "2611 is divisible by 7\n",
      "2612 is divisible by 2\n",
      "2613 is divisible by 3\n",
      "2614 is divisible by 2\n",
      "2615 is divisible by 5\n",
      "2616 is divisible by 2\n",
      "2617 is PRIME\n",
      "2618 is divisible by 2\n",
      "2619 is divisible by 3\n",
      "2620 is divisible by 2\n",
      "2621 is PRIME\n",
      "2622 is divisible by 2\n",
      "2623 is divisible by 43\n",
      "2624 is divisible by 2\n",
      "2625 is divisible by 3\n",
      "2626 is divisible by 2\n",
      "2627 is divisible by 37\n",
      "2628 is divisible by 2\n",
      "2629 is divisible by 11\n",
      "2630 is divisible by 2\n",
      "2631 is divisible by 3\n",
      "2632 is divisible by 2\n",
      "2633 is PRIME\n",
      "2634 is divisible by 2\n",
      "2635 is divisible by 5\n",
      "2636 is divisible by 2\n",
      "2637 is divisible by 3\n",
      "2638 is divisible by 2\n",
      "2639 is divisible by 7\n",
      "2640 is divisible by 2\n",
      "2641 is divisible by 19\n",
      "2642 is divisible by 2\n",
      "2643 is divisible by 3\n",
      "2644 is divisible by 2\n",
      "2645 is divisible by 5\n",
      "2646 is divisible by 2\n",
      "2647 is PRIME\n",
      "2648 is divisible by 2\n",
      "2649 is divisible by 3\n",
      "2650 is divisible by 2\n",
      "2651 is divisible by 11\n",
      "2652 is divisible by 2\n",
      "2653 is divisible by 7\n",
      "2654 is divisible by 2\n",
      "2655 is divisible by 3\n",
      "2656 is divisible by 2\n",
      "2657 is PRIME\n",
      "2658 is divisible by 2\n",
      "2659 is PRIME\n",
      "2660 is divisible by 2\n",
      "2661 is divisible by 3\n",
      "2662 is divisible by 2\n",
      "2663 is PRIME\n",
      "2664 is divisible by 2\n",
      "2665 is divisible by 5\n",
      "2666 is divisible by 2\n",
      "2667 is divisible by 3\n",
      "2668 is divisible by 2\n",
      "2669 is divisible by 17\n",
      "2670 is divisible by 2\n",
      "2671 is PRIME\n",
      "2672 is divisible by 2\n",
      "2673 is divisible by 3\n",
      "2674 is divisible by 2\n",
      "2675 is divisible by 5\n",
      "2676 is divisible by 2\n",
      "2677 is PRIME\n",
      "2678 is divisible by 2\n",
      "2679 is divisible by 3\n",
      "2680 is divisible by 2\n",
      "2681 is divisible by 7\n",
      "2682 is divisible by 2\n",
      "2683 is PRIME\n",
      "2684 is divisible by 2\n",
      "2685 is divisible by 3\n",
      "2686 is divisible by 2\n",
      "2687 is PRIME\n",
      "2688 is divisible by 2\n",
      "2689 is PRIME\n",
      "2690 is divisible by 2\n",
      "2691 is divisible by 3\n",
      "2692 is divisible by 2\n",
      "2693 is PRIME\n",
      "2694 is divisible by 2\n",
      "2695 is divisible by 5\n",
      "2696 is divisible by 2\n",
      "2697 is divisible by 3\n",
      "2698 is divisible by 2\n",
      "2699 is PRIME\n",
      "2700 is divisible by 2\n",
      "2701 is divisible by 37\n",
      "2702 is divisible by 2\n",
      "2703 is divisible by 3\n",
      "2704 is divisible by 2\n",
      "2705 is divisible by 5\n",
      "2706 is divisible by 2\n",
      "2707 is PRIME\n",
      "2708 is divisible by 2\n",
      "2709 is divisible by 3\n",
      "2710 is divisible by 2\n",
      "2711 is PRIME\n",
      "2712 is divisible by 2\n",
      "2713 is PRIME\n",
      "2714 is divisible by 2\n",
      "2715 is divisible by 3\n",
      "2716 is divisible by 2\n",
      "2717 is divisible by 11\n",
      "2718 is divisible by 2\n",
      "2719 is PRIME\n",
      "2720 is divisible by 2\n",
      "2721 is divisible by 3\n",
      "2722 is divisible by 2\n",
      "2723 is divisible by 7\n",
      "2724 is divisible by 2\n",
      "2725 is divisible by 5\n",
      "2726 is divisible by 2\n",
      "2727 is divisible by 3\n",
      "2728 is divisible by 2\n",
      "2729 is PRIME\n",
      "2730 is divisible by 2\n",
      "2731 is PRIME\n",
      "2732 is divisible by 2\n",
      "2733 is divisible by 3\n",
      "2734 is divisible by 2\n",
      "2735 is divisible by 5\n",
      "2736 is divisible by 2\n",
      "2737 is divisible by 7\n",
      "2738 is divisible by 2\n",
      "2739 is divisible by 3\n",
      "2740 is divisible by 2\n",
      "2741 is PRIME\n",
      "2742 is divisible by 2\n",
      "2743 is divisible by 13\n",
      "2744 is divisible by 2\n",
      "2745 is divisible by 3\n",
      "2746 is divisible by 2\n",
      "2747 is divisible by 41\n",
      "2748 is divisible by 2\n",
      "2749 is PRIME\n",
      "2750 is divisible by 2\n",
      "2751 is divisible by 3\n",
      "2752 is divisible by 2\n",
      "2753 is PRIME\n",
      "2754 is divisible by 2\n",
      "2755 is divisible by 5\n",
      "2756 is divisible by 2\n",
      "2757 is divisible by 3\n",
      "2758 is divisible by 2\n",
      "2759 is divisible by 31\n",
      "2760 is divisible by 2\n",
      "2761 is divisible by 11\n",
      "2762 is divisible by 2\n",
      "2763 is divisible by 3\n",
      "2764 is divisible by 2\n",
      "2765 is divisible by 5\n",
      "2766 is divisible by 2\n",
      "2767 is PRIME\n",
      "2768 is divisible by 2\n",
      "2769 is divisible by 3\n",
      "2770 is divisible by 2\n",
      "2771 is divisible by 17\n",
      "2772 is divisible by 2\n",
      "2773 is divisible by 47\n",
      "2774 is divisible by 2\n",
      "2775 is divisible by 3\n",
      "2776 is divisible by 2\n",
      "2777 is PRIME\n",
      "2778 is divisible by 2\n",
      "2779 is divisible by 7\n",
      "2780 is divisible by 2\n",
      "2781 is divisible by 3\n",
      "2782 is divisible by 2\n",
      "2783 is divisible by 11\n",
      "2784 is divisible by 2\n",
      "2785 is divisible by 5\n",
      "2786 is divisible by 2\n",
      "2787 is divisible by 3\n",
      "2788 is divisible by 2\n",
      "2789 is PRIME\n",
      "2790 is divisible by 2\n",
      "2791 is PRIME\n",
      "2792 is divisible by 2\n",
      "2793 is divisible by 3\n",
      "2794 is divisible by 2\n",
      "2795 is divisible by 5\n",
      "2796 is divisible by 2\n",
      "2797 is PRIME\n",
      "2798 is divisible by 2\n",
      "2799 is divisible by 3\n",
      "2800 is divisible by 2\n",
      "2801 is PRIME\n",
      "2802 is divisible by 2\n",
      "2803 is PRIME\n",
      "2804 is divisible by 2\n",
      "2805 is divisible by 3\n",
      "2806 is divisible by 2\n",
      "2807 is divisible by 7\n",
      "2808 is divisible by 2\n",
      "2809 is divisible by 53\n",
      "2810 is divisible by 2\n",
      "2811 is divisible by 3\n",
      "2812 is divisible by 2\n",
      "2813 is divisible by 29\n",
      "2814 is divisible by 2\n",
      "2815 is divisible by 5\n",
      "2816 is divisible by 2\n",
      "2817 is divisible by 3\n",
      "2818 is divisible by 2\n",
      "2819 is PRIME\n",
      "2820 is divisible by 2\n",
      "2821 is divisible by 7\n",
      "2822 is divisible by 2\n",
      "2823 is divisible by 3\n",
      "2824 is divisible by 2\n",
      "2825 is divisible by 5\n",
      "2826 is divisible by 2\n",
      "2827 is divisible by 11\n",
      "2828 is divisible by 2\n",
      "2829 is divisible by 3\n",
      "2830 is divisible by 2\n",
      "2831 is divisible by 19\n",
      "2832 is divisible by 2\n",
      "2833 is PRIME\n",
      "2834 is divisible by 2\n",
      "2835 is divisible by 3\n",
      "2836 is divisible by 2\n",
      "2837 is PRIME\n",
      "2838 is divisible by 2\n",
      "2839 is divisible by 17\n",
      "2840 is divisible by 2\n",
      "2841 is divisible by 3\n",
      "2842 is divisible by 2\n",
      "2843 is PRIME\n",
      "2844 is divisible by 2\n",
      "2845 is divisible by 5\n",
      "2846 is divisible by 2\n",
      "2847 is divisible by 3\n",
      "2848 is divisible by 2\n",
      "2849 is divisible by 7\n",
      "2850 is divisible by 2\n",
      "2851 is PRIME\n",
      "2852 is divisible by 2\n",
      "2853 is divisible by 3\n",
      "2854 is divisible by 2\n",
      "2855 is divisible by 5\n",
      "2856 is divisible by 2\n",
      "2857 is PRIME\n",
      "2858 is divisible by 2\n",
      "2859 is divisible by 3\n",
      "2860 is divisible by 2\n",
      "2861 is PRIME\n",
      "2862 is divisible by 2\n",
      "2863 is divisible by 7\n",
      "2864 is divisible by 2\n",
      "2865 is divisible by 3\n",
      "2866 is divisible by 2\n",
      "2867 is divisible by 47\n",
      "2868 is divisible by 2\n",
      "2869 is divisible by 19\n",
      "2870 is divisible by 2\n",
      "2871 is divisible by 3\n",
      "2872 is divisible by 2\n",
      "2873 is divisible by 13\n",
      "2874 is divisible by 2\n",
      "2875 is divisible by 5\n",
      "2876 is divisible by 2\n",
      "2877 is divisible by 3\n",
      "2878 is divisible by 2\n",
      "2879 is PRIME\n",
      "2880 is divisible by 2\n",
      "2881 is divisible by 43\n",
      "2882 is divisible by 2\n",
      "2883 is divisible by 3\n",
      "2884 is divisible by 2\n",
      "2885 is divisible by 5\n",
      "2886 is divisible by 2\n",
      "2887 is PRIME\n",
      "2888 is divisible by 2\n",
      "2889 is divisible by 3\n",
      "2890 is divisible by 2\n",
      "2891 is divisible by 7\n",
      "2892 is divisible by 2\n",
      "2893 is divisible by 11\n",
      "2894 is divisible by 2\n",
      "2895 is divisible by 3\n",
      "2896 is divisible by 2\n",
      "2897 is PRIME\n",
      "2898 is divisible by 2\n",
      "2899 is divisible by 13\n",
      "2900 is divisible by 2\n",
      "2901 is divisible by 3\n",
      "2902 is divisible by 2\n",
      "2903 is PRIME\n",
      "2904 is divisible by 2\n",
      "2905 is divisible by 5\n",
      "2906 is divisible by 2\n",
      "2907 is divisible by 3\n",
      "2908 is divisible by 2\n",
      "2909 is PRIME\n",
      "2910 is divisible by 2\n",
      "2911 is divisible by 41\n",
      "2912 is divisible by 2\n",
      "2913 is divisible by 3\n",
      "2914 is divisible by 2\n",
      "2915 is divisible by 5\n",
      "2916 is divisible by 2\n",
      "2917 is PRIME\n",
      "2918 is divisible by 2\n",
      "2919 is divisible by 3\n",
      "2920 is divisible by 2\n",
      "2921 is divisible by 23\n",
      "2922 is divisible by 2\n",
      "2923 is divisible by 37\n",
      "2924 is divisible by 2\n",
      "2925 is divisible by 3\n",
      "2926 is divisible by 2\n",
      "2927 is PRIME\n",
      "2928 is divisible by 2\n",
      "2929 is divisible by 29\n",
      "2930 is divisible by 2\n",
      "2931 is divisible by 3\n",
      "2932 is divisible by 2\n",
      "2933 is divisible by 7\n",
      "2934 is divisible by 2\n",
      "2935 is divisible by 5\n",
      "2936 is divisible by 2\n",
      "2937 is divisible by 3\n",
      "2938 is divisible by 2\n",
      "2939 is PRIME\n",
      "2940 is divisible by 2\n",
      "2941 is divisible by 17\n",
      "2942 is divisible by 2\n",
      "2943 is divisible by 3\n",
      "2944 is divisible by 2\n",
      "2945 is divisible by 5\n",
      "2946 is divisible by 2\n",
      "2947 is divisible by 7\n",
      "2948 is divisible by 2\n",
      "2949 is divisible by 3\n",
      "2950 is divisible by 2\n",
      "2951 is divisible by 13\n",
      "2952 is divisible by 2\n",
      "2953 is PRIME\n",
      "2954 is divisible by 2\n",
      "2955 is divisible by 3\n",
      "2956 is divisible by 2\n",
      "2957 is PRIME\n",
      "2958 is divisible by 2\n",
      "2959 is divisible by 11\n",
      "2960 is divisible by 2\n",
      "2961 is divisible by 3\n",
      "2962 is divisible by 2\n",
      "2963 is PRIME\n",
      "2964 is divisible by 2\n",
      "2965 is divisible by 5\n",
      "2966 is divisible by 2\n",
      "2967 is divisible by 3\n",
      "2968 is divisible by 2\n",
      "2969 is PRIME\n",
      "2970 is divisible by 2\n",
      "2971 is PRIME\n",
      "2972 is divisible by 2\n",
      "2973 is divisible by 3\n",
      "2974 is divisible by 2\n",
      "2975 is divisible by 5\n",
      "2976 is divisible by 2\n",
      "2977 is divisible by 13\n",
      "2978 is divisible by 2\n",
      "2979 is divisible by 3\n",
      "2980 is divisible by 2\n",
      "2981 is divisible by 11\n",
      "2982 is divisible by 2\n",
      "2983 is divisible by 19\n",
      "2984 is divisible by 2\n",
      "2985 is divisible by 3\n",
      "2986 is divisible by 2\n",
      "2987 is divisible by 29\n",
      "2988 is divisible by 2\n",
      "2989 is divisible by 7\n",
      "2990 is divisible by 2\n",
      "2991 is divisible by 3\n",
      "2992 is divisible by 2\n",
      "2993 is divisible by 41\n",
      "2994 is divisible by 2\n",
      "2995 is divisible by 5\n",
      "2996 is divisible by 2\n",
      "2997 is divisible by 3\n",
      "2998 is divisible by 2\n",
      "2999 is PRIME\n",
      "3000 is divisible by 2\n"
     ]
    }
   ],
   "source": [
    "for number in range(10, 3001): # from 10..30\n",
    "    #print(number, end=': ')\n",
    "    for possible_divisor in range(2, number): # from 2..number-1\n",
    "        if number % possible_divisor == 0: # possible_divisor divides into number EVENLY, so NOT PRIME\n",
    "            print(f'{number} is divisible by {possible_divisor}')\n",
    "            break\n",
    "    else:\n",
    "        print(f'{number} is PRIME')       \n",
    "        #print(possible_divisor, end=' ')\n",
    "    #print()"
   ]
  },
  {
   "cell_type": "code",
   "execution_count": 50,
   "id": "2ee931af",
   "metadata": {},
   "outputs": [
    {
     "data": {
      "text/plain": [
       "529"
      ]
     },
     "execution_count": 50,
     "metadata": {},
     "output_type": "execute_result"
    }
   ],
   "source": [
    "23 * 23"
   ]
  },
  {
   "cell_type": "code",
   "execution_count": 51,
   "id": "2a82f897",
   "metadata": {},
   "outputs": [
    {
     "data": {
      "text/plain": [
       "1849"
      ]
     },
     "execution_count": 51,
     "metadata": {},
     "output_type": "execute_result"
    }
   ],
   "source": [
    "43 * 43"
   ]
  },
  {
   "cell_type": "code",
   "execution_count": 55,
   "id": "e203a8b1",
   "metadata": {},
   "outputs": [
    {
     "name": "stdout",
     "output_type": "stream",
     "text": [
      "    2     3     4     5     6     7     8     9    10    11    12    13    14    15    16 \n",
      "   17    18    19    20    21    22    23    24    25    26    27    28    29    30    31 \n",
      "   32    33    34    35    36    37    38    39    40    41    42    43    44    45    46 \n",
      "   47    48    49    50    51    52    53    54    55    56    57    58    59    60    61 \n",
      "   62    63    64    65    66    67    68    69    70    71    72    73    74    75    76 \n",
      "   77    78    79    80    81    82    83    84    85    86    87    88    89    90    91 \n",
      "   92    93    94    95    96    97    98    99   100   101   102   103   104   105   106 \n",
      "  107   108   109   110   111   112   113   114   115   116   117   118   119   120   121 \n",
      "  122   123   124   125   126   127   128   129   130   131   132   133   134   135   136 \n",
      "  137   138   139   140   141   142   143   144   145   146   147   148   149   150   151 \n",
      "  152   153   154   155   156   157   158   159   160   161   162   163   164   165   166 \n",
      "  167   168   169   170   171   172   173   174   175   176   177   178   179   180   181 \n",
      "  182   183   184   185   186   187   188   189   190   191   192   193   194   195   196 \n",
      "  197   198   199   200   201   202   203   204   205   206   207   208   209   210   211 \n",
      "  212   213   214   215   216   217   218   219   220   221   222   223   224   225   226 \n",
      "  227   228   229   230   231   232   233   234   235   236   237   238   239   240   241 \n",
      "  242   243   244   245   246   247   248   249   250   251   252   253   254   255   256 \n",
      "  257   258   259   260   261   262   263   264   265   266   267   268   269   270   271 \n",
      "  272   273   274   275   276   277   278   279   280   281   282   283   284   285   286 \n",
      "  287   288   289   290   291   292   293   294   295   296   297   298   299   300   301 \n",
      "  302   303   304   305   306   307   308   309   310   311   312   313   314   315   316 \n",
      "  317   318   319   320   321   322   323   324   325   326   327   328   329   330   331 \n",
      "  332   333   334   335   336   337   338   339   340   341   342   343   344   345   346 \n",
      "  347   348   349   350   351   352   353   354   355   356   357   358   359   360   361 \n",
      "  362   363   364   365   366   367   368   369   370   371   372   373   374   375   376 \n",
      "  377   378   379   380   381   382   383   384   385   386   387   388   389   390   391 \n",
      "  392   393   394   395   396   397   398   399   400   401   402   403   404   405   406 \n",
      "  407   408   409   410   411   412   413   414   415   416   417   418   419   420   421 \n",
      "  422   423   424   425   426   427   428   429   430   431   432   433   434   435   436 \n",
      "  437   438   439   440   441   442   443   444   445   446   447   448   449   450   451 \n",
      "  452   453   454   455   456   457   458   459   460   461   462   463   464   465   466 \n",
      "  467   468   469   470   471   472   473   474   475   476   477   478   479   480   481 \n",
      "  482   483   484   485   486   487   488   489   490   491   492   493   494   495   496 \n",
      "  497   498   499   500   501   502   503   504   505   506   507   508   509   510   511 \n",
      "  512   513   514   515   516   517   518   519   520   521   522   523   524   525   526 \n",
      "  527   528   529   530   531   532   533   534   535   536   537   538   539   540   541 \n",
      "  542   543   544   545   546   547   548   549   550   551   552   553   554   555   556 \n",
      "  557   558   559   560   561   562   563   564   565   566   567   568   569   570   571 \n",
      "  572   573   574   575   576   577   578   579   580   581   582   583   584   585   586 \n",
      "  587   588   589   590   591   592   593   594   595   596   597   598   599   600   601 \n",
      "  602   603   604   605   606   607   608   609   610   611   612   613   614   615   616 \n",
      "  617   618   619   620   621   622   623   624   625   626   627   628   629   630   631 \n",
      "  632   633   634   635   636   637   638   639   640   641   642   643   644   645   646 \n",
      "  647   648   649   650   651   652   653   654   655   656   657   658   659   660   661 \n",
      "  662   663   664   665   666   667   668   669   670   671   672   673   674   675   676 \n",
      "  677   678   679   680   681   682   683   684   685   686   687   688   689   690   691 \n",
      "  692   693   694   695   696   697   698   699   700   701   702   703   704   705   706 \n",
      "  707   708   709   710   711   712   713   714   715   716   717   718   719   720   721 \n",
      "  722   723   724   725   726   727   728   729   730   731   732   733   734   735   736 \n",
      "  737   738   739   740   741   742   743   744   745   746   747   748   749   750   751 \n",
      "  752   753   754   755   756   757   758   759   760   761   762   763   764   765   766 \n",
      "  767   768   769   770   771   772   773   774   775   776   777   778   779   780   781 \n",
      "  782   783   784   785   786   787   788   789   790   791   792   793   794   795   796 \n",
      "  797   798   799   800   801   802   803   804   805   806   807   808   809   810   811 \n",
      "  812   813   814   815   816   817   818   819   820   821   822   823   824   825   826 \n",
      "  827   828   829   830   831   832   833   834   835   836   837   838   839   840   841 \n",
      "  842   843   844   845   846   847   848   849   850   851   852   853   854   855   856 \n",
      "  857   858   859   860   861   862   863   864   865   866   867   868   869   870   871 \n",
      "  872   873   874   875   876   877   878   879   880   881   882   883   884   885   886 \n",
      "  887   888   889   890   891   892   893   894   895   896   897   898   899   900   901 \n",
      "  902   903   904   905   906   907   908   909   910   911   912   913   914   915   916 \n",
      "  917   918   919   920   921   922   923   924   925   926   927   928   929   930   931 \n",
      "  932   933   934   935   936   937   938   939   940   941   942   943   944   945   946 \n",
      "  947   948   949   950   951   952   953   954   955   956   957   958   959   960   961 \n",
      "  962   963   964   965   966   967   968   969   970   971   972   973   974   975   976 \n",
      "  977   978   979   980   981   982   983   984   985   986   987   988   989   990   991 \n",
      "  992   993   994   995   996   997   998   999  1000 "
     ]
    }
   ],
   "source": [
    "count = 0\n",
    "for number in range(2, 1001):\n",
    "    print(f'{number:5d}', end=' ')\n",
    "    count += 1\n",
    "    if count % 15 == 0: # count is a multiple of 15\n",
    "        print()"
   ]
  },
  {
   "cell_type": "markdown",
   "id": "146fb5df",
   "metadata": {},
   "source": [
    "## Lab: Lists\n",
    "* create two lists which are different\n",
    "* compare them for equality\n",
    "* create a third list which has the same elements as one of the other lists\n",
    "* verify that Python says they are the same"
   ]
  },
  {
   "cell_type": "code",
   "execution_count": 59,
   "id": "0bca57dc",
   "metadata": {},
   "outputs": [],
   "source": [
    "list1 = [1, 2]\n",
    "list2 = [4, 5]\n",
    "list3 = [1, 2]"
   ]
  },
  {
   "cell_type": "code",
   "execution_count": 60,
   "id": "e739debf",
   "metadata": {},
   "outputs": [
    {
     "data": {
      "text/plain": [
       "False"
      ]
     },
     "execution_count": 60,
     "metadata": {},
     "output_type": "execute_result"
    }
   ],
   "source": [
    "list1 == list2"
   ]
  },
  {
   "cell_type": "code",
   "execution_count": 61,
   "id": "45d2774b",
   "metadata": {},
   "outputs": [
    {
     "data": {
      "text/plain": [
       "True"
      ]
     },
     "execution_count": 61,
     "metadata": {},
     "output_type": "execute_result"
    }
   ],
   "source": [
    "list1 == list3"
   ]
  },
  {
   "cell_type": "code",
   "execution_count": 62,
   "id": "cfbaa4eb",
   "metadata": {},
   "outputs": [
    {
     "data": {
      "text/plain": [
       "[1, 2]"
      ]
     },
     "execution_count": 62,
     "metadata": {},
     "output_type": "execute_result"
    }
   ],
   "source": [
    "list1"
   ]
  },
  {
   "cell_type": "code",
   "execution_count": 63,
   "id": "b0e429e1",
   "metadata": {},
   "outputs": [
    {
     "data": {
      "text/plain": [
       "False"
      ]
     },
     "execution_count": 63,
     "metadata": {},
     "output_type": "execute_result"
    }
   ],
   "source": [
    "list1 == [2, 1]"
   ]
  },
  {
   "cell_type": "code",
   "execution_count": 64,
   "id": "43bfaf9e",
   "metadata": {},
   "outputs": [
    {
     "data": {
      "text/plain": [
       "True"
      ]
     },
     "execution_count": 64,
     "metadata": {},
     "output_type": "execute_result"
    }
   ],
   "source": [
    "list1 == [1.0, 2.0]"
   ]
  },
  {
   "cell_type": "code",
   "execution_count": 65,
   "id": "dc7e2064",
   "metadata": {},
   "outputs": [],
   "source": [
    "name = 'Year Up'"
   ]
  },
  {
   "cell_type": "code",
   "execution_count": 66,
   "id": "453fe35e",
   "metadata": {},
   "outputs": [
    {
     "data": {
      "text/plain": [
       "'Ya p'"
      ]
     },
     "execution_count": 66,
     "metadata": {},
     "output_type": "execute_result"
    }
   ],
   "source": [
    "name[::2]"
   ]
  },
  {
   "cell_type": "code",
   "execution_count": 67,
   "id": "8d02045f",
   "metadata": {},
   "outputs": [
    {
     "data": {
      "text/plain": [
       "'erU'"
      ]
     },
     "execution_count": 67,
     "metadata": {},
     "output_type": "execute_result"
    }
   ],
   "source": [
    "name[1::2]"
   ]
  },
  {
   "cell_type": "code",
   "execution_count": 69,
   "id": "930ed555",
   "metadata": {},
   "outputs": [
    {
     "data": {
      "text/plain": [
       "'ear'"
      ]
     },
     "execution_count": 69,
     "metadata": {},
     "output_type": "execute_result"
    }
   ],
   "source": [
    "name[1:4]"
   ]
  },
  {
   "cell_type": "markdown",
   "id": "95d919d0",
   "metadata": {},
   "source": [
    "## Lab: Slicing\n",
    "1. print the letters of a string with a '+' between each pair of letters, but do not print a '+' after the final letter, i.e., 'h + e + l + l + o'  \n",
    "  * to do this, I want you to iterate through a _slice_ of the string which does not contain the last character, and then print the last character by itself\n",
    "2. create a list and use slicing to print the second half of the list, followed by the first half of the list\n",
    "  * once you've done this, do it again such that it does not print the middle item\n",
    "\n",
    "<pre><b>\n",
    "          [ 'one', 'two', 'three', 'four' ] => three four one two\n",
    "          [ 1, 2, 3, 4, 5 ] => 4 5 1 2\n",
    "</b></pre>"
   ]
  },
  {
   "cell_type": "code",
   "execution_count": 70,
   "id": "86cb29b3",
   "metadata": {},
   "outputs": [],
   "source": [
    "string = 'hello'"
   ]
  },
  {
   "cell_type": "code",
   "execution_count": 72,
   "id": "ee545672",
   "metadata": {},
   "outputs": [
    {
     "name": "stdout",
     "output_type": "stream",
     "text": [
      "h+e+l+l+o+"
     ]
    }
   ],
   "source": [
    "for letter in string:\n",
    "    print(letter, end='+')"
   ]
  },
  {
   "cell_type": "code",
   "execution_count": 73,
   "id": "025545cc",
   "metadata": {},
   "outputs": [
    {
     "data": {
      "text/plain": [
       "'hell'"
      ]
     },
     "execution_count": 73,
     "metadata": {},
     "output_type": "execute_result"
    }
   ],
   "source": [
    "string[0:4]"
   ]
  },
  {
   "cell_type": "code",
   "execution_count": 74,
   "id": "b12933ba",
   "metadata": {},
   "outputs": [
    {
     "data": {
      "text/plain": [
       "'hell'"
      ]
     },
     "execution_count": 74,
     "metadata": {},
     "output_type": "execute_result"
    }
   ],
   "source": [
    "string[:-1]"
   ]
  },
  {
   "cell_type": "code",
   "execution_count": 76,
   "id": "aa8443ca",
   "metadata": {},
   "outputs": [
    {
     "data": {
      "text/plain": [
       "'Benjamin Frankl'"
      ]
     },
     "execution_count": 76,
     "metadata": {},
     "output_type": "execute_result"
    }
   ],
   "source": [
    "'Benjamin Franklin'[:-2]"
   ]
  },
  {
   "cell_type": "code",
   "execution_count": 79,
   "id": "55bc3dc9",
   "metadata": {},
   "outputs": [
    {
     "name": "stdout",
     "output_type": "stream",
     "text": [
      "h+e+l+l+o\n"
     ]
    }
   ],
   "source": [
    "for letter in string[:-1]: # everything BUT the last letter\n",
    "    print(letter, end='+')\n",
    "print(string[-1]) # print the last letter"
   ]
  },
  {
   "cell_type": "code",
   "execution_count": 80,
   "id": "aa362aa8",
   "metadata": {},
   "outputs": [
    {
     "data": {
      "text/plain": [
       "6"
      ]
     },
     "execution_count": 80,
     "metadata": {},
     "output_type": "execute_result"
    }
   ],
   "source": [
    "len('string')"
   ]
  },
  {
   "cell_type": "code",
   "execution_count": 81,
   "id": "203f83aa",
   "metadata": {},
   "outputs": [
    {
     "data": {
      "text/plain": [
       "[1, 2]"
      ]
     },
     "execution_count": 81,
     "metadata": {},
     "output_type": "execute_result"
    }
   ],
   "source": [
    "list1"
   ]
  },
  {
   "cell_type": "code",
   "execution_count": 82,
   "id": "b6e95ab9",
   "metadata": {},
   "outputs": [
    {
     "data": {
      "text/plain": [
       "2"
      ]
     },
     "execution_count": 82,
     "metadata": {},
     "output_type": "execute_result"
    }
   ],
   "source": [
    "len(list1)"
   ]
  },
  {
   "cell_type": "code",
   "execution_count": 83,
   "id": "49f5ea48",
   "metadata": {},
   "outputs": [
    {
     "data": {
      "text/plain": [
       "[1, 2, 3]"
      ]
     },
     "execution_count": 83,
     "metadata": {},
     "output_type": "execute_result"
    }
   ],
   "source": [
    "list1.append(3)\n",
    "list1"
   ]
  },
  {
   "cell_type": "code",
   "execution_count": 84,
   "id": "0046629e",
   "metadata": {},
   "outputs": [
    {
     "ename": "NameError",
     "evalue": "name 'append' is not defined",
     "output_type": "error",
     "traceback": [
      "\u001b[0;31m---------------------------------------------------------------------------\u001b[0m",
      "\u001b[0;31mNameError\u001b[0m                                 Traceback (most recent call last)",
      "Input \u001b[0;32mIn [84]\u001b[0m, in \u001b[0;36m<cell line: 1>\u001b[0;34m()\u001b[0m\n\u001b[0;32m----> 1\u001b[0m \u001b[43mappend\u001b[49m(list1, \u001b[38;5;241m4\u001b[39m)\n",
      "\u001b[0;31mNameError\u001b[0m: name 'append' is not defined"
     ]
    }
   ],
   "source": [
    "append(list1, 4)"
   ]
  },
  {
   "cell_type": "code",
   "execution_count": 85,
   "id": "791dc8e5",
   "metadata": {},
   "outputs": [],
   "source": [
    "list1.append(4)"
   ]
  },
  {
   "cell_type": "code",
   "execution_count": 86,
   "id": "ef6772b6",
   "metadata": {},
   "outputs": [
    {
     "data": {
      "text/plain": [
       "[1, 2, 3, 4]"
      ]
     },
     "execution_count": 86,
     "metadata": {},
     "output_type": "execute_result"
    }
   ],
   "source": [
    "list1"
   ]
  },
  {
   "cell_type": "code",
   "execution_count": 87,
   "id": "ac2bfd4c",
   "metadata": {},
   "outputs": [
    {
     "data": {
      "text/plain": [
       "5"
      ]
     },
     "execution_count": 87,
     "metadata": {},
     "output_type": "execute_result"
    }
   ],
   "source": [
    "abs(-5)"
   ]
  },
  {
   "cell_type": "code",
   "execution_count": 88,
   "id": "a31dd963",
   "metadata": {},
   "outputs": [
    {
     "data": {
      "text/plain": [
       "6"
      ]
     },
     "execution_count": 88,
     "metadata": {},
     "output_type": "execute_result"
    }
   ],
   "source": [
    "len('Python') # works on strings"
   ]
  },
  {
   "cell_type": "code",
   "execution_count": 90,
   "id": "20419673",
   "metadata": {},
   "outputs": [
    {
     "data": {
      "text/plain": [
       "4"
      ]
     },
     "execution_count": 90,
     "metadata": {},
     "output_type": "execute_result"
    }
   ],
   "source": [
    "len([1, 2, 3, 4]) # also works on lists"
   ]
  },
  {
   "cell_type": "code",
   "execution_count": 91,
   "id": "abe041e7",
   "metadata": {},
   "outputs": [],
   "source": [
    "fruits = ['apple', 'banana', 'fig', 'pear']"
   ]
  },
  {
   "cell_type": "code",
   "execution_count": 92,
   "id": "b8f15478",
   "metadata": {},
   "outputs": [
    {
     "data": {
      "text/plain": [
       "['apple', 'banana', 'fig', 'pear']"
      ]
     },
     "execution_count": 92,
     "metadata": {},
     "output_type": "execute_result"
    }
   ],
   "source": [
    "fruits"
   ]
  },
  {
   "cell_type": "code",
   "execution_count": 93,
   "id": "ca0d3b20",
   "metadata": {},
   "outputs": [
    {
     "ename": "NameError",
     "evalue": "name 'append' is not defined",
     "output_type": "error",
     "traceback": [
      "\u001b[0;31m---------------------------------------------------------------------------\u001b[0m",
      "\u001b[0;31mNameError\u001b[0m                                 Traceback (most recent call last)",
      "Input \u001b[0;32mIn [93]\u001b[0m, in \u001b[0;36m<cell line: 1>\u001b[0;34m()\u001b[0m\n\u001b[0;32m----> 1\u001b[0m \u001b[43mappend\u001b[49m(fruits, \u001b[38;5;124m'\u001b[39m\u001b[38;5;124mcherry\u001b[39m\u001b[38;5;124m'\u001b[39m)\n",
      "\u001b[0;31mNameError\u001b[0m: name 'append' is not defined"
     ]
    }
   ],
   "source": [
    "append(fruits, 'cherry')"
   ]
  },
  {
   "cell_type": "code",
   "execution_count": 94,
   "id": "54221794",
   "metadata": {},
   "outputs": [],
   "source": [
    "fruits.append('cherry')"
   ]
  },
  {
   "cell_type": "code",
   "execution_count": 95,
   "id": "d805dbca",
   "metadata": {},
   "outputs": [
    {
     "data": {
      "text/plain": [
       "['apple', 'banana', 'fig', 'pear', 'cherry']"
      ]
     },
     "execution_count": 95,
     "metadata": {},
     "output_type": "execute_result"
    }
   ],
   "source": [
    "fruits"
   ]
  },
  {
   "cell_type": "code",
   "execution_count": 96,
   "id": "cbfff9f0",
   "metadata": {},
   "outputs": [],
   "source": [
    "fruits.append('guava')"
   ]
  },
  {
   "cell_type": "code",
   "execution_count": 97,
   "id": "068c5ae9",
   "metadata": {},
   "outputs": [
    {
     "data": {
      "text/plain": [
       "['apple', 'banana', 'fig', 'pear', 'cherry', 'guava']"
      ]
     },
     "execution_count": 97,
     "metadata": {},
     "output_type": "execute_result"
    }
   ],
   "source": [
    "fruits"
   ]
  },
  {
   "cell_type": "code",
   "execution_count": 98,
   "id": "abbaaff0",
   "metadata": {},
   "outputs": [
    {
     "data": {
      "text/plain": [
       "5"
      ]
     },
     "execution_count": 98,
     "metadata": {},
     "output_type": "execute_result"
    }
   ],
   "source": [
    "abs(-5)"
   ]
  },
  {
   "cell_type": "code",
   "execution_count": 99,
   "id": "636d5f1c",
   "metadata": {},
   "outputs": [
    {
     "data": {
      "text/plain": [
       "5.5"
      ]
     },
     "execution_count": 99,
     "metadata": {},
     "output_type": "execute_result"
    }
   ],
   "source": [
    "abs(-5.5)"
   ]
  },
  {
   "cell_type": "code",
   "execution_count": 101,
   "id": "035c6f5a",
   "metadata": {},
   "outputs": [],
   "source": [
    "string = 'gazornin'"
   ]
  },
  {
   "cell_type": "code",
   "execution_count": 102,
   "id": "c2471e66",
   "metadata": {},
   "outputs": [
    {
     "data": {
      "text/plain": [
       "'gazornin'"
      ]
     },
     "execution_count": 102,
     "metadata": {},
     "output_type": "execute_result"
    }
   ],
   "source": [
    "string"
   ]
  },
  {
   "cell_type": "code",
   "execution_count": 105,
   "id": "8d6eced5",
   "metadata": {},
   "outputs": [
    {
     "data": {
      "text/plain": [
       "'GAZORNIN'"
      ]
     },
     "execution_count": 105,
     "metadata": {},
     "output_type": "execute_result"
    }
   ],
   "source": [
    "string.upper()"
   ]
  },
  {
   "cell_type": "code",
   "execution_count": 106,
   "id": "1392168b",
   "metadata": {},
   "outputs": [
    {
     "data": {
      "text/plain": [
       "'gazornin'"
      ]
     },
     "execution_count": 106,
     "metadata": {},
     "output_type": "execute_result"
    }
   ],
   "source": [
    "string"
   ]
  },
  {
   "cell_type": "code",
   "execution_count": 107,
   "id": "7d17c297",
   "metadata": {},
   "outputs": [],
   "source": [
    "string = string.upper()"
   ]
  },
  {
   "cell_type": "code",
   "execution_count": 108,
   "id": "fa8a6723",
   "metadata": {},
   "outputs": [
    {
     "data": {
      "text/plain": [
       "'GAZORNIN'"
      ]
     },
     "execution_count": 108,
     "metadata": {},
     "output_type": "execute_result"
    }
   ],
   "source": [
    "string"
   ]
  },
  {
   "cell_type": "code",
   "execution_count": 110,
   "id": "3f47c04a",
   "metadata": {},
   "outputs": [
    {
     "data": {
      "text/plain": [
       "False"
      ]
     },
     "execution_count": 110,
     "metadata": {},
     "output_type": "execute_result"
    }
   ],
   "source": [
    "string.startswith('gaz')"
   ]
  },
  {
   "cell_type": "code",
   "execution_count": 111,
   "id": "cd7e40d6",
   "metadata": {},
   "outputs": [
    {
     "data": {
      "text/plain": [
       "['apple', 'banana', 'fig', 'pear', 'cherry', 'guava']"
      ]
     },
     "execution_count": 111,
     "metadata": {},
     "output_type": "execute_result"
    }
   ],
   "source": [
    "fruits"
   ]
  },
  {
   "cell_type": "code",
   "execution_count": 112,
   "id": "5f2b9947",
   "metadata": {},
   "outputs": [],
   "source": [
    "fruits.reverse()"
   ]
  },
  {
   "cell_type": "code",
   "execution_count": 113,
   "id": "cfd6ac3a",
   "metadata": {},
   "outputs": [
    {
     "data": {
      "text/plain": [
       "['guava', 'cherry', 'pear', 'fig', 'banana', 'apple']"
      ]
     },
     "execution_count": 113,
     "metadata": {},
     "output_type": "execute_result"
    }
   ],
   "source": [
    "fruits"
   ]
  },
  {
   "cell_type": "code",
   "execution_count": 114,
   "id": "eaccf915",
   "metadata": {},
   "outputs": [],
   "source": [
    "num = 5"
   ]
  },
  {
   "cell_type": "code",
   "execution_count": 115,
   "id": "d176c652",
   "metadata": {},
   "outputs": [
    {
     "data": {
      "text/plain": [
       "20"
      ]
     },
     "execution_count": 115,
     "metadata": {},
     "output_type": "execute_result"
    }
   ],
   "source": [
    "num * 4"
   ]
  },
  {
   "cell_type": "code",
   "execution_count": 116,
   "id": "5837b7b1",
   "metadata": {},
   "outputs": [],
   "source": [
    "num += 1"
   ]
  },
  {
   "cell_type": "code",
   "execution_count": 117,
   "id": "99da3d44",
   "metadata": {},
   "outputs": [
    {
     "data": {
      "text/plain": [
       "6"
      ]
     },
     "execution_count": 117,
     "metadata": {},
     "output_type": "execute_result"
    }
   ],
   "source": [
    "num"
   ]
  },
  {
   "cell_type": "code",
   "execution_count": 118,
   "id": "f6c39da9",
   "metadata": {},
   "outputs": [
    {
     "data": {
      "text/plain": [
       "6"
      ]
     },
     "execution_count": 118,
     "metadata": {},
     "output_type": "execute_result"
    }
   ],
   "source": [
    "len('string')"
   ]
  },
  {
   "cell_type": "code",
   "execution_count": 119,
   "id": "fc0d7ced",
   "metadata": {},
   "outputs": [
    {
     "data": {
      "text/plain": [
       "4"
      ]
     },
     "execution_count": 119,
     "metadata": {},
     "output_type": "execute_result"
    }
   ],
   "source": [
    "len(list1)"
   ]
  },
  {
   "cell_type": "code",
   "execution_count": 120,
   "id": "90cc4246",
   "metadata": {},
   "outputs": [
    {
     "ename": "NameError",
     "evalue": "name 'append' is not defined",
     "output_type": "error",
     "traceback": [
      "\u001b[0;31m---------------------------------------------------------------------------\u001b[0m",
      "\u001b[0;31mNameError\u001b[0m                                 Traceback (most recent call last)",
      "Input \u001b[0;32mIn [120]\u001b[0m, in \u001b[0;36m<cell line: 1>\u001b[0;34m()\u001b[0m\n\u001b[0;32m----> 1\u001b[0m \u001b[43mappend\u001b[49m(list1, \u001b[38;5;124m'\u001b[39m\u001b[38;5;124mthing\u001b[39m\u001b[38;5;124m'\u001b[39m)\n",
      "\u001b[0;31mNameError\u001b[0m: name 'append' is not defined"
     ]
    }
   ],
   "source": [
    "append(list1, 'thing')"
   ]
  },
  {
   "cell_type": "code",
   "execution_count": null,
   "id": "8c55b97f",
   "metadata": {},
   "outputs": [],
   "source": [
    "list1.append()"
   ]
  },
  {
   "cell_type": "code",
   "execution_count": 122,
   "id": "d3394967",
   "metadata": {},
   "outputs": [
    {
     "ename": "AttributeError",
     "evalue": "'str' object has no attribute 'append'",
     "output_type": "error",
     "traceback": [
      "\u001b[0;31m---------------------------------------------------------------------------\u001b[0m",
      "\u001b[0;31mAttributeError\u001b[0m                            Traceback (most recent call last)",
      "Input \u001b[0;32mIn [122]\u001b[0m, in \u001b[0;36m<cell line: 1>\u001b[0;34m()\u001b[0m\n\u001b[0;32m----> 1\u001b[0m \u001b[43mstring\u001b[49m\u001b[38;5;241;43m.\u001b[39;49m\u001b[43mappend\u001b[49m(\u001b[38;5;124m'\u001b[39m\u001b[38;5;124mfoo\u001b[39m\u001b[38;5;124m'\u001b[39m)\n",
      "\u001b[0;31mAttributeError\u001b[0m: 'str' object has no attribute 'append'"
     ]
    }
   ],
   "source": [
    "string.append('foo')"
   ]
  },
  {
   "cell_type": "code",
   "execution_count": 123,
   "id": "582ff9cf",
   "metadata": {},
   "outputs": [
    {
     "data": {
      "text/plain": [
       "[1, 2, 3, 4]"
      ]
     },
     "execution_count": 123,
     "metadata": {},
     "output_type": "execute_result"
    }
   ],
   "source": [
    "list1"
   ]
  },
  {
   "cell_type": "code",
   "execution_count": 124,
   "id": "0bd4dc32",
   "metadata": {},
   "outputs": [
    {
     "data": {
      "text/plain": [
       "[4, 5]"
      ]
     },
     "execution_count": 124,
     "metadata": {},
     "output_type": "execute_result"
    }
   ],
   "source": [
    "list2"
   ]
  },
  {
   "cell_type": "code",
   "execution_count": 125,
   "id": "04442a00",
   "metadata": {},
   "outputs": [],
   "source": [
    "list1.append(list2)"
   ]
  },
  {
   "cell_type": "code",
   "execution_count": 126,
   "id": "95726eee",
   "metadata": {},
   "outputs": [
    {
     "data": {
      "text/plain": [
       "[1, 2, 3, 4, [4, 5]]"
      ]
     },
     "execution_count": 126,
     "metadata": {},
     "output_type": "execute_result"
    }
   ],
   "source": [
    "list1"
   ]
  },
  {
   "cell_type": "code",
   "execution_count": 127,
   "id": "a73a49fc",
   "metadata": {},
   "outputs": [
    {
     "name": "stdout",
     "output_type": "stream",
     "text": [
      "1\n",
      "2\n",
      "3\n",
      "4\n",
      "[4, 5]\n"
     ]
    }
   ],
   "source": [
    "for thing in list1:\n",
    "    print(thing)"
   ]
  },
  {
   "cell_type": "code",
   "execution_count": 141,
   "id": "32f55c6e",
   "metadata": {},
   "outputs": [],
   "source": [
    "list1 = [1, 2, 3, 4]"
   ]
  },
  {
   "cell_type": "code",
   "execution_count": 142,
   "id": "91eade3b",
   "metadata": {},
   "outputs": [],
   "source": [
    "list1 += list2"
   ]
  },
  {
   "cell_type": "code",
   "execution_count": 143,
   "id": "acca4efe",
   "metadata": {},
   "outputs": [
    {
     "data": {
      "text/plain": [
       "[1, 2, 3, 4, 4, 5]"
      ]
     },
     "execution_count": 143,
     "metadata": {},
     "output_type": "execute_result"
    }
   ],
   "source": [
    "list1"
   ]
  },
  {
   "cell_type": "code",
   "execution_count": 144,
   "id": "4d2a6c39",
   "metadata": {},
   "outputs": [],
   "source": [
    "list1.append(list2)"
   ]
  },
  {
   "cell_type": "code",
   "execution_count": 145,
   "id": "0a79fba0",
   "metadata": {},
   "outputs": [
    {
     "data": {
      "text/plain": [
       "[1, 2, 3, 4, 4, 5, [4, 5]]"
      ]
     },
     "execution_count": 145,
     "metadata": {},
     "output_type": "execute_result"
    }
   ],
   "source": [
    "list1"
   ]
  },
  {
   "cell_type": "code",
   "execution_count": 146,
   "id": "b57ac451",
   "metadata": {},
   "outputs": [
    {
     "data": {
      "text/plain": [
       "[4, 5]"
      ]
     },
     "execution_count": 146,
     "metadata": {},
     "output_type": "execute_result"
    }
   ],
   "source": [
    "list1[-1]"
   ]
  },
  {
   "cell_type": "code",
   "execution_count": 147,
   "id": "bc7d54e4",
   "metadata": {},
   "outputs": [
    {
     "name": "stdout",
     "output_type": "stream",
     "text": [
      "1\n",
      "2\n",
      "3\n",
      "4\n",
      "4\n",
      "5\n",
      "[4, 5]\n"
     ]
    }
   ],
   "source": [
    "for thing in list1:\n",
    "    print(thing)"
   ]
  },
  {
   "cell_type": "markdown",
   "id": "53752b57",
   "metadata": {},
   "source": [
    "## Lab: Lists\n",
    "* create an empty list\n",
    "* write Python code to repeatedly ask the user for a word until the word is 'quit'\n",
    "* add each word to the list\n",
    "* after the user types 'quit' print every other word (first, third, fifth, etc.)\n",
    "* then print every other word (second, fourth, sixth, etc.)\n"
   ]
  },
  {
   "cell_type": "code",
   "execution_count": 149,
   "id": "857cb7b3",
   "metadata": {},
   "outputs": [],
   "source": [
    "mystr = ''\n",
    "mylist = []"
   ]
  },
  {
   "cell_type": "code",
   "execution_count": 150,
   "id": "f2644c7c",
   "metadata": {},
   "outputs": [
    {
     "data": {
      "text/plain": [
       "0"
      ]
     },
     "execution_count": 150,
     "metadata": {},
     "output_type": "execute_result"
    }
   ],
   "source": [
    "len(mystr)"
   ]
  },
  {
   "cell_type": "code",
   "execution_count": 151,
   "id": "cdea5fa9",
   "metadata": {},
   "outputs": [
    {
     "data": {
      "text/plain": [
       "0"
      ]
     },
     "execution_count": 151,
     "metadata": {},
     "output_type": "execute_result"
    }
   ],
   "source": [
    "len(mylist)"
   ]
  },
  {
   "cell_type": "code",
   "execution_count": 152,
   "id": "e7347f85",
   "metadata": {},
   "outputs": [
    {
     "data": {
      "text/plain": [
       "['P', 'y', 't', 'h', 'o', 'n']"
      ]
     },
     "execution_count": 152,
     "metadata": {},
     "output_type": "execute_result"
    }
   ],
   "source": [
    "list('Python')"
   ]
  },
  {
   "cell_type": "code",
   "execution_count": 153,
   "id": "0174b42b",
   "metadata": {},
   "outputs": [
    {
     "data": {
      "text/plain": [
       "[]"
      ]
     },
     "execution_count": 153,
     "metadata": {},
     "output_type": "execute_result"
    }
   ],
   "source": [
    "list()"
   ]
  },
  {
   "cell_type": "code",
   "execution_count": 154,
   "id": "98eea683",
   "metadata": {},
   "outputs": [],
   "source": [
    "mylist = list()"
   ]
  },
  {
   "cell_type": "code",
   "execution_count": 155,
   "id": "eed18305",
   "metadata": {},
   "outputs": [
    {
     "data": {
      "text/plain": [
       "[]"
      ]
     },
     "execution_count": 155,
     "metadata": {},
     "output_type": "execute_result"
    }
   ],
   "source": [
    "mylist"
   ]
  },
  {
   "cell_type": "markdown",
   "id": "4dcb3ebf",
   "metadata": {},
   "source": [
    "## Lab: Lists\n",
    "* create an empty list\n",
    "* write Python code to repeatedly ask the user for a word until the word is 'quit'\n",
    "* add each word to the list\n",
    "* after the user types 'quit' print every other word (first, third, fifth, etc.)\n",
    "* then print every other word (second, fourth, sixth, etc.)\n"
   ]
  },
  {
   "cell_type": "code",
   "execution_count": 161,
   "id": "47c54f88",
   "metadata": {},
   "outputs": [
    {
     "name": "stdout",
     "output_type": "stream",
     "text": [
      "Enter a word: apple\n",
      "Enter a word: fig\n",
      "Enter a word: pear\n",
      "Enter a word: guava\n",
      "Enter a word: lemon\n",
      "Enter a word: lime\n",
      "Enter a word: quit\n",
      "['apple', 'pear', 'lemon']\n",
      "['fig', 'guava', 'lime']\n"
     ]
    }
   ],
   "source": [
    "# until the user enters 'quit':\n",
    "#.   add the word to the list\n",
    "\n",
    "# forever (while True:)\n",
    "#.       get a word from the user\n",
    "#.       if the word is 'quit':\n",
    "#              break\n",
    "#.       add the word to the list\n",
    "\n",
    "list_of_words = []\n",
    "\n",
    "# The walrus operator (used below) only works in Python 3.8+\n",
    "# If you are using Python 3.7, you can use an infinite loop with a break:\n",
    "# while True:\n",
    "#.   word = input('Enter a word: ')\n",
    "#.   if word == 'quit':\n",
    "#.        break\n",
    "# ...\n",
    "while (word := input('Enter a word: ')) != 'quit': \n",
    "    list_of_words.append(word)\n",
    "\n",
    "# they entered 'quit', so we're here now\n",
    "print(list_of_words[::2]) # print out every other word, starting from beginning\n",
    "print(list_of_words[1::2]) # print out ever other word, starting from 2nd word ([1])"
   ]
  },
  {
   "cell_type": "code",
   "execution_count": 162,
   "id": "c143fcb2",
   "metadata": {},
   "outputs": [
    {
     "data": {
      "text/plain": [
       "['something', 'else', 'and', 'some', 'extra', 'spaces']"
      ]
     },
     "execution_count": 162,
     "metadata": {},
     "output_type": "execute_result"
    }
   ],
   "source": [
    "'something      else    and     some    extra spaces'.split()"
   ]
  },
  {
   "cell_type": "code",
   "execution_count": 164,
   "id": "77e8b01b",
   "metadata": {},
   "outputs": [],
   "source": [
    "words = 'here is a string'.split()"
   ]
  },
  {
   "cell_type": "code",
   "execution_count": 165,
   "id": "81c023ee",
   "metadata": {},
   "outputs": [
    {
     "data": {
      "text/plain": [
       "['here', 'is', 'a', 'string']"
      ]
     },
     "execution_count": 165,
     "metadata": {},
     "output_type": "execute_result"
    }
   ],
   "source": [
    "words"
   ]
  },
  {
   "cell_type": "code",
   "execution_count": null,
   "id": "d3f903fd",
   "metadata": {},
   "outputs": [],
   "source": [
    "words.join() # we'd like to take all the words in the list 'words' and join them together"
   ]
  },
  {
   "cell_type": "code",
   "execution_count": 171,
   "id": "6add121f",
   "metadata": {},
   "outputs": [
    {
     "data": {
      "text/plain": [
       "'here is a string'"
      ]
     },
     "execution_count": 171,
     "metadata": {},
     "output_type": "execute_result"
    }
   ],
   "source": [
    "' '.join(words)"
   ]
  },
  {
   "cell_type": "code",
   "execution_count": 172,
   "id": "28566fd3",
   "metadata": {},
   "outputs": [
    {
     "ename": "AttributeError",
     "evalue": "'list' object has no attribute 'join'",
     "output_type": "error",
     "traceback": [
      "\u001b[0;31m---------------------------------------------------------------------------\u001b[0m",
      "\u001b[0;31mAttributeError\u001b[0m                            Traceback (most recent call last)",
      "Input \u001b[0;32mIn [172]\u001b[0m, in \u001b[0;36m<cell line: 1>\u001b[0;34m()\u001b[0m\n\u001b[0;32m----> 1\u001b[0m \u001b[43mwords\u001b[49m\u001b[38;5;241;43m.\u001b[39;49m\u001b[43mjoin\u001b[49m(\u001b[38;5;124m'\u001b[39m\u001b[38;5;124m \u001b[39m\u001b[38;5;124m'\u001b[39m)\n",
      "\u001b[0;31mAttributeError\u001b[0m: 'list' object has no attribute 'join'"
     ]
    }
   ],
   "source": [
    "words.join(' ') # this would be much clearer to humansm but we can't do this because join() has to \n",
    "# work for other containers besides lists"
   ]
  },
  {
   "cell_type": "code",
   "execution_count": 173,
   "id": "38f98701",
   "metadata": {},
   "outputs": [
    {
     "data": {
      "text/plain": [
       "'hereisastring'"
      ]
     },
     "execution_count": 173,
     "metadata": {},
     "output_type": "execute_result"
    }
   ],
   "source": [
    "''.join(words)"
   ]
  },
  {
   "cell_type": "code",
   "execution_count": 174,
   "id": "9b6752c5",
   "metadata": {},
   "outputs": [
    {
     "data": {
      "text/plain": [
       "'here is a string'"
      ]
     },
     "execution_count": 174,
     "metadata": {},
     "output_type": "execute_result"
    }
   ],
   "source": [
    "' '.join(words)"
   ]
  },
  {
   "cell_type": "code",
   "execution_count": 175,
   "id": "4453bc76",
   "metadata": {},
   "outputs": [
    {
     "data": {
      "text/plain": [
       "'here-is-a-string'"
      ]
     },
     "execution_count": 175,
     "metadata": {},
     "output_type": "execute_result"
    }
   ],
   "source": [
    "'-'.join(words)"
   ]
  },
  {
   "cell_type": "code",
   "execution_count": 176,
   "id": "c74fecba",
   "metadata": {},
   "outputs": [
    {
     "data": {
      "text/plain": [
       "'here, is, a, string'"
      ]
     },
     "execution_count": 176,
     "metadata": {},
     "output_type": "execute_result"
    }
   ],
   "source": [
    "', '.join(words)"
   ]
  },
  {
   "cell_type": "code",
   "execution_count": 177,
   "id": "4b4214af",
   "metadata": {},
   "outputs": [
    {
     "data": {
      "text/plain": [
       "'here is a string'"
      ]
     },
     "execution_count": 177,
     "metadata": {},
     "output_type": "execute_result"
    }
   ],
   "source": [
    "' '.join(words)"
   ]
  },
  {
   "cell_type": "code",
   "execution_count": 178,
   "id": "2c235796",
   "metadata": {},
   "outputs": [
    {
     "name": "stdout",
     "output_type": "stream",
     "text": [
      "here, is, a, string\n"
     ]
    }
   ],
   "source": [
    "%%python2\n",
    "words = ['here', 'is', 'a', 'string']\n",
    "print(', '.join(words))"
   ]
  },
  {
   "cell_type": "code",
   "execution_count": 180,
   "id": "60ecb11c",
   "metadata": {},
   "outputs": [
    {
     "data": {
      "text/plain": [
       "'here is a string'"
      ]
     },
     "execution_count": 180,
     "metadata": {},
     "output_type": "execute_result"
    }
   ],
   "source": [
    "' '.join(words)"
   ]
  },
  {
   "cell_type": "code",
   "execution_count": 182,
   "id": "585e4a33",
   "metadata": {},
   "outputs": [
    {
     "ename": "TypeError",
     "evalue": "sequence item 0: expected str instance, int found",
     "output_type": "error",
     "traceback": [
      "\u001b[0;31m---------------------------------------------------------------------------\u001b[0m",
      "\u001b[0;31mTypeError\u001b[0m                                 Traceback (most recent call last)",
      "Input \u001b[0;32mIn [182]\u001b[0m, in \u001b[0;36m<cell line: 1>\u001b[0;34m()\u001b[0m\n\u001b[0;32m----> 1\u001b[0m \u001b[38;5;124;43m'\u001b[39;49m\u001b[38;5;124;43m \u001b[39;49m\u001b[38;5;124;43m'\u001b[39;49m\u001b[38;5;241;43m.\u001b[39;49m\u001b[43mjoin\u001b[49m\u001b[43m(\u001b[49m\u001b[43m[\u001b[49m\u001b[38;5;241;43m1\u001b[39;49m\u001b[43m,\u001b[49m\u001b[43m \u001b[49m\u001b[38;5;124;43m'\u001b[39;49m\u001b[38;5;124;43m2\u001b[39;49m\u001b[38;5;124;43m'\u001b[39;49m\u001b[43m,\u001b[49m\u001b[43m \u001b[49m\u001b[38;5;124;43m'\u001b[39;49m\u001b[38;5;124;43m3\u001b[39;49m\u001b[38;5;124;43m'\u001b[39;49m\u001b[43m]\u001b[49m\u001b[43m)\u001b[49m\n",
      "\u001b[0;31mTypeError\u001b[0m: sequence item 0: expected str instance, int found"
     ]
    }
   ],
   "source": [
    "' '.join([1, '2', '3'])"
   ]
  },
  {
   "cell_type": "markdown",
   "id": "01dc0883",
   "metadata": {},
   "source": [
    "## Group Lab: Jumble (Word Scrambling)\n",
    "* write a program which plays the jumble word game, i.e., it will present you with a scrambled word and you have to come up with the correctly spelled word\n",
    "  * you can use the __`random`__ module for this\n",
    "  * __`random.choice(container)`__ will return a random item from the container\n",
    "  * __`random.shuffle(container)`__ will shuffle a container so the items are scrambled\n",
    "  * you can't shuffle a string, so you'll need to put the characters into a list using the __`list()`__ function, then shuffle the list, then put the back into a string using __`join()`__"
   ]
  },
  {
   "cell_type": "code",
   "execution_count": 183,
   "id": "94048313",
   "metadata": {},
   "outputs": [],
   "source": [
    "words = 'snake apple serendipity monster chicken coffee privacy cardboard dolphin hyperbeam constant pittsburgh'.split()"
   ]
  },
  {
   "cell_type": "code",
   "execution_count": 184,
   "id": "49e66a37",
   "metadata": {},
   "outputs": [
    {
     "data": {
      "text/plain": [
       "['snake',\n",
       " 'apple',\n",
       " 'serendipity',\n",
       " 'monster',\n",
       " 'chicken',\n",
       " 'coffee',\n",
       " 'privacy',\n",
       " 'cardboard',\n",
       " 'dolphin',\n",
       " 'hyperbeam',\n",
       " 'constant',\n",
       " 'pittsburgh']"
      ]
     },
     "execution_count": 184,
     "metadata": {},
     "output_type": "execute_result"
    }
   ],
   "source": [
    "words"
   ]
  },
  {
   "cell_type": "code",
   "execution_count": 185,
   "id": "fc152dfd",
   "metadata": {},
   "outputs": [],
   "source": [
    "import random"
   ]
  },
  {
   "cell_type": "code",
   "execution_count": 186,
   "id": "0f861981",
   "metadata": {},
   "outputs": [
    {
     "data": {
      "text/plain": [
       "['BPF',\n",
       " 'LOG4',\n",
       " 'NV_MAGICCONST',\n",
       " 'RECIP_BPF',\n",
       " 'Random',\n",
       " 'SG_MAGICCONST',\n",
       " 'SystemRandom',\n",
       " 'TWOPI',\n",
       " '_Sequence',\n",
       " '_Set',\n",
       " '__all__',\n",
       " '__builtins__',\n",
       " '__cached__',\n",
       " '__doc__',\n",
       " '__file__',\n",
       " '__loader__',\n",
       " '__name__',\n",
       " '__package__',\n",
       " '__spec__',\n",
       " '_accumulate',\n",
       " '_acos',\n",
       " '_bisect',\n",
       " '_ceil',\n",
       " '_cos',\n",
       " '_e',\n",
       " '_exp',\n",
       " '_floor',\n",
       " '_inst',\n",
       " '_log',\n",
       " '_os',\n",
       " '_pi',\n",
       " '_random',\n",
       " '_repeat',\n",
       " '_sha512',\n",
       " '_sin',\n",
       " '_sqrt',\n",
       " '_test',\n",
       " '_test_generator',\n",
       " '_urandom',\n",
       " '_warn',\n",
       " 'betavariate',\n",
       " 'choice',\n",
       " 'choices',\n",
       " 'expovariate',\n",
       " 'gammavariate',\n",
       " 'gauss',\n",
       " 'getrandbits',\n",
       " 'getstate',\n",
       " 'lognormvariate',\n",
       " 'normalvariate',\n",
       " 'paretovariate',\n",
       " 'randbytes',\n",
       " 'randint',\n",
       " 'random',\n",
       " 'randrange',\n",
       " 'sample',\n",
       " 'seed',\n",
       " 'setstate',\n",
       " 'shuffle',\n",
       " 'triangular',\n",
       " 'uniform',\n",
       " 'vonmisesvariate',\n",
       " 'weibullvariate']"
      ]
     },
     "execution_count": 186,
     "metadata": {},
     "output_type": "execute_result"
    }
   ],
   "source": [
    "dir(random)"
   ]
  },
  {
   "cell_type": "code",
   "execution_count": 190,
   "id": "868478b3",
   "metadata": {
    "collapsed": true
   },
   "outputs": [
    {
     "name": "stdout",
     "output_type": "stream",
     "text": [
      "Help on module random:\n",
      "\n",
      "NAME\n",
      "    random - Random variable generators.\n",
      "\n",
      "MODULE REFERENCE\n",
      "    https://docs.python.org/3.9/library/random\n",
      "    \n",
      "    The following documentation is automatically generated from the Python\n",
      "    source files.  It may be incomplete, incorrect or include features that\n",
      "    are considered implementation detail and may vary between Python\n",
      "    implementations.  When in doubt, consult the module reference at the\n",
      "    location listed above.\n",
      "\n",
      "DESCRIPTION\n",
      "        bytes\n",
      "        -----\n",
      "               uniform bytes (values between 0 and 255)\n",
      "    \n",
      "        integers\n",
      "        --------\n",
      "               uniform within range\n",
      "    \n",
      "        sequences\n",
      "        ---------\n",
      "               pick random element\n",
      "               pick random sample\n",
      "               pick weighted random sample\n",
      "               generate random permutation\n",
      "    \n",
      "        distributions on the real line:\n",
      "        ------------------------------\n",
      "               uniform\n",
      "               triangular\n",
      "               normal (Gaussian)\n",
      "               lognormal\n",
      "               negative exponential\n",
      "               gamma\n",
      "               beta\n",
      "               pareto\n",
      "               Weibull\n",
      "    \n",
      "        distributions on the circle (angles 0 to 2pi)\n",
      "        ---------------------------------------------\n",
      "               circular uniform\n",
      "               von Mises\n",
      "    \n",
      "    General notes on the underlying Mersenne Twister core generator:\n",
      "    \n",
      "    * The period is 2**19937-1.\n",
      "    * It is one of the most extensively tested generators in existence.\n",
      "    * The random() method is implemented in C, executes in a single Python step,\n",
      "      and is, therefore, threadsafe.\n",
      "\n",
      "CLASSES\n",
      "    _random.Random(builtins.object)\n",
      "        Random\n",
      "            SystemRandom\n",
      "    \n",
      "    class Random(_random.Random)\n",
      "     |  Random(x=None)\n",
      "     |  \n",
      "     |  Random number generator base class used by bound module functions.\n",
      "     |  \n",
      "     |  Used to instantiate instances of Random to get generators that don't\n",
      "     |  share state.\n",
      "     |  \n",
      "     |  Class Random can also be subclassed if you want to use a different basic\n",
      "     |  generator of your own devising: in that case, override the following\n",
      "     |  methods:  random(), seed(), getstate(), and setstate().\n",
      "     |  Optionally, implement a getrandbits() method so that randrange()\n",
      "     |  can cover arbitrarily large ranges.\n",
      "     |  \n",
      "     |  Method resolution order:\n",
      "     |      Random\n",
      "     |      _random.Random\n",
      "     |      builtins.object\n",
      "     |  \n",
      "     |  Methods defined here:\n",
      "     |  \n",
      "     |  __getstate__(self)\n",
      "     |      # Issue 17489: Since __reduce__ was defined to fix #759889 this is no\n",
      "     |      # longer called; we leave it here because it has been here since random was\n",
      "     |      # rewritten back in 2001 and why risk breaking something.\n",
      "     |  \n",
      "     |  __init__(self, x=None)\n",
      "     |      Initialize an instance.\n",
      "     |      \n",
      "     |      Optional argument x controls seeding, as for Random.seed().\n",
      "     |  \n",
      "     |  __reduce__(self)\n",
      "     |      Helper for pickle.\n",
      "     |  \n",
      "     |  __setstate__(self, state)\n",
      "     |  \n",
      "     |  betavariate(self, alpha, beta)\n",
      "     |      Beta distribution.\n",
      "     |      \n",
      "     |      Conditions on the parameters are alpha > 0 and beta > 0.\n",
      "     |      Returned values range between 0 and 1.\n",
      "     |  \n",
      "     |  choice(self, seq)\n",
      "     |      Choose a random element from a non-empty sequence.\n",
      "     |  \n",
      "     |  choices(self, population, weights=None, *, cum_weights=None, k=1)\n",
      "     |      Return a k sized list of population elements chosen with replacement.\n",
      "     |      \n",
      "     |      If the relative weights or cumulative weights are not specified,\n",
      "     |      the selections are made with equal probability.\n",
      "     |  \n",
      "     |  expovariate(self, lambd)\n",
      "     |      Exponential distribution.\n",
      "     |      \n",
      "     |      lambd is 1.0 divided by the desired mean.  It should be\n",
      "     |      nonzero.  (The parameter would be called \"lambda\", but that is\n",
      "     |      a reserved word in Python.)  Returned values range from 0 to\n",
      "     |      positive infinity if lambd is positive, and from negative\n",
      "     |      infinity to 0 if lambd is negative.\n",
      "     |  \n",
      "     |  gammavariate(self, alpha, beta)\n",
      "     |      Gamma distribution.  Not the gamma function!\n",
      "     |      \n",
      "     |      Conditions on the parameters are alpha > 0 and beta > 0.\n",
      "     |      \n",
      "     |      The probability distribution function is:\n",
      "     |      \n",
      "     |                  x ** (alpha - 1) * math.exp(-x / beta)\n",
      "     |        pdf(x) =  --------------------------------------\n",
      "     |                    math.gamma(alpha) * beta ** alpha\n",
      "     |  \n",
      "     |  gauss(self, mu, sigma)\n",
      "     |      Gaussian distribution.\n",
      "     |      \n",
      "     |      mu is the mean, and sigma is the standard deviation.  This is\n",
      "     |      slightly faster than the normalvariate() function.\n",
      "     |      \n",
      "     |      Not thread-safe without a lock around calls.\n",
      "     |  \n",
      "     |  getstate(self)\n",
      "     |      Return internal state; can be passed to setstate() later.\n",
      "     |  \n",
      "     |  lognormvariate(self, mu, sigma)\n",
      "     |      Log normal distribution.\n",
      "     |      \n",
      "     |      If you take the natural logarithm of this distribution, you'll get a\n",
      "     |      normal distribution with mean mu and standard deviation sigma.\n",
      "     |      mu can have any value, and sigma must be greater than zero.\n",
      "     |  \n",
      "     |  normalvariate(self, mu, sigma)\n",
      "     |      Normal distribution.\n",
      "     |      \n",
      "     |      mu is the mean, and sigma is the standard deviation.\n",
      "     |  \n",
      "     |  paretovariate(self, alpha)\n",
      "     |      Pareto distribution.  alpha is the shape parameter.\n",
      "     |  \n",
      "     |  randbytes(self, n)\n",
      "     |      Generate n random bytes.\n",
      "     |  \n",
      "     |  randint(self, a, b)\n",
      "     |      Return random integer in range [a, b], including both end points.\n",
      "     |  \n",
      "     |  randrange(self, start, stop=None, step=1)\n",
      "     |      Choose a random item from range(start, stop[, step]).\n",
      "     |      \n",
      "     |      This fixes the problem with randint() which includes the\n",
      "     |      endpoint; in Python this is usually not what you want.\n",
      "     |  \n",
      "     |  sample(self, population, k, *, counts=None)\n",
      "     |      Chooses k unique random elements from a population sequence or set.\n",
      "     |      \n",
      "     |      Returns a new list containing elements from the population while\n",
      "     |      leaving the original population unchanged.  The resulting list is\n",
      "     |      in selection order so that all sub-slices will also be valid random\n",
      "     |      samples.  This allows raffle winners (the sample) to be partitioned\n",
      "     |      into grand prize and second place winners (the subslices).\n",
      "     |      \n",
      "     |      Members of the population need not be hashable or unique.  If the\n",
      "     |      population contains repeats, then each occurrence is a possible\n",
      "     |      selection in the sample.\n",
      "     |      \n",
      "     |      Repeated elements can be specified one at a time or with the optional\n",
      "     |      counts parameter.  For example:\n",
      "     |      \n",
      "     |          sample(['red', 'blue'], counts=[4, 2], k=5)\n",
      "     |      \n",
      "     |      is equivalent to:\n",
      "     |      \n",
      "     |          sample(['red', 'red', 'red', 'red', 'blue', 'blue'], k=5)\n",
      "     |      \n",
      "     |      To choose a sample from a range of integers, use range() for the\n",
      "     |      population argument.  This is especially fast and space efficient\n",
      "     |      for sampling from a large population:\n",
      "     |      \n",
      "     |          sample(range(10000000), 60)\n",
      "     |  \n",
      "     |  seed(self, a=None, version=2)\n",
      "     |      Initialize internal state from a seed.\n",
      "     |      \n",
      "     |      The only supported seed types are None, int, float,\n",
      "     |      str, bytes, and bytearray.\n",
      "     |      \n",
      "     |      None or no argument seeds from current time or from an operating\n",
      "     |      system specific randomness source if available.\n",
      "     |      \n",
      "     |      If *a* is an int, all bits are used.\n",
      "     |      \n",
      "     |      For version 2 (the default), all of the bits are used if *a* is a str,\n",
      "     |      bytes, or bytearray.  For version 1 (provided for reproducing random\n",
      "     |      sequences from older versions of Python), the algorithm for str and\n",
      "     |      bytes generates a narrower range of seeds.\n",
      "     |  \n",
      "     |  setstate(self, state)\n",
      "     |      Restore internal state from object returned by getstate().\n",
      "     |  \n",
      "     |  shuffle(self, x, random=None)\n",
      "     |      Shuffle list x in place, and return None.\n",
      "     |      \n",
      "     |      Optional argument random is a 0-argument function returning a\n",
      "     |      random float in [0.0, 1.0); if it is the default None, the\n",
      "     |      standard random.random will be used.\n",
      "     |  \n",
      "     |  triangular(self, low=0.0, high=1.0, mode=None)\n",
      "     |      Triangular distribution.\n",
      "     |      \n",
      "     |      Continuous distribution bounded by given lower and upper limits,\n",
      "     |      and having a given mode value in-between.\n",
      "     |      \n",
      "     |      http://en.wikipedia.org/wiki/Triangular_distribution\n",
      "     |  \n",
      "     |  uniform(self, a, b)\n",
      "     |      Get a random number in the range [a, b) or [a, b] depending on rounding.\n",
      "     |  \n",
      "     |  vonmisesvariate(self, mu, kappa)\n",
      "     |      Circular data distribution.\n",
      "     |      \n",
      "     |      mu is the mean angle, expressed in radians between 0 and 2*pi, and\n",
      "     |      kappa is the concentration parameter, which must be greater than or\n",
      "     |      equal to zero.  If kappa is equal to zero, this distribution reduces\n",
      "     |      to a uniform random angle over the range 0 to 2*pi.\n",
      "     |  \n",
      "     |  weibullvariate(self, alpha, beta)\n",
      "     |      Weibull distribution.\n",
      "     |      \n",
      "     |      alpha is the scale parameter and beta is the shape parameter.\n",
      "     |  \n",
      "     |  ----------------------------------------------------------------------\n",
      "     |  Class methods defined here:\n",
      "     |  \n",
      "     |  __init_subclass__(**kwargs) from builtins.type\n",
      "     |      Control how subclasses generate random integers.\n",
      "     |      \n",
      "     |      The algorithm a subclass can use depends on the random() and/or\n",
      "     |      getrandbits() implementation available to it and determines\n",
      "     |      whether it can generate random integers from arbitrarily large\n",
      "     |      ranges.\n",
      "     |  \n",
      "     |  ----------------------------------------------------------------------\n",
      "     |  Data descriptors defined here:\n",
      "     |  \n",
      "     |  __dict__\n",
      "     |      dictionary for instance variables (if defined)\n",
      "     |  \n",
      "     |  __weakref__\n",
      "     |      list of weak references to the object (if defined)\n",
      "     |  \n",
      "     |  ----------------------------------------------------------------------\n",
      "     |  Data and other attributes defined here:\n",
      "     |  \n",
      "     |  VERSION = 3\n",
      "     |  \n",
      "     |  ----------------------------------------------------------------------\n",
      "     |  Methods inherited from _random.Random:\n",
      "     |  \n",
      "     |  getrandbits(self, k, /)\n",
      "     |      getrandbits(k) -> x.  Generates an int with k random bits.\n",
      "     |  \n",
      "     |  random(self, /)\n",
      "     |      random() -> x in the interval [0, 1).\n",
      "     |  \n",
      "     |  ----------------------------------------------------------------------\n",
      "     |  Static methods inherited from _random.Random:\n",
      "     |  \n",
      "     |  __new__(*args, **kwargs) from builtins.type\n",
      "     |      Create and return a new object.  See help(type) for accurate signature.\n",
      "    \n",
      "    class SystemRandom(Random)\n",
      "     |  SystemRandom(x=None)\n",
      "     |  \n",
      "     |  Alternate random number generator using sources provided\n",
      "     |  by the operating system (such as /dev/urandom on Unix or\n",
      "     |  CryptGenRandom on Windows).\n",
      "     |  \n",
      "     |   Not available on all systems (see os.urandom() for details).\n",
      "     |  \n",
      "     |  Method resolution order:\n",
      "     |      SystemRandom\n",
      "     |      Random\n",
      "     |      _random.Random\n",
      "     |      builtins.object\n",
      "     |  \n",
      "     |  Methods defined here:\n",
      "     |  \n",
      "     |  getrandbits(self, k)\n",
      "     |      getrandbits(k) -> x.  Generates an int with k random bits.\n",
      "     |  \n",
      "     |  getstate = _notimplemented(self, *args, **kwds)\n",
      "     |  \n",
      "     |  randbytes(self, n)\n",
      "     |      Generate n random bytes.\n",
      "     |  \n",
      "     |  random(self)\n",
      "     |      Get the next random number in the range [0.0, 1.0).\n",
      "     |  \n",
      "     |  seed(self, *args, **kwds)\n",
      "     |      Stub method.  Not used for a system random number generator.\n",
      "     |  \n",
      "     |  setstate = _notimplemented(self, *args, **kwds)\n",
      "     |  \n",
      "     |  ----------------------------------------------------------------------\n",
      "     |  Methods inherited from Random:\n",
      "     |  \n",
      "     |  __getstate__(self)\n",
      "     |      # Issue 17489: Since __reduce__ was defined to fix #759889 this is no\n",
      "     |      # longer called; we leave it here because it has been here since random was\n",
      "     |      # rewritten back in 2001 and why risk breaking something.\n",
      "     |  \n",
      "     |  __init__(self, x=None)\n",
      "     |      Initialize an instance.\n",
      "     |      \n",
      "     |      Optional argument x controls seeding, as for Random.seed().\n",
      "     |  \n",
      "     |  __reduce__(self)\n",
      "     |      Helper for pickle.\n",
      "     |  \n",
      "     |  __setstate__(self, state)\n",
      "     |  \n",
      "     |  betavariate(self, alpha, beta)\n",
      "     |      Beta distribution.\n",
      "     |      \n",
      "     |      Conditions on the parameters are alpha > 0 and beta > 0.\n",
      "     |      Returned values range between 0 and 1.\n",
      "     |  \n",
      "     |  choice(self, seq)\n",
      "     |      Choose a random element from a non-empty sequence.\n",
      "     |  \n",
      "     |  choices(self, population, weights=None, *, cum_weights=None, k=1)\n",
      "     |      Return a k sized list of population elements chosen with replacement.\n",
      "     |      \n",
      "     |      If the relative weights or cumulative weights are not specified,\n",
      "     |      the selections are made with equal probability.\n",
      "     |  \n",
      "     |  expovariate(self, lambd)\n",
      "     |      Exponential distribution.\n",
      "     |      \n",
      "     |      lambd is 1.0 divided by the desired mean.  It should be\n",
      "     |      nonzero.  (The parameter would be called \"lambda\", but that is\n",
      "     |      a reserved word in Python.)  Returned values range from 0 to\n",
      "     |      positive infinity if lambd is positive, and from negative\n",
      "     |      infinity to 0 if lambd is negative.\n",
      "     |  \n",
      "     |  gammavariate(self, alpha, beta)\n",
      "     |      Gamma distribution.  Not the gamma function!\n",
      "     |      \n",
      "     |      Conditions on the parameters are alpha > 0 and beta > 0.\n",
      "     |      \n",
      "     |      The probability distribution function is:\n",
      "     |      \n",
      "     |                  x ** (alpha - 1) * math.exp(-x / beta)\n",
      "     |        pdf(x) =  --------------------------------------\n",
      "     |                    math.gamma(alpha) * beta ** alpha\n",
      "     |  \n",
      "     |  gauss(self, mu, sigma)\n",
      "     |      Gaussian distribution.\n",
      "     |      \n",
      "     |      mu is the mean, and sigma is the standard deviation.  This is\n",
      "     |      slightly faster than the normalvariate() function.\n",
      "     |      \n",
      "     |      Not thread-safe without a lock around calls.\n",
      "     |  \n",
      "     |  lognormvariate(self, mu, sigma)\n",
      "     |      Log normal distribution.\n",
      "     |      \n",
      "     |      If you take the natural logarithm of this distribution, you'll get a\n",
      "     |      normal distribution with mean mu and standard deviation sigma.\n",
      "     |      mu can have any value, and sigma must be greater than zero.\n",
      "     |  \n",
      "     |  normalvariate(self, mu, sigma)\n",
      "     |      Normal distribution.\n",
      "     |      \n",
      "     |      mu is the mean, and sigma is the standard deviation.\n",
      "     |  \n",
      "     |  paretovariate(self, alpha)\n",
      "     |      Pareto distribution.  alpha is the shape parameter.\n",
      "     |  \n",
      "     |  randint(self, a, b)\n",
      "     |      Return random integer in range [a, b], including both end points.\n",
      "     |  \n",
      "     |  randrange(self, start, stop=None, step=1)\n",
      "     |      Choose a random item from range(start, stop[, step]).\n",
      "     |      \n",
      "     |      This fixes the problem with randint() which includes the\n",
      "     |      endpoint; in Python this is usually not what you want.\n",
      "     |  \n",
      "     |  sample(self, population, k, *, counts=None)\n",
      "     |      Chooses k unique random elements from a population sequence or set.\n",
      "     |      \n",
      "     |      Returns a new list containing elements from the population while\n",
      "     |      leaving the original population unchanged.  The resulting list is\n",
      "     |      in selection order so that all sub-slices will also be valid random\n",
      "     |      samples.  This allows raffle winners (the sample) to be partitioned\n",
      "     |      into grand prize and second place winners (the subslices).\n",
      "     |      \n",
      "     |      Members of the population need not be hashable or unique.  If the\n",
      "     |      population contains repeats, then each occurrence is a possible\n",
      "     |      selection in the sample.\n",
      "     |      \n",
      "     |      Repeated elements can be specified one at a time or with the optional\n",
      "     |      counts parameter.  For example:\n",
      "     |      \n",
      "     |          sample(['red', 'blue'], counts=[4, 2], k=5)\n",
      "     |      \n",
      "     |      is equivalent to:\n",
      "     |      \n",
      "     |          sample(['red', 'red', 'red', 'red', 'blue', 'blue'], k=5)\n",
      "     |      \n",
      "     |      To choose a sample from a range of integers, use range() for the\n",
      "     |      population argument.  This is especially fast and space efficient\n",
      "     |      for sampling from a large population:\n",
      "     |      \n",
      "     |          sample(range(10000000), 60)\n",
      "     |  \n",
      "     |  shuffle(self, x, random=None)\n",
      "     |      Shuffle list x in place, and return None.\n",
      "     |      \n",
      "     |      Optional argument random is a 0-argument function returning a\n",
      "     |      random float in [0.0, 1.0); if it is the default None, the\n",
      "     |      standard random.random will be used.\n",
      "     |  \n",
      "     |  triangular(self, low=0.0, high=1.0, mode=None)\n",
      "     |      Triangular distribution.\n",
      "     |      \n",
      "     |      Continuous distribution bounded by given lower and upper limits,\n",
      "     |      and having a given mode value in-between.\n",
      "     |      \n",
      "     |      http://en.wikipedia.org/wiki/Triangular_distribution\n",
      "     |  \n",
      "     |  uniform(self, a, b)\n",
      "     |      Get a random number in the range [a, b) or [a, b] depending on rounding.\n",
      "     |  \n",
      "     |  vonmisesvariate(self, mu, kappa)\n",
      "     |      Circular data distribution.\n",
      "     |      \n",
      "     |      mu is the mean angle, expressed in radians between 0 and 2*pi, and\n",
      "     |      kappa is the concentration parameter, which must be greater than or\n",
      "     |      equal to zero.  If kappa is equal to zero, this distribution reduces\n",
      "     |      to a uniform random angle over the range 0 to 2*pi.\n",
      "     |  \n",
      "     |  weibullvariate(self, alpha, beta)\n",
      "     |      Weibull distribution.\n",
      "     |      \n",
      "     |      alpha is the scale parameter and beta is the shape parameter.\n",
      "     |  \n",
      "     |  ----------------------------------------------------------------------\n",
      "     |  Class methods inherited from Random:\n",
      "     |  \n",
      "     |  __init_subclass__(**kwargs) from builtins.type\n",
      "     |      Control how subclasses generate random integers.\n",
      "     |      \n",
      "     |      The algorithm a subclass can use depends on the random() and/or\n",
      "     |      getrandbits() implementation available to it and determines\n",
      "     |      whether it can generate random integers from arbitrarily large\n",
      "     |      ranges.\n",
      "     |  \n",
      "     |  ----------------------------------------------------------------------\n",
      "     |  Data descriptors inherited from Random:\n",
      "     |  \n",
      "     |  __dict__\n",
      "     |      dictionary for instance variables (if defined)\n",
      "     |  \n",
      "     |  __weakref__\n",
      "     |      list of weak references to the object (if defined)\n",
      "     |  \n",
      "     |  ----------------------------------------------------------------------\n",
      "     |  Data and other attributes inherited from Random:\n",
      "     |  \n",
      "     |  VERSION = 3\n",
      "     |  \n",
      "     |  ----------------------------------------------------------------------\n",
      "     |  Static methods inherited from _random.Random:\n",
      "     |  \n",
      "     |  __new__(*args, **kwargs) from builtins.type\n",
      "     |      Create and return a new object.  See help(type) for accurate signature.\n",
      "\n",
      "FUNCTIONS\n",
      "    betavariate(alpha, beta) method of Random instance\n",
      "        Beta distribution.\n",
      "        \n",
      "        Conditions on the parameters are alpha > 0 and beta > 0.\n",
      "        Returned values range between 0 and 1.\n",
      "    \n",
      "    choice(seq) method of Random instance\n",
      "        Choose a random element from a non-empty sequence.\n",
      "    \n",
      "    choices(population, weights=None, *, cum_weights=None, k=1) method of Random instance\n",
      "        Return a k sized list of population elements chosen with replacement.\n",
      "        \n",
      "        If the relative weights or cumulative weights are not specified,\n",
      "        the selections are made with equal probability.\n",
      "    \n",
      "    expovariate(lambd) method of Random instance\n",
      "        Exponential distribution.\n",
      "        \n",
      "        lambd is 1.0 divided by the desired mean.  It should be\n",
      "        nonzero.  (The parameter would be called \"lambda\", but that is\n",
      "        a reserved word in Python.)  Returned values range from 0 to\n",
      "        positive infinity if lambd is positive, and from negative\n",
      "        infinity to 0 if lambd is negative.\n",
      "    \n",
      "    gammavariate(alpha, beta) method of Random instance\n",
      "        Gamma distribution.  Not the gamma function!\n",
      "        \n",
      "        Conditions on the parameters are alpha > 0 and beta > 0.\n",
      "        \n",
      "        The probability distribution function is:\n",
      "        \n",
      "                    x ** (alpha - 1) * math.exp(-x / beta)\n",
      "          pdf(x) =  --------------------------------------\n",
      "                      math.gamma(alpha) * beta ** alpha\n",
      "    \n",
      "    gauss(mu, sigma) method of Random instance\n",
      "        Gaussian distribution.\n",
      "        \n",
      "        mu is the mean, and sigma is the standard deviation.  This is\n",
      "        slightly faster than the normalvariate() function.\n",
      "        \n",
      "        Not thread-safe without a lock around calls.\n",
      "    \n",
      "    getrandbits(k, /) method of Random instance\n",
      "        getrandbits(k) -> x.  Generates an int with k random bits.\n",
      "    \n",
      "    getstate() method of Random instance\n",
      "        Return internal state; can be passed to setstate() later.\n",
      "    \n",
      "    lognormvariate(mu, sigma) method of Random instance\n",
      "        Log normal distribution.\n",
      "        \n",
      "        If you take the natural logarithm of this distribution, you'll get a\n",
      "        normal distribution with mean mu and standard deviation sigma.\n",
      "        mu can have any value, and sigma must be greater than zero.\n",
      "    \n",
      "    normalvariate(mu, sigma) method of Random instance\n",
      "        Normal distribution.\n",
      "        \n",
      "        mu is the mean, and sigma is the standard deviation.\n",
      "    \n",
      "    paretovariate(alpha) method of Random instance\n",
      "        Pareto distribution.  alpha is the shape parameter.\n",
      "    \n",
      "    randbytes(n) method of Random instance\n",
      "        Generate n random bytes.\n",
      "    \n",
      "    randint(a, b) method of Random instance\n",
      "        Return random integer in range [a, b], including both end points.\n",
      "    \n",
      "    random() method of Random instance\n",
      "        random() -> x in the interval [0, 1).\n",
      "    \n",
      "    randrange(start, stop=None, step=1) method of Random instance\n",
      "        Choose a random item from range(start, stop[, step]).\n",
      "        \n",
      "        This fixes the problem with randint() which includes the\n",
      "        endpoint; in Python this is usually not what you want.\n",
      "    \n",
      "    sample(population, k, *, counts=None) method of Random instance\n",
      "        Chooses k unique random elements from a population sequence or set.\n",
      "        \n",
      "        Returns a new list containing elements from the population while\n",
      "        leaving the original population unchanged.  The resulting list is\n",
      "        in selection order so that all sub-slices will also be valid random\n",
      "        samples.  This allows raffle winners (the sample) to be partitioned\n",
      "        into grand prize and second place winners (the subslices).\n",
      "        \n",
      "        Members of the population need not be hashable or unique.  If the\n",
      "        population contains repeats, then each occurrence is a possible\n",
      "        selection in the sample.\n",
      "        \n",
      "        Repeated elements can be specified one at a time or with the optional\n",
      "        counts parameter.  For example:\n",
      "        \n",
      "            sample(['red', 'blue'], counts=[4, 2], k=5)\n",
      "        \n",
      "        is equivalent to:\n",
      "        \n",
      "            sample(['red', 'red', 'red', 'red', 'blue', 'blue'], k=5)\n",
      "        \n",
      "        To choose a sample from a range of integers, use range() for the\n",
      "        population argument.  This is especially fast and space efficient\n",
      "        for sampling from a large population:\n",
      "        \n",
      "            sample(range(10000000), 60)\n",
      "    \n",
      "    seed(a=None, version=2) method of Random instance\n",
      "        Initialize internal state from a seed.\n",
      "        \n",
      "        The only supported seed types are None, int, float,\n",
      "        str, bytes, and bytearray.\n",
      "        \n",
      "        None or no argument seeds from current time or from an operating\n",
      "        system specific randomness source if available.\n",
      "        \n",
      "        If *a* is an int, all bits are used.\n",
      "        \n",
      "        For version 2 (the default), all of the bits are used if *a* is a str,\n",
      "        bytes, or bytearray.  For version 1 (provided for reproducing random\n",
      "        sequences from older versions of Python), the algorithm for str and\n",
      "        bytes generates a narrower range of seeds.\n",
      "    \n",
      "    setstate(state) method of Random instance\n",
      "        Restore internal state from object returned by getstate().\n",
      "    \n",
      "    shuffle(x, random=None) method of Random instance\n",
      "        Shuffle list x in place, and return None.\n",
      "        \n",
      "        Optional argument random is a 0-argument function returning a\n",
      "        random float in [0.0, 1.0); if it is the default None, the\n",
      "        standard random.random will be used.\n",
      "    \n",
      "    triangular(low=0.0, high=1.0, mode=None) method of Random instance\n",
      "        Triangular distribution.\n",
      "        \n",
      "        Continuous distribution bounded by given lower and upper limits,\n",
      "        and having a given mode value in-between.\n",
      "        \n",
      "        http://en.wikipedia.org/wiki/Triangular_distribution\n",
      "    \n",
      "    uniform(a, b) method of Random instance\n",
      "        Get a random number in the range [a, b) or [a, b] depending on rounding.\n",
      "    \n",
      "    vonmisesvariate(mu, kappa) method of Random instance\n",
      "        Circular data distribution.\n",
      "        \n",
      "        mu is the mean angle, expressed in radians between 0 and 2*pi, and\n",
      "        kappa is the concentration parameter, which must be greater than or\n",
      "        equal to zero.  If kappa is equal to zero, this distribution reduces\n",
      "        to a uniform random angle over the range 0 to 2*pi.\n",
      "    \n",
      "    weibullvariate(alpha, beta) method of Random instance\n",
      "        Weibull distribution.\n",
      "        \n",
      "        alpha is the scale parameter and beta is the shape parameter.\n",
      "\n",
      "DATA\n",
      "    __all__ = ['Random', 'SystemRandom', 'betavariate', 'choice', 'choices...\n",
      "\n",
      "FILE\n",
      "    /Users/dave-wadestein/opt/anaconda3/lib/python3.9/random.py\n",
      "\n",
      "\n"
     ]
    }
   ],
   "source": [
    "help(random)"
   ]
  },
  {
   "cell_type": "code",
   "execution_count": 191,
   "id": "e76e55df",
   "metadata": {},
   "outputs": [],
   "source": [
    "random.shuffle(words)"
   ]
  },
  {
   "cell_type": "code",
   "execution_count": 192,
   "id": "93cda5a5",
   "metadata": {},
   "outputs": [
    {
     "data": {
      "text/plain": [
       "['chicken',\n",
       " 'pittsburgh',\n",
       " 'privacy',\n",
       " 'dolphin',\n",
       " 'hyperbeam',\n",
       " 'serendipity',\n",
       " 'apple',\n",
       " 'constant',\n",
       " 'cardboard',\n",
       " 'monster',\n",
       " 'snake',\n",
       " 'coffee']"
      ]
     },
     "execution_count": 192,
     "metadata": {},
     "output_type": "execute_result"
    }
   ],
   "source": [
    "words"
   ]
  },
  {
   "cell_type": "code",
   "execution_count": 194,
   "id": "a9c60d76",
   "metadata": {},
   "outputs": [
    {
     "data": {
      "text/plain": [
       "'pittsburgh'"
      ]
     },
     "execution_count": 194,
     "metadata": {},
     "output_type": "execute_result"
    }
   ],
   "source": [
    "random.choice(words)"
   ]
  },
  {
   "cell_type": "code",
   "execution_count": 195,
   "id": "a2b1ce37",
   "metadata": {},
   "outputs": [
    {
     "data": {
      "text/plain": [
       "'privacy'"
      ]
     },
     "execution_count": 195,
     "metadata": {},
     "output_type": "execute_result"
    }
   ],
   "source": [
    "random.choice(words)"
   ]
  },
  {
   "cell_type": "code",
   "execution_count": 198,
   "id": "5c996497",
   "metadata": {},
   "outputs": [
    {
     "data": {
      "text/plain": [
       "'coffee'"
      ]
     },
     "execution_count": 198,
     "metadata": {},
     "output_type": "execute_result"
    }
   ],
   "source": [
    "random.choice(words)"
   ]
  },
  {
   "cell_type": "code",
   "execution_count": null,
   "id": "e87a8a0f",
   "metadata": {},
   "outputs": [],
   "source": [
    "# Jumble game\n",
    "# 0. until game is over\n",
    "# 1. pick a word at random from our word list\n",
    "# 2. shuffle that word so it is displayed in jumbled form (e.g., 'PEPLA')\n",
    "# 3. prompt the user: \"What is this word: PEPLA?\"\n",
    "# 4. check user response to see if correct (APPLE)\n",
    "# 5. respond YOU GOT IT if it's correct, otherwise \"WRONG\"\n",
    "# 6. if wrong, \"try again\" / \"quit\" (tell them the word)\n",
    "#.   else if right \"do you want to play again?\""
   ]
  },
  {
   "cell_type": "code",
   "execution_count": 246,
   "id": "ed4746ce",
   "metadata": {},
   "outputs": [
    {
     "name": "stdout",
     "output_type": "stream",
     "text": [
      "What is this word: PALPE? monster\n",
      "Sorry, that is incorrect!\n",
      "What is this word: PALPE? apple\n",
      "You got it right!\n"
     ]
    }
   ],
   "source": [
    "# here are the words we will choose from\n",
    "words = 'snake apple serendipity monster chicken coffee privacy cardboard dolphin hyperbeam constant pittsburgh'.upper().split()\n",
    "word = random.choice(words) # step 1\n",
    "# print('the word is', word)\n",
    "# step 2: list-ify the word and then shuffle (because we can't shuffle)\n",
    "letters = list(word)\n",
    "random.shuffle(letters)\n",
    "# the above steps are done ONCE, and the we repeatedly ask the user to guess\n",
    "# step 0 (loop)\n",
    "while True: # infinite loop\n",
    "# step 3:\n",
    "    answer = input('What is this word: ' + ''.join(letters) + '? ').upper()\n",
    "    if answer == word:\n",
    "        print('You got it right!')\n",
    "        break # this is how we exit the infinite loop\n",
    "    print('Sorry, that is incorrect!')"
   ]
  },
  {
   "cell_type": "code",
   "execution_count": 242,
   "id": "e50b7c34",
   "metadata": {},
   "outputs": [
    {
     "data": {
      "text/plain": [
       "'PRIVACY'"
      ]
     },
     "execution_count": 242,
     "metadata": {},
     "output_type": "execute_result"
    }
   ],
   "source": [
    "word"
   ]
  },
  {
   "cell_type": "code",
   "execution_count": 243,
   "id": "9a0af2a4",
   "metadata": {},
   "outputs": [
    {
     "data": {
      "text/plain": [
       "'PRIVACY'"
      ]
     },
     "execution_count": 243,
     "metadata": {},
     "output_type": "execute_result"
    }
   ],
   "source": [
    "answer"
   ]
  },
  {
   "cell_type": "code",
   "execution_count": 204,
   "id": "d67ffe12",
   "metadata": {},
   "outputs": [
    {
     "data": {
      "text/plain": [
       "'snake'"
      ]
     },
     "execution_count": 204,
     "metadata": {},
     "output_type": "execute_result"
    }
   ],
   "source": [
    "word # we cannot shuffle this directly"
   ]
  },
  {
   "cell_type": "code",
   "execution_count": 218,
   "id": "908f08bf",
   "metadata": {},
   "outputs": [],
   "source": []
  },
  {
   "cell_type": "code",
   "execution_count": 219,
   "id": "dfa5c44b",
   "metadata": {},
   "outputs": [
    {
     "data": {
      "text/plain": [
       "['e', 'k', 's', 'a', 'n']"
      ]
     },
     "execution_count": 219,
     "metadata": {},
     "output_type": "execute_result"
    }
   ],
   "source": [
    "letters"
   ]
  },
  {
   "cell_type": "code",
   "execution_count": 222,
   "id": "86b34568",
   "metadata": {},
   "outputs": [],
   "source": [
    "display = ''.join(letters)"
   ]
  },
  {
   "cell_type": "code",
   "execution_count": 224,
   "id": "609f68f7",
   "metadata": {},
   "outputs": [
    {
     "data": {
      "text/plain": [
       "'EKSAN'"
      ]
     },
     "execution_count": 224,
     "metadata": {},
     "output_type": "execute_result"
    }
   ],
   "source": [
    "display.upper()"
   ]
  },
  {
   "cell_type": "code",
   "execution_count": 235,
   "id": "af9394af",
   "metadata": {},
   "outputs": [
    {
     "name": "stdout",
     "output_type": "stream",
     "text": [
      "onetwothreefour\n"
     ]
    }
   ],
   "source": [
    "answer = input('one' + 'two' + 'three')"
   ]
  },
  {
   "cell_type": "code",
   "execution_count": 4,
   "id": "cfbd8d3c",
   "metadata": {},
   "outputs": [
    {
     "name": "stdout",
     "output_type": "stream",
     "text": [
      "Shuffling the letters\n",
      "NOTNSTCA (\"h\" for a hint, \"s\" to re-scramble, q\" to quit)? h\n",
      "Letter no. 1 is C\n",
      "NOTNSTCA (\"h\" for a hint, \"s\" to re-scramble, q\" to quit)? h\n",
      "Letter no. 2 is O\n",
      "NOTNSTCA (\"h\" for a hint, \"s\" to re-scramble, q\" to quit)? h\n",
      "Letter no. 3 is N\n",
      "NOTNSTCA (\"h\" for a hint, \"s\" to re-scramble, q\" to quit)? h\n",
      "Letter no. 4 is S\n",
      "NOTNSTCA (\"h\" for a hint, \"s\" to re-scramble, q\" to quit)? h\n",
      "Letter no. 5 is T\n",
      "NOTNSTCA (\"h\" for a hint, \"s\" to re-scramble, q\" to quit)? h\n",
      "Letter no. 6 is A\n",
      "NOTNSTCA (\"h\" for a hint, \"s\" to re-scramble, q\" to quit)? h\n",
      "Letter no. 7 is N\n",
      "NOTNSTCA (\"h\" for a hint, \"s\" to re-scramble, q\" to quit)? h\n",
      "Letter no. 8 is T\n",
      "NOTNSTCA (\"h\" for a hint, \"s\" to re-scramble, q\" to quit)? h\n",
      "No more hints!\n",
      "NOTNSTCA (\"h\" for a hint, \"s\" to re-scramble, q\" to quit)? h\n",
      "No more hints!\n",
      "NOTNSTCA (\"h\" for a hint, \"s\" to re-scramble, q\" to quit)? q\n",
      "OK, thanks for playing!\n"
     ]
    }
   ],
   "source": [
    "# 2nd iteration\n",
    "# add facility to give a hint and let user quit the game\n",
    "\n",
    "import random\n",
    "\n",
    "words = 'snake apple serendipity monster chicken coffee privacy cardboard dolphin hyperbeam constant pittsburgh'.upper().split()\n",
    "word = random.choice(words) # step 1\n",
    "# print('the word is', word)\n",
    "# step 2: list-ify the word and then shuffle (because we can't shuffle)\n",
    "original_ordering = list(word) # [ 'S', 'N', 'A', 'K', 'E' ]\n",
    "letters = list(word) # [ 'S', 'N', 'A', 'K', 'E' ]\n",
    "hint_counter = 0\n",
    "\n",
    "# fix: we want to be ensure that shuffling does not produce the SAME ordering we started with\n",
    "# steps to ensure the above\n",
    "# 1. shuffle the letter\n",
    "# 2. until letters are in a different order:\n",
    "#       shuffle again\n",
    "# 2. while letters are in the same order we started with:\n",
    "#.      shuffle again\n",
    "while letters == original_ordering: # while they are equal\n",
    "    print('Shuffling the letters')\n",
    "    random.shuffle(letters) # [ 'S', 'E', 'N', 'K', 'A' ]\n",
    "\n",
    "# the above steps are done ONCE, and the we repeatedly ask the user to guess\n",
    "# step 0 (loop)\n",
    "while True: # infinite loop\n",
    "# step 3:\n",
    "    answer = input(''.join(letters) + ' (\"h\" for a hint, \"s\" to re-scramble, \"q\" to quit)? ').upper()\n",
    "\n",
    "    if answer == 'H': # they asked for a hint, so give it to them\n",
    "        # keep track of how many hints we've given so far (0 to start)\n",
    "        # which letter should we give them for the hint?\n",
    "        # we should give them the n'th letter, where n is the number of hints so far\n",
    "        # increment the number of hints so far (0 -> 1)\n",
    "        if hint_counter >= len(word):\n",
    "            print('No more hints!')\n",
    "        else:\n",
    "            print('Letter no.', hint_counter + 1, 'is', word[hint_counter])\n",
    "            hint_counter += 1\n",
    "    elif answer == 'S':\n",
    "        # guard against\n",
    "        # 1. shuffling into correct order ... original_ordering\n",
    "        # 2. shuffling into the current order (as if we did nothing), punt for now\n",
    "        random.shuffle(letters) # this will shuffle\n",
    "        while letters == original_ordering: # while they are equal\n",
    "            random.shuffle(letters)\n",
    "    elif answer == 'Q':\n",
    "        print('OK, thanks for playing!')\n",
    "        break # quit by leaving this loop\n",
    "   # now judge the correctness of their guess\n",
    "    elif answer == word:\n",
    "        print('You got it right!')\n",
    "        break # this is how we exit the infinite loop\n",
    "    else:\n",
    "        print('Sorry, that is incorrect!')"
   ]
  },
  {
   "cell_type": "code",
   "execution_count": 14,
   "id": "bcfb082a",
   "metadata": {},
   "outputs": [],
   "source": [
    "word = 'THE'"
   ]
  },
  {
   "cell_type": "code",
   "execution_count": 15,
   "id": "fbe29c8e",
   "metadata": {},
   "outputs": [],
   "source": [
    "letters = list(word)"
   ]
  },
  {
   "cell_type": "code",
   "execution_count": 16,
   "id": "ef8113d3",
   "metadata": {},
   "outputs": [
    {
     "data": {
      "text/plain": [
       "['T', 'H', 'E']"
      ]
     },
     "execution_count": 16,
     "metadata": {},
     "output_type": "execute_result"
    }
   ],
   "source": [
    "letters"
   ]
  },
  {
   "cell_type": "code",
   "execution_count": 23,
   "id": "e426e8c4",
   "metadata": {},
   "outputs": [],
   "source": [
    "import random\n",
    "random.shuffle(letters)"
   ]
  },
  {
   "cell_type": "code",
   "execution_count": 24,
   "id": "2981e5ee",
   "metadata": {},
   "outputs": [
    {
     "data": {
      "text/plain": [
       "['T', 'H', 'E']"
      ]
     },
     "execution_count": 24,
     "metadata": {},
     "output_type": "execute_result"
    }
   ],
   "source": [
    "letters"
   ]
  },
  {
   "cell_type": "code",
   "execution_count": 25,
   "id": "63112096",
   "metadata": {},
   "outputs": [
    {
     "data": {
      "text/plain": [
       "True"
      ]
     },
     "execution_count": 25,
     "metadata": {},
     "output_type": "execute_result"
    }
   ],
   "source": [
    "letters == list(word)"
   ]
  },
  {
   "cell_type": "code",
   "execution_count": 17,
   "id": "2627e169",
   "metadata": {},
   "outputs": [
    {
     "name": "stdout",
     "output_type": "stream",
     "text": [
      "TNDSICIT? hint\n",
      "Letter 1 is D\n",
      "TNDSICIT? distinct\n",
      "You got it!\n"
     ]
    }
   ],
   "source": [
    "# solution which is part of your materials (jumble.py)\n",
    "import random\n",
    "\n",
    "# open up wordlist.txt and read all of the words in\n",
    "wordfile = open('wordlist.txt')\n",
    "word_list = wordfile.read().split()\n",
    "\n",
    "# choose a word from the list at random and make it upper case\n",
    "word = random.choice(word_list).upper()\n",
    "\n",
    "# list-ify the word, i.e., make a list of the letters that we can scramble\n",
    "letter_list = list(word)\n",
    "\n",
    "# scramble or shuffle the letter list\n",
    "random.shuffle(letter_list)\n",
    "\n",
    "hint_letter = 0 # keep track of how many hints\n",
    "\n",
    "guess = '' # \"prime the pump\", that is, create the word variable\n",
    "\n",
    "# \"while the user has not guessed the scrambled word\"\n",
    "while guess != word:\n",
    "    guess = input(''.join(letter_list) + '? ').upper()\n",
    "    if guess == 'HINT':\n",
    "        #print(\"Letter %d is %s\"' % (hint_letter + 1, word[hint_letter]))\n",
    "        print('Letter', hint_letter + 1, 'is', word[hint_letter])\n",
    "        hint_letter += 1\n",
    "        # we are not checking to see if we \"fell off the end\" of the word\n",
    "    elif guess == 'QUIT':\n",
    "        print('Word was', word)\n",
    "        break\n",
    "    elif guess == 'SHUFFLE':\n",
    "        random.shuffle(letter_list) # without checking to see if it's shuffled into the correct order\n",
    "# the else clause only runs if we terminated the loop normally, i.e., the condition became false\n",
    "# ...we do not run the else clause if the loop was terminated via a break\n",
    "else:\n",
    "    print('You got it!')"
   ]
  },
  {
   "cell_type": "code",
   "execution_count": 8,
   "id": "6b23de7a",
   "metadata": {},
   "outputs": [
    {
     "data": {
      "text/plain": [
       "0"
      ]
     },
     "execution_count": 8,
     "metadata": {},
     "output_type": "execute_result"
    }
   ],
   "source": [
    "len('')"
   ]
  },
  {
   "cell_type": "code",
   "execution_count": 9,
   "id": "34d61f05",
   "metadata": {},
   "outputs": [
    {
     "data": {
      "text/plain": [
       "1"
      ]
     },
     "execution_count": 9,
     "metadata": {},
     "output_type": "execute_result"
    }
   ],
   "source": [
    "len(' ')"
   ]
  },
  {
   "cell_type": "code",
   "execution_count": 11,
   "id": "3d89ff4f",
   "metadata": {},
   "outputs": [],
   "source": [
    "letters = list('Year Up')"
   ]
  },
  {
   "cell_type": "code",
   "execution_count": 12,
   "id": "49b23714",
   "metadata": {},
   "outputs": [
    {
     "data": {
      "text/plain": [
       "['Y', 'e', 'a', 'r', ' ', 'U', 'p']"
      ]
     },
     "execution_count": 12,
     "metadata": {},
     "output_type": "execute_result"
    }
   ],
   "source": [
    "letters"
   ]
  },
  {
   "cell_type": "code",
   "execution_count": 13,
   "id": "e73fecc3",
   "metadata": {},
   "outputs": [
    {
     "ename": "NameError",
     "evalue": "name 'join' is not defined",
     "output_type": "error",
     "traceback": [
      "\u001b[0;31m---------------------------------------------------------------------------\u001b[0m",
      "\u001b[0;31mNameError\u001b[0m                                 Traceback (most recent call last)",
      "Input \u001b[0;32mIn [13]\u001b[0m, in \u001b[0;36m<cell line: 1>\u001b[0;34m()\u001b[0m\n\u001b[0;32m----> 1\u001b[0m \u001b[43mjoin\u001b[49m(letters)\n",
      "\u001b[0;31mNameError\u001b[0m: name 'join' is not defined"
     ]
    }
   ],
   "source": [
    "join(letters)"
   ]
  },
  {
   "cell_type": "code",
   "execution_count": 15,
   "id": "44acc639",
   "metadata": {},
   "outputs": [
    {
     "data": {
      "text/plain": [
       "'Year Up'"
      ]
     },
     "execution_count": 15,
     "metadata": {},
     "output_type": "execute_result"
    }
   ],
   "source": [
    "''.join(letters)"
   ]
  },
  {
   "cell_type": "markdown",
   "id": "1c80f5d4",
   "metadata": {},
   "source": [
    "## additional exercise\n",
    "* write Python code to ask the user their name and let the user enter it\n",
    "* list-ify the name as we did in the jumble program, in other words a list of characters\n",
    "* scramble/shuffle the list\n",
    "* present to the user their scrambled name\n",
    "\n",
    "0. import the random module (we need that for shuffling)\n",
    "1. prompt the user for their name\n",
    "2. convert the name into a list of its characters (\"list-ify\")\n",
    "3. shuffle that list of characters\n",
    "4. re-constitute or smash together or concatenate the scrambled letters and display to user"
   ]
  },
  {
   "cell_type": "code",
   "execution_count": 60,
   "id": "840d6fee",
   "metadata": {},
   "outputs": [
    {
     "name": "stdout",
     "output_type": "stream",
     "text": [
      "What is your name? clint eastwood\n",
      "ASCOD EITONTWL\n"
     ]
    }
   ],
   "source": [
    "import random # step 0: get the random module\n",
    "\n",
    "name = input('What is your name? ').upper() # step 1: prompt the user and get their response\n",
    "letter_list = list(name) # step 2: list-ify their name\n",
    "random.shuffle(letter_list) # step 3: shuffle the list of letters\n",
    "print(''.join(letter_list)) # step 4: create a single string from the list of letters"
   ]
  },
  {
   "cell_type": "code",
   "execution_count": 24,
   "id": "ce767c70",
   "metadata": {},
   "outputs": [
    {
     "name": "stdout",
     "output_type": "stream",
     "text": [
      "Enter something: The Beastie Boys\n"
     ]
    }
   ],
   "source": [
    "thing = input('Enter something: ') # in the old days, we called this a \"function\""
   ]
  },
  {
   "cell_type": "code",
   "execution_count": 25,
   "id": "de38aabc",
   "metadata": {},
   "outputs": [
    {
     "data": {
      "text/plain": [
       "'The Beastie Boys'"
      ]
     },
     "execution_count": 25,
     "metadata": {},
     "output_type": "execute_result"
    }
   ],
   "source": [
    "thing"
   ]
  },
  {
   "cell_type": "code",
   "execution_count": 26,
   "id": "8c46b4f1",
   "metadata": {},
   "outputs": [
    {
     "data": {
      "text/plain": [
       "'THE BEASTIE BOYS'"
      ]
     },
     "execution_count": 26,
     "metadata": {},
     "output_type": "execute_result"
    }
   ],
   "source": [
    "thing.upper()"
   ]
  },
  {
   "cell_type": "code",
   "execution_count": 27,
   "id": "de7e5f02",
   "metadata": {},
   "outputs": [
    {
     "data": {
      "text/plain": [
       "'The Beastie Boys'"
      ]
     },
     "execution_count": 27,
     "metadata": {},
     "output_type": "execute_result"
    }
   ],
   "source": [
    "thing"
   ]
  },
  {
   "cell_type": "code",
   "execution_count": 28,
   "id": "3a34147f",
   "metadata": {},
   "outputs": [],
   "source": [
    "thing = thing.upper()"
   ]
  },
  {
   "cell_type": "code",
   "execution_count": 31,
   "id": "67eace45",
   "metadata": {},
   "outputs": [
    {
     "name": "stdout",
     "output_type": "stream",
     "text": [
      "['T', 'H', 'E', ' ', 'B', 'E', 'A', 'S', 'T', 'I', 'E', ' ', 'B', 'O', 'Y', 'S']\n"
     ]
    }
   ],
   "source": [
    "print(list(thing))"
   ]
  },
  {
   "cell_type": "code",
   "execution_count": 32,
   "id": "77698245",
   "metadata": {},
   "outputs": [
    {
     "name": "stdout",
     "output_type": "stream",
     "text": [
      "['T', 'H', 'E', ' ', 'B', 'E', 'A', 'S', 'T', 'I', 'E', ' ', 'B', 'O', 'Y', 'S']\n"
     ]
    }
   ],
   "source": [
    "letters = list(thing)\n",
    "print(letters)"
   ]
  },
  {
   "cell_type": "code",
   "execution_count": 38,
   "id": "fbfc1553",
   "metadata": {},
   "outputs": [],
   "source": [
    "import random\n",
    "random.shuffle(letters) # in the old days, we called this a \"procedure\""
   ]
  },
  {
   "cell_type": "code",
   "execution_count": 39,
   "id": "fe090f87",
   "metadata": {},
   "outputs": [
    {
     "name": "stdout",
     "output_type": "stream",
     "text": [
      "['E', 'O', 'A', ' ', 'S', 'E', 'S', 'Y', 'I', 'T', 'B', ' ', 'B', 'E', 'H', 'T']\n"
     ]
    }
   ],
   "source": [
    "print(letters)"
   ]
  },
  {
   "cell_type": "code",
   "execution_count": 40,
   "id": "2d8718e0",
   "metadata": {},
   "outputs": [],
   "source": [
    "words = 'this that other'.split()"
   ]
  },
  {
   "cell_type": "code",
   "execution_count": 41,
   "id": "c2b4a060",
   "metadata": {},
   "outputs": [
    {
     "data": {
      "text/plain": [
       "['this', 'that', 'other']"
      ]
     },
     "execution_count": 41,
     "metadata": {},
     "output_type": "execute_result"
    }
   ],
   "source": [
    "words"
   ]
  },
  {
   "cell_type": "code",
   "execution_count": 44,
   "id": "6e63409b",
   "metadata": {},
   "outputs": [
    {
     "data": {
      "text/plain": [
       "'thisthatother'"
      ]
     },
     "execution_count": 44,
     "metadata": {},
     "output_type": "execute_result"
    }
   ],
   "source": [
    "''.join(words)"
   ]
  },
  {
   "cell_type": "code",
   "execution_count": 45,
   "id": "8b197583",
   "metadata": {},
   "outputs": [
    {
     "data": {
      "text/plain": [
       "'EOA SESYITB BEHT'"
      ]
     },
     "execution_count": 45,
     "metadata": {},
     "output_type": "execute_result"
    }
   ],
   "source": [
    "''.join(letters)"
   ]
  },
  {
   "cell_type": "code",
   "execution_count": 46,
   "id": "98077c61",
   "metadata": {},
   "outputs": [
    {
     "ename": "TypeError",
     "evalue": "'str' object does not support item assignment",
     "output_type": "error",
     "traceback": [
      "\u001b[0;31m---------------------------------------------------------------------------\u001b[0m",
      "\u001b[0;31mTypeError\u001b[0m                                 Traceback (most recent call last)",
      "Input \u001b[0;32mIn [46]\u001b[0m, in \u001b[0;36m<cell line: 1>\u001b[0;34m()\u001b[0m\n\u001b[0;32m----> 1\u001b[0m \u001b[43mrandom\u001b[49m\u001b[38;5;241;43m.\u001b[39;49m\u001b[43mshuffle\u001b[49m\u001b[43m(\u001b[49m\u001b[43mthing\u001b[49m\u001b[43m)\u001b[49m\n",
      "File \u001b[0;32m~/opt/anaconda3/lib/python3.9/random.py:362\u001b[0m, in \u001b[0;36mRandom.shuffle\u001b[0;34m(self, x, random)\u001b[0m\n\u001b[1;32m    359\u001b[0m     \u001b[38;5;28;01mfor\u001b[39;00m i \u001b[38;5;129;01min\u001b[39;00m \u001b[38;5;28mreversed\u001b[39m(\u001b[38;5;28mrange\u001b[39m(\u001b[38;5;241m1\u001b[39m, \u001b[38;5;28mlen\u001b[39m(x))):\n\u001b[1;32m    360\u001b[0m         \u001b[38;5;66;03m# pick an element in x[:i+1] with which to exchange x[i]\u001b[39;00m\n\u001b[1;32m    361\u001b[0m         j \u001b[38;5;241m=\u001b[39m randbelow(i \u001b[38;5;241m+\u001b[39m \u001b[38;5;241m1\u001b[39m)\n\u001b[0;32m--> 362\u001b[0m         x[i], x[j] \u001b[38;5;241m=\u001b[39m x[j], x[i]\n\u001b[1;32m    363\u001b[0m \u001b[38;5;28;01melse\u001b[39;00m:\n\u001b[1;32m    364\u001b[0m     _warn(\u001b[38;5;124m'\u001b[39m\u001b[38;5;124mThe *random* parameter to shuffle() has been deprecated\u001b[39m\u001b[38;5;130;01m\\n\u001b[39;00m\u001b[38;5;124m'\u001b[39m\n\u001b[1;32m    365\u001b[0m           \u001b[38;5;124m'\u001b[39m\u001b[38;5;124msince Python 3.9 and will be removed in a subsequent \u001b[39m\u001b[38;5;124m'\u001b[39m\n\u001b[1;32m    366\u001b[0m           \u001b[38;5;124m'\u001b[39m\u001b[38;5;124mversion.\u001b[39m\u001b[38;5;124m'\u001b[39m,\n\u001b[1;32m    367\u001b[0m           \u001b[38;5;167;01mDeprecationWarning\u001b[39;00m, \u001b[38;5;241m2\u001b[39m)\n",
      "\u001b[0;31mTypeError\u001b[0m: 'str' object does not support item assignment"
     ]
    }
   ],
   "source": [
    "random.shuffle(thing)"
   ]
  },
  {
   "cell_type": "code",
   "execution_count": 48,
   "id": "52e659c1",
   "metadata": {},
   "outputs": [],
   "source": [
    "letters = list('abcde')"
   ]
  },
  {
   "cell_type": "code",
   "execution_count": 49,
   "id": "d898611f",
   "metadata": {},
   "outputs": [
    {
     "data": {
      "text/plain": [
       "['a', 'b', 'c', 'd', 'e']"
      ]
     },
     "execution_count": 49,
     "metadata": {},
     "output_type": "execute_result"
    }
   ],
   "source": [
    "letters"
   ]
  },
  {
   "cell_type": "code",
   "execution_count": 50,
   "id": "55ebce74",
   "metadata": {},
   "outputs": [
    {
     "ename": "AttributeError",
     "evalue": "'list' object has no attribute 'join'",
     "output_type": "error",
     "traceback": [
      "\u001b[0;31m---------------------------------------------------------------------------\u001b[0m",
      "\u001b[0;31mAttributeError\u001b[0m                            Traceback (most recent call last)",
      "Input \u001b[0;32mIn [50]\u001b[0m, in \u001b[0;36m<cell line: 1>\u001b[0;34m()\u001b[0m\n\u001b[0;32m----> 1\u001b[0m \u001b[43mletters\u001b[49m\u001b[38;5;241;43m.\u001b[39;49m\u001b[43mjoin\u001b[49m(\u001b[38;5;124m'\u001b[39m\u001b[38;5;124m'\u001b[39m)\n",
      "\u001b[0;31mAttributeError\u001b[0m: 'list' object has no attribute 'join'"
     ]
    }
   ],
   "source": [
    "letters.join('')"
   ]
  },
  {
   "cell_type": "code",
   "execution_count": null,
   "id": "2d2848c3",
   "metadata": {},
   "outputs": [],
   "source": [
    "# lists, strings are containers\n",
    "# int, float, and bool are simple datatypes that can only contain one thing"
   ]
  },
  {
   "cell_type": "code",
   "execution_count": 51,
   "id": "28425f89",
   "metadata": {},
   "outputs": [
    {
     "data": {
      "text/plain": [
       "'a*b*c*d*e'"
      ]
     },
     "execution_count": 51,
     "metadata": {},
     "output_type": "execute_result"
    }
   ],
   "source": [
    "'*'.join(letters)"
   ]
  },
  {
   "cell_type": "code",
   "execution_count": 52,
   "id": "fd1efebc",
   "metadata": {},
   "outputs": [
    {
     "data": {
      "text/plain": [
       "'a-b-c-d-e'"
      ]
     },
     "execution_count": 52,
     "metadata": {},
     "output_type": "execute_result"
    }
   ],
   "source": [
    "'-'.join(letters)"
   ]
  },
  {
   "cell_type": "code",
   "execution_count": 53,
   "id": "5658717c",
   "metadata": {},
   "outputs": [
    {
     "data": {
      "text/plain": [
       "'abcde'"
      ]
     },
     "execution_count": 53,
     "metadata": {},
     "output_type": "execute_result"
    }
   ],
   "source": [
    "''.join(letters)"
   ]
  },
  {
   "cell_type": "code",
   "execution_count": 54,
   "id": "121a178e",
   "metadata": {},
   "outputs": [
    {
     "data": {
      "text/plain": [
       "'h:e:l:l:o'"
      ]
     },
     "execution_count": 54,
     "metadata": {},
     "output_type": "execute_result"
    }
   ],
   "source": [
    "':'.join('hello') # join together the letters in hello with a colon between each letter"
   ]
  },
  {
   "cell_type": "code",
   "execution_count": 55,
   "id": "f0a04cd5",
   "metadata": {},
   "outputs": [
    {
     "data": {
      "text/plain": [
       "'h, e, l, l, o'"
      ]
     },
     "execution_count": 55,
     "metadata": {},
     "output_type": "execute_result"
    }
   ],
   "source": [
    "', '.join('hello') "
   ]
  },
  {
   "cell_type": "code",
   "execution_count": 56,
   "id": "1fb86d15",
   "metadata": {},
   "outputs": [
    {
     "data": {
      "text/plain": [
       "'hello'"
      ]
     },
     "execution_count": 56,
     "metadata": {},
     "output_type": "execute_result"
    }
   ],
   "source": [
    "''.join('hello')"
   ]
  },
  {
   "cell_type": "code",
   "execution_count": 57,
   "id": "aff584c6",
   "metadata": {},
   "outputs": [
    {
     "data": {
      "text/plain": [
       "'CLINT EASTWOOD'"
      ]
     },
     "execution_count": 57,
     "metadata": {},
     "output_type": "execute_result"
    }
   ],
   "source": [
    "name"
   ]
  },
  {
   "cell_type": "code",
   "execution_count": 58,
   "id": "242978ee",
   "metadata": {},
   "outputs": [
    {
     "data": {
      "text/plain": [
       "'C L I N T   E A S T W O O D'"
      ]
     },
     "execution_count": 58,
     "metadata": {},
     "output_type": "execute_result"
    }
   ],
   "source": [
    "' '.join(name)"
   ]
  },
  {
   "cell_type": "code",
   "execution_count": 63,
   "id": "5bbe708f",
   "metadata": {},
   "outputs": [
    {
     "name": "stdout",
     "output_type": "stream",
     "text": [
      "Enter a word: quit\n"
     ]
    }
   ],
   "source": [
    "list_of_words = [] # empty list\n",
    "\n",
    "while True:\n",
    "    word = input('Enter a word: ')\n",
    "    if word == 'quit':\n",
    "        break\n",
    "    list_of_words.append(word)\n",
    "    \n",
    "print('done')"
   ]
  },
  {
   "cell_type": "code",
   "execution_count": 62,
   "id": "3660e011",
   "metadata": {},
   "outputs": [
    {
     "data": {
      "text/plain": [
       "['apple', 'fig', 'pear']"
      ]
     },
     "execution_count": 62,
     "metadata": {},
     "output_type": "execute_result"
    }
   ],
   "source": [
    "list_of_words"
   ]
  },
  {
   "cell_type": "code",
   "execution_count": 82,
   "id": "0e78c2c3",
   "metadata": {},
   "outputs": [
    {
     "name": "stdout",
     "output_type": "stream",
     "text": [
      "Enter a word: apple\n",
      "Enter a word: fig\n",
      "Enter a word: pear\n",
      "Enter a word: guava\n",
      "Enter a word: lemon\n",
      "Enter a word: cherry\n",
      "Enter a word: banana\n",
      "Enter a word: strawberry\n",
      "Enter a word: quit\n"
     ]
    }
   ],
   "source": [
    "# In Python 3.8+, we can use walrus operator\n",
    "list_of_words = [] # empty list\n",
    "\n",
    "while (word := input('Enter a word: ')) != 'quit':\n",
    "    list_of_words.append(word)"
   ]
  },
  {
   "cell_type": "code",
   "execution_count": 65,
   "id": "f964d261",
   "metadata": {},
   "outputs": [
    {
     "data": {
      "text/plain": [
       "['old', 'west', 'action']"
      ]
     },
     "execution_count": 65,
     "metadata": {},
     "output_type": "execute_result"
    }
   ],
   "source": [
    "list_of_words"
   ]
  },
  {
   "cell_type": "code",
   "execution_count": 67,
   "id": "0cd1b305",
   "metadata": {},
   "outputs": [
    {
     "data": {
      "text/plain": [
       "'old, west, action'"
      ]
     },
     "execution_count": 67,
     "metadata": {},
     "output_type": "execute_result"
    }
   ],
   "source": [
    "', '.join(list_of_words)"
   ]
  },
  {
   "cell_type": "code",
   "execution_count": 68,
   "id": "c2ca141d",
   "metadata": {},
   "outputs": [
    {
     "data": {
      "text/plain": [
       "['old', 'west', 'action']"
      ]
     },
     "execution_count": 68,
     "metadata": {},
     "output_type": "execute_result"
    }
   ],
   "source": [
    "list_of_words"
   ]
  },
  {
   "cell_type": "code",
   "execution_count": 80,
   "id": "7f751fc8",
   "metadata": {},
   "outputs": [],
   "source": [
    "# if 'action' is in the list, then remove it\n",
    "if 'action' in list_of_words:\n",
    "    list_of_words.remove('action')\n",
    "    print('removed')"
   ]
  },
  {
   "cell_type": "code",
   "execution_count": 74,
   "id": "572cc622",
   "metadata": {},
   "outputs": [
    {
     "data": {
      "text/plain": [
       "['old', 'west']"
      ]
     },
     "execution_count": 74,
     "metadata": {},
     "output_type": "execute_result"
    }
   ],
   "source": [
    "list_of_words"
   ]
  },
  {
   "cell_type": "code",
   "execution_count": 75,
   "id": "239cf8a6",
   "metadata": {},
   "outputs": [],
   "source": [
    "list_of_words.append('action')"
   ]
  },
  {
   "cell_type": "code",
   "execution_count": 76,
   "id": "9fbc7af1",
   "metadata": {},
   "outputs": [
    {
     "data": {
      "text/plain": [
       "['old', 'west', 'action']"
      ]
     },
     "execution_count": 76,
     "metadata": {},
     "output_type": "execute_result"
    }
   ],
   "source": [
    "list_of_words"
   ]
  },
  {
   "cell_type": "code",
   "execution_count": 83,
   "id": "f88c5df7",
   "metadata": {},
   "outputs": [
    {
     "data": {
      "text/plain": [
       "['apple', 'fig', 'pear', 'guava', 'lemon', 'cherry', 'banana', 'strawberry']"
      ]
     },
     "execution_count": 83,
     "metadata": {},
     "output_type": "execute_result"
    }
   ],
   "source": [
    "list_of_words"
   ]
  },
  {
   "cell_type": "code",
   "execution_count": 86,
   "id": "d60ffaa0",
   "metadata": {},
   "outputs": [
    {
     "data": {
      "text/plain": [
       "'cherry'"
      ]
     },
     "execution_count": 86,
     "metadata": {},
     "output_type": "execute_result"
    }
   ],
   "source": [
    "list_of_words.pop()"
   ]
  },
  {
   "cell_type": "code",
   "execution_count": 87,
   "id": "468bcc1c",
   "metadata": {},
   "outputs": [
    {
     "data": {
      "text/plain": [
       "['apple', 'fig', 'pear', 'guava', 'lemon']"
      ]
     },
     "execution_count": 87,
     "metadata": {},
     "output_type": "execute_result"
    }
   ],
   "source": [
    "list_of_words"
   ]
  },
  {
   "cell_type": "code",
   "execution_count": 88,
   "id": "0d15ea5f",
   "metadata": {},
   "outputs": [
    {
     "data": {
      "text/plain": [
       "'pear'"
      ]
     },
     "execution_count": 88,
     "metadata": {},
     "output_type": "execute_result"
    }
   ],
   "source": [
    "list_of_words.pop(2)"
   ]
  },
  {
   "cell_type": "code",
   "execution_count": 89,
   "id": "1a24fadc",
   "metadata": {},
   "outputs": [
    {
     "data": {
      "text/plain": [
       "['apple', 'fig', 'guava', 'lemon']"
      ]
     },
     "execution_count": 89,
     "metadata": {},
     "output_type": "execute_result"
    }
   ],
   "source": [
    "list_of_words"
   ]
  },
  {
   "cell_type": "code",
   "execution_count": 90,
   "id": "e83b6e3f",
   "metadata": {},
   "outputs": [
    {
     "data": {
      "text/plain": [
       "'apple'"
      ]
     },
     "execution_count": 90,
     "metadata": {},
     "output_type": "execute_result"
    }
   ],
   "source": [
    "list_of_words.pop(0)"
   ]
  },
  {
   "cell_type": "code",
   "execution_count": 91,
   "id": "c880b400",
   "metadata": {},
   "outputs": [
    {
     "data": {
      "text/plain": [
       "['fig', 'guava', 'lemon']"
      ]
     },
     "execution_count": 91,
     "metadata": {},
     "output_type": "execute_result"
    }
   ],
   "source": [
    "list_of_words"
   ]
  },
  {
   "cell_type": "code",
   "execution_count": 92,
   "id": "ad2110ab",
   "metadata": {},
   "outputs": [
    {
     "data": {
      "text/plain": [
       "'lemon'"
      ]
     },
     "execution_count": 92,
     "metadata": {},
     "output_type": "execute_result"
    }
   ],
   "source": [
    "list_of_words.pop(-1)"
   ]
  },
  {
   "cell_type": "code",
   "execution_count": 99,
   "id": "3f8743c6",
   "metadata": {},
   "outputs": [
    {
     "name": "stdout",
     "output_type": "stream",
     "text": [
      "Enter your name:  \n"
     ]
    }
   ],
   "source": [
    "name = input('Enter your name: ')\n",
    "if not name:\n",
    "    print('You did not enter a name!')"
   ]
  },
  {
   "cell_type": "markdown",
   "id": "4d6a36e7",
   "metadata": {},
   "source": [
    "## Lab: List Management/Sorting\n",
    "* write a program to read in words\n",
    "* if the word begins with a vowel, put it in \"vowel\" list, otherwise put it in the \"consonant\" list\n",
    "* when the user types \"quit\", stop and print out the sorted list of words that begin with vowels, and the sorted list of words that begin with consonants"
   ]
  },
  {
   "cell_type": "code",
   "execution_count": null,
   "id": "8b9b8e50",
   "metadata": {},
   "outputs": [],
   "source": [
    "# 1. create two empty lists, one for vowels, one for consonants\n",
    "# 2. while we get a word from the user and the word is not 'quit':\n",
    "#.   3. if word starts with a vowel: ... word[0] in 'aeiou'\n",
    "#.          put it in the vowel list\n",
    "#.      else if word begins with a consonant:\n",
    "#.          put it in the consonant list ... word[0] in 'bcdfghjklmnpqrstvwxyz'\n",
    "#.      else ignore it\n",
    "# 4. sort both lists\n",
    "# 5. print out both lists"
   ]
  },
  {
   "cell_type": "code",
   "execution_count": 105,
   "id": "095560fb",
   "metadata": {},
   "outputs": [
    {
     "name": "stdout",
     "output_type": "stream",
     "text": [
      "Enter a word: apple\n",
      "Enter a word: banana\n",
      "Enter a word: pear\n",
      "Enter a word: fig\n",
      "Enter a word: olive\n",
      "Enter a word: eggs\n",
      "Enter a word: quit\n",
      "vowels: apple, eggs, olive\n",
      "consonants: banana, fig, pear\n"
     ]
    }
   ],
   "source": [
    "# step 1\n",
    "vowels = []\n",
    "consonants = []\n",
    "\n",
    "# step 2 (without walrus operator)\n",
    "while True:\n",
    "    word = input('Enter a word: ').lower() # let's make it lower case\n",
    "    if word == 'quit':\n",
    "        break\n",
    "\n",
    "    # step 3\n",
    "    if word[0] in 'aeiou': # if first char is one of a, e, i, o, or u\n",
    "        vowels.append(word)\n",
    "    elif word[0] in 'bcdfghjklmnpqrstvwxyz': # if first char is consonant\n",
    "        consonants.append(word)\n",
    "    else:\n",
    "        print('Bad word!')\n",
    "        \n",
    "# step 4\n",
    "vowels.sort()\n",
    "consonants.sort()\n",
    "\n",
    "print('vowels:', ', '.join(vowels))\n",
    "print('consonants:', ', '.join(consonants))"
   ]
  },
  {
   "cell_type": "code",
   "execution_count": 106,
   "id": "a18c839a",
   "metadata": {},
   "outputs": [],
   "source": [
    "list_of_stuff = 'this that other ok'.split()"
   ]
  },
  {
   "cell_type": "code",
   "execution_count": 107,
   "id": "f68736e6",
   "metadata": {},
   "outputs": [
    {
     "data": {
      "text/plain": [
       "['this', 'that', 'other', 'ok']"
      ]
     },
     "execution_count": 107,
     "metadata": {},
     "output_type": "execute_result"
    }
   ],
   "source": [
    "list_of_stuff"
   ]
  },
  {
   "cell_type": "code",
   "execution_count": 109,
   "id": "ae845adc",
   "metadata": {},
   "outputs": [
    {
     "name": "stdout",
     "output_type": "stream",
     "text": [
      "this\n",
      "\n",
      "that\n",
      "\n",
      "other\n",
      "\n",
      "ok\n"
     ]
    }
   ],
   "source": [
    "print('\\n\\n'.join(list_of_stuff))"
   ]
  },
  {
   "cell_type": "code",
   "execution_count": 110,
   "id": "b7e4762b",
   "metadata": {},
   "outputs": [],
   "source": [
    "my_dict = {}"
   ]
  },
  {
   "cell_type": "code",
   "execution_count": 111,
   "id": "0f26341d",
   "metadata": {},
   "outputs": [
    {
     "data": {
      "text/plain": [
       "{}"
      ]
     },
     "execution_count": 111,
     "metadata": {},
     "output_type": "execute_result"
    }
   ],
   "source": [
    "my_dict"
   ]
  },
  {
   "cell_type": "code",
   "execution_count": 112,
   "id": "78c90272",
   "metadata": {},
   "outputs": [
    {
     "data": {
      "text/plain": [
       "dict"
      ]
     },
     "execution_count": 112,
     "metadata": {},
     "output_type": "execute_result"
    }
   ],
   "source": [
    "type(my_dict)"
   ]
  },
  {
   "cell_type": "code",
   "execution_count": 113,
   "id": "bac30358",
   "metadata": {},
   "outputs": [
    {
     "data": {
      "text/plain": [
       "0"
      ]
     },
     "execution_count": 113,
     "metadata": {},
     "output_type": "execute_result"
    }
   ],
   "source": [
    "len(my_dict)"
   ]
  },
  {
   "cell_type": "code",
   "execution_count": 114,
   "id": "5bec2aa1",
   "metadata": {},
   "outputs": [],
   "source": [
    "my_dict['thing'] = 'thang'"
   ]
  },
  {
   "cell_type": "code",
   "execution_count": 115,
   "id": "9d726cfb",
   "metadata": {},
   "outputs": [
    {
     "data": {
      "text/plain": [
       "{'thing': 'thang'}"
      ]
     },
     "execution_count": 115,
     "metadata": {},
     "output_type": "execute_result"
    }
   ],
   "source": [
    "my_dict"
   ]
  },
  {
   "cell_type": "code",
   "execution_count": 116,
   "id": "60b73597",
   "metadata": {},
   "outputs": [
    {
     "data": {
      "text/plain": [
       "1"
      ]
     },
     "execution_count": 116,
     "metadata": {},
     "output_type": "execute_result"
    }
   ],
   "source": [
    "len(my_dict)"
   ]
  },
  {
   "cell_type": "markdown",
   "id": "7c55c2be",
   "metadata": {},
   "source": [
    "## Lab: Roman Numerals\n",
    "* write a program that converts Roman numerals to Arabic numerals\n",
    "* use a dictionary where the keys are Roman numerals and the values are Arabic numerals\n",
    "* __`M = 1000, D = 500, C = 100, L = 50, X = 10, V = 5, I = 1`__\n",
    "* for example, __`MDCLXVI`__ would be __`1000 + 500 + 100 + 50 + 10 + 5 + 1 = 1666`__\n",
    "* once you get that working, think about this additional wrinkle:\n",
    "  * if a smaller value precedes a larger value, then the correct thing to do is to subtract the smaller value from the larger value\n",
    "  * e.g., __`IX = 10 - 1 = 9`__\n",
    "  * e.g., __`MCM = 1000 + (1000 - 100) = 1900`__"
   ]
  },
  {
   "cell_type": "code",
   "execution_count": 117,
   "id": "b883de7b",
   "metadata": {},
   "outputs": [],
   "source": [
    "roman_to_arabic = {\n",
    "    'M': 1000,\n",
    "    'D': 500,\n",
    "    'C': 100,\n",
    "    'L': 50,\n",
    "    'X': 10,\n",
    "    'V': 5,\n",
    "    'I': 1,\n",
    "}"
   ]
  },
  {
   "cell_type": "code",
   "execution_count": 119,
   "id": "1ad30b94",
   "metadata": {},
   "outputs": [
    {
     "data": {
      "text/plain": [
       "{'M': 1000, 'D': 500, 'C': 100, 'L': 50, 'X': 10, 'V': 5, 'I': 1}"
      ]
     },
     "execution_count": 119,
     "metadata": {},
     "output_type": "execute_result"
    }
   ],
   "source": [
    "roman_to_arabic"
   ]
  },
  {
   "cell_type": "code",
   "execution_count": 120,
   "id": "1eeffc04",
   "metadata": {},
   "outputs": [
    {
     "data": {
      "text/plain": [
       "True"
      ]
     },
     "execution_count": 120,
     "metadata": {},
     "output_type": "execute_result"
    }
   ],
   "source": [
    "'D' in roman_to_arabic"
   ]
  },
  {
   "cell_type": "code",
   "execution_count": 121,
   "id": "56d0a646",
   "metadata": {},
   "outputs": [
    {
     "data": {
      "text/plain": [
       "False"
      ]
     },
     "execution_count": 121,
     "metadata": {},
     "output_type": "execute_result"
    }
   ],
   "source": [
    "500 in roman_to_arabic"
   ]
  },
  {
   "cell_type": "code",
   "execution_count": 122,
   "id": "a1607e37",
   "metadata": {},
   "outputs": [
    {
     "data": {
      "text/plain": [
       "7"
      ]
     },
     "execution_count": 122,
     "metadata": {},
     "output_type": "execute_result"
    }
   ],
   "source": [
    "len(roman_to_arabic)"
   ]
  },
  {
   "cell_type": "code",
   "execution_count": 123,
   "id": "80f5c035",
   "metadata": {},
   "outputs": [],
   "source": [
    "# MCLX = 1000 (M) + 100 (C) + 50 (L) + 10 (X) = 1160"
   ]
  },
  {
   "cell_type": "code",
   "execution_count": 124,
   "id": "cf9eb2d9",
   "metadata": {},
   "outputs": [
    {
     "name": "stdout",
     "output_type": "stream",
     "text": [
      "Enter Roman numeral: MCLX\n"
     ]
    }
   ],
   "source": [
    "numeral = input('Enter Roman numeral: ')"
   ]
  },
  {
   "cell_type": "code",
   "execution_count": 125,
   "id": "cb1fad76",
   "metadata": {},
   "outputs": [
    {
     "data": {
      "text/plain": [
       "'MCLX'"
      ]
     },
     "execution_count": 125,
     "metadata": {},
     "output_type": "execute_result"
    }
   ],
   "source": [
    "numeral"
   ]
  },
  {
   "cell_type": "code",
   "execution_count": 126,
   "id": "8310862a",
   "metadata": {},
   "outputs": [
    {
     "name": "stdout",
     "output_type": "stream",
     "text": [
      "M\n",
      "C\n",
      "L\n",
      "X\n"
     ]
    }
   ],
   "source": [
    "# for thing in container...\n",
    "for digit in numeral:\n",
    "    print(digit)"
   ]
  },
  {
   "cell_type": "code",
   "execution_count": 127,
   "id": "4f7ec98d",
   "metadata": {},
   "outputs": [
    {
     "data": {
      "text/plain": [
       "['M', 'C', 'L', 'X']"
      ]
     },
     "execution_count": 127,
     "metadata": {},
     "output_type": "execute_result"
    }
   ],
   "source": [
    "list(numeral)"
   ]
  },
  {
   "cell_type": "code",
   "execution_count": 128,
   "id": "59cc1dd5",
   "metadata": {},
   "outputs": [
    {
     "name": "stdout",
     "output_type": "stream",
     "text": [
      "M\n",
      "C\n",
      "L\n",
      "X\n"
     ]
    }
   ],
   "source": [
    "for digit in list(numeral):\n",
    "    print(digit)"
   ]
  },
  {
   "cell_type": "code",
   "execution_count": 132,
   "id": "031a220c",
   "metadata": {},
   "outputs": [
    {
     "name": "stdout",
     "output_type": "stream",
     "text": [
      "M 1000\n",
      "C 100\n",
      "L 50\n",
      "X 10\n"
     ]
    }
   ],
   "source": [
    "# for each digit (character) in the Roman numeral\n",
    "# print it out and print out the Arabic equivalent\n",
    "for digit in numeral:\n",
    "    print(digit, roman_to_arabic[digit])"
   ]
  },
  {
   "cell_type": "code",
   "execution_count": 133,
   "id": "16742f64",
   "metadata": {},
   "outputs": [
    {
     "name": "stdout",
     "output_type": "stream",
     "text": [
      "M 1000\n",
      "C 100\n",
      "L 50\n",
      "X 10\n"
     ]
    }
   ],
   "source": [
    "total = 0 # to sum up the Arabic value\n",
    "\n",
    "# for each digit (character) in the Roman numeral\n",
    "# print it out and print out the Arabic equivalent\n",
    "for digit in numeral:\n",
    "    print(digit, roman_to_arabic[digit])\n",
    "    total += roman_to_arabic[digit]"
   ]
  },
  {
   "cell_type": "code",
   "execution_count": 134,
   "id": "ce6accd5",
   "metadata": {},
   "outputs": [
    {
     "data": {
      "text/plain": [
       "1160"
      ]
     },
     "execution_count": 134,
     "metadata": {},
     "output_type": "execute_result"
    }
   ],
   "source": [
    "total"
   ]
  },
  {
   "cell_type": "code",
   "execution_count": 140,
   "id": "c5cad7ec",
   "metadata": {},
   "outputs": [
    {
     "name": "stdout",
     "output_type": "stream",
     "text": [
      "Enter a Roman numeral: MCZX\n"
     ]
    },
    {
     "ename": "KeyError",
     "evalue": "'Z'",
     "output_type": "error",
     "traceback": [
      "\u001b[0;31m---------------------------------------------------------------------------\u001b[0m",
      "\u001b[0;31mKeyError\u001b[0m                                  Traceback (most recent call last)",
      "Input \u001b[0;32mIn [140]\u001b[0m, in \u001b[0;36m<cell line: 16>\u001b[0;34m()\u001b[0m\n\u001b[1;32m     14\u001b[0m \u001b[38;5;66;03m# for each digit (character) in the Roman numeral\u001b[39;00m\n\u001b[1;32m     15\u001b[0m \u001b[38;5;66;03m# print it out and print out the Arabic equivalent\u001b[39;00m\n\u001b[1;32m     16\u001b[0m \u001b[38;5;28;01mfor\u001b[39;00m digit \u001b[38;5;129;01min\u001b[39;00m numeral:\n\u001b[1;32m     17\u001b[0m     \u001b[38;5;66;03m# print(digit, roman_to_arabic[digit])\u001b[39;00m\n\u001b[0;32m---> 18\u001b[0m     total \u001b[38;5;241m+\u001b[39m\u001b[38;5;241m=\u001b[39m \u001b[43mroman_to_arabic\u001b[49m\u001b[43m[\u001b[49m\u001b[43mdigit\u001b[49m\u001b[43m]\u001b[49m\n\u001b[1;32m     20\u001b[0m \u001b[38;5;28mprint\u001b[39m(total)\n",
      "\u001b[0;31mKeyError\u001b[0m: 'Z'"
     ]
    }
   ],
   "source": [
    "roman_to_arabic = {\n",
    "    'M': 1000,\n",
    "    'D': 500,\n",
    "    'C': 100,\n",
    "    'L': 50,\n",
    "    'X': 10,\n",
    "    'V': 5,\n",
    "    'I': 1,\n",
    "}\n",
    "total = 0 # to sum up the Arabic value\n",
    "\n",
    "numeral = input('Enter a Roman numeral: ')\n",
    "\n",
    "# for each digit (character) in the Roman numeral\n",
    "# print it out and print out the Arabic equivalent\n",
    "for digit in numeral:\n",
    "    # print(digit, roman_to_arabic[digit])\n",
    "    total += roman_to_arabic[digit]\n",
    "    \n",
    "print(total)"
   ]
  },
  {
   "cell_type": "code",
   "execution_count": 152,
   "id": "002d4030",
   "metadata": {},
   "outputs": [
    {
     "name": "stdout",
     "output_type": "stream",
     "text": [
      "Enter a Roman numeral: MCZX\n",
      "1110\n"
     ]
    }
   ],
   "source": [
    "roman_to_arabic = {\n",
    "    'M': 1000,\n",
    "    'D': 500,\n",
    "    'C': 100,\n",
    "    'L': 50,\n",
    "    'X': 10,\n",
    "    'V': 5,\n",
    "    'I': 1,\n",
    "}\n",
    "total = 0 # to sum up the Arabic value\n",
    "\n",
    "numeral = input('Enter a Roman numeral: ')\n",
    "\n",
    "# for each digit (character) in the Roman numeral\n",
    "# print it out and print out the Arabic equivalent\n",
    "for digit in numeral:\n",
    "    # print(digit, roman_to_arabic[digit])\n",
    "    if digit in roman_to_arabic: # the digit is a valid KEY in the dict\n",
    "        total += roman_to_arabic[digit]\n",
    "    \n",
    "print(total)"
   ]
  },
  {
   "cell_type": "code",
   "execution_count": 150,
   "id": "53a872e4",
   "metadata": {},
   "outputs": [
    {
     "name": "stdout",
     "output_type": "stream",
     "text": [
      "Enter a Roman numeral: MCZX\n",
      "Not a Roman digit: Z\n",
      "End of program\n"
     ]
    }
   ],
   "source": [
    "roman_to_arabic = {\n",
    "    'M': 1000,\n",
    "    'D': 500,\n",
    "    'C': 100,\n",
    "    'L': 50,\n",
    "    'X': 10,\n",
    "    'V': 5,\n",
    "    'I': 1,\n",
    "}\n",
    "total = 0 # to sum up the Arabic value\n",
    "\n",
    "numeral = input('Enter a Roman numeral: ')\n",
    "\n",
    "# for each digit (character) in the Roman numeral\n",
    "# print it out and print out the Arabic equivalent\n",
    "for digit in numeral:\n",
    "    # print(digit, roman_to_arabic[digit])\n",
    "    if digit in roman_to_arabic: # the digit is a valid KEY in the dict\n",
    "        total += roman_to_arabic[digit]\n",
    "    else:\n",
    "        print('Not a Roman digit:', digit)\n",
    "        break\n",
    "else: # this code is run when? When you finish the for loop NORMALLY, i.e., NOT a BREAK   \n",
    "    print(total)\n",
    "    \n",
    "print('End of program')"
   ]
  },
  {
   "cell_type": "markdown",
   "id": "cfb6c511",
   "metadata": {},
   "source": [
    "## Lab: Word Counting\n",
    "* write a program to read lines of text entered by the user\n",
    "* split the lines into words, and count the occurrences of each word using a dictionary\n",
    "* if the word is in dictionary (use the __`in`__ operator), increment its count\n",
    "* if the word is NOT in the dictionary, set its count to 1\n",
    "* stop when the user enters 'quit', and print out the words and their counts"
   ]
  },
  {
   "cell_type": "code",
   "execution_count": 153,
   "id": "555444a3",
   "metadata": {},
   "outputs": [],
   "source": [
    "wordcounts = {}"
   ]
  },
  {
   "cell_type": "code",
   "execution_count": 154,
   "id": "f0a7d02d",
   "metadata": {},
   "outputs": [
    {
     "data": {
      "text/plain": [
       "{}"
      ]
     },
     "execution_count": 154,
     "metadata": {},
     "output_type": "execute_result"
    }
   ],
   "source": [
    "wordcounts"
   ]
  },
  {
   "cell_type": "code",
   "execution_count": 155,
   "id": "6a1369c4",
   "metadata": {},
   "outputs": [],
   "source": [
    "# suppose the user types \"this is the time to find the answer\""
   ]
  },
  {
   "cell_type": "code",
   "execution_count": 156,
   "id": "fc3ac770",
   "metadata": {},
   "outputs": [
    {
     "data": {
      "text/plain": [
       "['what', 'do', 'you', 'get', 'when', 'you', 'split', 'a', 'string?']"
      ]
     },
     "execution_count": 156,
     "metadata": {},
     "output_type": "execute_result"
    }
   ],
   "source": [
    "'what do you get when you split a string?'.split()"
   ]
  },
  {
   "cell_type": "code",
   "execution_count": 157,
   "id": "c0fc23c0",
   "metadata": {},
   "outputs": [],
   "source": [
    "user_input = 'this is the time to find the answer'"
   ]
  },
  {
   "cell_type": "code",
   "execution_count": 158,
   "id": "64e8883d",
   "metadata": {},
   "outputs": [],
   "source": [
    "words_in_user_input = user_input.split()"
   ]
  },
  {
   "cell_type": "code",
   "execution_count": 159,
   "id": "91b3635e",
   "metadata": {},
   "outputs": [
    {
     "data": {
      "text/plain": [
       "['this', 'is', 'the', 'time', 'to', 'find', 'the', 'answer']"
      ]
     },
     "execution_count": 159,
     "metadata": {},
     "output_type": "execute_result"
    }
   ],
   "source": [
    "words_in_user_input"
   ]
  },
  {
   "cell_type": "code",
   "execution_count": 162,
   "id": "48d9bc56",
   "metadata": {},
   "outputs": [
    {
     "name": "stdout",
     "output_type": "stream",
     "text": [
      "this\n",
      "is\n",
      "the\n",
      "time\n",
      "to\n",
      "find\n",
      "the\n",
      "answer\n"
     ]
    }
   ],
   "source": [
    "for word in words_in_user_input:\n",
    "    print(word)"
   ]
  },
  {
   "cell_type": "code",
   "execution_count": 163,
   "id": "cb73b1e5",
   "metadata": {},
   "outputs": [
    {
     "data": {
      "text/plain": [
       "{}"
      ]
     },
     "execution_count": 163,
     "metadata": {},
     "output_type": "execute_result"
    }
   ],
   "source": [
    "wordcounts"
   ]
  },
  {
   "cell_type": "code",
   "execution_count": 164,
   "id": "d7c6b4d0",
   "metadata": {},
   "outputs": [],
   "source": [
    "wordcounts['this'] = 1 # first time we've seen 'this'"
   ]
  },
  {
   "cell_type": "code",
   "execution_count": 165,
   "id": "c601b6f1",
   "metadata": {},
   "outputs": [
    {
     "data": {
      "text/plain": [
       "{'this': 1}"
      ]
     },
     "execution_count": 165,
     "metadata": {},
     "output_type": "execute_result"
    }
   ],
   "source": [
    "wordcounts"
   ]
  },
  {
   "cell_type": "code",
   "execution_count": 166,
   "id": "1e767fd7",
   "metadata": {},
   "outputs": [],
   "source": [
    "wordcounts['is'] = 1"
   ]
  },
  {
   "cell_type": "code",
   "execution_count": 167,
   "id": "4169ed9c",
   "metadata": {},
   "outputs": [],
   "source": [
    "wordcounts['the'] = 1"
   ]
  },
  {
   "cell_type": "code",
   "execution_count": 168,
   "id": "33b06dc3",
   "metadata": {},
   "outputs": [
    {
     "data": {
      "text/plain": [
       "{'this': 1, 'is': 1, 'the': 1}"
      ]
     },
     "execution_count": 168,
     "metadata": {},
     "output_type": "execute_result"
    }
   ],
   "source": [
    "wordcounts"
   ]
  },
  {
   "cell_type": "code",
   "execution_count": 169,
   "id": "a3e391ba",
   "metadata": {},
   "outputs": [
    {
     "data": {
      "text/plain": [
       "{'this': 1, 'is': 1, 'the': 1}"
      ]
     },
     "execution_count": 169,
     "metadata": {},
     "output_type": "execute_result"
    }
   ],
   "source": [
    "wordcounts"
   ]
  },
  {
   "cell_type": "code",
   "execution_count": 171,
   "id": "8e8f8a0b",
   "metadata": {},
   "outputs": [],
   "source": [
    "numbers = [3, 5, -6, -2, 16, 1, 0]"
   ]
  },
  {
   "cell_type": "code",
   "execution_count": 172,
   "id": "e004c902",
   "metadata": {},
   "outputs": [],
   "source": [
    "for number in numbers:\n",
    "    if number == 4:\n",
    "        print('we found it')"
   ]
  },
  {
   "cell_type": "code",
   "execution_count": 173,
   "id": "346b7acd",
   "metadata": {},
   "outputs": [
    {
     "data": {
      "text/plain": [
       "False"
      ]
     },
     "execution_count": 173,
     "metadata": {},
     "output_type": "execute_result"
    }
   ],
   "source": [
    "4 in numbers"
   ]
  },
  {
   "cell_type": "code",
   "execution_count": 174,
   "id": "de8487b2",
   "metadata": {},
   "outputs": [
    {
     "data": {
      "text/plain": [
       "True"
      ]
     },
     "execution_count": 174,
     "metadata": {},
     "output_type": "execute_result"
    }
   ],
   "source": [
    "5 in numbers"
   ]
  },
  {
   "cell_type": "code",
   "execution_count": 175,
   "id": "30f3766f",
   "metadata": {},
   "outputs": [],
   "source": [
    "# the in operator is super powerful and you should KNOW it"
   ]
  },
  {
   "cell_type": "code",
   "execution_count": 176,
   "id": "c7241a8e",
   "metadata": {},
   "outputs": [
    {
     "data": {
      "text/plain": [
       "True"
      ]
     },
     "execution_count": 176,
     "metadata": {},
     "output_type": "execute_result"
    }
   ],
   "source": [
    "'the' in wordcounts"
   ]
  },
  {
   "cell_type": "code",
   "execution_count": 177,
   "id": "210c4abd",
   "metadata": {},
   "outputs": [
    {
     "data": {
      "text/plain": [
       "False"
      ]
     },
     "execution_count": 177,
     "metadata": {},
     "output_type": "execute_result"
    }
   ],
   "source": [
    "'salad' in wordcounts"
   ]
  },
  {
   "cell_type": "code",
   "execution_count": 178,
   "id": "2706f33d",
   "metadata": {},
   "outputs": [
    {
     "ename": "IndentationError",
     "evalue": "expected an indented block (3670215674.py, line 6)",
     "output_type": "error",
     "traceback": [
      "\u001b[0;36m  Input \u001b[0;32mIn [178]\u001b[0;36m\u001b[0m\n\u001b[0;31m    \u001b[0m\n\u001b[0m    ^\u001b[0m\n\u001b[0;31mIndentationError\u001b[0m\u001b[0;31m:\u001b[0m expected an indented block\n"
     ]
    }
   ],
   "source": [
    "if 'salad' not in wordcounts:\n",
    "    # salad is NOT in the dict, i.e., we haven't seen it before\n",
    "    wordcounts['salad'] = 1\n",
    "else: # salad IS in the dict, i.e., we have seen it before\n",
    "    wordcounts['salad'] = wordcounts['salad'] + 1   "
   ]
  },
  {
   "cell_type": "code",
   "execution_count": 179,
   "id": "a88330c2",
   "metadata": {},
   "outputs": [],
   "source": [
    "d = {}"
   ]
  },
  {
   "cell_type": "code",
   "execution_count": 180,
   "id": "7f363bc3",
   "metadata": {},
   "outputs": [
    {
     "data": {
      "text/plain": [
       "{}"
      ]
     },
     "execution_count": 180,
     "metadata": {},
     "output_type": "execute_result"
    }
   ],
   "source": [
    "d"
   ]
  },
  {
   "cell_type": "code",
   "execution_count": 181,
   "id": "7ff62332",
   "metadata": {},
   "outputs": [],
   "source": [
    "d['five'] = 5"
   ]
  },
  {
   "cell_type": "code",
   "execution_count": 182,
   "id": "b7cf5e7a",
   "metadata": {},
   "outputs": [
    {
     "data": {
      "text/plain": [
       "{'five': 5}"
      ]
     },
     "execution_count": 182,
     "metadata": {},
     "output_type": "execute_result"
    }
   ],
   "source": [
    "d"
   ]
  },
  {
   "cell_type": "code",
   "execution_count": 183,
   "id": "6a2c8c9a",
   "metadata": {},
   "outputs": [],
   "source": [
    "d['three'] = 3"
   ]
  },
  {
   "cell_type": "code",
   "execution_count": 184,
   "id": "7b854672",
   "metadata": {},
   "outputs": [
    {
     "data": {
      "text/plain": [
       "{'five': 5, 'three': 3}"
      ]
     },
     "execution_count": 184,
     "metadata": {},
     "output_type": "execute_result"
    }
   ],
   "source": [
    "d"
   ]
  },
  {
   "cell_type": "code",
   "execution_count": 185,
   "id": "69066f3c",
   "metadata": {},
   "outputs": [],
   "source": [
    "d['new thing'] = 'whatever value'"
   ]
  },
  {
   "cell_type": "code",
   "execution_count": 186,
   "id": "632a952a",
   "metadata": {},
   "outputs": [
    {
     "data": {
      "text/plain": [
       "{'five': 5, 'three': 3, 'new thing': 'whatever value'}"
      ]
     },
     "execution_count": 186,
     "metadata": {},
     "output_type": "execute_result"
    }
   ],
   "source": [
    "d"
   ]
  },
  {
   "cell_type": "code",
   "execution_count": 187,
   "id": "e721706d",
   "metadata": {},
   "outputs": [],
   "source": [
    "wordcount = {} # empty dict\n",
    "# 1. repeat until 'quit' # restaurant closes, end of day, end of rally/race, 1 hour on the boardwalk\n",
    "#     1a. read words from the user # get data from the image recognition\n",
    "#         one line at a time\n",
    "#     1b. split into individual words\n",
    "#     1c. for each word in the splitted list\n",
    "#         1d. if it's in the dict, increment count\n",
    "#             else put it in the dict with count of 1\n",
    "# 3. print out words and counts"
   ]
  },
  {
   "cell_type": "code",
   "execution_count": null,
   "id": "47f94e6c",
   "metadata": {},
   "outputs": [],
   "source": [
    "# here are some words\n",
    "# more words\n",
    "# more words you say?\n",
    "# no more words"
   ]
  },
  {
   "cell_type": "code",
   "execution_count": 235,
   "id": "30a4af44",
   "metadata": {},
   "outputs": [
    {
     "name": "stdout",
     "output_type": "stream",
     "text": [
      "Enter cars that just drove by: Tesla Lucid Tesla Rivian BMW Alfa_Romeo Fiat Tesla\n"
     ]
    }
   ],
   "source": [
    "stuff = input('Enter cars that just drove by: ') # start with a string from the input()"
   ]
  },
  {
   "cell_type": "code",
   "execution_count": 236,
   "id": "5b229ff7",
   "metadata": {},
   "outputs": [
    {
     "data": {
      "text/plain": [
       "'Tesla Lucid Tesla Rivian BMW Alfa_Romeo Fiat Tesla'"
      ]
     },
     "execution_count": 236,
     "metadata": {},
     "output_type": "execute_result"
    }
   ],
   "source": [
    "stuff # what we got back from input() is ... a STRING"
   ]
  },
  {
   "cell_type": "code",
   "execution_count": 237,
   "id": "234c677f",
   "metadata": {},
   "outputs": [],
   "source": [
    "list_of_cars = stuff.split() # split that string into a list of words"
   ]
  },
  {
   "cell_type": "code",
   "execution_count": 238,
   "id": "1f7e04ed",
   "metadata": {},
   "outputs": [
    {
     "name": "stdout",
     "output_type": "stream",
     "text": [
      "['Tesla', 'Lucid', 'Tesla', 'Rivian', 'BMW', 'Alfa_Romeo', 'Fiat', 'Tesla']\n"
     ]
    }
   ],
   "source": [
    "# how do we iterate thru or work with a list of strings, one at a time\n",
    "print(list_of_cars)"
   ]
  },
  {
   "cell_type": "code",
   "execution_count": 232,
   "id": "75dca141",
   "metadata": {},
   "outputs": [
    {
     "data": {
      "text/plain": [
       "'Fisker'"
      ]
     },
     "execution_count": 232,
     "metadata": {},
     "output_type": "execute_result"
    }
   ],
   "source": [
    "list_of_cars[-1]"
   ]
  },
  {
   "cell_type": "code",
   "execution_count": 233,
   "id": "9caf3471",
   "metadata": {},
   "outputs": [
    {
     "data": {
      "text/plain": [
       "'Tesla'"
      ]
     },
     "execution_count": 233,
     "metadata": {},
     "output_type": "execute_result"
    }
   ],
   "source": [
    "list_of_cars[0]"
   ]
  },
  {
   "cell_type": "code",
   "execution_count": 223,
   "id": "d71c9d4e",
   "metadata": {},
   "outputs": [
    {
     "name": "stdout",
     "output_type": "stream",
     "text": [
      "Tesla\n",
      "Fisker\n",
      "Rivian\n",
      "Lucid\n",
      "Canoo\n",
      "Lordstown\n"
     ]
    }
   ],
   "source": [
    "for index in range(len(list_of_cars)): # loop from 0 to 2, i.e., the numerical indices of the list\n",
    "    print(list_of_words[index])"
   ]
  },
  {
   "cell_type": "code",
   "execution_count": 198,
   "id": "ea484cbd",
   "metadata": {},
   "outputs": [],
   "source": [
    "# the above is not \"Pythonic\""
   ]
  },
  {
   "cell_type": "code",
   "execution_count": 200,
   "id": "d375dd66",
   "metadata": {},
   "outputs": [],
   "source": [
    "# What are the two types of \"for loops\"\n",
    "# 1. for index in range(...) # range\n",
    "# 2. for thing in container # iterate thru a container (lists, strings, dicts)"
   ]
  },
  {
   "cell_type": "code",
   "execution_count": 239,
   "id": "896302ad",
   "metadata": {},
   "outputs": [
    {
     "name": "stdout",
     "output_type": "stream",
     "text": [
      "Tesla\n",
      "Lucid\n",
      "Tesla\n",
      "Rivian\n",
      "BMW\n",
      "Alfa_Romeo\n",
      "Fiat\n",
      "Tesla\n"
     ]
    }
   ],
   "source": [
    "for carmaker in list_of_cars: # for \"each\" word in list_of_words\n",
    "    print(carmaker)"
   ]
  },
  {
   "cell_type": "code",
   "execution_count": 250,
   "id": "4b1bb996",
   "metadata": {},
   "outputs": [],
   "source": [
    "car_counts = {}"
   ]
  },
  {
   "cell_type": "code",
   "execution_count": 251,
   "id": "af512216",
   "metadata": {},
   "outputs": [
    {
     "data": {
      "text/plain": [
       "dict"
      ]
     },
     "execution_count": 251,
     "metadata": {},
     "output_type": "execute_result"
    }
   ],
   "source": [
    "type(car_counts)"
   ]
  },
  {
   "cell_type": "code",
   "execution_count": 243,
   "id": "2d05b37e",
   "metadata": {},
   "outputs": [],
   "source": [
    "my_list = []"
   ]
  },
  {
   "cell_type": "code",
   "execution_count": 244,
   "id": "54a5b83d",
   "metadata": {},
   "outputs": [
    {
     "data": {
      "text/plain": [
       "list"
      ]
     },
     "execution_count": 244,
     "metadata": {},
     "output_type": "execute_result"
    }
   ],
   "source": [
    "type(my_list)"
   ]
  },
  {
   "cell_type": "code",
   "execution_count": 252,
   "id": "f18f342b",
   "metadata": {},
   "outputs": [
    {
     "data": {
      "text/plain": [
       "0"
      ]
     },
     "execution_count": 252,
     "metadata": {},
     "output_type": "execute_result"
    }
   ],
   "source": [
    "len(car_counts)"
   ]
  },
  {
   "cell_type": "code",
   "execution_count": 253,
   "id": "232f0790",
   "metadata": {},
   "outputs": [],
   "source": [
    "if car_counts: # len(car_counts) > 0\n",
    "    print('something in it')"
   ]
  },
  {
   "cell_type": "code",
   "execution_count": 254,
   "id": "3be70989",
   "metadata": {},
   "outputs": [
    {
     "data": {
      "text/plain": [
       "False"
      ]
     },
     "execution_count": 254,
     "metadata": {},
     "output_type": "execute_result"
    }
   ],
   "source": [
    "'Hyundai' in car_counts"
   ]
  },
  {
   "cell_type": "code",
   "execution_count": 267,
   "id": "bde38b93",
   "metadata": {},
   "outputs": [],
   "source": [
    "carmaker = 'Jaguar'"
   ]
  },
  {
   "cell_type": "code",
   "execution_count": 264,
   "id": "7912dc6e",
   "metadata": {},
   "outputs": [
    {
     "data": {
      "text/plain": [
       "False"
      ]
     },
     "execution_count": 264,
     "metadata": {},
     "output_type": "execute_result"
    }
   ],
   "source": [
    "carmaker in car_counts"
   ]
  },
  {
   "cell_type": "code",
   "execution_count": 268,
   "id": "c76f6d75",
   "metadata": {},
   "outputs": [],
   "source": [
    "if carmaker in car_counts:\n",
    "    # increment the count (\"add one\")\n",
    "    car_counts[carmaker] += 1\n",
    "else:\n",
    "    car_counts[carmaker] = 1"
   ]
  },
  {
   "cell_type": "code",
   "execution_count": 269,
   "id": "9700a08e",
   "metadata": {},
   "outputs": [
    {
     "data": {
      "text/plain": [
       "{'Volkswagen': 2, 'Jaguar': 1}"
      ]
     },
     "execution_count": 269,
     "metadata": {},
     "output_type": "execute_result"
    }
   ],
   "source": [
    "car_counts"
   ]
  },
  {
   "cell_type": "code",
   "execution_count": 273,
   "id": "2942337b",
   "metadata": {},
   "outputs": [
    {
     "name": "stdout",
     "output_type": "stream",
     "text": [
      "Enter some input: word1 word2\n"
     ]
    }
   ],
   "source": [
    "user_input = input('Enter some input: ')"
   ]
  },
  {
   "cell_type": "code",
   "execution_count": 275,
   "id": "05c141d3",
   "metadata": {},
   "outputs": [],
   "source": [
    "list_of_words = user_input.split()"
   ]
  },
  {
   "cell_type": "code",
   "execution_count": 277,
   "id": "6a29243c",
   "metadata": {},
   "outputs": [
    {
     "name": "stdout",
     "output_type": "stream",
     "text": [
      "word1\n",
      "word2\n"
     ]
    }
   ],
   "source": [
    "for word in list_of_words:\n",
    "    print(word)"
   ]
  },
  {
   "cell_type": "code",
   "execution_count": 278,
   "id": "f7697e15",
   "metadata": {},
   "outputs": [],
   "source": [
    "wordcount = {} # empty dict\n",
    "# 1. repeat until 'quit' # restaurant closes, end of day, end of rally/race, 1 hour on the boardwalk\n",
    "#     1a. read words from the user # get data from the image recognition\n",
    "#         one line at a time\n",
    "#     1b. split into individual words\n",
    "#     1c. for each word in the splitted list\n",
    "#         1d. if it's in the dict, increment count\n",
    "#             else put it in the dict with count of 1\n",
    "# 3. print out words and counts"
   ]
  },
  {
   "cell_type": "code",
   "execution_count": 280,
   "id": "9029c1e3",
   "metadata": {},
   "outputs": [
    {
     "name": "stdout",
     "output_type": "stream",
     "text": [
      "Enter one or more car manufacturers: Tesla Rivian\n",
      "Enter one or more car manufacturers: VW BMW Honda Tesla\n",
      "Enter one or more car manufacturers: Tesla Fisker Tesla Honda Hyundai\n",
      "Enter one or more car manufacturers: Fiat\n",
      "Enter one or more car manufacturers: Chevrolet Honda Fisker\n",
      "Enter one or more car manufacturers: Fiat Tesla\n",
      "Enter one or more car manufacturers: quit\n",
      "Tesla 5\n",
      "Rivian 1\n",
      "VW 1\n",
      "BMW 1\n",
      "Honda 3\n",
      "Fisker 2\n",
      "Hyundai 1\n",
      "Fiat 2\n",
      "Chevrolet 1\n"
     ]
    }
   ],
   "source": [
    "# I'm going to count cars\n",
    "carcounts = {} # start with a blank sheet of paper on your clipboard\n",
    "\n",
    "# step 1, without using walrus operator\n",
    "while True: # forever...\n",
    "    # step 1a: reads words from the user (as a single line of text)\n",
    "    user_input = input('Enter one or more car manufacturers: ')\n",
    "    if user_input.lower() == 'quit':\n",
    "        break\n",
    "    # At this point, we have some input which is not \"quit\"\n",
    "    cars = user_input.split() # step 1b: split into individual words\n",
    "    # step 1c: iterate through each word in the splitted list\n",
    "    for car in cars:\n",
    "        # step 1d: check to see if we've seen it before (i.e., it's in the dict)\n",
    "        if car in carcounts: # yes, we've seen it before, there is an entry for it\n",
    "            carcounts[car] += 1 # add 1 to the count for this car\n",
    "        else:\n",
    "            carcounts[car] = 1 # add this car to the dict and set its count to 1\n",
    "            \n",
    "for car in carcounts:\n",
    "    print(car, carcounts[car])"
   ]
  },
  {
   "cell_type": "code",
   "execution_count": null,
   "id": "6ca68d32",
   "metadata": {},
   "outputs": [],
   "source": [
    "# I'm going to count cars\n",
    "carcounts = {} # start with a blank sheet of paper on your clipboard\n",
    "\n",
    "# step 1, with the walrus operator\n",
    "while (user_input := input('Enter one or more car manufacturers: ').lower()) == 'quit':\n",
    "    # At this point, we have some input which is not \"quit\"\n",
    "    cars = user_input.split() # step 1b: split into individual words\n",
    "    # step 1c: iterate through each word in the splitted list\n",
    "    for car in cars:\n",
    "        # step 1d: check to see if we've seen it before (i.e., it's in the dict)\n",
    "        if car in carcounts: # yes, we've seen it before, there is an entry for it\n",
    "            carcounts[car] += 1 # add 1 to the count for this car\n",
    "        else:\n",
    "            carcounts[car] = 1 # add this car to the dict and set its count to 1\n",
    "            \n",
    "for car in carcounts:\n",
    "    print(car, carcounts[car])"
   ]
  },
  {
   "cell_type": "code",
   "execution_count": 297,
   "id": "d7cb17fa",
   "metadata": {},
   "outputs": [
    {
     "name": "stdout",
     "output_type": "stream",
     "text": [
      "two 2\n",
      "roads 2\n",
      "diverged 2\n",
      "in 4\n",
      "a 3\n",
      "yellow 1\n",
      "wood, 2\n",
      "and 9\n",
      "sorry 1\n",
      "i 8\n",
      "could 2\n",
      "not 1\n",
      "travel 1\n",
      "both 2\n",
      "be 2\n",
      "one 3\n",
      "traveler, 1\n",
      "long 1\n",
      "stood 1\n",
      "looked 1\n",
      "down 1\n",
      "as 5\n",
      "far 1\n",
      "to 2\n",
      "where 1\n",
      "it 2\n",
      "bent 1\n",
      "the 8\n",
      "undergrowth; 1\n",
      "then 1\n",
      "took 2\n",
      "other, 1\n",
      "just 1\n",
      "fair, 1\n",
      "having 1\n",
      "perhaps 1\n",
      "better 1\n",
      "claim, 1\n",
      "because 1\n",
      "was 1\n",
      "grassy 1\n",
      "wanted 1\n",
      "wear; 1\n",
      "though 1\n",
      "for 2\n",
      "that 3\n",
      "passing 1\n",
      "there 1\n",
      "had 2\n",
      "worn 1\n",
      "them 1\n",
      "really 1\n",
      "about 1\n",
      "same, 1\n",
      "morning 1\n",
      "equally 1\n",
      "lay 1\n",
      "leaves 1\n",
      "no 1\n",
      "step 1\n",
      "trodden 1\n",
      "black. 1\n",
      "oh, 1\n",
      "kept 1\n",
      "first 1\n",
      "another 1\n",
      "day! 1\n",
      "yet 1\n",
      "knowing 1\n",
      "how 1\n",
      "way 1\n",
      "leads 1\n",
      "on 1\n",
      "way, 1\n",
      "doubted 1\n",
      "if 1\n",
      "should 1\n",
      "ever 1\n",
      "come 1\n",
      "back. 1\n",
      "shall 1\n",
      "telling 1\n",
      "this 1\n",
      "with 1\n",
      "sigh 1\n",
      "somewhere 1\n",
      "ages 2\n",
      "hence: 1\n",
      "i— 1\n",
      "less 1\n",
      "traveled 1\n",
      "by, 1\n",
      "has 1\n",
      "made 1\n",
      "all 1\n",
      "difference. 1\n"
     ]
    }
   ],
   "source": [
    "# I'm going to count cars\n",
    "wordcounts = {} # start with a blank sheet of paper on your clipboard\n",
    "\n",
    "# step 1, without using walrus operator\n",
    "for line in open('poem.txt'): # keep going as long as there is a line of the file to read\n",
    "    # At this point, we have some input which is not \"quit\"\n",
    "    words = line.lower().split() # step 1b: split into individual words\n",
    "    # step 1c: iterate through each word in the splitted list\n",
    "    for word in words:\n",
    "        # step 1d: check to see if we've seen it before (i.e., it's in the dict)\n",
    "        if word in wordcounts: # yes, we've seen it before, there is an entry for it\n",
    "            wordcounts[word] += 1 # add 1 to the count for this car\n",
    "        else:\n",
    "            wordcounts[word] = 1 # add this car to the dict and set its count to 1\n",
    "            \n",
    "for word in wordcounts:\n",
    "    print(word, wordcounts[word])"
   ]
  },
  {
   "cell_type": "code",
   "execution_count": 324,
   "id": "6ad2350c",
   "metadata": {},
   "outputs": [
    {
     "name": "stdout",
     "output_type": "stream",
     "text": [
      "Enter the name of a file you want me to count the words of: poem.txt\n",
      "What is the minimum number of occurrences you want to see? 1\n",
      "a 3\n",
      "about 1\n",
      "ages 2\n",
      "all 1\n",
      "and 9\n",
      "another 1\n",
      "as 5\n",
      "back. 1\n",
      "be 2\n",
      "because 1\n",
      "bent 1\n",
      "better 1\n",
      "black. 1\n",
      "both 2\n",
      "by, 1\n",
      "claim, 1\n",
      "come 1\n",
      "could 2\n",
      "day! 1\n",
      "difference. 1\n",
      "diverged 2\n",
      "doubted 1\n",
      "down 1\n",
      "equally 1\n",
      "ever 1\n",
      "fair, 1\n",
      "far 1\n",
      "first 1\n",
      "for 2\n",
      "grassy 1\n",
      "had 2\n",
      "has 1\n",
      "having 1\n",
      "hence: 1\n",
      "how 1\n",
      "i 8\n",
      "if 1\n",
      "in 4\n",
      "it 2\n",
      "i— 1\n",
      "just 1\n",
      "kept 1\n",
      "knowing 1\n",
      "lay 1\n",
      "leads 1\n",
      "leaves 1\n",
      "less 1\n",
      "long 1\n",
      "looked 1\n",
      "made 1\n",
      "morning 1\n",
      "no 1\n",
      "not 1\n",
      "oh, 1\n",
      "on 1\n",
      "one 3\n",
      "other, 1\n",
      "passing 1\n",
      "perhaps 1\n",
      "really 1\n",
      "roads 2\n",
      "same, 1\n",
      "shall 1\n",
      "should 1\n",
      "sigh 1\n",
      "somewhere 1\n",
      "sorry 1\n",
      "step 1\n",
      "stood 1\n",
      "telling 1\n",
      "that 3\n",
      "the 8\n",
      "them 1\n",
      "then 1\n",
      "there 1\n",
      "this 1\n",
      "though 1\n",
      "to 2\n",
      "took 2\n",
      "travel 1\n",
      "traveled 1\n",
      "traveler, 1\n",
      "trodden 1\n",
      "two 2\n",
      "undergrowth; 1\n",
      "wanted 1\n",
      "was 1\n",
      "way 1\n",
      "way, 1\n",
      "wear; 1\n",
      "where 1\n",
      "with 1\n",
      "wood, 2\n",
      "worn 1\n",
      "yellow 1\n",
      "yet 1\n"
     ]
    }
   ],
   "source": [
    "wordcounts = {} # start with a blank sheet of paper on your clipboard\n",
    "\n",
    "filename = input('Enter the name of a file you want me to count the words of: ')\n",
    "# read from the file one line at a time\n",
    "\n",
    "minimum = int(input('What is the minimum number of occurrences you want to see? '))\n",
    "\n",
    "for line in open(filename): # keep going as long as there is a line of the file to read\n",
    "    # At this point, we have some input which is not \"quit\"\n",
    "    words = line.lower().split() # step 1b: split into individual words\n",
    "    # step 1c: iterate through each word in the splitted list\n",
    "    for word in words:\n",
    "        # step 1d: check to see if we've seen it before (i.e., it's in the dict)\n",
    "        if word in wordcounts: # yes, we've seen it before, there is an entry for it\n",
    "            wordcounts[word] += 1 # add 1 to the count for this car\n",
    "        else:\n",
    "            wordcounts[word] = 1 # add this car to the dict and set its count to 1\n",
    "\n",
    "# most common words?\n",
    "for word in sorted(wordcounts):\n",
    "    if wordcounts[word] >= minimum:\n",
    "        print(word, wordcounts[word])"
   ]
  },
  {
   "cell_type": "code",
   "execution_count": 305,
   "id": "00e760ea",
   "metadata": {},
   "outputs": [],
   "source": [
    "words = 'apple fig banana pear cherry'.split()"
   ]
  },
  {
   "cell_type": "code",
   "execution_count": 307,
   "id": "5fe01a8c",
   "metadata": {},
   "outputs": [],
   "source": [
    "words.sort()"
   ]
  },
  {
   "cell_type": "code",
   "execution_count": 308,
   "id": "d7a01a0b",
   "metadata": {},
   "outputs": [
    {
     "data": {
      "text/plain": [
       "['apple', 'banana', 'cherry', 'fig', 'pear']"
      ]
     },
     "execution_count": 308,
     "metadata": {},
     "output_type": "execute_result"
    }
   ],
   "source": [
    "words"
   ]
  },
  {
   "cell_type": "code",
   "execution_count": 309,
   "id": "3998d71b",
   "metadata": {},
   "outputs": [
    {
     "ename": "AttributeError",
     "evalue": "'dict' object has no attribute 'sort'",
     "output_type": "error",
     "traceback": [
      "\u001b[0;31m---------------------------------------------------------------------------\u001b[0m",
      "\u001b[0;31mAttributeError\u001b[0m                            Traceback (most recent call last)",
      "Input \u001b[0;32mIn [309]\u001b[0m, in \u001b[0;36m<cell line: 1>\u001b[0;34m()\u001b[0m\n\u001b[0;32m----> 1\u001b[0m \u001b[43mwordcounts\u001b[49m\u001b[38;5;241;43m.\u001b[39;49m\u001b[43msort\u001b[49m()\n",
      "\u001b[0;31mAttributeError\u001b[0m: 'dict' object has no attribute 'sort'"
     ]
    }
   ],
   "source": [
    "wordcounts.sort()"
   ]
  },
  {
   "cell_type": "code",
   "execution_count": 310,
   "id": "b062aa84",
   "metadata": {},
   "outputs": [],
   "source": [
    "words = 'apple fig banana pear cherry'.split()"
   ]
  },
  {
   "cell_type": "code",
   "execution_count": 312,
   "id": "64dbc8e1",
   "metadata": {},
   "outputs": [
    {
     "data": {
      "text/plain": [
       "['apple', 'banana', 'cherry', 'fig', 'pear']"
      ]
     },
     "execution_count": 312,
     "metadata": {},
     "output_type": "execute_result"
    }
   ],
   "source": [
    "sorted(words) # calling the built-in sorted() function"
   ]
  },
  {
   "cell_type": "code",
   "execution_count": 313,
   "id": "3c1809f0",
   "metadata": {},
   "outputs": [
    {
     "data": {
      "text/plain": [
       "['apple', 'fig', 'banana', 'pear', 'cherry']"
      ]
     },
     "execution_count": 313,
     "metadata": {},
     "output_type": "execute_result"
    }
   ],
   "source": [
    "words"
   ]
  },
  {
   "cell_type": "code",
   "execution_count": 314,
   "id": "3eae7ccf",
   "metadata": {},
   "outputs": [],
   "source": [
    "sorted_words = sorted(words)"
   ]
  },
  {
   "cell_type": "code",
   "execution_count": 316,
   "id": "81d4070f",
   "metadata": {},
   "outputs": [
    {
     "data": {
      "text/plain": [
       "['apple', 'banana', 'cherry', 'fig', 'pear']"
      ]
     },
     "execution_count": 316,
     "metadata": {},
     "output_type": "execute_result"
    }
   ],
   "source": [
    "sorted_words"
   ]
  },
  {
   "cell_type": "code",
   "execution_count": 317,
   "id": "8bac0179",
   "metadata": {},
   "outputs": [
    {
     "data": {
      "text/plain": [
       "['apple', 'fig', 'banana', 'pear', 'cherry']"
      ]
     },
     "execution_count": 317,
     "metadata": {},
     "output_type": "execute_result"
    }
   ],
   "source": [
    "words"
   ]
  },
  {
   "cell_type": "code",
   "execution_count": 318,
   "id": "6b215d14",
   "metadata": {},
   "outputs": [],
   "source": [
    "sbux = { 'tall': 12, 'grande': 16, 'venti': 20 }"
   ]
  },
  {
   "cell_type": "code",
   "execution_count": 319,
   "id": "698f3bf1",
   "metadata": {},
   "outputs": [
    {
     "data": {
      "text/plain": [
       "['grande', 'tall', 'venti']"
      ]
     },
     "execution_count": 319,
     "metadata": {},
     "output_type": "execute_result"
    }
   ],
   "source": [
    "sorted(sbux)"
   ]
  },
  {
   "cell_type": "code",
   "execution_count": 320,
   "id": "851ce4d6",
   "metadata": {},
   "outputs": [
    {
     "name": "stdout",
     "output_type": "stream",
     "text": [
      "tall\n",
      "grande\n",
      "venti\n"
     ]
    }
   ],
   "source": [
    "for thing in sbux:\n",
    "    print(thing)"
   ]
  },
  {
   "cell_type": "code",
   "execution_count": 327,
   "id": "1ddb404b",
   "metadata": {},
   "outputs": [],
   "source": [
    "sorted_wordcounts = {}\n",
    "for word in sorted(wordcounts):\n",
    "    sorted_wordcounts[word] = wordcounts[word]"
   ]
  },
  {
   "cell_type": "code",
   "execution_count": 328,
   "id": "1a489faf",
   "metadata": {},
   "outputs": [
    {
     "data": {
      "text/plain": [
       "{'a': 3,\n",
       " 'about': 1,\n",
       " 'ages': 2,\n",
       " 'all': 1,\n",
       " 'and': 9,\n",
       " 'another': 1,\n",
       " 'as': 5,\n",
       " 'back.': 1,\n",
       " 'be': 2,\n",
       " 'because': 1,\n",
       " 'bent': 1,\n",
       " 'better': 1,\n",
       " 'black.': 1,\n",
       " 'both': 2,\n",
       " 'by,': 1,\n",
       " 'claim,': 1,\n",
       " 'come': 1,\n",
       " 'could': 2,\n",
       " 'day!': 1,\n",
       " 'difference.': 1,\n",
       " 'diverged': 2,\n",
       " 'doubted': 1,\n",
       " 'down': 1,\n",
       " 'equally': 1,\n",
       " 'ever': 1,\n",
       " 'fair,': 1,\n",
       " 'far': 1,\n",
       " 'first': 1,\n",
       " 'for': 2,\n",
       " 'grassy': 1,\n",
       " 'had': 2,\n",
       " 'has': 1,\n",
       " 'having': 1,\n",
       " 'hence:': 1,\n",
       " 'how': 1,\n",
       " 'i': 8,\n",
       " 'if': 1,\n",
       " 'in': 4,\n",
       " 'it': 2,\n",
       " 'i—': 1,\n",
       " 'just': 1,\n",
       " 'kept': 1,\n",
       " 'knowing': 1,\n",
       " 'lay': 1,\n",
       " 'leads': 1,\n",
       " 'leaves': 1,\n",
       " 'less': 1,\n",
       " 'long': 1,\n",
       " 'looked': 1,\n",
       " 'made': 1,\n",
       " 'morning': 1,\n",
       " 'no': 1,\n",
       " 'not': 1,\n",
       " 'oh,': 1,\n",
       " 'on': 1,\n",
       " 'one': 3,\n",
       " 'other,': 1,\n",
       " 'passing': 1,\n",
       " 'perhaps': 1,\n",
       " 'really': 1,\n",
       " 'roads': 2,\n",
       " 'same,': 1,\n",
       " 'shall': 1,\n",
       " 'should': 1,\n",
       " 'sigh': 1,\n",
       " 'somewhere': 1,\n",
       " 'sorry': 1,\n",
       " 'step': 1,\n",
       " 'stood': 1,\n",
       " 'telling': 1,\n",
       " 'that': 3,\n",
       " 'the': 8,\n",
       " 'them': 1,\n",
       " 'then': 1,\n",
       " 'there': 1,\n",
       " 'this': 1,\n",
       " 'though': 1,\n",
       " 'to': 2,\n",
       " 'took': 2,\n",
       " 'travel': 1,\n",
       " 'traveled': 1,\n",
       " 'traveler,': 1,\n",
       " 'trodden': 1,\n",
       " 'two': 2,\n",
       " 'undergrowth;': 1,\n",
       " 'wanted': 1,\n",
       " 'was': 1,\n",
       " 'way': 1,\n",
       " 'way,': 1,\n",
       " 'wear;': 1,\n",
       " 'where': 1,\n",
       " 'with': 1,\n",
       " 'wood,': 2,\n",
       " 'worn': 1,\n",
       " 'yellow': 1,\n",
       " 'yet': 1}"
      ]
     },
     "execution_count": 328,
     "metadata": {},
     "output_type": "execute_result"
    }
   ],
   "source": [
    "sorted_wordcounts"
   ]
  },
  {
   "cell_type": "code",
   "execution_count": 332,
   "id": "194cc65d",
   "metadata": {},
   "outputs": [
    {
     "data": {
      "text/plain": [
       "[' ', '1', '2', '3', '4', 'U', 'Y', 'a', 'e', 'p', 'r']"
      ]
     },
     "execution_count": 332,
     "metadata": {},
     "output_type": "execute_result"
    }
   ],
   "source": [
    "sorted('Yea21r U4p3')"
   ]
  },
  {
   "cell_type": "code",
   "execution_count": 333,
   "id": "67974d0a",
   "metadata": {},
   "outputs": [
    {
     "data": {
      "text/plain": [
       "89"
      ]
     },
     "execution_count": 333,
     "metadata": {},
     "output_type": "execute_result"
    }
   ],
   "source": [
    "ord('Y')"
   ]
  },
  {
   "cell_type": "code",
   "execution_count": 334,
   "id": "d41ef877",
   "metadata": {},
   "outputs": [
    {
     "data": {
      "text/plain": [
       "121"
      ]
     },
     "execution_count": 334,
     "metadata": {},
     "output_type": "execute_result"
    }
   ],
   "source": [
    "ord('y')"
   ]
  },
  {
   "cell_type": "code",
   "execution_count": 335,
   "id": "61bf973a",
   "metadata": {},
   "outputs": [
    {
     "data": {
      "text/plain": [
       "8364"
      ]
     },
     "execution_count": 335,
     "metadata": {},
     "output_type": "execute_result"
    }
   ],
   "source": [
    "ord('€')"
   ]
  },
  {
   "cell_type": "code",
   "execution_count": 336,
   "id": "8640c751",
   "metadata": {},
   "outputs": [],
   "source": [
    "name = 'Ümlaut Café'"
   ]
  },
  {
   "cell_type": "code",
   "execution_count": 337,
   "id": "a66fd114",
   "metadata": {},
   "outputs": [
    {
     "data": {
      "text/plain": [
       "'Ümlaut Café'"
      ]
     },
     "execution_count": 337,
     "metadata": {},
     "output_type": "execute_result"
    }
   ],
   "source": [
    "name"
   ]
  },
  {
   "cell_type": "code",
   "execution_count": 338,
   "id": "3ae63584",
   "metadata": {},
   "outputs": [],
   "source": [
    "d = {}\n",
    "d['key'] = 'value'"
   ]
  },
  {
   "cell_type": "code",
   "execution_count": 339,
   "id": "78656ebb",
   "metadata": {},
   "outputs": [
    {
     "data": {
      "text/plain": [
       "{'key': 'value'}"
      ]
     },
     "execution_count": 339,
     "metadata": {},
     "output_type": "execute_result"
    }
   ],
   "source": [
    "d"
   ]
  },
  {
   "cell_type": "code",
   "execution_count": 340,
   "id": "5f30a520",
   "metadata": {},
   "outputs": [],
   "source": [
    "d[3] = 'three'"
   ]
  },
  {
   "cell_type": "code",
   "execution_count": 341,
   "id": "dbd2961a",
   "metadata": {},
   "outputs": [
    {
     "data": {
      "text/plain": [
       "{'key': 'value', 3: 'three'}"
      ]
     },
     "execution_count": 341,
     "metadata": {},
     "output_type": "execute_result"
    }
   ],
   "source": [
    "d"
   ]
  },
  {
   "cell_type": "code",
   "execution_count": 342,
   "id": "7809fd68",
   "metadata": {},
   "outputs": [
    {
     "ename": "TypeError",
     "evalue": "unhashable type: 'list'",
     "output_type": "error",
     "traceback": [
      "\u001b[0;31m---------------------------------------------------------------------------\u001b[0m",
      "\u001b[0;31mTypeError\u001b[0m                                 Traceback (most recent call last)",
      "Input \u001b[0;32mIn [342]\u001b[0m, in \u001b[0;36m<cell line: 1>\u001b[0;34m()\u001b[0m\n\u001b[0;32m----> 1\u001b[0m d[[\u001b[38;5;241m1\u001b[39m, \u001b[38;5;241m2\u001b[39m, \u001b[38;5;241m3\u001b[39m]] \u001b[38;5;241m=\u001b[39m \u001b[38;5;124m'\u001b[39m\u001b[38;5;124mboo\u001b[39m\u001b[38;5;124m'\u001b[39m\n",
      "\u001b[0;31mTypeError\u001b[0m: unhashable type: 'list'"
     ]
    }
   ],
   "source": [
    "d[[1, 2, 3]] = 'boo'"
   ]
  },
  {
   "cell_type": "code",
   "execution_count": 343,
   "id": "0b2269f1",
   "metadata": {},
   "outputs": [
    {
     "data": {
      "text/plain": [
       "{'key': 'value', 3: 'three'}"
      ]
     },
     "execution_count": 343,
     "metadata": {},
     "output_type": "execute_result"
    }
   ],
   "source": [
    "d"
   ]
  },
  {
   "cell_type": "code",
   "execution_count": 344,
   "id": "bbc0220d",
   "metadata": {},
   "outputs": [
    {
     "ename": "TypeError",
     "evalue": "pop expected at least 1 argument, got 0",
     "output_type": "error",
     "traceback": [
      "\u001b[0;31m---------------------------------------------------------------------------\u001b[0m",
      "\u001b[0;31mTypeError\u001b[0m                                 Traceback (most recent call last)",
      "Input \u001b[0;32mIn [344]\u001b[0m, in \u001b[0;36m<cell line: 1>\u001b[0;34m()\u001b[0m\n\u001b[0;32m----> 1\u001b[0m \u001b[43md\u001b[49m\u001b[38;5;241;43m.\u001b[39;49m\u001b[43mpop\u001b[49m\u001b[43m(\u001b[49m\u001b[43m)\u001b[49m\n",
      "\u001b[0;31mTypeError\u001b[0m: pop expected at least 1 argument, got 0"
     ]
    }
   ],
   "source": [
    "d.pop()"
   ]
  },
  {
   "cell_type": "code",
   "execution_count": 346,
   "id": "43b97e97",
   "metadata": {},
   "outputs": [
    {
     "data": {
      "text/plain": [
       "'three'"
      ]
     },
     "execution_count": 346,
     "metadata": {},
     "output_type": "execute_result"
    }
   ],
   "source": [
    "d.pop(3)"
   ]
  },
  {
   "cell_type": "code",
   "execution_count": 347,
   "id": "ffd3df6e",
   "metadata": {},
   "outputs": [
    {
     "data": {
      "text/plain": [
       "{'key': 'value'}"
      ]
     },
     "execution_count": 347,
     "metadata": {},
     "output_type": "execute_result"
    }
   ],
   "source": [
    "d"
   ]
  },
  {
   "cell_type": "code",
   "execution_count": 350,
   "id": "23d03598",
   "metadata": {},
   "outputs": [
    {
     "ename": "KeyError",
     "evalue": "'key'",
     "output_type": "error",
     "traceback": [
      "\u001b[0;31m---------------------------------------------------------------------------\u001b[0m",
      "\u001b[0;31mKeyError\u001b[0m                                  Traceback (most recent call last)",
      "Input \u001b[0;32mIn [350]\u001b[0m, in \u001b[0;36m<cell line: 1>\u001b[0;34m()\u001b[0m\n\u001b[0;32m----> 1\u001b[0m \u001b[43md\u001b[49m\u001b[38;5;241;43m.\u001b[39;49m\u001b[43mpop\u001b[49m\u001b[43m(\u001b[49m\u001b[38;5;124;43m'\u001b[39;49m\u001b[38;5;124;43mkey\u001b[39;49m\u001b[38;5;124;43m'\u001b[39;49m\u001b[43m)\u001b[49m\n",
      "\u001b[0;31mKeyError\u001b[0m: 'key'"
     ]
    }
   ],
   "source": [
    "d.pop('key')"
   ]
  },
  {
   "cell_type": "code",
   "execution_count": 349,
   "id": "d8592604",
   "metadata": {},
   "outputs": [
    {
     "data": {
      "text/plain": [
       "{}"
      ]
     },
     "execution_count": 349,
     "metadata": {},
     "output_type": "execute_result"
    }
   ],
   "source": [
    "d"
   ]
  },
  {
   "cell_type": "markdown",
   "id": "6a2a4fea",
   "metadata": {},
   "source": [
    "## Group Lab: Mastermind/Cows and Bulls Game\n",
    "* your program should generate a 4-digit \"secret\" number, where the digits are  all different\n",
    "* the player tries to guess the number  who gives the number of matches. If the matching digits are in their right positions, they are \"bulls\", if in different positions, they are \"cows\". "
   ]
  },
  {
   "cell_type": "code",
   "execution_count": 351,
   "id": "bfb36144",
   "metadata": {},
   "outputs": [],
   "source": [
    "# pick a 4-digit number that has no repeated digits\n",
    "#. do this 4 times\n",
    "#.       randomenerate a digit\n",
    "#.       add it to our code\n",
    "#.       remove it from the digits we can choose from \n",
    "# what is your guess? (get the guess from the player)-maybe quit\n",
    "# figure out how many bulls\n",
    "#.    for each digit in the guess\n",
    "#.       compare it with the corresponding digit in the secret number\n",
    "#.       if equal, increment bull count\n",
    "# figure out how many cows\n",
    "#     for each digit in the guess\n",
    "#.       compare it against every other digit in the secret number\n",
    "#.       if equal, increment cow count\n",
    "# print number of bulls and cows"
   ]
  },
  {
   "cell_type": "code",
   "execution_count": 354,
   "id": "e0189dd3",
   "metadata": {},
   "outputs": [],
   "source": [
    "digits = list(range(10))"
   ]
  },
  {
   "cell_type": "code",
   "execution_count": 355,
   "id": "8ca226e0",
   "metadata": {},
   "outputs": [
    {
     "data": {
      "text/plain": [
       "[0, 1, 2, 3, 4, 5, 6, 7, 8, 9]"
      ]
     },
     "execution_count": 355,
     "metadata": {},
     "output_type": "execute_result"
    }
   ],
   "source": [
    "digits"
   ]
  },
  {
   "cell_type": "code",
   "execution_count": 356,
   "id": "7faaf246",
   "metadata": {},
   "outputs": [
    {
     "data": {
      "text/plain": [
       "6"
      ]
     },
     "execution_count": 356,
     "metadata": {},
     "output_type": "execute_result"
    }
   ],
   "source": [
    "import random\n",
    "random.choice(digits)"
   ]
  },
  {
   "cell_type": "code",
   "execution_count": 357,
   "id": "6b0d90d2",
   "metadata": {},
   "outputs": [],
   "source": [
    "digits.remove(6)"
   ]
  },
  {
   "cell_type": "code",
   "execution_count": 358,
   "id": "a7c0d02a",
   "metadata": {},
   "outputs": [
    {
     "data": {
      "text/plain": [
       "[0, 1, 2, 3, 4, 5, 7, 8, 9]"
      ]
     },
     "execution_count": 358,
     "metadata": {},
     "output_type": "execute_result"
    }
   ],
   "source": [
    "digits"
   ]
  },
  {
   "cell_type": "code",
   "execution_count": 359,
   "id": "4dd95241",
   "metadata": {},
   "outputs": [
    {
     "data": {
      "text/plain": [
       "8"
      ]
     },
     "execution_count": 359,
     "metadata": {},
     "output_type": "execute_result"
    }
   ],
   "source": [
    "random.choice(digits)"
   ]
  },
  {
   "cell_type": "code",
   "execution_count": 360,
   "id": "1db8c603",
   "metadata": {},
   "outputs": [],
   "source": [
    "digits.remove(8)"
   ]
  },
  {
   "cell_type": "code",
   "execution_count": 361,
   "id": "84727f8b",
   "metadata": {},
   "outputs": [
    {
     "data": {
      "text/plain": [
       "[0, 1, 2, 3, 4, 5, 7, 9]"
      ]
     },
     "execution_count": 361,
     "metadata": {},
     "output_type": "execute_result"
    }
   ],
   "source": [
    "digits"
   ]
  },
  {
   "cell_type": "code",
   "execution_count": null,
   "id": "cf6165dd",
   "metadata": {},
   "outputs": [],
   "source": [
    "'6831'"
   ]
  },
  {
   "cell_type": "code",
   "execution_count": 362,
   "id": "af0d666e",
   "metadata": {},
   "outputs": [],
   "source": [
    "code = []"
   ]
  },
  {
   "cell_type": "code",
   "execution_count": 363,
   "id": "2502f3f5",
   "metadata": {},
   "outputs": [
    {
     "data": {
      "text/plain": [
       "1"
      ]
     },
     "execution_count": 363,
     "metadata": {},
     "output_type": "execute_result"
    }
   ],
   "source": [
    "random.randint(0, 9)"
   ]
  },
  {
   "cell_type": "code",
   "execution_count": 364,
   "id": "ebe73c49",
   "metadata": {},
   "outputs": [],
   "source": [
    "code.append(1)"
   ]
  },
  {
   "cell_type": "code",
   "execution_count": 365,
   "id": "09eb5c9b",
   "metadata": {},
   "outputs": [
    {
     "data": {
      "text/plain": [
       "3"
      ]
     },
     "execution_count": 365,
     "metadata": {},
     "output_type": "execute_result"
    }
   ],
   "source": [
    "random.randint(0, 9)"
   ]
  },
  {
   "cell_type": "code",
   "execution_count": 422,
   "id": "5626e075",
   "metadata": {},
   "outputs": [],
   "source": [
    "import random\n",
    "\n",
    "code = []\n",
    "\n",
    "# generate the 4-digit code\n",
    "digits = list(range(10)) # 0..9\n",
    "\n",
    "#. do this 4 times\n",
    "#.       randomenerate a digit\n",
    "#.       add it to our code\n",
    "#.       remove it from the digits we can choose from\n",
    "for times in range(4): # 0..3 AND it means we can repeat an action 4 times\n",
    "    digit = random.choice(digits)\n",
    "    digits.remove(digit)\n",
    "    code.append(str(digit))"
   ]
  },
  {
   "cell_type": "code",
   "execution_count": 423,
   "id": "1872b940",
   "metadata": {},
   "outputs": [
    {
     "data": {
      "text/plain": [
       "['2', '5', '1', '8']"
      ]
     },
     "execution_count": 423,
     "metadata": {},
     "output_type": "execute_result"
    }
   ],
   "source": [
    "code"
   ]
  },
  {
   "cell_type": "code",
   "execution_count": 377,
   "id": "ea0c396f",
   "metadata": {},
   "outputs": [
    {
     "name": "stdout",
     "output_type": "stream",
     "text": [
      "0218"
     ]
    }
   ],
   "source": [
    "for thing in code:\n",
    "    print(thing, end='')"
   ]
  },
  {
   "cell_type": "code",
   "execution_count": 381,
   "id": "a7328c2f",
   "metadata": {},
   "outputs": [
    {
     "name": "stdout",
     "output_type": "stream",
     "text": [
      "0 2 1 8\n"
     ]
    }
   ],
   "source": [
    "print(' '.join(code))"
   ]
  },
  {
   "cell_type": "code",
   "execution_count": 418,
   "id": "650a2f14",
   "metadata": {},
   "outputs": [
    {
     "name": "stdout",
     "output_type": "stream",
     "text": [
      "How many digits do you want to play with (4)? \n"
     ]
    }
   ],
   "source": [
    "# above we have written Python to generate the 4-digit code\n",
    "# let's try putting the code we wrote into a function...\n",
    "\n",
    "def generate_code(num_digits):\n",
    "    code = []\n",
    "    \n",
    "    # generate the code\n",
    "    digits = list(range(10)) # 0..9\n",
    "\n",
    "    #. do this once for each digit \n",
    "    #.       randomenerate a digit\n",
    "    #.       add it to our code\n",
    "    #.       remove it from the digits we can choose from\n",
    "    for times in range(num_digits):\n",
    "        digit = random.choice(digits)\n",
    "        digits.remove(digit)\n",
    "        code.append(str(digit))\n",
    "        \n",
    "    return code\n",
    "\n",
    "digits = input('How many digits do you want to play with (4)? ')\n",
    "if not digits: # container is empty\n",
    "    digits = 4\n",
    "else:\n",
    "    digits = int(digits)\n",
    "    \n",
    "secret_code = generate_code(digits)"
   ]
  },
  {
   "cell_type": "code",
   "execution_count": 419,
   "id": "1bf1022d",
   "metadata": {},
   "outputs": [
    {
     "data": {
      "text/plain": [
       "['6', '5', '2', '0']"
      ]
     },
     "execution_count": 419,
     "metadata": {},
     "output_type": "execute_result"
    }
   ],
   "source": [
    "secret_code"
   ]
  },
  {
   "cell_type": "code",
   "execution_count": 11,
   "id": "9ee49772",
   "metadata": {},
   "outputs": [
    {
     "name": "stdout",
     "output_type": "stream",
     "text": [
      "How many digits do you want to play with (4)? \n",
      "secret code is ['5', '0', '1', '8']\n",
      "Enter your guess: 1234\n",
      "0 bulls and 1 cows\n",
      "Enter your guess: 5678\n",
      "2 bulls and 0 cows\n",
      "Enter your guess: 5678\n",
      "2 bulls and 0 cows\n",
      "Enter your guess: 5018\n",
      "You got it!\n"
     ]
    }
   ],
   "source": [
    "# above we have written Python to generate the 4-digit code\n",
    "# let's try putting the code we wrote into a function...\n",
    "\n",
    "import random # to generate the secret code\n",
    "import sys # to allow us to call exit()\n",
    "\n",
    "def user_digits():\n",
    "    digits = input('How many digits do you want to play with (4)? ')\n",
    "    if not digits: # container is empty\n",
    "        digits = 4\n",
    "    else:\n",
    "        digits = int(digits)\n",
    "        \n",
    "    return digits\n",
    "    \n",
    "    \n",
    "def generate_code(num_digits):\n",
    "    code = []\n",
    "    \n",
    "    # generate the code\n",
    "    digits = list(range(10)) # 0..9\n",
    "\n",
    "    #. do this once for each digit \n",
    "    #.       randomenerate a digit\n",
    "    #.       add it to our code\n",
    "    #.       remove it from the digits we can choose from\n",
    "    for times in range(num_digits):\n",
    "        digit = random.choice(digits)\n",
    "        digits.remove(digit)\n",
    "        code.append(str(digit))\n",
    "        \n",
    "    return code\n",
    "\n",
    "\n",
    "def get_valid_user_guess(num_digits):\n",
    "    # get a guess from user\n",
    "    # ensure\n",
    "    # 1. length of guess is correct\n",
    "    # 2. guess is all digits\n",
    "    # 3. no duplicate digits\n",
    "    #\n",
    "    # let them type 'quit' to stop\n",
    "    \n",
    "    # until the user has guessed a valid guess or said 'quit':\n",
    "    #.   keep asking for a guess\n",
    "    # (while ...)\n",
    "    \n",
    "    # validating the guess\n",
    "    # 1. if any element of the string is not a digit, then BAD\n",
    "    # 2. if length of guess is not num_digits, then BAD\n",
    "    # 3. if any digit appears more than once, then BAD\n",
    "    \n",
    "    while True: # \"placeholder\" infinite loop\n",
    "        guess = input('Enter your guess: ')\n",
    "        if guess == 'quit':\n",
    "            sys.exit(0) # leave the program immediately\n",
    "           \n",
    "        # validation step 1\n",
    "        if not guess.isdigit():\n",
    "            print('Your guess should be ONLY digits!')\n",
    "            continue\n",
    "            \n",
    "        # validation step 2\n",
    "        if len(guess) != num_digits:\n",
    "            print('Your guess should be', num_digits, 'digits long!')\n",
    "            continue\n",
    "    \n",
    "        # validation step 3\n",
    "        # for each digit in the guess\n",
    "        #.  if the number of times that digit appears in guess is > 1, then BAD        \n",
    "        for digit in guess:\n",
    "            if guess.count(digit) > 1:\n",
    "                break\n",
    "        else: # we did not break, i.e., we finished the loop normally\n",
    "            # no repeating numbers\n",
    "            return guess\n",
    "        \n",
    "        print('Your guess has more than one', digit)\n",
    "\n",
    "\n",
    "def bull_and_cow_count(num_digits, guess, secret_code):\n",
    "    # num_digits = number of digits\n",
    "    # guess = user's guess (string)\n",
    "    # secret_code = secret code (list)\n",
    "    \n",
    "    bulls = 0\n",
    "    cows = 0\n",
    "    \n",
    "    # for each digit of the guess (and also secret code)\n",
    "    for index in range(num_digits):\n",
    "        # if the digit is IN the secret code somewhere...\n",
    "        if guess[index] in secret_code: # if so...\n",
    "            # is the digit at the same position and if so it's a bull\n",
    "            if guess[index] == secret_code[index]:\n",
    "                bulls += 1\n",
    "            else: # ...otherwise it's a cow\n",
    "                cows += 1\n",
    "                \n",
    "    # return both the count of bulls and the count of cows\n",
    "    return bulls, cows # (in Python we can return multiple values from a function)\n",
    "\n",
    "num_digits = user_digits() # ask the user how many digits to play with?\n",
    "secret_code = generate_code(num_digits) # generate the secret code\n",
    "print('secret code is', secret_code)\n",
    "\n",
    "# keep asking for a guess until the number of bulls (correct positions) equals number of digits\n",
    "while True: # while the number of correct digits is fewer than needed\n",
    "    guess = get_valid_user_guess(num_digits)\n",
    "    bull_count, cow_count = bull_and_cow_count(num_digits, guess, secret_code)\n",
    "    if bull_count == num_digits:\n",
    "        print('You got it!')\n",
    "        break\n",
    "    else:\n",
    "        print(bull_count, 'bulls and', cow_count, 'cows')"
   ]
  },
  {
   "cell_type": "code",
   "execution_count": 24,
   "id": "20c528f8",
   "metadata": {},
   "outputs": [
    {
     "data": {
      "text/plain": [
       "4"
      ]
     },
     "execution_count": 24,
     "metadata": {},
     "output_type": "execute_result"
    }
   ],
   "source": [
    "bull_count"
   ]
  },
  {
   "cell_type": "code",
   "execution_count": 427,
   "id": "40ebd17d",
   "metadata": {},
   "outputs": [
    {
     "data": {
      "text/plain": [
       "['1', '7', '4', '9']"
      ]
     },
     "execution_count": 427,
     "metadata": {},
     "output_type": "execute_result"
    }
   ],
   "source": [
    "secret_code"
   ]
  },
  {
   "cell_type": "code",
   "execution_count": 428,
   "id": "2dc89193",
   "metadata": {},
   "outputs": [
    {
     "data": {
      "text/plain": [
       "True"
      ]
     },
     "execution_count": 428,
     "metadata": {},
     "output_type": "execute_result"
    }
   ],
   "source": [
    "'4367438'.isdigit()"
   ]
  },
  {
   "cell_type": "code",
   "execution_count": 429,
   "id": "9eb0ef95",
   "metadata": {},
   "outputs": [
    {
     "data": {
      "text/plain": [
       "False"
      ]
     },
     "execution_count": 429,
     "metadata": {},
     "output_type": "execute_result"
    }
   ],
   "source": [
    "'yo8dysudsew'.isdigit()"
   ]
  },
  {
   "cell_type": "code",
   "execution_count": 430,
   "id": "d1fe17f9",
   "metadata": {},
   "outputs": [
    {
     "name": "stdout",
     "output_type": "stream",
     "text": [
      "Help on method_descriptor:\n",
      "\n",
      "isdigit(self, /)\n",
      "    Return True if the string is a digit string, False otherwise.\n",
      "    \n",
      "    A string is a digit string if all characters in the string are digits and there\n",
      "    is at least one character in the string.\n",
      "\n"
     ]
    }
   ],
   "source": [
    "help(str.isdigit)"
   ]
  },
  {
   "cell_type": "code",
   "execution_count": 7,
   "id": "2942f4ff",
   "metadata": {},
   "outputs": [
    {
     "name": "stdout",
     "output_type": "stream",
     "text": [
      "0 * 0 = 0\n",
      "1 * 1 = 1\n",
      "2 * 2 = 4\n",
      "3 * 3 = 9\n",
      "4 * 4 = 16\n",
      "5 * 5 = 25\n",
      "6 * 6 = 36\n",
      "7 * 7 = 49\n",
      "8 * 8 = 64\n",
      "9 * 9 = 81\n"
     ]
    }
   ],
   "source": [
    "for count in range(10): # counting from 0..9, OR do something 10 times\n",
    "    print(count, '*', count, '=', count * count)"
   ]
  },
  {
   "cell_type": "code",
   "execution_count": 11,
   "id": "cb414d5d",
   "metadata": {},
   "outputs": [
    {
     "name": "stdout",
     "output_type": "stream",
     "text": [
      "hello\n",
      "hello\n",
      "hello\n",
      "hello\n",
      "hello\n",
      "hello\n",
      "hello\n",
      "hello\n",
      "hello\n",
      "hello\n"
     ]
    }
   ],
   "source": [
    "for _ in range(10): # counting from 0..9 OR do something 10 times\n",
    "    print('hello')"
   ]
  },
  {
   "cell_type": "code",
   "execution_count": 12,
   "id": "1b6d6d47",
   "metadata": {},
   "outputs": [],
   "source": [
    "_ = 5 # do not do this"
   ]
  },
  {
   "cell_type": "code",
   "execution_count": 13,
   "id": "6d29ac59",
   "metadata": {},
   "outputs": [
    {
     "name": "stdout",
     "output_type": "stream",
     "text": [
      "5\n"
     ]
    }
   ],
   "source": [
    "print(_) # or this"
   ]
  },
  {
   "cell_type": "code",
   "execution_count": 14,
   "id": "f0b02afd",
   "metadata": {},
   "outputs": [
    {
     "name": "stdout",
     "output_type": "stream",
     "text": [
      "[5, 8, 6, 6, 9, 6, 9, 10, 1, 3, 7, 4, 8, 8, 8, 10, 6, 10, 8, 1, 6, 5, 7, 4, 7, 1, 2, 10, 2, 2, 4, 3, 5, 7, 4, 7, 1, 3, 6, 3, 5, 4, 9, 7, 6, 4, 4, 1, 1, 2, 6, 4, 8, 8, 7, 1, 9, 4, 5, 10, 3, 2, 2, 9, 7, 1, 8, 6, 5, 6, 10, 10, 2, 10, 10, 7, 5, 10, 1, 4, 1, 8, 2, 7, 5, 3, 4, 10, 5, 3, 2, 10, 3, 8, 1, 10, 2, 3, 9, 3]\n"
     ]
    }
   ],
   "source": [
    "import random\n",
    "\n",
    "nums = []\n",
    "\n",
    "for _ in range(100): # counting from 0 to 99 OR repeating some code 100 times\n",
    "    nums.append(random.randint(1, 10))\n",
    "    \n",
    "print(nums)"
   ]
  },
  {
   "cell_type": "code",
   "execution_count": 15,
   "id": "76403086",
   "metadata": {},
   "outputs": [
    {
     "data": {
      "text/plain": [
       "11"
      ]
     },
     "execution_count": 15,
     "metadata": {},
     "output_type": "execute_result"
    }
   ],
   "source": [
    "nums.count(4)"
   ]
  },
  {
   "cell_type": "code",
   "execution_count": 16,
   "id": "00572829",
   "metadata": {},
   "outputs": [
    {
     "data": {
      "text/plain": [
       "10"
      ]
     },
     "execution_count": 16,
     "metadata": {},
     "output_type": "execute_result"
    }
   ],
   "source": [
    "nums.count(7)"
   ]
  },
  {
   "cell_type": "code",
   "execution_count": 19,
   "id": "f2554211",
   "metadata": {},
   "outputs": [
    {
     "data": {
      "text/plain": [
       "2"
      ]
     },
     "execution_count": 19,
     "metadata": {},
     "output_type": "execute_result"
    }
   ],
   "source": [
    "'643897847847384780843283928982903829832'.count('43')"
   ]
  },
  {
   "cell_type": "code",
   "execution_count": 21,
   "id": "3f56996c",
   "metadata": {},
   "outputs": [
    {
     "data": {
      "text/plain": [
       "1"
      ]
     },
     "execution_count": 21,
     "metadata": {},
     "output_type": "execute_result"
    }
   ],
   "source": [
    "'3454'.count('3')"
   ]
  },
  {
   "cell_type": "code",
   "execution_count": 22,
   "id": "12790828",
   "metadata": {},
   "outputs": [
    {
     "data": {
      "text/plain": [
       "2"
      ]
     },
     "execution_count": 22,
     "metadata": {},
     "output_type": "execute_result"
    }
   ],
   "source": [
    "'3454'.count('4')"
   ]
  },
  {
   "cell_type": "code",
   "execution_count": 23,
   "id": "3237faac",
   "metadata": {},
   "outputs": [
    {
     "name": "stdout",
     "output_type": "stream",
     "text": [
      "1\n",
      "2\n",
      "1\n",
      "2\n"
     ]
    }
   ],
   "source": [
    "guess = '3454'\n",
    "\n",
    "for digit in guess: # for each digit in guess\n",
    "    print(guess.count(digit))"
   ]
  },
  {
   "cell_type": "code",
   "execution_count": 29,
   "id": "f258e833",
   "metadata": {},
   "outputs": [
    {
     "name": "stdout",
     "output_type": "stream",
     "text": [
      "this\n",
      "that\n"
     ]
    }
   ],
   "source": [
    "print('this'); print('that')"
   ]
  },
  {
   "cell_type": "code",
   "execution_count": 30,
   "id": "088709d8",
   "metadata": {},
   "outputs": [],
   "source": [
    "guess = '4219'"
   ]
  },
  {
   "cell_type": "code",
   "execution_count": 31,
   "id": "04f56945",
   "metadata": {},
   "outputs": [
    {
     "data": {
      "text/plain": [
       "'4'"
      ]
     },
     "execution_count": 31,
     "metadata": {},
     "output_type": "execute_result"
    }
   ],
   "source": [
    "guess[0]"
   ]
  },
  {
   "cell_type": "code",
   "execution_count": 32,
   "id": "1ca1807e",
   "metadata": {},
   "outputs": [
    {
     "data": {
      "text/plain": [
       "str"
      ]
     },
     "execution_count": 32,
     "metadata": {},
     "output_type": "execute_result"
    }
   ],
   "source": [
    "type(guess[0])"
   ]
  },
  {
   "cell_type": "code",
   "execution_count": 36,
   "id": "ff07567e",
   "metadata": {},
   "outputs": [
    {
     "data": {
      "text/plain": [
       "2"
      ]
     },
     "execution_count": 36,
     "metadata": {},
     "output_type": "execute_result"
    }
   ],
   "source": [
    "9 // 4 # quotient"
   ]
  },
  {
   "cell_type": "code",
   "execution_count": 34,
   "id": "4a532744",
   "metadata": {},
   "outputs": [
    {
     "data": {
      "text/plain": [
       "1"
      ]
     },
     "execution_count": 34,
     "metadata": {},
     "output_type": "execute_result"
    }
   ],
   "source": [
    "9 % 4 # remainder"
   ]
  },
  {
   "cell_type": "code",
   "execution_count": 37,
   "id": "0d4748e0",
   "metadata": {},
   "outputs": [
    {
     "data": {
      "text/plain": [
       "(2, 1)"
      ]
     },
     "execution_count": 37,
     "metadata": {},
     "output_type": "execute_result"
    }
   ],
   "source": [
    "divmod(9, 4)"
   ]
  },
  {
   "cell_type": "code",
   "execution_count": 42,
   "id": "7e4ef1f7",
   "metadata": {},
   "outputs": [],
   "source": [
    "quotient, remainder = divmod(9, 4)"
   ]
  },
  {
   "cell_type": "code",
   "execution_count": 39,
   "id": "41f347e1",
   "metadata": {},
   "outputs": [
    {
     "data": {
      "text/plain": [
       "2"
      ]
     },
     "execution_count": 39,
     "metadata": {},
     "output_type": "execute_result"
    }
   ],
   "source": [
    "quotient"
   ]
  },
  {
   "cell_type": "code",
   "execution_count": 40,
   "id": "e77dd9e1",
   "metadata": {},
   "outputs": [
    {
     "data": {
      "text/plain": [
       "1"
      ]
     },
     "execution_count": 40,
     "metadata": {},
     "output_type": "execute_result"
    }
   ],
   "source": [
    "remainder"
   ]
  },
  {
   "cell_type": "code",
   "execution_count": 52,
   "id": "591299f4",
   "metadata": {},
   "outputs": [],
   "source": [
    "word = 'STONE'"
   ]
  },
  {
   "cell_type": "code",
   "execution_count": 53,
   "id": "5c7fe7a8",
   "metadata": {},
   "outputs": [],
   "source": [
    "guess = 'STAIN'"
   ]
  },
  {
   "cell_type": "code",
   "execution_count": null,
   "id": "9f532eb2",
   "metadata": {},
   "outputs": [],
   "source": [
    "# STAIN\n",
    "# **  -\n",
    "# STENT\n",
    "# "
   ]
  },
  {
   "cell_type": "code",
   "execution_count": null,
   "id": "1c3e63f3",
   "metadata": {},
   "outputs": [],
   "source": [
    "[ '\"', '\"', ' ', ' ', \"'\" ]"
   ]
  },
  {
   "cell_type": "code",
   "execution_count": 65,
   "id": "6542a653",
   "metadata": {},
   "outputs": [],
   "source": [
    "correctness = '  xx-'"
   ]
  },
  {
   "cell_type": "code",
   "execution_count": 66,
   "id": "8c180356",
   "metadata": {},
   "outputs": [
    {
     "name": "stdout",
     "output_type": "stream",
     "text": [
      "STAIN\n",
      "  xx-\n"
     ]
    }
   ],
   "source": [
    "print(guess, correctness, sep='\\n')"
   ]
  },
  {
   "cell_type": "code",
   "execution_count": 14,
   "id": "b4846e8e",
   "metadata": {},
   "outputs": [
    {
     "name": "stdout",
     "output_type": "stream",
     "text": [
      "How many letters do you want to play with (5)? \n",
      "There are 2309 words in the list.\n",
      "Enter your guess: \n",
      "Your guess should be ONLY letters!\n",
      "Enter your guess: quit\n",
      "The word was SHORE\n"
     ]
    }
   ],
   "source": [
    "# let's try to change cows and bulls into WORDLE\n",
    "\n",
    "import random # to generate the secret code\n",
    "import sys # to allow us to call exit()\n",
    "\n",
    "def how_many_letters():\n",
    "    letters = input('How many letters do you want to play with (5)? ')\n",
    "    if not letters: # container is empty\n",
    "        letters = 5\n",
    "    else:\n",
    "        letters = int(letters)\n",
    "        \n",
    "    return letters\n",
    "    \n",
    "    \n",
    "def pick_a_word(num_letters):\n",
    "    words = open('wordle.txt').read().split()\n",
    "    print('There are', len(words), 'words in the list.')\n",
    "    return random.choice(words).upper()\n",
    "\n",
    "\n",
    "def get_valid_user_guess(num_letters):\n",
    "    # get a guess from user\n",
    "    # ensure\n",
    "    # 1. length of guess is correct\n",
    "    # 2. guess is all digits\n",
    "    # 3. no duplicate digits\n",
    "    #\n",
    "    # let them type 'quit' to stop\n",
    "    \n",
    "    # until the user has guessed a valid guess or said 'quit':\n",
    "    #.   keep asking for a guess\n",
    "    # (while ...)\n",
    "    \n",
    "    # validating the guess\n",
    "    # 1. if any character of the string is not a letter, then BAD\n",
    "    # 2. if length of guess is not num_digits, then BAD\n",
    "    \n",
    "    while (guess := input('Enter your guess: ')) != 'quit':       \n",
    "        # validation step 1\n",
    "        if not guess.isalpha():\n",
    "            print('Your guess should be ONLY letters!')\n",
    "            continue\n",
    "            \n",
    "        # validation step 2\n",
    "        if len(guess) != num_letters:\n",
    "            print('Your guess should be', num_letters, 'letters long!')\n",
    "            continue\n",
    "    \n",
    "        break\n",
    "        \n",
    "    return guess.upper()\n",
    "\n",
    "\n",
    "def compute_feedback(num_letters, guess, word):\n",
    "    # num_letters = number of letters in word\n",
    "    # guess = user's guess (string)\n",
    "    # word = word\n",
    "\n",
    "    response = ''\n",
    "    \n",
    "    # for each letters of the guess (and also secret code)\n",
    "    for index in range(num_letters):\n",
    "        # if the digit is IN the word somewhere...\n",
    "        if guess[index] in word: # if so...\n",
    "            if guess[index] == word[index]:\n",
    "                response += '\"'\n",
    "            else:\n",
    "                response += \"'\"\n",
    "        else:\n",
    "            response += ' '\n",
    "            \n",
    "    return response\n",
    "\n",
    "num_letters = how_many_letters() # ask the user how many digits to play with?\n",
    "word = pick_a_word(num_letters) # generate the secret code\n",
    "\n",
    "# keep asking for a guess until they get it right\n",
    "while (guess := get_valid_user_guess(num_letters)) != word:\n",
    "    if guess == 'QUIT':\n",
    "        print('The word was', word)\n",
    "        break\n",
    "    else:\n",
    "        print(guess, compute_feedback(num_letters, guess, word), sep='\\n')\n",
    "else:\n",
    "    print('You got it!')"
   ]
  },
  {
   "cell_type": "code",
   "execution_count": 2,
   "id": "25b0acf6",
   "metadata": {},
   "outputs": [
    {
     "name": "stdout",
     "output_type": "stream",
     "text": [
      "Enter your name: Grace Hopper\n",
      "Hello Grace Hopper , nice to meet you!\n"
     ]
    }
   ],
   "source": [
    "name = input('Enter your name: ')\n",
    "print('Hello', name, ', nice to meet you!')"
   ]
  },
  {
   "cell_type": "code",
   "execution_count": 4,
   "id": "d1cb7734",
   "metadata": {},
   "outputs": [
    {
     "data": {
      "text/plain": [
       "'Grace Hopper'"
      ]
     },
     "execution_count": 4,
     "metadata": {},
     "output_type": "execute_result"
    }
   ],
   "source": [
    "name # global variable"
   ]
  },
  {
   "cell_type": "code",
   "execution_count": 9,
   "id": "051568ee",
   "metadata": {},
   "outputs": [],
   "source": [
    "def func():\n",
    "    funcvar = 'inside the function'\n",
    "    print(funcvar)\n",
    "    # ...\n",
    "    funcvar = 'something else'\n",
    "    # ...\n",
    "    print(funcvar)"
   ]
  },
  {
   "cell_type": "code",
   "execution_count": 10,
   "id": "498c668b",
   "metadata": {},
   "outputs": [
    {
     "name": "stdout",
     "output_type": "stream",
     "text": [
      "inside the function\n",
      "something else\n"
     ]
    }
   ],
   "source": [
    "func()"
   ]
  },
  {
   "cell_type": "code",
   "execution_count": 11,
   "id": "d9d78c50",
   "metadata": {},
   "outputs": [
    {
     "ename": "NameError",
     "evalue": "name 'funcvar' is not defined",
     "output_type": "error",
     "traceback": [
      "\u001b[0;31m---------------------------------------------------------------------------\u001b[0m",
      "\u001b[0;31mNameError\u001b[0m                                 Traceback (most recent call last)",
      "Input \u001b[0;32mIn [11]\u001b[0m, in \u001b[0;36m<cell line: 1>\u001b[0;34m()\u001b[0m\n\u001b[0;32m----> 1\u001b[0m \u001b[43mfuncvar\u001b[49m\n",
      "\u001b[0;31mNameError\u001b[0m: name 'funcvar' is not defined"
     ]
    }
   ],
   "source": [
    "funcvar"
   ]
  },
  {
   "cell_type": "code",
   "execution_count": 18,
   "id": "a034f940",
   "metadata": {},
   "outputs": [
    {
     "name": "stdout",
     "output_type": "stream",
     "text": [
      "cool\n"
     ]
    }
   ],
   "source": [
    "if 5 > 4:\n",
    "    newvar = 'cool'\n",
    "    print(newvar)"
   ]
  },
  {
   "cell_type": "code",
   "execution_count": 19,
   "id": "8a9dec95",
   "metadata": {},
   "outputs": [
    {
     "data": {
      "text/plain": [
       "'cool'"
      ]
     },
     "execution_count": 19,
     "metadata": {},
     "output_type": "execute_result"
    }
   ],
   "source": [
    "newvar"
   ]
  },
  {
   "cell_type": "code",
   "execution_count": 16,
   "id": "8b28c688",
   "metadata": {},
   "outputs": [],
   "source": [
    "mainvar = 'main program'"
   ]
  },
  {
   "cell_type": "code",
   "execution_count": 17,
   "id": "5a050279",
   "metadata": {},
   "outputs": [
    {
     "data": {
      "text/plain": [
       "'main program'"
      ]
     },
     "execution_count": 17,
     "metadata": {},
     "output_type": "execute_result"
    }
   ],
   "source": [
    "mainvar"
   ]
  },
  {
   "cell_type": "code",
   "execution_count": 20,
   "id": "a62470a8",
   "metadata": {},
   "outputs": [],
   "source": [
    "if False:\n",
    "    test_var = 'Clement'"
   ]
  },
  {
   "cell_type": "code",
   "execution_count": 25,
   "id": "7c91d05f",
   "metadata": {},
   "outputs": [],
   "source": [
    "def max3(val1, val2, val3):\n",
    "    pass"
   ]
  },
  {
   "cell_type": "code",
   "execution_count": null,
   "id": "1df35a8b",
   "metadata": {},
   "outputs": [],
   "source": [
    "# max3: return the largest of the three values"
   ]
  },
  {
   "cell_type": "code",
   "execution_count": 47,
   "id": "18b95571",
   "metadata": {},
   "outputs": [],
   "source": [
    "num1 = 61\n",
    "num2 = 62\n",
    "num3 = 561"
   ]
  },
  {
   "cell_type": "code",
   "execution_count": 29,
   "id": "0affb39e",
   "metadata": {},
   "outputs": [
    {
     "data": {
      "text/plain": [
       "False"
      ]
     },
     "execution_count": 29,
     "metadata": {},
     "output_type": "execute_result"
    }
   ],
   "source": [
    "num1 > num2"
   ]
  },
  {
   "cell_type": "code",
   "execution_count": 48,
   "id": "a2e567f6",
   "metadata": {},
   "outputs": [
    {
     "name": "stdout",
     "output_type": "stream",
     "text": [
      "62 is bigger\n"
     ]
    }
   ],
   "source": [
    "if num1 > num2:\n",
    "    print(num1, 'is bigger')\n",
    "else:\n",
    "    print(num2, 'is bigger')"
   ]
  },
  {
   "cell_type": "code",
   "execution_count": 43,
   "id": "f4c083eb",
   "metadata": {},
   "outputs": [],
   "source": [
    "if num1 > num2:\n",
    "    bigger = num1\n",
    "else:\n",
    "    bigger = num2"
   ]
  },
  {
   "cell_type": "code",
   "execution_count": 44,
   "id": "586a01b6",
   "metadata": {},
   "outputs": [
    {
     "data": {
      "text/plain": [
       "62"
      ]
     },
     "execution_count": 44,
     "metadata": {},
     "output_type": "execute_result"
    }
   ],
   "source": [
    "bigger"
   ]
  },
  {
   "cell_type": "code",
   "execution_count": 49,
   "id": "75fe63ff",
   "metadata": {},
   "outputs": [],
   "source": [
    "if num3 > bigger:\n",
    "    bigger = num3"
   ]
  },
  {
   "cell_type": "code",
   "execution_count": 50,
   "id": "3c347cea",
   "metadata": {},
   "outputs": [
    {
     "data": {
      "text/plain": [
       "561"
      ]
     },
     "execution_count": 50,
     "metadata": {},
     "output_type": "execute_result"
    }
   ],
   "source": [
    "bigger"
   ]
  },
  {
   "cell_type": "code",
   "execution_count": 54,
   "id": "62010208",
   "metadata": {},
   "outputs": [],
   "source": [
    "def max2(num1, num2):\n",
    "    # compare num1 to num2\n",
    "    # find the bigger one and return it\n",
    "    # if num1 is larger than num2, return num1\n",
    "    # otherwise return num2\n",
    "    if num1 > num2:\n",
    "        return num1\n",
    "    else:\n",
    "        return num2"
   ]
  },
  {
   "cell_type": "code",
   "execution_count": 116,
   "id": "38825dfc",
   "metadata": {},
   "outputs": [],
   "source": [
    "def max3(num1, num2, num3):\n",
    "    # find the max of num1 and num2\n",
    "    # compare that to num3\n",
    "    # return the larger of the above two\n",
    "    max_so_far = max(num1, num2)\n",
    "    max_so_far = max(max_so_far, num3)\n",
    "    \n",
    "    return max_so_far"
   ]
  },
  {
   "cell_type": "code",
   "execution_count": 117,
   "id": "9e9728ca",
   "metadata": {},
   "outputs": [
    {
     "data": {
      "text/plain": [
       "10"
      ]
     },
     "execution_count": 117,
     "metadata": {},
     "output_type": "execute_result"
    }
   ],
   "source": [
    "max3(5, 7, 10)"
   ]
  },
  {
   "cell_type": "code",
   "execution_count": 118,
   "id": "dad16618",
   "metadata": {},
   "outputs": [
    {
     "data": {
      "text/plain": [
       "23"
      ]
     },
     "execution_count": 118,
     "metadata": {},
     "output_type": "execute_result"
    }
   ],
   "source": [
    "max([5, 7, -10, 17, 23, -4, 18])"
   ]
  },
  {
   "cell_type": "code",
   "execution_count": 70,
   "id": "840da37b",
   "metadata": {},
   "outputs": [
    {
     "data": {
      "text/plain": [
       "7"
      ]
     },
     "execution_count": 70,
     "metadata": {},
     "output_type": "execute_result"
    }
   ],
   "source": [
    "max(5, 7)"
   ]
  },
  {
   "cell_type": "markdown",
   "id": "ad853fcf",
   "metadata": {},
   "source": [
    "## Lab: Functions\n",
    "* write __max3__, a function to find the maximum of three values (first create a function that finds the maximum of two values and have __max3__ call it)\n",
    "* write a function to sum all of the numbers in a list\n",
    "* write a function which accepts a list as its argument and returns a new list with all of the duplicates removed (e.g., __remove_dupes([3, 1, 2, 3, 1, 3, 3, 4, 1])__ would return [3, 1, 2, 4])\n",
    "* write a function to check whether its string argument is a pangram (i.e., it contains all of the letters of the alphabet)\n",
    "  * The quick brown fox jumps over the lazy dog\n",
    "  * The wizard quickly jinxed the gnomes before they vaporized\n",
    "* write a Boolean function which accepts a string argument and indicates whether it is a palindrome (i.e., it reads the same backwards and forwards–e.g., \"radar\")\n",
    "  * e.g., \"racecar\"\n",
    "  * once you get that, try to make it work even if the string contains spaces, e.g., \"Ten animals I slam in a net\"\n",
    "    * try to use slices if you didn't already"
   ]
  },
  {
   "cell_type": "code",
   "execution_count": 130,
   "id": "4b56261a",
   "metadata": {},
   "outputs": [],
   "source": [
    "def sum_numbers(list_of_nums):\n",
    "    # 1: start with running total of 0\n",
    "    # 2: for each number in the list\n",
    "        # 2a: add that number to the running total\n",
    "    # 3: return the running total\n",
    "    total = 0 # step 1\n",
    "    for num in list_of_nums: # step 2\n",
    "        total += num # step 2a\n",
    "    return total # step 3"
   ]
  },
  {
   "cell_type": "code",
   "execution_count": 120,
   "id": "688d4df5",
   "metadata": {},
   "outputs": [
    {
     "name": "stdout",
     "output_type": "stream",
     "text": [
      "Enter number: 5\n",
      "Enter number: 4\n",
      "Enter number: 9\n",
      "Enter number: -18\n",
      "Enter number: 7\n",
      "Enter number: 13\n",
      "Enter number: 0\n"
     ]
    }
   ],
   "source": [
    "# create an empty list\n",
    "    #ask user for a number\n",
    "    #add that number to an empty list\n",
    "    #if 0 is entered:\n",
    "        # break\n",
    "nums = []\n",
    "while (num := int(input('Enter number: '))) != 0:\n",
    "    nums.append(num)"
   ]
  },
  {
   "cell_type": "code",
   "execution_count": 131,
   "id": "ffdf9c42",
   "metadata": {},
   "outputs": [
    {
     "data": {
      "text/plain": [
       "20"
      ]
     },
     "execution_count": 131,
     "metadata": {},
     "output_type": "execute_result"
    }
   ],
   "source": [
    "sum_numbers(nums)"
   ]
  },
  {
   "cell_type": "code",
   "execution_count": 124,
   "id": "b5034413",
   "metadata": {},
   "outputs": [
    {
     "data": {
      "text/plain": [
       "[5, 4, 9, -18, 7, 13]"
      ]
     },
     "execution_count": 124,
     "metadata": {},
     "output_type": "execute_result"
    }
   ],
   "source": [
    "nums"
   ]
  },
  {
   "cell_type": "code",
   "execution_count": 132,
   "id": "81a50cf0",
   "metadata": {},
   "outputs": [],
   "source": [
    "def remove_dupes(list_of_items):\n",
    "    # I originally started thinking of this as removing the dupes in place, which is possible,\n",
    "    # but not what was asked.\n",
    "    \n",
    "    # start with an empty second list\n",
    "    # for each item in the list:\n",
    "    #.   check to see if it's in the second list (i.e., we've seen it before)\n",
    "    #.   if no, add the item to the second list\n",
    "    # return the second list\n",
    "    \n",
    "    returned_list = []\n",
    "    \n",
    "    for item in list_of_items:\n",
    "        if item not in returned_list:\n",
    "            returned_list.append(item)\n",
    "            \n",
    "    return returned_list"
   ]
  },
  {
   "cell_type": "code",
   "execution_count": 134,
   "id": "2067caa6",
   "metadata": {},
   "outputs": [
    {
     "data": {
      "text/plain": [
       "[3, 1, 2, 5, 4]"
      ]
     },
     "execution_count": 134,
     "metadata": {},
     "output_type": "execute_result"
    }
   ],
   "source": [
    "remove_dupes([3, 1, 2, 3, 1, 5, 3, 3, 4, 5, 1])"
   ]
  },
  {
   "cell_type": "code",
   "execution_count": 111,
   "id": "073ebd11",
   "metadata": {},
   "outputs": [],
   "source": [
    "def is_pangram(string):\n",
    "    # start with an empty list of \"letters seen so far\"\n",
    "    # for each character in the string:\n",
    "    #.   if it's a letter and it's not in the list of \"letters seen so far\":\n",
    "    #.       add it to \"letters seen so far\"\n",
    "    # if the length of \"letters seen so far\" is 26, it's a pangram\n",
    "    #\n",
    "    # easier way?\n",
    "    # start with a list of all the letters ['a', 'b', 'c', ... ]\n",
    "    # for each character in the string:\n",
    "    #     if it's a letter, remove it from the list of letters\n",
    "    # if the list of letters is empty, we've used them all, so it's a pangram\n",
    "    # (but we can't remove something that isn't there, so we still have to check\n",
    "    # if the letter is in the list before removing...)\n",
    "    \n",
    "    alphabet = 'abcdefghijklmnopqrstuvwxyz'\n",
    "\n",
    "    all_letters = list(alphabet)\n",
    "    \n",
    "    for char in string.lower(): # make lower case so 'S' and 's' are the same\n",
    "        if char in alphabet: # if it's a letter\n",
    "            if char in all_letters: # ...and we haven't seen it yet\n",
    "                all_letters.remove(char) # ...remove it from our list of letters\n",
    "    \n",
    "    return len(all_letters) == 0 # all letters have been seen\n",
    "\n",
    "    # even easier way?\n",
    "    string = string.lower()\n",
    "    found = 0\n",
    "    \n",
    "    for letter in alphabet:\n",
    "        if letter not in string:\n",
    "            break\n",
    "        found += 1\n",
    "    \n",
    "    return found == 26"
   ]
  },
  {
   "cell_type": "code",
   "execution_count": 115,
   "id": "b4058c29",
   "metadata": {},
   "outputs": [
    {
     "data": {
      "text/plain": [
       "True"
      ]
     },
     "execution_count": 115,
     "metadata": {},
     "output_type": "execute_result"
    }
   ],
   "source": [
    "is_pangram('Pack my box with five dozen liquor jugs')"
   ]
  },
  {
   "cell_type": "code",
   "execution_count": 113,
   "id": "6da9f55d",
   "metadata": {},
   "outputs": [
    {
     "data": {
      "text/plain": [
       "True"
      ]
     },
     "execution_count": 113,
     "metadata": {},
     "output_type": "execute_result"
    }
   ],
   "source": [
    "is_pangram('The wizard quickly jinxed the gnomes before they vaporized')"
   ]
  },
  {
   "cell_type": "code",
   "execution_count": 168,
   "id": "87201a2f",
   "metadata": {},
   "outputs": [],
   "source": [
    "def is_palindrome(string):\n",
    "    # check if 1st char == last char\n",
    "    # check if 2nd char == 2nd to last char\n",
    "    # etc.\n",
    "    # We only have to go halfway thru the string to do this.\n",
    "    # OR...\n",
    "    # check if string == string[::-1] (shorthand for reversed version of the string)\n",
    "    #return string == string[::-1]\n",
    "\n",
    "    # if we want it to work for strings that have spaces, the simplest thing to do is remove\n",
    "    # all the spaces, then do the above comparison\n",
    "    \n",
    "    string = string.lower().replace(' ', '') # generate a new string where the spaces are replaced with nothing\n",
    "    return string == string[::-1]\n",
    "\n",
    "    # now we want think about removing all non-letters, not just spaces\n",
    "    list_of_chars = list(string.lower())\n",
    "    "
   ]
  },
  {
   "cell_type": "code",
   "execution_count": 162,
   "id": "59bad5f2",
   "metadata": {},
   "outputs": [
    {
     "data": {
      "text/plain": [
       "False"
      ]
     },
     "execution_count": 162,
     "metadata": {},
     "output_type": "execute_result"
    }
   ],
   "source": [
    "string = 'racecar'\n",
    "string == string[::-1]"
   ]
  },
  {
   "cell_type": "code",
   "execution_count": 165,
   "id": "8440f3f6",
   "metadata": {},
   "outputs": [
    {
     "data": {
      "text/plain": [
       "True"
      ]
     },
     "execution_count": 165,
     "metadata": {},
     "output_type": "execute_result"
    }
   ],
   "source": [
    "is_palindrome('Racecar')"
   ]
  },
  {
   "cell_type": "code",
   "execution_count": 171,
   "id": "0c332003",
   "metadata": {},
   "outputs": [
    {
     "data": {
      "text/plain": [
       "True"
      ]
     },
     "execution_count": 171,
     "metadata": {},
     "output_type": "execute_result"
    }
   ],
   "source": [
    "is_palindrome('Ten animals I slam in a net')"
   ]
  },
  {
   "cell_type": "code",
   "execution_count": 173,
   "id": "1acb47f2",
   "metadata": {},
   "outputs": [
    {
     "data": {
      "text/plain": [
       "True"
      ]
     },
     "execution_count": 173,
     "metadata": {},
     "output_type": "execute_result"
    }
   ],
   "source": [
    "# something like this would only work if we remove not just the spaces, but all non-letters\n",
    "is_palindrome(\"Go hang a salami, I'm a lasagna hog\")"
   ]
  },
  {
   "cell_type": "code",
   "execution_count": 167,
   "id": "2ef1fd87",
   "metadata": {},
   "outputs": [
    {
     "data": {
      "text/plain": [
       "'hereisastringwithspaces'"
      ]
     },
     "execution_count": 167,
     "metadata": {},
     "output_type": "execute_result"
    }
   ],
   "source": [
    "'here is a string with spaces'.replace(' ', '')"
   ]
  },
  {
   "cell_type": "markdown",
   "id": "b3d14c10",
   "metadata": {},
   "source": [
    "# Student solutions"
   ]
  },
  {
   "cell_type": "code",
   "execution_count": 119,
   "id": "f8e75c33",
   "metadata": {},
   "outputs": [
    {
     "ename": "SyntaxError",
     "evalue": "invalid syntax (133961834.py, line 2)",
     "output_type": "error",
     "traceback": [
      "\u001b[0;36m  Input \u001b[0;32mIn [119]\u001b[0;36m\u001b[0m\n\u001b[0;31m    If you want, here's my solution for that one\u001b[0m\n\u001b[0m       ^\u001b[0m\n\u001b[0;31mSyntaxError\u001b[0m\u001b[0;31m:\u001b[0m invalid syntax\n"
     ]
    }
   ],
   "source": [
    "## sum up a list\n",
    "# create an empty list\n",
    "    #ask user for a number\n",
    "    #add that number to an empty list\n",
    "    #if 0 is entered:\n",
    "        # break\n",
    "    # return the total of the list"
   ]
  },
  {
   "cell_type": "markdown",
   "id": "48a207ce",
   "metadata": {},
   "source": [
    "## Palindrome\n",
    "\n",
    "1. ask the user for a word\n",
    "2. reverse the word and store it\n",
    "3. if the user word equals the reverse then it is a palindrome"
   ]
  },
  {
   "cell_type": "markdown",
   "id": "e962f68a",
   "metadata": {},
   "source": [
    "1. using the alphabet again\n",
    "2. get a string from the user\n",
    "3. for every character in the string<br>\n",
    "    3.1 if the character is not in the alphabet list, remove it from the string\n",
    "4.  if string == string reversed (string[::-1]), it's a palindrome\n",
    "(is the list of remaining characters the same as the reverse of that list?)"
   ]
  },
  {
   "cell_type": "markdown",
   "id": "28d962a9",
   "metadata": {},
   "source": [
    "## Pangram\n",
    "1. check each letter, see if each letter, a to z, are located in the sentence\n",
    "2. Count each unique letter as it is found in the pangram\n",
    "3. If 26, then it's a pangram"
   ]
  },
  {
   "cell_type": "code",
   "execution_count": 136,
   "id": "49dec1b3",
   "metadata": {},
   "outputs": [],
   "source": [
    "my_set = { 1, 3, 5 }"
   ]
  },
  {
   "cell_type": "code",
   "execution_count": 137,
   "id": "3b0ba87a",
   "metadata": {},
   "outputs": [],
   "source": [
    "my_dict = { 1: 'one', 3: 'three', 5: 'five' }"
   ]
  },
  {
   "cell_type": "code",
   "execution_count": 138,
   "id": "f8604626",
   "metadata": {},
   "outputs": [
    {
     "data": {
      "text/plain": [
       "set"
      ]
     },
     "execution_count": 138,
     "metadata": {},
     "output_type": "execute_result"
    }
   ],
   "source": [
    "type(my_set)"
   ]
  },
  {
   "cell_type": "code",
   "execution_count": 139,
   "id": "8abb3ea1",
   "metadata": {},
   "outputs": [],
   "source": [
    "my_set.add(3)"
   ]
  },
  {
   "cell_type": "code",
   "execution_count": 140,
   "id": "a1a6328a",
   "metadata": {},
   "outputs": [
    {
     "data": {
      "text/plain": [
       "{1, 3, 5}"
      ]
     },
     "execution_count": 140,
     "metadata": {},
     "output_type": "execute_result"
    }
   ],
   "source": [
    "my_set"
   ]
  },
  {
   "cell_type": "code",
   "execution_count": 145,
   "id": "f2d7e530",
   "metadata": {},
   "outputs": [],
   "source": [
    "my_set.discard(5)"
   ]
  },
  {
   "cell_type": "code",
   "execution_count": 146,
   "id": "c10a2cf0",
   "metadata": {},
   "outputs": [
    {
     "data": {
      "text/plain": [
       "{1, 3}"
      ]
     },
     "execution_count": 146,
     "metadata": {},
     "output_type": "execute_result"
    }
   ],
   "source": [
    "my_set"
   ]
  },
  {
   "cell_type": "code",
   "execution_count": 147,
   "id": "ac9caf41",
   "metadata": {},
   "outputs": [
    {
     "ename": "KeyError",
     "evalue": "5",
     "output_type": "error",
     "traceback": [
      "\u001b[0;31m---------------------------------------------------------------------------\u001b[0m",
      "\u001b[0;31mKeyError\u001b[0m                                  Traceback (most recent call last)",
      "Input \u001b[0;32mIn [147]\u001b[0m, in \u001b[0;36m<cell line: 1>\u001b[0;34m()\u001b[0m\n\u001b[0;32m----> 1\u001b[0m \u001b[43mmy_set\u001b[49m\u001b[38;5;241;43m.\u001b[39;49m\u001b[43mremove\u001b[49m\u001b[43m(\u001b[49m\u001b[38;5;241;43m5\u001b[39;49m\u001b[43m)\u001b[49m\n",
      "\u001b[0;31mKeyError\u001b[0m: 5"
     ]
    }
   ],
   "source": [
    "my_set.remove(5)"
   ]
  },
  {
   "cell_type": "markdown",
   "id": "136137bf",
   "metadata": {},
   "source": [
    "## Chutes and Ladders\n",
    "* write Python code to play the game \"Chutes and Ladders\" (board shown below)\n",
    "<img src=\"images/chutes.jpg\" height=\"300 px\" width=\"300 px\">\n",
    "  \n",
    "  * each player rolls a die and moves the number of spaces on the face of the die (1-6)\n",
    "  * if the player lands on a ladder, the player moves up to the space at the top of the ladder\n",
    "  * if the player lands on a chute, the player moves down to the space at the bottom of the chute\n",
    "  * winner must land on 100 exactly, so if player is at square 97:\n",
    "    * rolling a 1 would move the player to 78\n",
    "    * rolling a 2 would move the player to 99\n",
    "    * rolling a 3 would move the player to 100, winning the game\n",
    "    * rolling a 4, 5, or 6 would cause the player to remain at square 97\n",
    "  * player will play against the computer\n",
    "  * allow the player to enter a specific value from 1-6 (in order to test) or simply hit ENTER, which causes the program to generate a random roll for the player\n",
    "  \n"
   ]
  },
  {
   "cell_type": "code",
   "execution_count": 18,
   "id": "5c25fb8e",
   "metadata": {},
   "outputs": [],
   "source": [
    "position = 62"
   ]
  },
  {
   "cell_type": "code",
   "execution_count": 19,
   "id": "f47c3b66",
   "metadata": {},
   "outputs": [],
   "source": [
    "if position in chutes_and_ladders:\n",
    "    new_position = chutes_and_ladders[position]"
   ]
  },
  {
   "cell_type": "code",
   "execution_count": 20,
   "id": "8bb24a60",
   "metadata": {},
   "outputs": [
    {
     "data": {
      "text/plain": [
       "62"
      ]
     },
     "execution_count": 20,
     "metadata": {},
     "output_type": "execute_result"
    }
   ],
   "source": [
    "position"
   ]
  },
  {
   "cell_type": "code",
   "execution_count": 21,
   "id": "84ce32bc",
   "metadata": {},
   "outputs": [
    {
     "data": {
      "text/plain": [
       "19"
      ]
     },
     "execution_count": 21,
     "metadata": {},
     "output_type": "execute_result"
    }
   ],
   "source": [
    "new_position"
   ]
  },
  {
   "cell_type": "code",
   "execution_count": 22,
   "id": "98e2ebc1",
   "metadata": {},
   "outputs": [
    {
     "name": "stdout",
     "output_type": "stream",
     "text": [
      "chute\n"
     ]
    }
   ],
   "source": [
    "if new_position > position:\n",
    "    print('ladder')\n",
    "else:\n",
    "    print('chute')"
   ]
  },
  {
   "cell_type": "code",
   "execution_count": 23,
   "id": "a168b177",
   "metadata": {},
   "outputs": [],
   "source": [
    "# algorithm\n",
    "# make a list of players\n",
    "# asking the user to enter their name(s)\n",
    "# set the initial positions of all players to 0\n",
    "# while all player's positions are < 100:\n",
    "# OR...while any player's position is < 100:\n",
    "#.    move to next player and tell them it's their turn\n",
    "#.    wait for player to hit RETURN to start their turn (except for computer)\n",
    "#.    roll the die (1..6)\n",
    "#.    if the current position plus the die roll is <= 100:\n",
    "#         add the die roll to the current position and make that the new current position\n",
    "#.        if current position is 100, tell them they won!\n",
    "#.    else:\n",
    "#.        \"your roll would move you off the board, so you lose your turn\"\n",
    "#.    if the current position is in dict:\n",
    "#.       change the current position to the value in the dict (either up or down)\n",
    "#        tell the user that they went up a ladder or down a chute as appropriate\n",
    "# ask if they want to play again?"
   ]
  },
  {
   "cell_type": "code",
   "execution_count": 41,
   "id": "8112ee09",
   "metadata": {},
   "outputs": [],
   "source": [
    "import random\n",
    "\n",
    "def roll_the_die():\n",
    "    return random.randint(1, 6)"
   ]
  },
  {
   "cell_type": "code",
   "execution_count": 35,
   "id": "dbb326f0",
   "metadata": {},
   "outputs": [
    {
     "name": "stdout",
     "output_type": "stream",
     "text": [
      "2\n",
      "2\n",
      "3\n",
      "4\n",
      "3\n",
      "2\n",
      "3\n",
      "2\n",
      "3\n",
      "2\n"
     ]
    }
   ],
   "source": [
    "for times in range(10):\n",
    "    print(roll_the_die())"
   ]
  },
  {
   "cell_type": "code",
   "execution_count": 55,
   "id": "e4284eea",
   "metadata": {},
   "outputs": [],
   "source": [
    "rolls = { 1: 0, 2: 0, 3: 0, 4: 0, 5: 0, 6: 0 }\n",
    "\n",
    "for times in range(6_000_000): # roll the die 60,000 times\n",
    "    roll = roll_the_die()\n",
    "    rolls[roll] += 1"
   ]
  },
  {
   "cell_type": "code",
   "execution_count": 56,
   "id": "75b8500d",
   "metadata": {},
   "outputs": [
    {
     "data": {
      "text/plain": [
       "{1: 999897, 2: 1000779, 3: 999851, 4: 999715, 5: 1000057, 6: 999701}"
      ]
     },
     "execution_count": 56,
     "metadata": {},
     "output_type": "execute_result"
    }
   ],
   "source": [
    "rolls"
   ]
  },
  {
   "cell_type": "code",
   "execution_count": 43,
   "id": "7aa871d6",
   "metadata": {},
   "outputs": [],
   "source": [
    "rolls[roll] += 1"
   ]
  },
  {
   "cell_type": "code",
   "execution_count": 44,
   "id": "aa0beb91",
   "metadata": {},
   "outputs": [
    {
     "data": {
      "text/plain": [
       "{1: 0, 2: 1, 3: 0, 4: 1, 5: 0, 6: 0}"
      ]
     },
     "execution_count": 44,
     "metadata": {},
     "output_type": "execute_result"
    }
   ],
   "source": [
    "rolls"
   ]
  },
  {
   "cell_type": "code",
   "execution_count": 8,
   "id": "dd7d715f",
   "metadata": {},
   "outputs": [],
   "source": [
    "# this is the dict that holds the mapping of board squares\n",
    "# this is a GLOBAL VARIABLE (it's accessible to any code in the program)\n",
    "chutes_and_ladders = {  1: 38,  4: 14,  9: 31, 28: 84, 36: 44,\n",
    "                       47: 26, 49: 11, 51: 67, 56: 53, 62: 19,\n",
    "                       64: 60, 71: 91, 80: 100, 87: 24, 93: 73,\n",
    "                       95: 75, 98: 78 \n",
    "                     }\n",
    "\n",
    "def determine_new_position(current_position, roll):\n",
    "    #.    if the current position plus the die roll is <= 100:\n",
    "    #         add the die roll to the current position and make that the new current position\n",
    "    #.        if current position is 100, tell them they won!\n",
    "    #.    else:\n",
    "    #.        \"your roll would move you off the board, so you lose your turn\"\n",
    "    #.    if the current position is in dict:\n",
    "    #.       change the current position to the value in the dict (either up or down)\n",
    "    #        tell the user that they went up a ladder or down a chute as appropriate\n",
    "    # \n",
    "    # return new position and an indication of chute/ladder\n",
    "\n",
    "    if current_position + roll > 100: # off the board\n",
    "        new_position = current_position\n",
    "    else:\n",
    "        new_position = current_position + roll\n",
    "        print('You landed on', new_position)\n",
    "        \n",
    "        if new_position in chutes_and_ladders: # the new position is either a chute or a ladder\n",
    "            final_position = chutes_and_ladders[new_position]\n",
    "            if final_position > new_position:\n",
    "                print('    LADDER UP TO', final_position)\n",
    "            else:\n",
    "                print('    CHUTE DOWN TO', final_position)\n",
    "            new_position = final_position\n",
    "\n",
    "    return new_position"
   ]
  },
  {
   "cell_type": "code",
   "execution_count": 62,
   "id": "eba92b5c",
   "metadata": {},
   "outputs": [
    {
     "data": {
      "text/plain": [
       "19"
      ]
     },
     "execution_count": 62,
     "metadata": {},
     "output_type": "execute_result"
    }
   ],
   "source": [
    "determine_new_position(61, 1) # chute"
   ]
  },
  {
   "cell_type": "code",
   "execution_count": 63,
   "id": "962ac5e7",
   "metadata": {},
   "outputs": [
    {
     "data": {
      "text/plain": [
       "97"
      ]
     },
     "execution_count": 63,
     "metadata": {},
     "output_type": "execute_result"
    }
   ],
   "source": [
    "determine_new_position(97, 4) # off the board"
   ]
  },
  {
   "cell_type": "code",
   "execution_count": 64,
   "id": "7a83dd94",
   "metadata": {},
   "outputs": [
    {
     "data": {
      "text/plain": [
       "7"
      ]
     },
     "execution_count": 64,
     "metadata": {},
     "output_type": "execute_result"
    }
   ],
   "source": [
    "determine_new_position(3, 4)"
   ]
  },
  {
   "cell_type": "code",
   "execution_count": 65,
   "id": "a85b1542",
   "metadata": {},
   "outputs": [
    {
     "data": {
      "text/plain": [
       "14"
      ]
     },
     "execution_count": 65,
     "metadata": {},
     "output_type": "execute_result"
    }
   ],
   "source": [
    "determine_new_position(2, 2)"
   ]
  },
  {
   "cell_type": "code",
   "execution_count": null,
   "id": "55d31f62",
   "metadata": {},
   "outputs": [],
   "source": [
    "def print_chute_or_ladder(old_position, new_position):\n",
    "    "
   ]
  },
  {
   "cell_type": "code",
   "execution_count": 10,
   "id": "d5737e2f",
   "metadata": {},
   "outputs": [
    {
     "name": "stdout",
     "output_type": "stream",
     "text": [
      "Hit RETURN/ENTER to roll, QUIT to quit, FINISH to run automatically:\n",
      "You rolled a 4\n",
      "You landed on 4\n",
      "    LADDER UP TO 14\n",
      "Hit RETURN/ENTER to roll, QUIT to quit, FINISH to run automatically:\n",
      "You rolled a 2\n",
      "You landed on 16\n",
      "Hit RETURN/ENTER to roll, QUIT to quit, FINISH to run automatically:\n",
      "You rolled a 5\n",
      "You landed on 21\n",
      "Hit RETURN/ENTER to roll, QUIT to quit, FINISH to run automatically:\n",
      "You rolled a 2\n",
      "You landed on 23\n",
      "Hit RETURN/ENTER to roll, QUIT to quit, FINISH to run automatically:\n",
      "You rolled a 6\n",
      "You landed on 29\n",
      "Hit RETURN/ENTER to roll, QUIT to quit, FINISH to run automatically:\n",
      "You rolled a 1\n",
      "You landed on 30\n",
      "Hit RETURN/ENTER to roll, QUIT to quit, FINISH to run automatically:\n",
      "You rolled a 3\n",
      "You landed on 33\n",
      "Hit RETURN/ENTER to roll, QUIT to quit, FINISH to run automatically:\n",
      "You rolled a 5\n",
      "You landed on 38\n",
      "Hit RETURN/ENTER to roll, QUIT to quit, FINISH to run automatically:\n",
      "You rolled a 4\n",
      "You landed on 42\n",
      "Hit RETURN/ENTER to roll, QUIT to quit, FINISH to run automatically:\n",
      "You rolled a 5\n",
      "You landed on 47\n",
      "    CHUTE DOWN TO 26\n",
      "Hit RETURN/ENTER to roll, QUIT to quit, FINISH to run automatically:FINISH\n",
      "You rolled a 3\n",
      "You landed on 29\n",
      "You rolled a 3\n",
      "You landed on 32\n",
      "You rolled a 1\n",
      "You landed on 33\n",
      "You rolled a 2\n",
      "You landed on 35\n",
      "You rolled a 5\n",
      "You landed on 40\n",
      "You rolled a 3\n",
      "You landed on 43\n",
      "You rolled a 3\n",
      "You landed on 46\n",
      "You rolled a 4\n",
      "You landed on 50\n",
      "You rolled a 4\n",
      "You landed on 54\n",
      "You rolled a 1\n",
      "You landed on 55\n",
      "You rolled a 3\n",
      "You landed on 58\n",
      "You rolled a 5\n",
      "You landed on 63\n",
      "You rolled a 1\n",
      "You landed on 64\n",
      "    CHUTE DOWN TO 60\n",
      "You rolled a 6\n",
      "You landed on 66\n",
      "You rolled a 5\n",
      "You landed on 71\n",
      "    LADDER UP TO 91\n",
      "You rolled a 5\n",
      "You landed on 96\n",
      "You rolled a 4\n",
      "You landed on 100\n",
      "You won!\n"
     ]
    }
   ],
   "source": [
    "current_position = 0\n",
    "play_mode = 'normal'\n",
    "\n",
    "while current_position < 100:\n",
    "    if play_mode == 'normal':\n",
    "        response = input('Hit RETURN/ENTER to roll, QUIT to quit, FINISH to run automatically:')\n",
    "        if response == 'QUIT':\n",
    "            break\n",
    "        if response == 'FINISH':\n",
    "            play_mode = 'auto'\n",
    "    roll = roll_the_die() # get a die roll\n",
    "    current_position = determine_new_position(current_position, roll)\n",
    "else:\n",
    "    print('You won!')"
   ]
  },
  {
   "cell_type": "code",
   "execution_count": 16,
   "id": "2a7885cc",
   "metadata": {},
   "outputs": [],
   "source": [
    "players = ['Ellis', 'Emily', 'Esgardo', 'Olivia', 'Computer']"
   ]
  },
  {
   "cell_type": "code",
   "execution_count": 18,
   "id": "15ced2da",
   "metadata": {},
   "outputs": [],
   "source": [
    "positions = []\n",
    "for times in range(len(players)): # range(x) does something x times\n",
    "    positions.append(0)"
   ]
  },
  {
   "cell_type": "code",
   "execution_count": 20,
   "id": "6f7a09cd",
   "metadata": {},
   "outputs": [],
   "source": [
    "positions = [0] * len(players)"
   ]
  },
  {
   "cell_type": "code",
   "execution_count": 21,
   "id": "edae60e2",
   "metadata": {},
   "outputs": [
    {
     "data": {
      "text/plain": [
       "[0, 0, 0, 0, 0]"
      ]
     },
     "execution_count": 21,
     "metadata": {},
     "output_type": "execute_result"
    }
   ],
   "source": [
    "positions"
   ]
  },
  {
   "cell_type": "code",
   "execution_count": 29,
   "id": "c784b4e3",
   "metadata": {},
   "outputs": [],
   "source": [
    "def get_players():\n",
    "    # until nobody else wants to play:\n",
    "    #     get the name of the next player\n",
    "    # ask if computer should be one of the players\n",
    "    players = []\n",
    "    print('Enter the names of players one per line. Hit RETURN when done.')\n",
    "    \n",
    "    while (name := input('Enter name of player: ')): # while the return of input() is not empty\n",
    "        players.append(name)\n",
    "    \n",
    "    if len(players) > 1:\n",
    "        answer = input('Should I play too ([y]/n)!')\n",
    "        \n",
    "    if len(players) == 1 or answer == 'y':\n",
    "            players.append('Python')\n",
    "    \n",
    "    return players"
   ]
  },
  {
   "cell_type": "code",
   "execution_count": 31,
   "id": "8375ba3d",
   "metadata": {},
   "outputs": [
    {
     "name": "stdout",
     "output_type": "stream",
     "text": [
      "Enter the names of players one per line. Hit RETURN when done.\n",
      "Enter name of player: Dave\n",
      "Enter name of player: \n"
     ]
    },
    {
     "data": {
      "text/plain": [
       "['Dave', 'Python']"
      ]
     },
     "execution_count": 31,
     "metadata": {},
     "output_type": "execute_result"
    }
   ],
   "source": [
    "get_players()"
   ]
  },
  {
   "cell_type": "code",
   "execution_count": 42,
   "id": "cd5c81b9",
   "metadata": {},
   "outputs": [
    {
     "name": "stdout",
     "output_type": "stream",
     "text": [
      "Enter the names of players one per line. Hit RETURN when done.\n",
      "Enter name of player: Dave\n",
      "Enter name of player: \n",
      "It is Dave's turn\n",
      "Hit RETURN/ENTER to roll, QUIT to quit, FINISH to run automatically:\n",
      "Dave rolled a 2\n",
      "You landed on 2\n",
      "All positions: [2, 0]\n",
      "It is Python's turn\n",
      "Hit RETURN/ENTER to roll, QUIT to quit, FINISH to run automatically:\n",
      "Python rolled a 3\n",
      "You landed on 3\n",
      "All positions: [2, 3]\n",
      "It is Dave's turn\n",
      "Hit RETURN/ENTER to roll, QUIT to quit, FINISH to run automatically:finish\n",
      "Dave rolled a 2\n",
      "You landed on 4\n",
      "    LADDER UP TO 14\n",
      "All positions: [14, 3]\n",
      "Python rolled a 1\n",
      "You landed on 4\n",
      "    LADDER UP TO 14\n",
      "All positions: [14, 14]\n",
      "Dave rolled a 5\n",
      "You landed on 19\n",
      "All positions: [19, 14]\n",
      "Python rolled a 5\n",
      "You landed on 19\n",
      "All positions: [19, 19]\n",
      "Dave rolled a 3\n",
      "You landed on 22\n",
      "All positions: [22, 19]\n",
      "Python rolled a 5\n",
      "You landed on 24\n",
      "All positions: [22, 24]\n",
      "Dave rolled a 2\n",
      "You landed on 24\n",
      "All positions: [24, 24]\n",
      "Python rolled a 6\n",
      "You landed on 30\n",
      "All positions: [24, 30]\n",
      "Dave rolled a 1\n",
      "You landed on 25\n",
      "All positions: [25, 30]\n",
      "Python rolled a 1\n",
      "You landed on 31\n",
      "All positions: [25, 31]\n",
      "Dave rolled a 1\n",
      "You landed on 26\n",
      "All positions: [26, 31]\n",
      "Python rolled a 4\n",
      "You landed on 35\n",
      "All positions: [26, 35]\n",
      "Dave rolled a 5\n",
      "You landed on 31\n",
      "All positions: [31, 35]\n",
      "Python rolled a 1\n",
      "You landed on 36\n",
      "    LADDER UP TO 44\n",
      "All positions: [31, 44]\n",
      "Dave rolled a 2\n",
      "You landed on 33\n",
      "All positions: [33, 44]\n",
      "Python rolled a 3\n",
      "You landed on 47\n",
      "    CHUTE DOWN TO 26\n",
      "All positions: [33, 26]\n",
      "Dave rolled a 2\n",
      "You landed on 35\n",
      "All positions: [35, 26]\n",
      "Python rolled a 5\n",
      "You landed on 31\n",
      "All positions: [35, 31]\n",
      "Dave rolled a 2\n",
      "You landed on 37\n",
      "All positions: [37, 31]\n",
      "Python rolled a 6\n",
      "You landed on 37\n",
      "All positions: [37, 37]\n",
      "Dave rolled a 1\n",
      "You landed on 38\n",
      "All positions: [38, 37]\n",
      "Python rolled a 1\n",
      "You landed on 38\n",
      "All positions: [38, 38]\n",
      "Dave rolled a 4\n",
      "You landed on 42\n",
      "All positions: [42, 38]\n",
      "Python rolled a 6\n",
      "You landed on 44\n",
      "All positions: [42, 44]\n",
      "Dave rolled a 1\n",
      "You landed on 43\n",
      "All positions: [43, 44]\n",
      "Python rolled a 3\n",
      "You landed on 47\n",
      "    CHUTE DOWN TO 26\n",
      "All positions: [43, 26]\n",
      "Dave rolled a 5\n",
      "You landed on 48\n",
      "All positions: [48, 26]\n",
      "Python rolled a 4\n",
      "You landed on 30\n",
      "All positions: [48, 30]\n",
      "Dave rolled a 2\n",
      "You landed on 50\n",
      "All positions: [50, 30]\n",
      "Python rolled a 5\n",
      "You landed on 35\n",
      "All positions: [50, 35]\n",
      "Dave rolled a 6\n",
      "You landed on 56\n",
      "    CHUTE DOWN TO 53\n",
      "All positions: [53, 35]\n",
      "Python rolled a 5\n",
      "You landed on 40\n",
      "All positions: [53, 40]\n",
      "Dave rolled a 1\n",
      "You landed on 54\n",
      "All positions: [54, 40]\n",
      "Python rolled a 2\n",
      "You landed on 42\n",
      "All positions: [54, 42]\n",
      "Dave rolled a 5\n",
      "You landed on 59\n",
      "All positions: [59, 42]\n",
      "Python rolled a 4\n",
      "You landed on 46\n",
      "All positions: [59, 46]\n",
      "Dave rolled a 2\n",
      "You landed on 61\n",
      "All positions: [61, 46]\n",
      "Python rolled a 4\n",
      "You landed on 50\n",
      "All positions: [61, 50]\n",
      "Dave rolled a 1\n",
      "You landed on 62\n",
      "    CHUTE DOWN TO 19\n",
      "All positions: [19, 50]\n",
      "Python rolled a 4\n",
      "You landed on 54\n",
      "All positions: [19, 54]\n",
      "Dave rolled a 5\n",
      "You landed on 24\n",
      "All positions: [24, 54]\n",
      "Python rolled a 1\n",
      "You landed on 55\n",
      "All positions: [24, 55]\n",
      "Dave rolled a 3\n",
      "You landed on 27\n",
      "All positions: [27, 55]\n",
      "Python rolled a 1\n",
      "You landed on 56\n",
      "    CHUTE DOWN TO 53\n",
      "All positions: [27, 53]\n",
      "Dave rolled a 4\n",
      "You landed on 31\n",
      "All positions: [31, 53]\n",
      "Python rolled a 2\n",
      "You landed on 55\n",
      "All positions: [31, 55]\n",
      "Dave rolled a 1\n",
      "You landed on 32\n",
      "All positions: [32, 55]\n",
      "Python rolled a 1\n",
      "You landed on 56\n",
      "    CHUTE DOWN TO 53\n",
      "All positions: [32, 53]\n",
      "Dave rolled a 5\n",
      "You landed on 37\n",
      "All positions: [37, 53]\n",
      "Python rolled a 6\n",
      "You landed on 59\n",
      "All positions: [37, 59]\n",
      "Dave rolled a 2\n",
      "You landed on 39\n",
      "All positions: [39, 59]\n",
      "Python rolled a 1\n",
      "You landed on 60\n",
      "All positions: [39, 60]\n",
      "Dave rolled a 2\n",
      "You landed on 41\n",
      "All positions: [41, 60]\n",
      "Python rolled a 6\n",
      "You landed on 66\n",
      "All positions: [41, 66]\n",
      "Dave rolled a 2\n",
      "You landed on 43\n",
      "All positions: [43, 66]\n",
      "Python rolled a 1\n",
      "You landed on 67\n",
      "All positions: [43, 67]\n",
      "Dave rolled a 1\n",
      "You landed on 44\n",
      "All positions: [44, 67]\n",
      "Python rolled a 4\n",
      "You landed on 71\n",
      "    LADDER UP TO 91\n",
      "All positions: [44, 91]\n",
      "Dave rolled a 4\n",
      "You landed on 48\n",
      "All positions: [48, 91]\n",
      "Python rolled a 2\n",
      "You landed on 93\n",
      "    CHUTE DOWN TO 73\n",
      "All positions: [48, 73]\n",
      "Dave rolled a 6\n",
      "You landed on 54\n",
      "All positions: [54, 73]\n",
      "Python rolled a 2\n",
      "You landed on 75\n",
      "All positions: [54, 75]\n",
      "Dave rolled a 1\n",
      "You landed on 55\n",
      "All positions: [55, 75]\n",
      "Python rolled a 6\n",
      "You landed on 81\n",
      "All positions: [55, 81]\n",
      "Dave rolled a 1\n",
      "You landed on 56\n",
      "    CHUTE DOWN TO 53\n",
      "All positions: [53, 81]\n",
      "Python rolled a 1\n",
      "You landed on 82\n",
      "All positions: [53, 82]\n",
      "Dave rolled a 3\n",
      "You landed on 56\n",
      "    CHUTE DOWN TO 53\n",
      "All positions: [53, 82]\n",
      "Python rolled a 6\n",
      "You landed on 88\n",
      "All positions: [53, 88]\n",
      "Dave rolled a 6\n",
      "You landed on 59\n",
      "All positions: [59, 88]\n",
      "Python rolled a 2\n",
      "You landed on 90\n",
      "All positions: [59, 90]\n",
      "Dave rolled a 5\n",
      "You landed on 64\n",
      "    CHUTE DOWN TO 60\n",
      "All positions: [60, 90]\n",
      "Python rolled a 5\n",
      "You landed on 95\n",
      "    CHUTE DOWN TO 75\n",
      "All positions: [60, 75]\n",
      "Dave rolled a 1\n",
      "You landed on 61\n",
      "All positions: [61, 75]\n",
      "Python rolled a 1\n",
      "You landed on 76\n",
      "All positions: [61, 76]\n",
      "Dave rolled a 5\n",
      "You landed on 66\n",
      "All positions: [66, 76]\n",
      "Python rolled a 6\n",
      "You landed on 82\n",
      "All positions: [66, 82]\n",
      "Dave rolled a 4\n",
      "You landed on 70\n",
      "All positions: [70, 82]\n",
      "Python rolled a 2\n",
      "You landed on 84\n",
      "All positions: [70, 84]\n",
      "Dave rolled a 4\n",
      "You landed on 74\n",
      "All positions: [74, 84]\n",
      "Python rolled a 5\n",
      "You landed on 89\n",
      "All positions: [74, 89]\n",
      "Dave rolled a 2\n",
      "You landed on 76\n",
      "All positions: [76, 89]\n",
      "Python rolled a 5\n",
      "You landed on 94\n",
      "All positions: [76, 94]\n",
      "Dave rolled a 6\n",
      "You landed on 82\n",
      "All positions: [82, 94]\n",
      "Python rolled a 6\n",
      "You landed on 100\n",
      "All positions: [82, 100]\n",
      "Dave won!\n"
     ]
    }
   ],
   "source": [
    "# to add more players, be sure to take turns, and know whose turn it is\n",
    "# we need to know the position of EACH player's piece\n",
    "# we need to know each player's name\n",
    "# { 'Computer': 5, 'Ellis': 27, 'Emily': 44 }\n",
    "\n",
    "players = get_players() # the list of players\n",
    "positions = [0] * len(players) # a list of positions, one for each player\n",
    "player = 0 # current player number\n",
    "\n",
    "play_mode = 'normal'\n",
    "\n",
    "# while we are not at position 100\n",
    "while not 100 in positions: # while no position is equal to 100, i.e., no one has won the game\n",
    "    # while we are in 'normal' play mode\n",
    "    if play_mode == 'normal':\n",
    "        print('It is ' + players[player] + \"'s turn\")\n",
    "        # find out from the player what to do\n",
    "        response = input('Hit RETURN/ENTER to roll, QUIT to quit, FINISH to run automatically:').upper()\n",
    "        if response == 'QUIT':\n",
    "            break\n",
    "        if response == 'FINISH':\n",
    "            play_mode = 'auto'\n",
    "    roll = roll_the_die() # roll the die\n",
    "    print(players[player], 'rolled a', roll)\n",
    "    positions[player] = determine_new_position(positions[player], roll) # move your piece\n",
    "    print('All positions:', positions)\n",
    "    player += 1 # go to next player\n",
    "    if player == len(players):\n",
    "        player = 0\n",
    "else:\n",
    "    print(players[player], 'won!')"
   ]
  },
  {
   "cell_type": "code",
   "execution_count": 33,
   "id": "ef7e4521",
   "metadata": {
    "scrolled": true
   },
   "outputs": [
    {
     "name": "stdout",
     "output_type": "stream",
     "text": [
      "It is Ellis's turn\n"
     ]
    }
   ],
   "source": [
    "player = 0"
   ]
  },
  {
   "cell_type": "code",
   "execution_count": 38,
   "id": "b44abb31",
   "metadata": {},
   "outputs": [],
   "source": [
    "positions = [ 34, 71, 12, 19, 86 ]"
   ]
  },
  {
   "cell_type": "code",
   "execution_count": 39,
   "id": "7ad4372b",
   "metadata": {},
   "outputs": [
    {
     "data": {
      "text/plain": [
       "False"
      ]
     },
     "execution_count": 39,
     "metadata": {},
     "output_type": "execute_result"
    }
   ],
   "source": [
    "100 in positions"
   ]
  },
  {
   "cell_type": "code",
   "execution_count": 43,
   "id": "985984e4",
   "metadata": {},
   "outputs": [],
   "source": [
    "word = 'jazz'"
   ]
  },
  {
   "cell_type": "code",
   "execution_count": null,
   "id": "6a184419",
   "metadata": {},
   "outputs": [],
   "source": []
  }
 ],
 "metadata": {
  "kernelspec": {
   "display_name": "Python 3 (ipykernel)",
   "language": "python",
   "name": "python3"
  },
  "language_info": {
   "codemirror_mode": {
    "name": "ipython",
    "version": 3
   },
   "file_extension": ".py",
   "mimetype": "text/x-python",
   "name": "python",
   "nbconvert_exporter": "python",
   "pygments_lexer": "ipython3",
   "version": "3.9.12"
  }
 },
 "nbformat": 4,
 "nbformat_minor": 5
}
